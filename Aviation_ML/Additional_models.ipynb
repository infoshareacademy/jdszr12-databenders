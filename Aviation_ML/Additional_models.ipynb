{
 "cells": [
  {
   "cell_type": "code",
   "execution_count": null,
   "id": "f3266272-7292-40c7-b175-0615f31e861a",
   "metadata": {},
   "outputs": [],
   "source": [
    "#### SVM"
   ]
  },
  {
   "cell_type": "code",
   "execution_count": null,
   "id": "f95cf571-10e6-44a6-81ae-b183ec18f767",
   "metadata": {
    "tags": []
   },
   "outputs": [],
   "source": [
    "#from sklearn.svm import SVC # Supprt Vector Classifier"
   ]
  },
  {
   "cell_type": "code",
   "execution_count": null,
   "id": "ffdeaf3f-c801-4c4c-bb7b-9d9e24eaaf31",
   "metadata": {},
   "outputs": [],
   "source": [
    "#svm_rbf = SVC(class_weight='balanced',kernel='linear', gamma=\"auto\")"
   ]
  },
  {
   "cell_type": "code",
   "execution_count": null,
   "id": "094392f1-beda-4b22-a4f8-4c383736480e",
   "metadata": {},
   "outputs": [],
   "source": [
    "#svm_rbf.fit(X1_train,y1_train)"
   ]
  },
  {
   "cell_type": "code",
   "execution_count": null,
   "id": "65ba4e8b-3d23-429a-8d4a-109d16f59a4f",
   "metadata": {},
   "outputs": [],
   "source": [
    "#print('Accuracy Score: ', accuracy_score(y1_test,grid_pred))\n",
    "#print('Balanced_accuracy Score: ', balanced_accuracy_score(y1_test, grid_pred))\n",
    "#print('Confusion Matrix: \\n', confusion_matrix(y1_test, grid_pred))\n",
    "#print('Classification Report: \\n', classification_report(y1_test, grid_pred))"
   ]
  },
  {
   "cell_type": "code",
   "execution_count": null,
   "id": "7fc0f0b9-26ec-48b0-8276-e255640ce351",
   "metadata": {},
   "outputs": [],
   "source": [
    "#svm_rbf = grid.predict(X1_test)"
   ]
  },
  {
   "cell_type": "code",
   "execution_count": null,
   "id": "4ff1566d-1a89-4084-8484-c32e4efd6b28",
   "metadata": {},
   "outputs": [],
   "source": [
    "#svm = SVC(class_weight='balanced')\n",
    "#param_grid = {'C':[0.01,0.5],'kernel':['linear','rbf', 'sigmoid']}\n",
    "#grid = GridSearchCV(svm,param_grid)"
   ]
  },
  {
   "cell_type": "code",
   "execution_count": null,
   "id": "607fd5bf-05c3-4a93-9de0-bd57d22affe6",
   "metadata": {},
   "outputs": [],
   "source": [
    "#grid.fit(X1_train,y1_train)"
   ]
  },
  {
   "cell_type": "code",
   "execution_count": null,
   "id": "62e45551-ab6d-4537-8cf5-f6b18340ebb4",
   "metadata": {},
   "outputs": [],
   "source": [
    "#grid.best_params_"
   ]
  },
  {
   "cell_type": "code",
   "execution_count": null,
   "id": "9b8bfb1c-fd07-4a74-9d77-d55426c23376",
   "metadata": {},
   "outputs": [],
   "source": [
    "#grid_pred = grid.predict(X1_test)"
   ]
  },
  {
   "cell_type": "code",
   "execution_count": null,
   "id": "4692b1ce-d22f-45ac-8397-11e3bb663f36",
   "metadata": {},
   "outputs": [],
   "source": [
    "#print('Accuracy Score: ', accuracy_score(y1_test,grid_pred))\n",
    "#print('Balanced_accuracy Score: ', balanced_accuracy_score(y1_test, grid_pred))\n",
    "#print('Confusion Matrix: \\n', confusion_matrix(y1_test, grid_pred))\n",
    "#print('Classification Report: \\n', classification_report(y1_test, grid_pred))"
   ]
  },
  {
   "cell_type": "code",
   "execution_count": null,
   "id": "145a8317-7ef5-4ae4-8ea5-01470a41c978",
   "metadata": {},
   "outputs": [],
   "source": []
  },
  {
   "cell_type": "code",
   "execution_count": null,
   "id": "a09c95e8-c27f-4132-945d-7073625018d5",
   "metadata": {},
   "outputs": [],
   "source": [
    "### ANN"
   ]
  },
  {
   "cell_type": "code",
   "execution_count": null,
   "id": "79426208-2fd2-41ea-a295-3d4c13cf3e99",
   "metadata": {},
   "outputs": [],
   "source": [
    "#import tensorflow as tf\n",
    "#from tensorflow.keras.models import Sequential\n",
    "#from tensorflow.keras.layers import Dense, Activation,Dropout\n",
    "#from tensorflow.keras.callbacks import EarlyStopping\n",
    "#from tensorflow.keras.layers import Dropout"
   ]
  },
  {
   "cell_type": "code",
   "execution_count": null,
   "id": "4d5f51f7-175c-46e2-b148-e05b26aaa1fc",
   "metadata": {},
   "outputs": [],
   "source": [
    "#model = Sequential()\n",
    "#model.add(Dense(units=30,activation='relu'))\n",
    "#model.add(Dropout(0.5))\n",
    "\n",
    "#model.add(Dense(units=15,activation='relu'))\n",
    "#model.add(Dropout(0.5))\n",
    "\n",
    "#model.add(Dense(units=1,activation='sigmoid'))\n",
    "#model.compile(loss='binary_crossentropy', optimizer='adam')"
   ]
  },
  {
   "cell_type": "code",
   "execution_count": null,
   "id": "fca86542-cd1b-43a7-92dd-cae987849498",
   "metadata": {},
   "outputs": [],
   "source": [
    "#arly_stop = EarlyStopping(monitor='val_loss', mode='min', verbose=1, patience=25)"
   ]
  },
  {
   "cell_type": "code",
   "execution_count": null,
   "id": "88d33358-f6ec-42cd-ac55-f9da4ed5b2c5",
   "metadata": {},
   "outputs": [],
   "source": [
    "#model.fit(x=X1_train, \n",
    "          #y=y1_train, \n",
    "          #epochs=600,\n",
    "          #validation_data=(X1_test, y1_test), verbose=1,\n",
    "          #callbacks=[early_stop]\n",
    "         # )"
   ]
  },
  {
   "cell_type": "code",
   "execution_count": null,
   "id": "aaec4536-075a-4a53-81ad-2da39efca75a",
   "metadata": {},
   "outputs": [],
   "source": [
    "model_loss = pd.DataFrame(model.history.history)\n",
    "#model_loss.plot()"
   ]
  },
  {
   "cell_type": "code",
   "execution_count": null,
   "id": "3038714f-3e44-4299-9e10-45a12329d278",
   "metadata": {},
   "outputs": [],
   "source": [
    "import pandas\n",
    "from keras.models import Sequential\n",
    "from keras.layers import Dense\n",
    "from keras.wrappers.scikit_learn import KerasClassifier\n",
    "from keras.utils import np_utils\n",
    "from sklearn.model_selection import cross_val_score\n",
    "from sklearn.model_selection import KFold\n",
    "from sklearn.preprocessing import LabelEncoder\n",
    "from sklearn.pipeline import Pipeline\n",
    "# load dataset\n",
    "\n",
    "\n",
    "\n",
    "\n",
    "# define baseline model\n",
    "def baseline_model():\n",
    " # create model\n",
    " model = Sequential()\n",
    "early_stop = EarlyStopping(monitor='val_loss', mode='min', verbose=1, patience=25) \n",
    "\n",
    "model.add(Dense(units=30,activation='relu'))\n",
    "model.add(Dropout(0.5))\n",
    "model.add(Dense(units=15,activation='relu'))\n",
    "model.add(Dropout(0.5))\n",
    " model.add(Dense(3, activation='softmax'))\n",
    " # Compile model\n",
    "model.compile(loss='categorical_crossentropy', optimizer='adam', metrics=['accuracy'])\n",
    " return model\n",
    "\n",
    "model.fit(x=X1_train, \n",
    "          y=y1_train, \n",
    "          epochs=600,\n",
    "          validation_data=(X1_test, y1_test), verbose=1,\n",
    "          callbacks=[early_stop]\n",
    "          )"
   ]
  },
  {
   "cell_type": "code",
   "execution_count": null,
   "id": "33849b2a-457e-42c9-b608-f6ab1e6402c5",
   "metadata": {},
   "outputs": [],
   "source": [
    "estimator = KerasClassifier(build_fn=baseline_model, epochs=200, batch_size=5, verbose=0)\n",
    "kfold = KFold(n_splits=10, shuffle=True)\n",
    "results = cross_val_score(estimator, X1_train, y1_label, cv=kfold)\n",
    "print(\"Baseline: %.2f%% (%.2f%%)\" % (results.mean()*100, results.std()*100))"
   ]
  },
  {
   "cell_type": "code",
   "execution_count": null,
   "id": "0dc1e5e9-4c3b-420b-82a3-be8f6ae99114",
   "metadata": {},
   "outputs": [],
   "source": [
    "model_loss = pd.DataFrame(model.history.history)\n",
    "model_loss.plot()"
   ]
  },
  {
   "cell_type": "code",
   "execution_count": null,
   "id": "0f062292-78be-47d0-ad92-4eb0eb82e71c",
   "metadata": {},
   "outputs": [],
   "source": []
  }
 ],
 "metadata": {
  "kernelspec": {
   "display_name": "Python 3 (ipykernel)",
   "language": "python",
   "name": "python3"
  },
  "language_info": {
   "codemirror_mode": {
    "name": "ipython",
    "version": 3
   },
   "file_extension": ".py",
   "mimetype": "text/x-python",
   "name": "python",
   "nbconvert_exporter": "python",
   "pygments_lexer": "ipython3",
   "version": "3.9.13"
  }
 },
 "nbformat": 4,
 "nbformat_minor": 5
}
