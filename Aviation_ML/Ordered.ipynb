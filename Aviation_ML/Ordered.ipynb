{
 "cells": [
  {
   "cell_type": "code",
   "execution_count": 1,
   "id": "a9fc5d7e-467e-40e8-aafe-2390f46ea094",
   "metadata": {},
   "outputs": [],
   "source": [
    "import pandas as pd\n",
    "import numpy as np\n",
    "import matplotlib.pyplot as plt\n",
    "import seaborn as sns"
   ]
  },
  {
   "cell_type": "code",
   "execution_count": 2,
   "id": "d679e462-e8d1-4f2e-b9bb-77aea69cea00",
   "metadata": {},
   "outputs": [
    {
     "name": "stderr",
     "output_type": "stream",
     "text": [
      "C:\\Users\\Enter\\AppData\\Local\\Temp\\ipykernel_6484\\3738267037.py:1: DtypeWarning: Columns (6,7,28,31,33) have mixed types. Specify dtype option on import or set low_memory=False.\n",
      "  df= pd.read_csv('AviationData.csv')\n"
     ]
    }
   ],
   "source": [
    "df= pd.read_csv('AviationData.csv')"
   ]
  },
  {
   "cell_type": "code",
   "execution_count": 3,
   "id": "7a1147b9-c063-4434-beec-39ffbd9b8f91",
   "metadata": {},
   "outputs": [
    {
     "name": "stdout",
     "output_type": "stream",
     "text": [
      "<class 'pandas.core.frame.DataFrame'>\n",
      "RangeIndex: 88889 entries, 0 to 88888\n",
      "Data columns (total 38 columns):\n",
      " #   Column                  Non-Null Count  Dtype  \n",
      "---  ------                  --------------  -----  \n",
      " 0   Event.Id                88889 non-null  object \n",
      " 1   Investigation.Type      88889 non-null  object \n",
      " 2   Accident.Number         88889 non-null  object \n",
      " 3   Event.Date              88889 non-null  object \n",
      " 4   Location                88837 non-null  object \n",
      " 5   Country                 88663 non-null  object \n",
      " 6   Latitude                34382 non-null  object \n",
      " 7   Longitude               34373 non-null  object \n",
      " 8   Airport.Code            50249 non-null  object \n",
      " 9   Airport.Name            52790 non-null  object \n",
      " 10  Injury.Severity         87889 non-null  object \n",
      " 11  Aircraft.damage         85695 non-null  object \n",
      " 12  Aircraft.Category       32287 non-null  object \n",
      " 13  Registration.Number     87572 non-null  object \n",
      " 14  Make                    88826 non-null  object \n",
      " 15  Model                   88797 non-null  object \n",
      " 16  Amateur.Built           88787 non-null  object \n",
      " 17  Number.of.Engines       82805 non-null  float64\n",
      " 18  Engine.Type             81812 non-null  object \n",
      " 19  FAR.Description         32023 non-null  object \n",
      " 20  Schedule                12582 non-null  object \n",
      " 21  Purpose.of.flight       82697 non-null  object \n",
      " 22  Air.carrier             16648 non-null  object \n",
      " 23  Total.Fatal.Injuries    77487 non-null  float64\n",
      " 24  Total.Serious.Injuries  76378 non-null  float64\n",
      " 25  Total.Minor.Injuries    76955 non-null  float64\n",
      " 26  Total.Uninjured         82976 non-null  float64\n",
      " 27  Weather.Condition       84397 non-null  object \n",
      " 28  Broad.phase.of.flight   61724 non-null  object \n",
      " 29  Report.Status           82507 non-null  object \n",
      " 30  Publication.Date        75118 non-null  object \n",
      " 31  Unnamed: 31             20 non-null     object \n",
      " 32  Unnamed: 32             0 non-null      float64\n",
      " 33  Unnamed: 33             1 non-null      object \n",
      " 34  Unnamed: 34             1 non-null      float64\n",
      " 35  Unnamed: 35             1 non-null      float64\n",
      " 36  Unnamed: 36             1 non-null      float64\n",
      " 37  Unnamed: 37             1 non-null      float64\n",
      "dtypes: float64(10), object(28)\n",
      "memory usage: 25.8+ MB\n"
     ]
    }
   ],
   "source": [
    "df.info()"
   ]
  },
  {
   "cell_type": "code",
   "execution_count": 4,
   "id": "092d9153-e5b8-4b4f-aa20-75db3afcdc8d",
   "metadata": {},
   "outputs": [
    {
     "data": {
      "text/plain": [
       "Event.Id                      0\n",
       "Investigation.Type            0\n",
       "Accident.Number               0\n",
       "Event.Date                    0\n",
       "Location                     52\n",
       "Country                     226\n",
       "Latitude                  54507\n",
       "Longitude                 54516\n",
       "Airport.Code              38640\n",
       "Airport.Name              36099\n",
       "Injury.Severity            1000\n",
       "Aircraft.damage            3194\n",
       "Aircraft.Category         56602\n",
       "Registration.Number        1317\n",
       "Make                         63\n",
       "Model                        92\n",
       "Amateur.Built               102\n",
       "Number.of.Engines          6084\n",
       "Engine.Type                7077\n",
       "FAR.Description           56866\n",
       "Schedule                  76307\n",
       "Purpose.of.flight          6192\n",
       "Air.carrier               72241\n",
       "Total.Fatal.Injuries      11402\n",
       "Total.Serious.Injuries    12511\n",
       "Total.Minor.Injuries      11934\n",
       "Total.Uninjured            5913\n",
       "Weather.Condition          4492\n",
       "Broad.phase.of.flight     27165\n",
       "Report.Status              6382\n",
       "Publication.Date          13771\n",
       "Unnamed: 31               88869\n",
       "Unnamed: 32               88889\n",
       "Unnamed: 33               88888\n",
       "Unnamed: 34               88888\n",
       "Unnamed: 35               88888\n",
       "Unnamed: 36               88888\n",
       "Unnamed: 37               88888\n",
       "dtype: int64"
      ]
     },
     "execution_count": 4,
     "metadata": {},
     "output_type": "execute_result"
    }
   ],
   "source": [
    "df.isnull().sum()"
   ]
  },
  {
   "cell_type": "code",
   "execution_count": null,
   "id": "fda13646-7989-43b1-ac9c-ffe46672bafc",
   "metadata": {},
   "outputs": [],
   "source": []
  },
  {
   "cell_type": "code",
   "execution_count": 5,
   "id": "723037ae-6236-4a7a-b526-8967ed52d644",
   "metadata": {},
   "outputs": [],
   "source": [
    "pd.set_option('display.max_columns', None)"
   ]
  },
  {
   "cell_type": "code",
   "execution_count": 6,
   "id": "98c8a966-b91c-47e7-80a4-a23b80f76187",
   "metadata": {},
   "outputs": [
    {
     "data": {
      "text/html": [
       "<div>\n",
       "<style scoped>\n",
       "    .dataframe tbody tr th:only-of-type {\n",
       "        vertical-align: middle;\n",
       "    }\n",
       "\n",
       "    .dataframe tbody tr th {\n",
       "        vertical-align: top;\n",
       "    }\n",
       "\n",
       "    .dataframe thead th {\n",
       "        text-align: right;\n",
       "    }\n",
       "</style>\n",
       "<table border=\"1\" class=\"dataframe\">\n",
       "  <thead>\n",
       "    <tr style=\"text-align: right;\">\n",
       "      <th></th>\n",
       "      <th>Event.Id</th>\n",
       "      <th>Investigation.Type</th>\n",
       "      <th>Accident.Number</th>\n",
       "      <th>Event.Date</th>\n",
       "      <th>Location</th>\n",
       "      <th>Country</th>\n",
       "      <th>Latitude</th>\n",
       "      <th>Longitude</th>\n",
       "      <th>Airport.Code</th>\n",
       "      <th>Airport.Name</th>\n",
       "      <th>Injury.Severity</th>\n",
       "      <th>Aircraft.damage</th>\n",
       "      <th>Aircraft.Category</th>\n",
       "      <th>Registration.Number</th>\n",
       "      <th>Make</th>\n",
       "      <th>Model</th>\n",
       "      <th>Amateur.Built</th>\n",
       "      <th>Number.of.Engines</th>\n",
       "      <th>Engine.Type</th>\n",
       "      <th>FAR.Description</th>\n",
       "      <th>Schedule</th>\n",
       "      <th>Purpose.of.flight</th>\n",
       "      <th>Air.carrier</th>\n",
       "      <th>Total.Fatal.Injuries</th>\n",
       "      <th>Total.Serious.Injuries</th>\n",
       "      <th>Total.Minor.Injuries</th>\n",
       "      <th>Total.Uninjured</th>\n",
       "      <th>Weather.Condition</th>\n",
       "      <th>Broad.phase.of.flight</th>\n",
       "      <th>Report.Status</th>\n",
       "      <th>Publication.Date</th>\n",
       "      <th>Unnamed: 31</th>\n",
       "      <th>Unnamed: 32</th>\n",
       "      <th>Unnamed: 33</th>\n",
       "      <th>Unnamed: 34</th>\n",
       "      <th>Unnamed: 35</th>\n",
       "      <th>Unnamed: 36</th>\n",
       "      <th>Unnamed: 37</th>\n",
       "    </tr>\n",
       "  </thead>\n",
       "  <tbody>\n",
       "    <tr>\n",
       "      <th>0</th>\n",
       "      <td>20001218X45444</td>\n",
       "      <td>Accident</td>\n",
       "      <td>SEA87LA080</td>\n",
       "      <td>1948-10-24</td>\n",
       "      <td>MOOSE CREEK, ID</td>\n",
       "      <td>United States</td>\n",
       "      <td>NaN</td>\n",
       "      <td>NaN</td>\n",
       "      <td>NaN</td>\n",
       "      <td>NaN</td>\n",
       "      <td>Fatal(2)</td>\n",
       "      <td>Destroyed</td>\n",
       "      <td>NaN</td>\n",
       "      <td>NC6404</td>\n",
       "      <td>Stinson</td>\n",
       "      <td>108-3</td>\n",
       "      <td>No</td>\n",
       "      <td>1.0</td>\n",
       "      <td>Reciprocating</td>\n",
       "      <td>NaN</td>\n",
       "      <td>NaN</td>\n",
       "      <td>Personal</td>\n",
       "      <td>NaN</td>\n",
       "      <td>2.0</td>\n",
       "      <td>0.0</td>\n",
       "      <td>0.0</td>\n",
       "      <td>0.0</td>\n",
       "      <td>UNK</td>\n",
       "      <td>Cruise</td>\n",
       "      <td>Probable Cause</td>\n",
       "      <td>NaN</td>\n",
       "      <td>NaN</td>\n",
       "      <td>NaN</td>\n",
       "      <td>NaN</td>\n",
       "      <td>NaN</td>\n",
       "      <td>NaN</td>\n",
       "      <td>NaN</td>\n",
       "      <td>NaN</td>\n",
       "    </tr>\n",
       "    <tr>\n",
       "      <th>1</th>\n",
       "      <td>20001218X45447</td>\n",
       "      <td>Accident</td>\n",
       "      <td>LAX94LA336</td>\n",
       "      <td>1962-07-19</td>\n",
       "      <td>BRIDGEPORT, CA</td>\n",
       "      <td>United States</td>\n",
       "      <td>NaN</td>\n",
       "      <td>NaN</td>\n",
       "      <td>NaN</td>\n",
       "      <td>NaN</td>\n",
       "      <td>Fatal(4)</td>\n",
       "      <td>Destroyed</td>\n",
       "      <td>NaN</td>\n",
       "      <td>N5069P</td>\n",
       "      <td>Piper</td>\n",
       "      <td>PA24-180</td>\n",
       "      <td>No</td>\n",
       "      <td>1.0</td>\n",
       "      <td>Reciprocating</td>\n",
       "      <td>NaN</td>\n",
       "      <td>NaN</td>\n",
       "      <td>Personal</td>\n",
       "      <td>NaN</td>\n",
       "      <td>4.0</td>\n",
       "      <td>0.0</td>\n",
       "      <td>0.0</td>\n",
       "      <td>0.0</td>\n",
       "      <td>UNK</td>\n",
       "      <td>Unknown</td>\n",
       "      <td>Probable Cause</td>\n",
       "      <td>19-09-1996</td>\n",
       "      <td>NaN</td>\n",
       "      <td>NaN</td>\n",
       "      <td>NaN</td>\n",
       "      <td>NaN</td>\n",
       "      <td>NaN</td>\n",
       "      <td>NaN</td>\n",
       "      <td>NaN</td>\n",
       "    </tr>\n",
       "    <tr>\n",
       "      <th>2</th>\n",
       "      <td>20061025X01555</td>\n",
       "      <td>Accident</td>\n",
       "      <td>NYC07LA005</td>\n",
       "      <td>1974-08-30</td>\n",
       "      <td>Saltville, VA</td>\n",
       "      <td>United States</td>\n",
       "      <td>36.922223</td>\n",
       "      <td>-81.878056</td>\n",
       "      <td>NaN</td>\n",
       "      <td>NaN</td>\n",
       "      <td>Fatal(3)</td>\n",
       "      <td>Destroyed</td>\n",
       "      <td>NaN</td>\n",
       "      <td>N5142R</td>\n",
       "      <td>Cessna</td>\n",
       "      <td>172M</td>\n",
       "      <td>No</td>\n",
       "      <td>1.0</td>\n",
       "      <td>Reciprocating</td>\n",
       "      <td>NaN</td>\n",
       "      <td>NaN</td>\n",
       "      <td>Personal</td>\n",
       "      <td>NaN</td>\n",
       "      <td>3.0</td>\n",
       "      <td>NaN</td>\n",
       "      <td>NaN</td>\n",
       "      <td>NaN</td>\n",
       "      <td>IMC</td>\n",
       "      <td>Cruise</td>\n",
       "      <td>Probable Cause</td>\n",
       "      <td>26-02-2007</td>\n",
       "      <td>NaN</td>\n",
       "      <td>NaN</td>\n",
       "      <td>NaN</td>\n",
       "      <td>NaN</td>\n",
       "      <td>NaN</td>\n",
       "      <td>NaN</td>\n",
       "      <td>NaN</td>\n",
       "    </tr>\n",
       "    <tr>\n",
       "      <th>3</th>\n",
       "      <td>20001218X45448</td>\n",
       "      <td>Accident</td>\n",
       "      <td>LAX96LA321</td>\n",
       "      <td>1977-06-19</td>\n",
       "      <td>EUREKA, CA</td>\n",
       "      <td>United States</td>\n",
       "      <td>NaN</td>\n",
       "      <td>NaN</td>\n",
       "      <td>NaN</td>\n",
       "      <td>NaN</td>\n",
       "      <td>Fatal(2)</td>\n",
       "      <td>Destroyed</td>\n",
       "      <td>NaN</td>\n",
       "      <td>N1168J</td>\n",
       "      <td>Rockwell</td>\n",
       "      <td>112</td>\n",
       "      <td>No</td>\n",
       "      <td>1.0</td>\n",
       "      <td>Reciprocating</td>\n",
       "      <td>NaN</td>\n",
       "      <td>NaN</td>\n",
       "      <td>Personal</td>\n",
       "      <td>NaN</td>\n",
       "      <td>2.0</td>\n",
       "      <td>0.0</td>\n",
       "      <td>0.0</td>\n",
       "      <td>0.0</td>\n",
       "      <td>IMC</td>\n",
       "      <td>Cruise</td>\n",
       "      <td>Probable Cause</td>\n",
       "      <td>12-09-2000</td>\n",
       "      <td>NaN</td>\n",
       "      <td>NaN</td>\n",
       "      <td>NaN</td>\n",
       "      <td>NaN</td>\n",
       "      <td>NaN</td>\n",
       "      <td>NaN</td>\n",
       "      <td>NaN</td>\n",
       "    </tr>\n",
       "    <tr>\n",
       "      <th>4</th>\n",
       "      <td>20041105X01764</td>\n",
       "      <td>Accident</td>\n",
       "      <td>CHI79FA064</td>\n",
       "      <td>1979-08-02</td>\n",
       "      <td>Canton, OH</td>\n",
       "      <td>United States</td>\n",
       "      <td>NaN</td>\n",
       "      <td>NaN</td>\n",
       "      <td>NaN</td>\n",
       "      <td>NaN</td>\n",
       "      <td>Fatal(1)</td>\n",
       "      <td>Destroyed</td>\n",
       "      <td>NaN</td>\n",
       "      <td>N15NY</td>\n",
       "      <td>Cessna</td>\n",
       "      <td>501</td>\n",
       "      <td>No</td>\n",
       "      <td>NaN</td>\n",
       "      <td>NaN</td>\n",
       "      <td>NaN</td>\n",
       "      <td>NaN</td>\n",
       "      <td>Personal</td>\n",
       "      <td>NaN</td>\n",
       "      <td>1.0</td>\n",
       "      <td>2.0</td>\n",
       "      <td>NaN</td>\n",
       "      <td>0.0</td>\n",
       "      <td>VMC</td>\n",
       "      <td>Approach</td>\n",
       "      <td>Probable Cause</td>\n",
       "      <td>16-04-1980</td>\n",
       "      <td>NaN</td>\n",
       "      <td>NaN</td>\n",
       "      <td>NaN</td>\n",
       "      <td>NaN</td>\n",
       "      <td>NaN</td>\n",
       "      <td>NaN</td>\n",
       "      <td>NaN</td>\n",
       "    </tr>\n",
       "  </tbody>\n",
       "</table>\n",
       "</div>"
      ],
      "text/plain": [
       "         Event.Id Investigation.Type Accident.Number  Event.Date  \\\n",
       "0  20001218X45444           Accident      SEA87LA080  1948-10-24   \n",
       "1  20001218X45447           Accident      LAX94LA336  1962-07-19   \n",
       "2  20061025X01555           Accident      NYC07LA005  1974-08-30   \n",
       "3  20001218X45448           Accident      LAX96LA321  1977-06-19   \n",
       "4  20041105X01764           Accident      CHI79FA064  1979-08-02   \n",
       "\n",
       "          Location        Country   Latitude  Longitude Airport.Code  \\\n",
       "0  MOOSE CREEK, ID  United States        NaN        NaN          NaN   \n",
       "1   BRIDGEPORT, CA  United States        NaN        NaN          NaN   \n",
       "2    Saltville, VA  United States  36.922223 -81.878056          NaN   \n",
       "3       EUREKA, CA  United States        NaN        NaN          NaN   \n",
       "4       Canton, OH  United States        NaN        NaN          NaN   \n",
       "\n",
       "  Airport.Name Injury.Severity Aircraft.damage Aircraft.Category  \\\n",
       "0          NaN        Fatal(2)       Destroyed               NaN   \n",
       "1          NaN        Fatal(4)       Destroyed               NaN   \n",
       "2          NaN        Fatal(3)       Destroyed               NaN   \n",
       "3          NaN        Fatal(2)       Destroyed               NaN   \n",
       "4          NaN        Fatal(1)       Destroyed               NaN   \n",
       "\n",
       "  Registration.Number      Make     Model Amateur.Built  Number.of.Engines  \\\n",
       "0              NC6404   Stinson     108-3            No                1.0   \n",
       "1              N5069P     Piper  PA24-180            No                1.0   \n",
       "2              N5142R    Cessna      172M            No                1.0   \n",
       "3              N1168J  Rockwell       112            No                1.0   \n",
       "4               N15NY    Cessna       501            No                NaN   \n",
       "\n",
       "     Engine.Type FAR.Description Schedule Purpose.of.flight Air.carrier  \\\n",
       "0  Reciprocating             NaN      NaN          Personal         NaN   \n",
       "1  Reciprocating             NaN      NaN          Personal         NaN   \n",
       "2  Reciprocating             NaN      NaN          Personal         NaN   \n",
       "3  Reciprocating             NaN      NaN          Personal         NaN   \n",
       "4            NaN             NaN      NaN          Personal         NaN   \n",
       "\n",
       "   Total.Fatal.Injuries  Total.Serious.Injuries  Total.Minor.Injuries  \\\n",
       "0                   2.0                     0.0                   0.0   \n",
       "1                   4.0                     0.0                   0.0   \n",
       "2                   3.0                     NaN                   NaN   \n",
       "3                   2.0                     0.0                   0.0   \n",
       "4                   1.0                     2.0                   NaN   \n",
       "\n",
       "   Total.Uninjured Weather.Condition Broad.phase.of.flight   Report.Status  \\\n",
       "0              0.0               UNK                Cruise  Probable Cause   \n",
       "1              0.0               UNK               Unknown  Probable Cause   \n",
       "2              NaN               IMC                Cruise  Probable Cause   \n",
       "3              0.0               IMC                Cruise  Probable Cause   \n",
       "4              0.0               VMC              Approach  Probable Cause   \n",
       "\n",
       "  Publication.Date Unnamed: 31  Unnamed: 32 Unnamed: 33  Unnamed: 34  \\\n",
       "0              NaN         NaN          NaN         NaN          NaN   \n",
       "1       19-09-1996         NaN          NaN         NaN          NaN   \n",
       "2       26-02-2007         NaN          NaN         NaN          NaN   \n",
       "3       12-09-2000         NaN          NaN         NaN          NaN   \n",
       "4       16-04-1980         NaN          NaN         NaN          NaN   \n",
       "\n",
       "   Unnamed: 35  Unnamed: 36  Unnamed: 37  \n",
       "0          NaN          NaN          NaN  \n",
       "1          NaN          NaN          NaN  \n",
       "2          NaN          NaN          NaN  \n",
       "3          NaN          NaN          NaN  \n",
       "4          NaN          NaN          NaN  "
      ]
     },
     "execution_count": 6,
     "metadata": {},
     "output_type": "execute_result"
    }
   ],
   "source": [
    "df.head()"
   ]
  },
  {
   "cell_type": "code",
   "execution_count": 7,
   "id": "31d35898-be21-4b1b-9f0a-2dfd4c241dc2",
   "metadata": {},
   "outputs": [
    {
     "data": {
      "text/plain": [
       "Index(['Event.Id', 'Investigation.Type', 'Accident.Number', 'Event.Date',\n",
       "       'Location', 'Country', 'Latitude', 'Longitude', 'Airport.Code',\n",
       "       'Airport.Name', 'Injury.Severity', 'Aircraft.damage',\n",
       "       'Aircraft.Category', 'Registration.Number', 'Make', 'Model',\n",
       "       'Amateur.Built', 'Number.of.Engines', 'Engine.Type', 'FAR.Description',\n",
       "       'Schedule', 'Purpose.of.flight', 'Air.carrier', 'Total.Fatal.Injuries',\n",
       "       'Total.Serious.Injuries', 'Total.Minor.Injuries', 'Total.Uninjured',\n",
       "       'Weather.Condition', 'Broad.phase.of.flight', 'Report.Status',\n",
       "       'Publication.Date', 'Unnamed: 31', 'Unnamed: 32', 'Unnamed: 33',\n",
       "       'Unnamed: 34', 'Unnamed: 35', 'Unnamed: 36', 'Unnamed: 37'],\n",
       "      dtype='object')"
      ]
     },
     "execution_count": 7,
     "metadata": {},
     "output_type": "execute_result"
    }
   ],
   "source": [
    "df.columns"
   ]
  },
  {
   "cell_type": "code",
   "execution_count": 8,
   "id": "96d89464-38f9-4469-ac4b-34665077483f",
   "metadata": {},
   "outputs": [],
   "source": [
    "df1 =df.drop(columns = ['Event.Id','Accident.Number','Registration.Number','FAR.Description','Schedule','Publication.Date', 'Unnamed: 31', 'Unnamed: 32', 'Unnamed: 33',\n",
    "       'Unnamed: 34', 'Unnamed: 35', 'Unnamed: 36', 'Unnamed: 37' ],axis=1)"
   ]
  },
  {
   "cell_type": "code",
   "execution_count": 9,
   "id": "52258178-897e-4064-8b4b-3a077094491a",
   "metadata": {},
   "outputs": [],
   "source": [
    "# kod Asi\n",
    "df1['Event.Date'] = pd.to_datetime(df1['Event.Date'])\n",
    "#Adding day, month & year column\n",
    "df1['Year'] = df1['Event.Date'].dt.year\n",
    "df1['Month.Abbr'] = df1['Event.Date'].dt.month_name().str[:3]\n",
    "df1['Day.Name.Abbr'] = df1['Event.Date'].dt.day_name().str[:3]\n",
    "\n",
    "# Adding weekend column\n",
    "df1.loc[(df1['Day.Name.Abbr'] == 'Sat') | (df1['Day.Name.Abbr'] == 'Sun'), 'Weekend'] = True\n",
    "df1.loc[(df1['Day.Name.Abbr'] != 'Sat') & (df1['Day.Name.Abbr'] != 'Sun'), 'Weekend'] = False"
   ]
  },
  {
   "cell_type": "code",
   "execution_count": 10,
   "id": "2b972997-8f31-4b76-bec5-326a51e7b754",
   "metadata": {},
   "outputs": [],
   "source": [
    "df1 = df1[df1['Year']>1982]"
   ]
  },
  {
   "cell_type": "code",
   "execution_count": 11,
   "id": "ff07007b-1321-444e-98ca-06e901bb5899",
   "metadata": {},
   "outputs": [],
   "source": [
    "df1['Location'].fillna('UNKNOWN',inplace=True)\n",
    "df1['Country'].fillna('UNKNOWN',inplace=True)\n",
    "df1['Aircraft.damage'].fillna('UNKNOWN',inplace=True)\n",
    "df1['Aircraft.damage'].replace({'Unknown':'UNKNOWN'},inplace=True)\n",
    "df1['Aircraft.Category'].fillna('UNKNOWN',inplace=True)\n",
    "df1['Purpose.of.flight'].fillna('UNKNOWN',inplace=True)\n",
    "df1['Amateur.Built'].fillna('UNKNOWN',inplace=True)\n",
    "df1['Airport.Name'].fillna('None',inplace=True)\n",
    "df1['Airport.Code'].fillna('None',inplace=True)\n",
    "df1['Model'].fillna('UNKNOWN',inplace=True)\n",
    "df1['Make'].fillna('UNKNOWN',inplace=True)\n",
    "df1['Number.of.Engines'].fillna('UNKNOWN',inplace=True)\n",
    "#df_US =df_US[df_US['Number.of.Engines'].str.contains(\"UNKNOWN\")==False]\n",
    "df1['Engine.Type'].fillna('UNKNOWN',inplace=True)\n",
    "#df_US =df_US[df_US['Engine.Type'].str.contains(\"Unknown\")==False]\n",
    "#df_US =df_US[df_US['Engine.Type'].str.contains(\"UNKNOWN\")==False]\n",
    "df1['Total.Fatal.Injuries'].fillna(0,inplace=True)\n",
    "df1['Total.Minor.Injuries'].fillna(0,inplace=True)\n",
    "df1['Total.Uninjured'].fillna(0,inplace=True)\n",
    "df1['Total.Serious.Injuries'].fillna(0,inplace=True)\n",
    "df1['Broad.phase.of.flight'].fillna('UNKNOWN',inplace = True)\n",
    "#df_US1 =df_US[df_US['Broad.phase.of.flight'].str.contains(\"Unknown\")==False]\n",
    "#df_US =df_US[df_US['Broad.phase.of.flight'].str.contains(\"UNKNOWN\")==False]\n",
    "df1['Weather.Condition'].fillna('UNKNOWN',inplace = True)"
   ]
  },
  {
   "cell_type": "code",
   "execution_count": 12,
   "id": "9fd3aa17-b7f3-4d9d-803c-d28ecc04d364",
   "metadata": {},
   "outputs": [],
   "source": [
    "df1['Country'] = df1['Country'].replace('MISSING', 'UNKNOWN')"
   ]
  },
  {
   "cell_type": "code",
   "execution_count": 13,
   "id": "069aa90d-d9a4-480d-a2df-1956aafa0383",
   "metadata": {},
   "outputs": [
    {
     "data": {
      "text/plain": [
       "Investigation.Type            0\n",
       "Event.Date                    0\n",
       "Location                      0\n",
       "Country                       0\n",
       "Latitude                  50910\n",
       "Longitude                 50919\n",
       "Airport.Code                  0\n",
       "Airport.Name                  0\n",
       "Injury.Severity            1000\n",
       "Aircraft.damage               0\n",
       "Aircraft.Category             0\n",
       "Make                          0\n",
       "Model                         0\n",
       "Amateur.Built                 0\n",
       "Number.of.Engines             0\n",
       "Engine.Type                   0\n",
       "Purpose.of.flight             0\n",
       "Air.carrier               68876\n",
       "Total.Fatal.Injuries          0\n",
       "Total.Serious.Injuries        0\n",
       "Total.Minor.Injuries          0\n",
       "Total.Uninjured               0\n",
       "Weather.Condition             0\n",
       "Broad.phase.of.flight         0\n",
       "Report.Status              6382\n",
       "Year                          0\n",
       "Month.Abbr                    0\n",
       "Day.Name.Abbr                 0\n",
       "Weekend                       0\n",
       "dtype: int64"
      ]
     },
     "execution_count": 13,
     "metadata": {},
     "output_type": "execute_result"
    }
   ],
   "source": [
    "df1.isnull().sum()"
   ]
  },
  {
   "cell_type": "code",
   "execution_count": 14,
   "id": "4f649dc2-badb-4b1e-a1fc-7963652fe9a9",
   "metadata": {},
   "outputs": [
    {
     "data": {
      "text/plain": [
       "UNKNOWN              56566\n",
       "Airplane             24441\n",
       "Helicopter            3151\n",
       "Glider                 456\n",
       "Balloon                201\n",
       "Weight-Shift           161\n",
       "Gyrocraft              158\n",
       "Powered Parachute       91\n",
       "Ultralight              29\n",
       "Unknown                 13\n",
       "WSFT                     9\n",
       "Powered-Lift             5\n",
       "Blimp                    4\n",
       "UNK                      2\n",
       "Rocket                   1\n",
       "ULTR                     1\n",
       "Name: Aircraft.Category, dtype: int64"
      ]
     },
     "execution_count": 14,
     "metadata": {},
     "output_type": "execute_result"
    }
   ],
   "source": [
    "df1['Aircraft.Category'].value_counts()"
   ]
  },
  {
   "cell_type": "code",
   "execution_count": 15,
   "id": "10d08095-0772-43da-ab2f-7372ea16e635",
   "metadata": {},
   "outputs": [],
   "source": [
    "df1=df1[(df1['Aircraft.Category']==\"UNKNOWN\") | (df1['Aircraft.Category']==\"Airplane\") | (df1['Aircraft.Category']==\"Helicopter\")]\n"
   ]
  },
  {
   "cell_type": "code",
   "execution_count": 16,
   "id": "750ec647-00df-4dd9-89d1-92a9d6ef30bd",
   "metadata": {},
   "outputs": [
    {
     "data": {
      "text/plain": [
       "UNKNOWN       56566\n",
       "Airplane      24441\n",
       "Helicopter     3151\n",
       "Name: Aircraft.Category, dtype: int64"
      ]
     },
     "execution_count": 16,
     "metadata": {},
     "output_type": "execute_result"
    }
   ],
   "source": [
    "df1['Aircraft.Category'].value_counts()"
   ]
  },
  {
   "cell_type": "code",
   "execution_count": 17,
   "id": "bf207479-5b0a-4b94-b23f-1748c255b05e",
   "metadata": {},
   "outputs": [
    {
     "data": {
      "text/plain": [
       "1.0        66070\n",
       "2.0        10571\n",
       "UNKNOWN     5908\n",
       "0.0          727\n",
       "3.0          461\n",
       "4.0          419\n",
       "8.0            1\n",
       "6.0            1\n",
       "Name: Number.of.Engines, dtype: int64"
      ]
     },
     "execution_count": 17,
     "metadata": {},
     "output_type": "execute_result"
    }
   ],
   "source": [
    "df1['Number.of.Engines'].value_counts()"
   ]
  },
  {
   "cell_type": "code",
   "execution_count": 18,
   "id": "612c509c-bc2a-41ae-a3ac-7b0b06fca334",
   "metadata": {},
   "outputs": [],
   "source": [
    "df1=df1[(df1['Number.of.Engines']==\"UNKNOWN\") | (df1['Number.of.Engines']==1.0) | (df1['Number.of.Engines']==2.0) | (df1['Number.of.Engines']==3.0) | (df1['Number.of.Engines']==4.0)]"
   ]
  },
  {
   "cell_type": "code",
   "execution_count": 19,
   "id": "b7eeeaf0-e869-4dc1-a529-716cc397a90a",
   "metadata": {},
   "outputs": [
    {
     "data": {
      "text/plain": [
       "1.0        66070\n",
       "2.0        10571\n",
       "UNKNOWN     5908\n",
       "3.0          461\n",
       "4.0          419\n",
       "Name: Number.of.Engines, dtype: int64"
      ]
     },
     "execution_count": 19,
     "metadata": {},
     "output_type": "execute_result"
    }
   ],
   "source": [
    "df1['Number.of.Engines'].value_counts()"
   ]
  },
  {
   "cell_type": "code",
   "execution_count": 20,
   "id": "0ccbe29a-c6cb-4372-aa91-af4a56d7cce8",
   "metadata": {},
   "outputs": [],
   "source": [
    "df1['Number.of.Engines']=df1['Number.of.Engines'].replace(1.0, 'one')\n",
    "df1['Number.of.Engines']=df1['Number.of.Engines'].replace(2.0, 'tw0')\n",
    "df1['Number.of.Engines']=df1['Number.of.Engines'].replace(3.0, 'three_to_four')\n",
    "df1['Number.of.Engines']=df1['Number.of.Engines'].replace(4.0, 'three_to_four')"
   ]
  },
  {
   "cell_type": "code",
   "execution_count": 21,
   "id": "77fb2cfa-adde-45ab-ae05-4ca6b050fc4d",
   "metadata": {},
   "outputs": [
    {
     "data": {
      "text/plain": [
       "one              66070\n",
       "tw0              10571\n",
       "UNKNOWN           5908\n",
       "three_to_four      880\n",
       "Name: Number.of.Engines, dtype: int64"
      ]
     },
     "execution_count": 21,
     "metadata": {},
     "output_type": "execute_result"
    }
   ],
   "source": [
    "df1['Number.of.Engines'].value_counts()"
   ]
  },
  {
   "cell_type": "code",
   "execution_count": 22,
   "id": "65a2d258-62a3-4a91-b492-e87f419cea40",
   "metadata": {},
   "outputs": [
    {
     "data": {
      "text/plain": [
       "Reciprocating      65819\n",
       "UNKNOWN             6325\n",
       "Turbo Shaft         3476\n",
       "Turbo Prop          3305\n",
       "Turbo Fan           2439\n",
       "Unknown             1367\n",
       "Turbo Jet            679\n",
       "Geared Turbofan       12\n",
       "Electric               6\n",
       "UNK                    1\n",
       "Name: Engine.Type, dtype: int64"
      ]
     },
     "execution_count": 22,
     "metadata": {},
     "output_type": "execute_result"
    }
   ],
   "source": [
    "df1['Engine.Type'].value_counts()"
   ]
  },
  {
   "cell_type": "code",
   "execution_count": 23,
   "id": "918badc7-7e19-4361-b351-f7b6fb0cd844",
   "metadata": {},
   "outputs": [],
   "source": [
    "df1['Engine.Type']=df1['Engine.Type'].replace('Unknown', 'UNKNOWN')\n",
    "df1['Engine.Type']=df1['Engine.Type'].replace('UNK', 'UNKNOWN')\n",
    "df1['Engine.Type']=df1['Engine.Type'].replace('Electric', 'UNKNOWN')\n",
    "df1['Engine.Type']=df1['Engine.Type'].replace('Geared Turbofan', 'Turbo Fan')"
   ]
  },
  {
   "cell_type": "code",
   "execution_count": 24,
   "id": "7725d685-dc65-48e6-9d1c-9dcb1719496a",
   "metadata": {},
   "outputs": [
    {
     "data": {
      "text/plain": [
       "Reciprocating    65819\n",
       "UNKNOWN           7699\n",
       "Turbo Shaft       3476\n",
       "Turbo Prop        3305\n",
       "Turbo Fan         2451\n",
       "Turbo Jet          679\n",
       "Name: Engine.Type, dtype: int64"
      ]
     },
     "execution_count": 24,
     "metadata": {},
     "output_type": "execute_result"
    }
   ],
   "source": [
    "df1['Engine.Type'].value_counts()"
   ]
  },
  {
   "cell_type": "code",
   "execution_count": null,
   "id": "127e4fc5-8231-4f5f-95ee-70a87dc8cf43",
   "metadata": {},
   "outputs": [],
   "source": []
  },
  {
   "cell_type": "code",
   "execution_count": 25,
   "id": "2250327c-f277-45f5-9669-4bde98180610",
   "metadata": {},
   "outputs": [
    {
     "data": {
      "text/plain": [
       "No         75339\n",
       "Yes         7989\n",
       "UNKNOWN      101\n",
       "Name: Amateur.Built, dtype: int64"
      ]
     },
     "execution_count": 25,
     "metadata": {},
     "output_type": "execute_result"
    }
   ],
   "source": [
    "df1['Amateur.Built'].value_counts()"
   ]
  },
  {
   "cell_type": "code",
   "execution_count": 26,
   "id": "532abb15-5a7d-484d-8211-713ee34c3d21",
   "metadata": {},
   "outputs": [
    {
     "data": {
      "text/plain": [
       "Personal                     46277\n",
       "Instructional                10001\n",
       "UNKNOWN                       6156\n",
       "Unknown                       6072\n",
       "Aerial Application            4546\n",
       "Business                      3664\n",
       "Positioning                   1640\n",
       "Other Work Use                1191\n",
       "Aerial Observation             741\n",
       "Ferry                          735\n",
       "Public Aircraft                645\n",
       "Executive/corporate            501\n",
       "Flight Test                    387\n",
       "Skydiving                      179\n",
       "External Load                  122\n",
       "Public Aircraft - Federal      104\n",
       "Banner Tow                     101\n",
       "Air Race show                   78\n",
       "Public Aircraft - Local         73\n",
       "Public Aircraft - State         64\n",
       "Air Race/show                   51\n",
       "Firefighting                    40\n",
       "Glider Tow                      39\n",
       "Air Drop                        11\n",
       "ASHO                             6\n",
       "PUBS                             4\n",
       "PUBL                             1\n",
       "Name: Purpose.of.flight, dtype: int64"
      ]
     },
     "execution_count": 26,
     "metadata": {},
     "output_type": "execute_result"
    }
   ],
   "source": [
    "df1['Purpose.of.flight'].value_counts()"
   ]
  },
  {
   "cell_type": "code",
   "execution_count": 27,
   "id": "475e295d-b862-4f19-bf68-e6e56f3ddbf3",
   "metadata": {},
   "outputs": [],
   "source": [
    "df1['Purpose.of.flight']=df1['Purpose.of.flight'].replace('Unknown', 'UNKNOWN')\n",
    "df1['Purpose.of.flight']=df1['Purpose.of.flight'].replace('Air Race/show', 'Air Race show')\n",
    "df1['Purpose.of.flight']=df1['Purpose.of.flight'].replace('Executive/corporate', 'Business')\n",
    "df1['Purpose.of.flight']=df1['Purpose.of.flight'].replace('PUBS', 'Public Aircraft')\n",
    "df1['Purpose.of.flight']=df1['Purpose.of.flight'].replace('PUBL', 'Public Aircraft')\n",
    "df1['Purpose.of.flight']=df1['Purpose.of.flight'].replace('Public Aircraft - Federal', 'Public Aircraft')\n",
    "df1['Purpose.of.flight']=df1['Purpose.of.flight'].replace('Public Aircraft - Local', 'Public Aircraft')\n",
    "df1['Purpose.of.flight']=df1['Purpose.of.flight'].replace('Public Aircraft - State', 'Public Aircraft')\n",
    "df1['Purpose.of.flight']=df1['Purpose.of.flight'].replace('Other Work Use', 'Other')\n",
    "df1['Purpose.of.flight']=df1['Purpose.of.flight'].replace('Skydiving', 'Other')\n",
    "df1['Purpose.of.flight']=df1['Purpose.of.flight'].replace('Air Race show', 'Other')\n",
    "df1['Purpose.of.flight']=df1['Purpose.of.flight'].replace('External Load', 'Other')\n",
    "df1['Purpose.of.flight']=df1['Purpose.of.flight'].replace('Firefighting', 'Other')\n",
    "df1['Purpose.of.flight']=df1['Purpose.of.flight'].replace('Banner Tow', 'Other')\n",
    "df1['Purpose.of.flight']=df1['Purpose.of.flight'].replace('Glider Tow', 'Other')\n",
    "df1['Purpose.of.flight']=df1['Purpose.of.flight'].replace('Air Drop', 'Other')\n",
    "df1['Purpose.of.flight']=df1['Purpose.of.flight'].replace('ASHO', 'Other')"
   ]
  },
  {
   "cell_type": "code",
   "execution_count": 28,
   "id": "716d27c3-2a71-40a5-8b51-26e23cc0586e",
   "metadata": {},
   "outputs": [
    {
     "data": {
      "text/plain": [
       "Personal              46277\n",
       "UNKNOWN               12228\n",
       "Instructional         10001\n",
       "Aerial Application     4546\n",
       "Business               4165\n",
       "Other                  1818\n",
       "Positioning            1640\n",
       "Public Aircraft         891\n",
       "Aerial Observation      741\n",
       "Ferry                   735\n",
       "Flight Test             387\n",
       "Name: Purpose.of.flight, dtype: int64"
      ]
     },
     "execution_count": 28,
     "metadata": {},
     "output_type": "execute_result"
    }
   ],
   "source": [
    "df1['Purpose.of.flight'].value_counts()"
   ]
  },
  {
   "cell_type": "code",
   "execution_count": 29,
   "id": "2bc0b732-64cb-404e-813f-8a38535d4437",
   "metadata": {},
   "outputs": [
    {
     "data": {
      "text/plain": [
       "VMC        72346\n",
       "IMC         5625\n",
       "UNKNOWN     4443\n",
       "UNK          756\n",
       "Unk          259\n",
       "Name: Weather.Condition, dtype: int64"
      ]
     },
     "execution_count": 29,
     "metadata": {},
     "output_type": "execute_result"
    }
   ],
   "source": [
    "df1['Weather.Condition'].value_counts()"
   ]
  },
  {
   "cell_type": "code",
   "execution_count": 30,
   "id": "6e5f2d30-c33d-49cf-9f91-569c600fddb4",
   "metadata": {},
   "outputs": [],
   "source": [
    "df1['Weather.Condition']=df1['Weather.Condition'].replace('Unk', 'UNKNOWN')\n",
    "df1['Weather.Condition']=df1['Weather.Condition'].replace('UNK', 'UNKNOWN')"
   ]
  },
  {
   "cell_type": "code",
   "execution_count": 31,
   "id": "61a31262-981f-4c73-b9ae-5525aab2a7e6",
   "metadata": {},
   "outputs": [
    {
     "data": {
      "text/plain": [
       "VMC        72346\n",
       "IMC         5625\n",
       "UNKNOWN     5458\n",
       "Name: Weather.Condition, dtype: int64"
      ]
     },
     "execution_count": 31,
     "metadata": {},
     "output_type": "execute_result"
    }
   ],
   "source": [
    "df1['Weather.Condition'].value_counts()"
   ]
  },
  {
   "cell_type": "code",
   "execution_count": 32,
   "id": "d90ba71f-4aac-416c-9102-f1e5014e2f08",
   "metadata": {},
   "outputs": [
    {
     "data": {
      "text/plain": [
       "UNKNOWN        26005\n",
       "Landing        14259\n",
       "Takeoff        11644\n",
       "Cruise          9582\n",
       "Maneuvering     7649\n",
       "Approach        6009\n",
       "Climb           1926\n",
       "Taxi            1822\n",
       "Descent         1745\n",
       "Go-around       1295\n",
       "Standing         904\n",
       "Unknown          487\n",
       "Other            102\n",
       "Name: Broad.phase.of.flight, dtype: int64"
      ]
     },
     "execution_count": 32,
     "metadata": {},
     "output_type": "execute_result"
    }
   ],
   "source": [
    "df1['Broad.phase.of.flight'].value_counts()"
   ]
  },
  {
   "cell_type": "code",
   "execution_count": 33,
   "id": "5e155991-ecf8-4a81-84f1-85ceebb84095",
   "metadata": {},
   "outputs": [],
   "source": [
    "df1['Broad.phase.of.flight']=df1['Broad.phase.of.flight'].replace('Unknown', 'UNKNOWN')\n",
    "df1['Broad.phase.of.flight']=df1['Broad.phase.of.flight'].replace('Other', 'UNKNOWN')"
   ]
  },
  {
   "cell_type": "code",
   "execution_count": 34,
   "id": "d02ebb74-a55d-4d89-976b-6d0c2c6f0adc",
   "metadata": {},
   "outputs": [
    {
     "data": {
      "text/plain": [
       "UNKNOWN        26594\n",
       "Landing        14259\n",
       "Takeoff        11644\n",
       "Cruise          9582\n",
       "Maneuvering     7649\n",
       "Approach        6009\n",
       "Climb           1926\n",
       "Taxi            1822\n",
       "Descent         1745\n",
       "Go-around       1295\n",
       "Standing         904\n",
       "Name: Broad.phase.of.flight, dtype: int64"
      ]
     },
     "execution_count": 34,
     "metadata": {},
     "output_type": "execute_result"
    }
   ],
   "source": [
    "df1['Broad.phase.of.flight'].value_counts()"
   ]
  },
  {
   "cell_type": "code",
   "execution_count": 35,
   "id": "d53f9368-4146-487a-a1a0-7d2561d84fd1",
   "metadata": {},
   "outputs": [
    {
     "name": "stdout",
     "output_type": "stream",
     "text": [
      "<class 'pandas.core.frame.DataFrame'>\n",
      "Int64Index: 83429 entries, 3600 to 88888\n",
      "Data columns (total 29 columns):\n",
      " #   Column                  Non-Null Count  Dtype         \n",
      "---  ------                  --------------  -----         \n",
      " 0   Investigation.Type      83429 non-null  object        \n",
      " 1   Event.Date              83429 non-null  datetime64[ns]\n",
      " 2   Location                83429 non-null  object        \n",
      " 3   Country                 83429 non-null  object        \n",
      " 4   Latitude                33160 non-null  object        \n",
      " 5   Longitude               33151 non-null  object        \n",
      " 6   Airport.Code            83429 non-null  object        \n",
      " 7   Airport.Name            83429 non-null  object        \n",
      " 8   Injury.Severity         82434 non-null  object        \n",
      " 9   Aircraft.damage         83429 non-null  object        \n",
      " 10  Aircraft.Category       83429 non-null  object        \n",
      " 11  Make                    83429 non-null  object        \n",
      " 12  Model                   83429 non-null  object        \n",
      " 13  Amateur.Built           83429 non-null  object        \n",
      " 14  Number.of.Engines       83429 non-null  object        \n",
      " 15  Engine.Type             83429 non-null  object        \n",
      " 16  Purpose.of.flight       83429 non-null  object        \n",
      " 17  Air.carrier             15965 non-null  object        \n",
      " 18  Total.Fatal.Injuries    83429 non-null  float64       \n",
      " 19  Total.Serious.Injuries  83429 non-null  float64       \n",
      " 20  Total.Minor.Injuries    83429 non-null  float64       \n",
      " 21  Total.Uninjured         83429 non-null  float64       \n",
      " 22  Weather.Condition       83429 non-null  object        \n",
      " 23  Broad.phase.of.flight   83429 non-null  object        \n",
      " 24  Report.Status           77175 non-null  object        \n",
      " 25  Year                    83429 non-null  int64         \n",
      " 26  Month.Abbr              83429 non-null  object        \n",
      " 27  Day.Name.Abbr           83429 non-null  object        \n",
      " 28  Weekend                 83429 non-null  object        \n",
      "dtypes: datetime64[ns](1), float64(4), int64(1), object(23)\n",
      "memory usage: 19.1+ MB\n"
     ]
    }
   ],
   "source": [
    "df1.info()"
   ]
  },
  {
   "cell_type": "code",
   "execution_count": 36,
   "id": "2fcb940a-d0c9-4bb0-989a-8f00eb182b71",
   "metadata": {},
   "outputs": [
    {
     "data": {
      "text/plain": [
       "Non-Fatal      63082\n",
       "Fatal          16829\n",
       "Incident        2079\n",
       "Minor            209\n",
       "Serious          160\n",
       "Unavailable       75\n",
       "Name: Injury.Severity, dtype: int64"
      ]
     },
     "execution_count": 36,
     "metadata": {},
     "output_type": "execute_result"
    }
   ],
   "source": [
    "df1['Injury.Severity'] = df1['Injury.Severity'].str.split('(').str[0]\n",
    "df1['Injury.Severity'].value_counts()"
   ]
  },
  {
   "cell_type": "code",
   "execution_count": 37,
   "id": "ce7126ee-d91b-4e32-93a9-5747da610fd8",
   "metadata": {},
   "outputs": [
    {
     "data": {
      "text/plain": [
       "995"
      ]
     },
     "execution_count": 37,
     "metadata": {},
     "output_type": "execute_result"
    }
   ],
   "source": [
    "df1['Injury.Severity'].isna().sum()"
   ]
  },
  {
   "cell_type": "code",
   "execution_count": 38,
   "id": "c0205937-1e67-4070-b1e2-ecc077e437d6",
   "metadata": {},
   "outputs": [],
   "source": [
    "df1['Injury.Severity'].fillna('Unavailable',inplace = True)"
   ]
  },
  {
   "cell_type": "code",
   "execution_count": null,
   "id": "c523ab41-7195-4c8a-bf09-0020b620980a",
   "metadata": {},
   "outputs": [],
   "source": []
  },
  {
   "cell_type": "code",
   "execution_count": 39,
   "id": "7cfdfac1-7f12-490b-99dc-8273d9b7e1e2",
   "metadata": {},
   "outputs": [],
   "source": [
    "df1['Make']=df1['Make'].str.title()"
   ]
  },
  {
   "cell_type": "code",
   "execution_count": 40,
   "id": "59a47e43-9ed6-44ab-bae9-504ef8e81740",
   "metadata": {},
   "outputs": [],
   "source": [
    "df1 = df1[df1['Make']!='Balloon Works']"
   ]
  },
  {
   "cell_type": "code",
   "execution_count": 41,
   "id": "ebde6c79-770b-4eea-b933-09cb8b33b3cd",
   "metadata": {},
   "outputs": [
    {
     "data": {
      "text/plain": [
       "Cessna                            25777\n",
       "Piper                             14095\n",
       "Beech                              5097\n",
       "Boeing                             2680\n",
       "Bell                               2581\n",
       "Mooney                             1277\n",
       "Robinson                           1207\n",
       "Grumman                            1065\n",
       "Bellanca                            982\n",
       "Hughes                              873\n",
       "Air Tractor                         673\n",
       "Aeronca                             607\n",
       "Mcdonnell Douglas                   591\n",
       "Maule                               570\n",
       "Schweizer                           549\n",
       "Champion                            507\n",
       "Stinson                             421\n",
       "Aero Commander                      412\n",
       "De Havilland                        404\n",
       "Luscombe                            391\n",
       "North American                      370\n",
       "Taylorcraft                         366\n",
       "Aerospatiale                        361\n",
       "Rockwell                            338\n",
       "Hiller                              330\n",
       "Airbus                              290\n",
       "Enstrom                             280\n",
       "Douglas                             264\n",
       "Embraer                             236\n",
       "Ayres                               234\n",
       "Robinson Helicopter                 230\n",
       "Sikorsky                            225\n",
       "Cirrus Design Corp                  223\n",
       "Eurocopter                          220\n",
       "Air Tractor Inc                     219\n",
       "Grumman American                    213\n",
       "Robinson Helicopter Company         193\n",
       "Swearingen                          162\n",
       "Airbus Industrie                    161\n",
       "Ercoupe (Eng & Research Corp.)      160\n",
       "Fairchild                           155\n",
       "Cirrus                              150\n",
       "Pitts                               145\n",
       "Waco                                140\n",
       "Aviat                               140\n",
       "Lake                                139\n",
       "Learjet                             134\n",
       "Mitsubishi                          133\n",
       "Vans                                129\n",
       "Grumman-Schweizer                   127\n",
       "Name: Make, dtype: int64"
      ]
     },
     "execution_count": 41,
     "metadata": {},
     "output_type": "execute_result"
    }
   ],
   "source": [
    "make = df1['Make'].value_counts()\n",
    "make.head(50)"
   ]
  },
  {
   "cell_type": "markdown",
   "id": "ce24f047-bf8b-46ec-969c-6ecbade6202e",
   "metadata": {},
   "source": [
    "df1['Make']=df1['Make'].replace('Robinson Helicopter', 'Robinson')\n",
    "df1['Make']=df1['Make'].replace('Robinson Helicopter Company', 'Robinson')\n",
    "df1['Make']=df1['Make'].replace('Cirrus Design Corp', 'Cirrus')\n",
    "df1['Make']=df1['Make'].replace('Air Tractor Inc', 'Air Tractor')\n",
    "df1['Make']=df1['Make'].replace('Airbus Industrie', 'Airbus')\n",
    "df1['Make']=df1['Make'].replace('Grumman American', 'Grumman')\n",
    "df1['Make']=df1['Make'].replace('Douglas', 'Mcdonnell Douglas')\n",
    "df1['Make']=df1['Make'].replace('Ercoupe (Eng & Research Corp.)', 'Ercoupe')\n",
    "df1['Make']=df1['Make'].replace('Cirrus Design Corp.', 'Cirrus')\n",
    "df1['Make']=df1['Make'].replace('Rockwell International', 'Rockwell')\n",
    "df1['Make']=df1['Make'].replace('Fairchild', 'Swearingen')\n",
    "df1['Make']=df1['Make'].replace('Aviat Aircraft Inc', 'Aviat')\n",
    "df1['Make']=df1['Make'].replace('Pitts', 'Aviat')\n",
    "df1['Make']=df1['Make'].replace('Navion', 'Ryan')\n",
    "df1['Make']=df1['Make'].replace('Bombardier Inc', 'Bombardier')\n",
    "df1['Make']=df1['Make'].replace('Bombardier Inc', 'Bombardier')"
   ]
  },
  {
   "cell_type": "code",
   "execution_count": 42,
   "id": "f83220de-a357-4ba0-817b-1ba9abe97af9",
   "metadata": {},
   "outputs": [],
   "source": [
    "df1['Make'] = df1['Make'].replace(r'^Robinson.*', 'Robinson', regex=True)\n",
    "df1['Make'] = df1['Make'].replace(r'^Air Tractor.*', 'Air Tractor', regex=True)\n",
    "df1['Make'] = df1['Make'].replace(r'^Douglas.*', 'Mcdonnell Douglas', regex=True)\n",
    "df1['Make'] = df1['Make'].replace(r'^douglas.*', 'Mcdonnell Douglas', regex=True)\n",
    "df1['Make'] = df1['Make'].replace(r'^Mcdonnell.*', 'Mcdonnell Douglas', regex=True)\n",
    "df1['Make'] = df1['Make'].replace(r'^Cirrus.*', 'Cirrus', regex=True)\n",
    "df1['Make'] = df1['Make'].replace(r'^Airbus.*', 'Airbus', regex=True)\n",
    "df1['Make'] = df1['Make'].replace(r'^Grumman.*', 'Grumman', regex=True)\n",
    "df1['Make'] = df1['Make'].replace(r'^Ercoupe.*', 'Ercoupe', regex=True)\n",
    "\n",
    "df1['Make'] = df1['Make'].replace(r'^Aviat.*', 'Aviat', regex=True)\n",
    "df1['Make'] = df1['Make'].replace(r'^Bombardier.*', 'Bombardier', regex=True)\n",
    "df1['Make'] = df1['Make'].replace(r'^Aerostar.*', 'Aerostar', regex=True)\n",
    "df1['Make'] = df1['Make'].replace(r'^Wsk.*', 'WSK', regex=True)\n",
    "df1['Make'] = df1['Make'].replace(r'^Boeing.*', 'Boeing', regex=True)\n",
    "df1['Make'] = df1['Make'].replace(r'^Cessna.*', 'Cessna', regex=True)\n",
    "df1['Make'] = df1['Make'].replace(r'^Piper.*', 'Piper', regex=True)\n",
    "df1['Make'] = df1['Make'].replace(r'^Beech.*', 'Beech', regex=True)\n",
    "df1['Make'] = df1['Make'].replace(r'^Bell.*', 'Bell', regex=True)\n",
    "df1['Make'] = df1['Make'].replace(r'^Mooney.*', 'Mooney', regex=True)\n",
    "df1['Make'] = df1['Make'].replace(r'^Hughes.*', 'Hughes', regex=True)\n",
    "df1['Make'] = df1['Make'].replace(r'^Aeronca.*', 'Aeronca', regex=True)\n",
    "\n",
    "df1['Make'] = df1['Make'].replace(r'^Maule.*', 'Maule', regex=True)\n",
    "df1['Make'] = df1['Make'].replace(r'^Aeronca.*', 'Aeronca', regex=True)\n",
    "df1['Make'] = df1['Make'].replace(r'^Champion.*', 'Champion', regex=True)\n",
    "df1['Make'] = df1['Make'].replace(r'^Stinson.*', 'Stinson', regex=True)\n",
    "df1['Make'] = df1['Make'].replace(r'^Rockwell.*', 'Rockwell', regex=True)\n",
    "df1['Make'] = df1['Make'].replace(r'^Aero Commander.*', 'Aero Commander', regex=True)\n",
    "df1['Make'] = df1['Make'].replace(r'^Ayers.*', 'Ayres Thrush', regex=True)\n",
    "\n",
    "\n",
    "df1['Make'] = df1['Make'].replace(r'^De Havillande.*', 'De Havilland', regex=True)\n",
    "df1['Make'] = df1['Make'].replace(r'^Luscombe.*', 'Luscombe', regex=True)\n",
    "df1['Make'] = df1['Make'].replace(r'^Champion.*', 'Champion', regex=True)\n",
    "df1['Make'] = df1['Make'].replace(r'^North American.*', 'North American', regex=True)\n",
    "df1['Make'] = df1['Make'].replace(r'^Taylorcraft.*', 'Taylorcraft', regex=True)\n",
    "df1['Make'] = df1['Make'].replace(r'^Aerospatiale.*', 'Aerospatiale', regex=True)"
   ]
  },
  {
   "cell_type": "code",
   "execution_count": 43,
   "id": "dda97b3f-c9b1-4e4f-943b-7dad8234028b",
   "metadata": {},
   "outputs": [],
   "source": [
    "df1['Make'] = df1['Make'].replace(r'^Hiller.*', 'Hiller', regex=True)\n",
    "df1['Make'] = df1['Make'].replace(r'^Swearingen.*', 'Swearingen', regex=True)\n",
    "df1['Make'] = df1['Make'].replace(r'^Enstrom.*', 'Enstrom', regex=True)\n",
    "df1['Make'] = df1['Make'].replace(r'^Embraer.*', 'Embraer', regex=True)\n",
    "df1['Make'] = df1['Make'].replace(r'^Aviat.*', 'Aviat', regex=True)\n",
    "df1['Make'] = df1['Make'].replace(r'^Ercoupe.*', 'Ercoupe', regex=True)\n",
    "df1['Make'] = df1['Make'].replace(r'^Gulfstream.*', 'Gulfstream', regex=True)\n",
    "df1['Make'] = df1['Make'].replace(r'^Sikorsky.*', 'Sikorsky', regex=True)\n",
    "df1['Make'] = df1['Make'].replace(r'^Eurocopter.*', 'Eurocopter', regex=True)\n",
    "df1['Make'] = df1['Make'].replace(r'^Dehavilland.*', 'De Havilland', regex=True)\n",
    "df1['Make'] = df1['Make'].replace(r'^Gulfstream.*', 'Gulfstream', regex=True)\n",
    "df1['Make'] = df1['Make'].replace(r'^Raytheon.*', 'Raytheon', regex=True)\n",
    "df1['Make'] = df1['Make'].replace(r'^Diamond.*', 'Diamond', regex=True)"
   ]
  },
  {
   "cell_type": "code",
   "execution_count": 44,
   "id": "e4449cb0-d7f7-47e0-8020-62ac56e1d761",
   "metadata": {},
   "outputs": [],
   "source": [
    "df1['Make']=df1['Make'].replace('Fairchild', 'Swearingen')\n",
    "df1['Make']=df1['Make'].replace('Navion', 'Ryan')\n",
    "df1['Make']=df1['Make'].replace('Aerostar', 'Piper')\n",
    "df1['Make']=df1['Make'].replace('Aerostar', 'Piper')\n",
    "df1['Make']=df1['Make'].replace('Grumman American Avn. Corp.', 'Grumman')\n",
    "df1['Make']=df1['Make'].replace('Grumman Acft Eng Cor-Schweizer', 'Schweizer')\n",
    "df1['Make']=df1['Make'].replace('Gulfstream American', 'Gulfstream')\n",
    "df1['Make']=df1['Make'].replace('Eurocopter France', 'Eurocopter')\n",
    "df1['Make']=df1['Make'].replace('Ayres Corporation', 'Ayres')\n",
    "df1['Make']=df1['Make'].replace('Mooney Aircraft Corp.', 'Mooney')\n",
    "df1['Make']=df1['Make'].replace('Mcdonnell Douglas Helicopter', 'Mcdonnell Douglas')\n",
    "df1['Make']=df1['Make'].replace('The Boeing Company', 'Boeing')\n",
    "df1['Make']=df1['Make'].replace('Schweizer Aircraft Corp', 'Schweizer')\n"
   ]
  },
  {
   "cell_type": "code",
   "execution_count": 45,
   "id": "e30561c9-ae19-441f-a268-18deebd8bc15",
   "metadata": {},
   "outputs": [
    {
     "data": {
      "text/plain": [
       "Cessna               25838\n",
       "Piper                14235\n",
       "Beech                 5133\n",
       "Bell                  3648\n",
       "Boeing                2766\n",
       "Robinson              1658\n",
       "Grumman               1527\n",
       "Mooney                1328\n",
       "Mcdonnell Douglas      918\n",
       "Air Tractor            900\n",
       "Hughes                 881\n",
       "Aeronca                610\n",
       "Maule                  572\n",
       "Schweizer              569\n",
       "Champion               507\n",
       "De Havilland           506\n",
       "Airbus                 472\n",
       "Cirrus                 466\n",
       "Stinson                421\n",
       "Rockwell               413\n",
       "Aero Commander         412\n",
       "Luscombe               392\n",
       "North American         389\n",
       "Taylorcraft            377\n",
       "Aerospatiale           363\n",
       "Hiller                 340\n",
       "Swearingen             318\n",
       "Eurocopter             297\n",
       "Enstrom                287\n",
       "Ayres                  279\n",
       "Embraer                256\n",
       "Aviat                  235\n",
       "Ercoupe                234\n",
       "Sikorsky               228\n",
       "Gulfstream             217\n",
       "Ryan                   183\n",
       "Diamond                181\n",
       "Bombardier             171\n",
       "Pitts                  145\n",
       "Waco                   140\n",
       "Lake                   139\n",
       "Learjet                134\n",
       "Mitsubishi             133\n",
       "Vans                   129\n",
       "Socata                 126\n",
       "Raytheon               121\n",
       "Lockheed               118\n",
       "WSK                    110\n",
       "Helio                  108\n",
       "Globe                   96\n",
       "Name: Make, dtype: int64"
      ]
     },
     "execution_count": 45,
     "metadata": {},
     "output_type": "execute_result"
    }
   ],
   "source": [
    "make = df1['Make'].value_counts()\n",
    "\n",
    "make.to_csv('make.csv',index=True)\n",
    "make.head(50)"
   ]
  },
  {
   "cell_type": "code",
   "execution_count": null,
   "id": "07f3dcf5-28af-4b67-9b1b-1335c5548ab9",
   "metadata": {},
   "outputs": [],
   "source": []
  },
  {
   "cell_type": "code",
   "execution_count": 46,
   "id": "32a38971-6e45-4687-815a-34afa82f1ad4",
   "metadata": {},
   "outputs": [],
   "source": [
    "top49 = df1['Make'].value_counts().nlargest(49).index"
   ]
  },
  {
   "cell_type": "code",
   "execution_count": 47,
   "id": "e83ec91d-289a-40ce-bafd-aa5ef43c9342",
   "metadata": {},
   "outputs": [],
   "source": [
    "df1['Make_class'] = df1['Make'].where(df1['Make'].isin(top49), 'Other')"
   ]
  },
  {
   "cell_type": "code",
   "execution_count": 48,
   "id": "c3b6a592-3f44-45ae-bb03-5015c36df431",
   "metadata": {},
   "outputs": [
    {
     "data": {
      "text/plain": [
       "Cessna               25838\n",
       "Piper                14235\n",
       "Other                13411\n",
       "Beech                 5133\n",
       "Bell                  3648\n",
       "Boeing                2766\n",
       "Robinson              1658\n",
       "Grumman               1527\n",
       "Mooney                1328\n",
       "Mcdonnell Douglas      918\n",
       "Air Tractor            900\n",
       "Hughes                 881\n",
       "Aeronca                610\n",
       "Maule                  572\n",
       "Schweizer              569\n",
       "Champion               507\n",
       "De Havilland           506\n",
       "Airbus                 472\n",
       "Cirrus                 466\n",
       "Stinson                421\n",
       "Rockwell               413\n",
       "Aero Commander         412\n",
       "Luscombe               392\n",
       "North American         389\n",
       "Taylorcraft            377\n",
       "Aerospatiale           363\n",
       "Hiller                 340\n",
       "Swearingen             318\n",
       "Eurocopter             297\n",
       "Enstrom                287\n",
       "Ayres                  279\n",
       "Embraer                256\n",
       "Aviat                  235\n",
       "Ercoupe                234\n",
       "Sikorsky               228\n",
       "Gulfstream             217\n",
       "Ryan                   183\n",
       "Diamond                181\n",
       "Bombardier             171\n",
       "Pitts                  145\n",
       "Waco                   140\n",
       "Lake                   139\n",
       "Learjet                134\n",
       "Mitsubishi             133\n",
       "Vans                   129\n",
       "Socata                 126\n",
       "Raytheon               121\n",
       "Lockheed               118\n",
       "WSK                    110\n",
       "Helio                  108\n",
       "Name: Make_class, dtype: int64"
      ]
     },
     "execution_count": 48,
     "metadata": {},
     "output_type": "execute_result"
    }
   ],
   "source": [
    "df1['Make_class'].value_counts()"
   ]
  },
  {
   "cell_type": "code",
   "execution_count": null,
   "id": "9de204eb-d4ec-4ca5-8e4a-f59e00914daa",
   "metadata": {},
   "outputs": [],
   "source": []
  },
  {
   "cell_type": "code",
   "execution_count": 49,
   "id": "8c5161e7-33e1-4948-b653-e32a8e3647d5",
   "metadata": {},
   "outputs": [],
   "source": [
    "df1['Airport.Name']=df1['Airport.Name'].str.title()"
   ]
  },
  {
   "cell_type": "code",
   "execution_count": 50,
   "id": "72ac39f7-f5c7-4b44-8331-98de3e052ce1",
   "metadata": {},
   "outputs": [
    {
     "name": "stdout",
     "output_type": "stream",
     "text": [
      "<class 'pandas.core.frame.DataFrame'>\n",
      "Int64Index: 83341 entries, 3600 to 88888\n",
      "Data columns (total 30 columns):\n",
      " #   Column                  Non-Null Count  Dtype         \n",
      "---  ------                  --------------  -----         \n",
      " 0   Investigation.Type      83341 non-null  object        \n",
      " 1   Event.Date              83341 non-null  datetime64[ns]\n",
      " 2   Location                83341 non-null  object        \n",
      " 3   Country                 83341 non-null  object        \n",
      " 4   Latitude                33159 non-null  object        \n",
      " 5   Longitude               33150 non-null  object        \n",
      " 6   Airport.Code            83341 non-null  object        \n",
      " 7   Airport.Name            83341 non-null  object        \n",
      " 8   Injury.Severity         83341 non-null  object        \n",
      " 9   Aircraft.damage         83341 non-null  object        \n",
      " 10  Aircraft.Category       83341 non-null  object        \n",
      " 11  Make                    83341 non-null  object        \n",
      " 12  Model                   83341 non-null  object        \n",
      " 13  Amateur.Built           83341 non-null  object        \n",
      " 14  Number.of.Engines       83341 non-null  object        \n",
      " 15  Engine.Type             83341 non-null  object        \n",
      " 16  Purpose.of.flight       83341 non-null  object        \n",
      " 17  Air.carrier             15965 non-null  object        \n",
      " 18  Total.Fatal.Injuries    83341 non-null  float64       \n",
      " 19  Total.Serious.Injuries  83341 non-null  float64       \n",
      " 20  Total.Minor.Injuries    83341 non-null  float64       \n",
      " 21  Total.Uninjured         83341 non-null  float64       \n",
      " 22  Weather.Condition       83341 non-null  object        \n",
      " 23  Broad.phase.of.flight   83341 non-null  object        \n",
      " 24  Report.Status           77087 non-null  object        \n",
      " 25  Year                    83341 non-null  int64         \n",
      " 26  Month.Abbr              83341 non-null  object        \n",
      " 27  Day.Name.Abbr           83341 non-null  object        \n",
      " 28  Weekend                 83341 non-null  object        \n",
      " 29  Make_class              83341 non-null  object        \n",
      "dtypes: datetime64[ns](1), float64(4), int64(1), object(24)\n",
      "memory usage: 19.7+ MB\n"
     ]
    }
   ],
   "source": [
    "df1.info()"
   ]
  },
  {
   "cell_type": "code",
   "execution_count": 51,
   "id": "c8a5ed58-a847-470a-9ff1-79bca75feba1",
   "metadata": {},
   "outputs": [],
   "source": [
    "df1['Airport.Name']=df1['Airport.Name'].replace('Private', 'Private Airstrip')\n",
    "df1['Airport.Name']=df1['Airport.Name'].replace('Private Strip', 'Private Airstrip')\n",
    "df1['Airport.Name']=df1['Airport.Name'].replace('Pvt', 'Private Airstrip')\n",
    "df1['Airport.Name']=df1['Airport.Name'].replace(np.nan, 'None')"
   ]
  },
  {
   "cell_type": "code",
   "execution_count": 52,
   "id": "1328e598-a0fc-441a-8f68-2a61250d5908",
   "metadata": {},
   "outputs": [
    {
     "data": {
      "text/plain": [
       "None                              33871\n",
       "Private Airstrip                    884\n",
       "Merrill Field                       105\n",
       "Centennial                          101\n",
       "Van Nuys                             94\n",
       "                                  ...  \n",
       "Garnsey'S Strip                       1\n",
       "Oregon Hill                           1\n",
       "St. Pete-Clearwater Int               1\n",
       "Tri County Regional                   1\n",
       "Wichita Dwight D Eisenhower Nt        1\n",
       "Name: Airport.Name, Length: 20653, dtype: int64"
      ]
     },
     "execution_count": 52,
     "metadata": {},
     "output_type": "execute_result"
    }
   ],
   "source": [
    "df1['Airport.Name'].value_counts()"
   ]
  },
  {
   "cell_type": "code",
   "execution_count": 53,
   "id": "4aff94fa-0d4e-49c1-ae64-4e33c2528e40",
   "metadata": {},
   "outputs": [
    {
     "data": {
      "text/plain": [
       "20653"
      ]
     },
     "execution_count": 53,
     "metadata": {},
     "output_type": "execute_result"
    }
   ],
   "source": [
    "df1['Airport.Name'].unique().size"
   ]
  },
  {
   "cell_type": "code",
   "execution_count": 54,
   "id": "0df0ce2e-36d3-4607-a3e5-ac407d2c2b6b",
   "metadata": {},
   "outputs": [
    {
     "data": {
      "text/plain": [
       "None    35777\n",
       "NONE     1463\n",
       "PVT       465\n",
       "APA       155\n",
       "ORD       145\n",
       "        ...  \n",
       "D81         1\n",
       "7MS         1\n",
       "GA25        1\n",
       "T38         1\n",
       "EIKH        1\n",
       "Name: Airport.Code, Length: 10035, dtype: int64"
      ]
     },
     "execution_count": 54,
     "metadata": {},
     "output_type": "execute_result"
    }
   ],
   "source": [
    "df1['Airport.Code'].value_counts()"
   ]
  },
  {
   "cell_type": "code",
   "execution_count": 55,
   "id": "40381971-9cae-4fb0-9764-453ebf29ea26",
   "metadata": {},
   "outputs": [],
   "source": [
    "df1['Airport.Code']=df1['Airport.Code'].replace('NONE', 'None')"
   ]
  },
  {
   "cell_type": "code",
   "execution_count": 56,
   "id": "31a4c65c-66d1-4c37-afa3-3e8a89774663",
   "metadata": {},
   "outputs": [
    {
     "data": {
      "text/plain": [
       "10034"
      ]
     },
     "execution_count": 56,
     "metadata": {},
     "output_type": "execute_result"
    }
   ],
   "source": [
    "df1['Airport.Code'].unique().size"
   ]
  },
  {
   "cell_type": "code",
   "execution_count": 57,
   "id": "aff3c8ef-e3fe-487d-a073-e6ee05e500d9",
   "metadata": {},
   "outputs": [],
   "source": [
    " conditions = [\n",
    "    ((df1['Airport.Code'] =='None')),\n",
    "    ((df1['Airport.Code'] =='PVT')),\n",
    "    ((df1['Airport.Code'] !='None')& (df1['Airport.Code'] !='PVT'))\n",
    " ]\n",
    "choices = ['None','Private','Airport']"
   ]
  },
  {
   "cell_type": "code",
   "execution_count": 58,
   "id": "c5d95080-87ac-4e7e-af6e-9abc46da171b",
   "metadata": {},
   "outputs": [],
   "source": [
    "df1['Airport_Class'] = np.select(conditions, choices, default='NA')"
   ]
  },
  {
   "cell_type": "code",
   "execution_count": 59,
   "id": "73778934-3844-4716-93ab-c696d5a876de",
   "metadata": {},
   "outputs": [
    {
     "data": {
      "text/plain": [
       "Airport    45636\n",
       "None       37240\n",
       "Private      465\n",
       "Name: Airport_Class, dtype: int64"
      ]
     },
     "execution_count": 59,
     "metadata": {},
     "output_type": "execute_result"
    }
   ],
   "source": [
    "df1['Airport_Class'].value_counts()"
   ]
  },
  {
   "cell_type": "code",
   "execution_count": 60,
   "id": "4a35d0c3-34d8-4bec-8f3e-ea5ef6bf4b7e",
   "metadata": {},
   "outputs": [
    {
     "data": {
      "text/plain": [
       "<AxesSubplot:xlabel='Airport_Class', ylabel='count'>"
      ]
     },
     "execution_count": 60,
     "metadata": {},
     "output_type": "execute_result"
    },
    {
     "data": {
      "image/png": "[encoded data removed]",
      "text/plain": [
       "<Figure size 640x480 with 1 Axes>"
      ]
     },
     "metadata": {},
     "output_type": "display_data"
    }
   ],
   "source": [
    "sns.countplot(data=df1, x='Airport_Class', hue='Aircraft.Category')"
   ]
  },
  {
   "cell_type": "code",
   "execution_count": null,
   "id": "f413bbd8-17c3-4ac9-89a2-1dacbd711e48",
   "metadata": {},
   "outputs": [],
   "source": []
  },
  {
   "cell_type": "code",
   "execution_count": null,
   "id": "9344939d-a99f-4a73-8a7c-7e28b632a2a5",
   "metadata": {},
   "outputs": [],
   "source": []
  },
  {
   "cell_type": "code",
   "execution_count": 61,
   "id": "39f1056f-fd34-44f0-918a-862963f3c8e9",
   "metadata": {},
   "outputs": [
    {
     "data": {
      "text/plain": [
       "Substantial    60380\n",
       "Destroyed      17350\n",
       "UNKNOWN         3044\n",
       "Minor           2567\n",
       "Name: Aircraft.damage, dtype: int64"
      ]
     },
     "execution_count": 61,
     "metadata": {},
     "output_type": "execute_result"
    }
   ],
   "source": [
    "df1['Aircraft.damage'].value_counts()"
   ]
  },
  {
   "cell_type": "code",
   "execution_count": 62,
   "id": "a756c8a3-4f5c-4ed7-b021-4f2473ecb782",
   "metadata": {},
   "outputs": [],
   "source": [
    "df1['Total.Fatal.Injuries']=df1['Total.Fatal.Injuries'].astype(str).astype(float)\n",
    "df1['Total.Fatal.Injuries']=df1['Total.Fatal.Injuries'].astype(float).astype(int)"
   ]
  },
  {
   "cell_type": "code",
   "execution_count": 63,
   "id": "0147fc58-035b-4f2d-a16e-a0bb5bac1b43",
   "metadata": {},
   "outputs": [],
   "source": [
    "df1['Fatal_binary']=df1.apply(lambda x: 0 if x['Total.Fatal.Injuries']==0 else 1, axis=1)"
   ]
  },
  {
   "cell_type": "code",
   "execution_count": 64,
   "id": "f5ea0799-853e-46ee-add6-cc3295ded085",
   "metadata": {},
   "outputs": [],
   "source": [
    "df1['Total.Serious.Injuries']=df1['Total.Serious.Injuries'].astype(str).astype(float)\n",
    "df1['Total.Serious.Injuries']=df1['Total.Serious.Injuries'].astype(float).astype(int)"
   ]
  },
  {
   "cell_type": "code",
   "execution_count": 65,
   "id": "65e736a6-8190-4868-84b8-193578c3da4e",
   "metadata": {},
   "outputs": [],
   "source": [
    "df1['Serious_binary']=df1.apply(lambda x: 0 if x['Total.Serious.Injuries']==0 else 1, axis=1)"
   ]
  },
  {
   "cell_type": "code",
   "execution_count": 66,
   "id": "95942234-aefe-41ad-84f1-45f852ab6375",
   "metadata": {},
   "outputs": [],
   "source": [
    "df1['Total.Minor.Injuries']=df1['Total.Minor.Injuries'].astype(str).astype(float)\n",
    "df1['Total.Minor.Injuries']=df1['Total.Minor.Injuries'].astype(float).astype(int)"
   ]
  },
  {
   "cell_type": "code",
   "execution_count": 67,
   "id": "4531bd51-79b3-40c3-92b2-762070d0e9db",
   "metadata": {},
   "outputs": [],
   "source": [
    "df1['Minor_binary']=df1.apply(lambda x: 0 if x['Total.Minor.Injuries']==0 else 1, axis=1)"
   ]
  },
  {
   "cell_type": "code",
   "execution_count": 68,
   "id": "a1095186-c093-4568-a3e5-0a121241c112",
   "metadata": {},
   "outputs": [],
   "source": [
    "df1['Total.Uninjured']=df1['Total.Uninjured'].astype(str).astype(float)\n",
    "df1['Total.Uninjured']=df1['Total.Uninjured'].astype(float).astype(int)"
   ]
  },
  {
   "cell_type": "code",
   "execution_count": 69,
   "id": "c0e2b022-54d8-4601-9c79-7eca2b0d4b49",
   "metadata": {},
   "outputs": [],
   "source": [
    "df1['Uninjured_binary']=df1.apply(lambda x: 0 if x['Total.Uninjured']==0 else 1, axis=1)"
   ]
  },
  {
   "cell_type": "code",
   "execution_count": 70,
   "id": "ed090fb4-c990-4629-8f5d-a44306aa42f0",
   "metadata": {},
   "outputs": [],
   "source": [
    " conditions = [\n",
    "    ((df1['Fatal_binary'] ==1) | (df1['Serious_binary']==1 )),\n",
    "    ((df1['Fatal_binary'] ==0) & (df1['Serious_binary']==0) & ((df1['Minor_binary']==1) | (df1['Uninjured_binary']==1)))\n",
    "]\n",
    "choices = ['Fatal_Injured','Minor_Uninjured']"
   ]
  },
  {
   "cell_type": "code",
   "execution_count": 71,
   "id": "3f633044-19d2-47fa-8e6d-6154a0a89d61",
   "metadata": {},
   "outputs": [],
   "source": [
    "df1['Target_binary'] = np.select(conditions, choices, default='NA')"
   ]
  },
  {
   "cell_type": "code",
   "execution_count": 72,
   "id": "ef614953-d274-48b0-b31c-7265faf32dc5",
   "metadata": {},
   "outputs": [
    {
     "data": {
      "text/plain": [
       "Minor_Uninjured    54991\n",
       "Fatal_Injured      27083\n",
       "NA                  1267\n",
       "Name: Target_binary, dtype: int64"
      ]
     },
     "execution_count": 72,
     "metadata": {},
     "output_type": "execute_result"
    }
   ],
   "source": [
    "df1['Target_binary'].value_counts()"
   ]
  },
  {
   "cell_type": "code",
   "execution_count": 73,
   "id": "ff7691bf-6f3f-46cb-9854-f1f385f5c902",
   "metadata": {},
   "outputs": [],
   "source": [
    " conditions = [\n",
    "    ((df1['Fatal_binary'] ==1)),\n",
    "    ((df1['Fatal_binary'] ==0)& ((df1['Serious_binary']==1 )| (df1['Minor_binary']==1))),\n",
    "    ((df1['Fatal_binary'] ==0)& (df1['Serious_binary']==0) & (df1['Minor_binary']==0) & (df1['Uninjured_binary']==1))\n",
    "]\n",
    "choices = ['Fatal','Injured','Uninjured']"
   ]
  },
  {
   "cell_type": "code",
   "execution_count": 74,
   "id": "04544c29-0295-483b-8059-effc95f1d6d1",
   "metadata": {},
   "outputs": [],
   "source": [
    "df1['Target_column'] = np.select(conditions, choices, default='NA')"
   ]
  },
  {
   "cell_type": "code",
   "execution_count": 75,
   "id": "b11bf233-399a-4f5e-93b6-3db3b8102564",
   "metadata": {},
   "outputs": [],
   "source": [
    "df1['Total_passangers'] = df1['Total.Serious.Injuries']+df1['Total.Minor.Injuries']+df1['Total.Uninjured']+df1['Total.Fatal.Injuries']"
   ]
  },
  {
   "cell_type": "code",
   "execution_count": 76,
   "id": "5e74f2c0-5a7b-497e-a41a-fdf10fa7f85f",
   "metadata": {},
   "outputs": [],
   "source": [
    "df1=df1[df1['Total_passangers']>0]"
   ]
  },
  {
   "cell_type": "code",
   "execution_count": 77,
   "id": "d3f1caa2-0f25-4b81-b3d1-383b4c744ec7",
   "metadata": {},
   "outputs": [],
   "source": [
    "def plane_size(x):\n",
    "    if x < 3:\n",
    "        return 'small'\n",
    "    elif x < 21:\n",
    "        return 'medium'\n",
    "    else:\n",
    "        return 'large'\n",
    "\n"
   ]
  },
  {
   "cell_type": "code",
   "execution_count": 78,
   "id": "7b988a41-f246-4bdd-adb6-5b1d633255fd",
   "metadata": {},
   "outputs": [],
   "source": [
    "df1['Airplane_size'] = df1['Total_passangers'].apply(plane_size)"
   ]
  },
  {
   "cell_type": "code",
   "execution_count": null,
   "id": "341fb2bc-3fba-4ee3-a1ea-49dfb22ed6ef",
   "metadata": {},
   "outputs": [],
   "source": []
  },
  {
   "cell_type": "code",
   "execution_count": 79,
   "id": "53cb6fc6-1a49-4231-9356-b61b43dbe285",
   "metadata": {},
   "outputs": [
    {
     "data": {
      "text/plain": [
       "small     62924\n",
       "medium    16438\n",
       "large      2712\n",
       "Name: Airplane_size, dtype: int64"
      ]
     },
     "execution_count": 79,
     "metadata": {},
     "output_type": "execute_result"
    }
   ],
   "source": [
    "df1['Airplane_size'].value_counts()"
   ]
  },
  {
   "cell_type": "code",
   "execution_count": 80,
   "id": "624f9ff9-205f-41c0-9d08-6d659c7674bc",
   "metadata": {},
   "outputs": [],
   "source": [
    "columns_int = ['Total.Fatal.Injuries','Total.Serious.Injuries','Total.Minor.Injuries','Total.Uninjured']\n",
    "for column in columns_int:\n",
    "    df1[column]=df1[column].astype(str).astype(float).astype(int)"
   ]
  },
  {
   "cell_type": "code",
   "execution_count": 81,
   "id": "dbb4fb52-5253-495f-b67c-bf4202b5b6db",
   "metadata": {},
   "outputs": [],
   "source": [
    "df1['survival_rate'] = round((df1['Total.Serious.Injuries']+df1['Total.Minor.Injuries']+df1['Total.Uninjured'])/(df1['Total.Fatal.Injuries']+df1['Total.Serious.Injuries']+df1['Total.Minor.Injuries']+df1['Total.Uninjured']),2)"
   ]
  },
  {
   "cell_type": "code",
   "execution_count": null,
   "id": "0cc8924e-4877-47b2-93ab-3ed41f49fd8b",
   "metadata": {},
   "outputs": [],
   "source": []
  },
  {
   "cell_type": "code",
   "execution_count": null,
   "id": "61fd325a-b007-4599-99c1-193f9ea3f683",
   "metadata": {},
   "outputs": [],
   "source": []
  },
  {
   "cell_type": "code",
   "execution_count": null,
   "id": "7be4dc44-e2d7-4c0d-98de-5235bd9a86e1",
   "metadata": {},
   "outputs": [],
   "source": []
  },
  {
   "cell_type": "code",
   "execution_count": null,
   "id": "75453a1c-9332-4436-97db-e47e3f8a6fe7",
   "metadata": {},
   "outputs": [],
   "source": []
  },
  {
   "cell_type": "code",
   "execution_count": null,
   "id": "f75bcea5-8135-49ba-9c0c-04ae9af9d907",
   "metadata": {},
   "outputs": [],
   "source": []
  },
  {
   "cell_type": "code",
   "execution_count": null,
   "id": "89efda41-e59a-4c3b-9d4e-d57723901a4b",
   "metadata": {},
   "outputs": [],
   "source": []
  },
  {
   "cell_type": "code",
   "execution_count": 82,
   "id": "96b1aa68-f8b2-410e-97d0-0bf30f19c511",
   "metadata": {},
   "outputs": [],
   "source": [
    "df_US = df1[df1['Country']== 'United States']"
   ]
  },
  {
   "cell_type": "code",
   "execution_count": 83,
   "id": "9971e14a-92e2-4a2a-b171-5a5ea8c22dde",
   "metadata": {},
   "outputs": [],
   "source": [
    "df_all=df1[df1['Country']!='United States']"
   ]
  },
  {
   "cell_type": "code",
   "execution_count": 84,
   "id": "a1dff9b8-6b6b-4d13-8939-935930a865b2",
   "metadata": {},
   "outputs": [
    {
     "name": "stdout",
     "output_type": "stream",
     "text": [
      "<class 'pandas.core.frame.DataFrame'>\n",
      "Int64Index: 76726 entries, 3600 to 88888\n",
      "Data columns (total 40 columns):\n",
      " #   Column                  Non-Null Count  Dtype         \n",
      "---  ------                  --------------  -----         \n",
      " 0   Investigation.Type      76726 non-null  object        \n",
      " 1   Event.Date              76726 non-null  datetime64[ns]\n",
      " 2   Location                76726 non-null  object        \n",
      " 3   Country                 76726 non-null  object        \n",
      " 4   Latitude                30948 non-null  object        \n",
      " 5   Longitude               30938 non-null  object        \n",
      " 6   Airport.Code            76726 non-null  object        \n",
      " 7   Airport.Name            76726 non-null  object        \n",
      " 8   Injury.Severity         76726 non-null  object        \n",
      " 9   Aircraft.damage         76726 non-null  object        \n",
      " 10  Aircraft.Category       76726 non-null  object        \n",
      " 11  Make                    76726 non-null  object        \n",
      " 12  Model                   76726 non-null  object        \n",
      " 13  Amateur.Built           76726 non-null  object        \n",
      " 14  Number.of.Engines       76726 non-null  object        \n",
      " 15  Engine.Type             76726 non-null  object        \n",
      " 16  Purpose.of.flight       76726 non-null  object        \n",
      " 17  Air.carrier             13716 non-null  object        \n",
      " 18  Total.Fatal.Injuries    76726 non-null  int32         \n",
      " 19  Total.Serious.Injuries  76726 non-null  int32         \n",
      " 20  Total.Minor.Injuries    76726 non-null  int32         \n",
      " 21  Total.Uninjured         76726 non-null  int32         \n",
      " 22  Weather.Condition       76726 non-null  object        \n",
      " 23  Broad.phase.of.flight   76726 non-null  object        \n",
      " 24  Report.Status           74272 non-null  object        \n",
      " 25  Year                    76726 non-null  int64         \n",
      " 26  Month.Abbr              76726 non-null  object        \n",
      " 27  Day.Name.Abbr           76726 non-null  object        \n",
      " 28  Weekend                 76726 non-null  object        \n",
      " 29  Make_class              76726 non-null  object        \n",
      " 30  Airport_Class           76726 non-null  object        \n",
      " 31  Fatal_binary            76726 non-null  int64         \n",
      " 32  Serious_binary          76726 non-null  int64         \n",
      " 33  Minor_binary            76726 non-null  int64         \n",
      " 34  Uninjured_binary        76726 non-null  int64         \n",
      " 35  Target_binary           76726 non-null  object        \n",
      " 36  Target_column           76726 non-null  object        \n",
      " 37  Total_passangers        76726 non-null  int32         \n",
      " 38  Airplane_size           76726 non-null  object        \n",
      " 39  survival_rate           76726 non-null  float64       \n",
      "dtypes: datetime64[ns](1), float64(1), int32(5), int64(5), object(28)\n",
      "memory usage: 22.5+ MB\n"
     ]
    }
   ],
   "source": [
    "df_US.info()"
   ]
  },
  {
   "cell_type": "code",
   "execution_count": 85,
   "id": "19de99cc-69f8-4da3-8f5c-02deffc50f01",
   "metadata": {},
   "outputs": [
    {
     "data": {
      "text/plain": [
       "Cessna               24531\n",
       "Piper                13542\n",
       "Beech                 4819\n",
       "Bell                  3210\n",
       "Grumman               1494\n",
       "Boeing                1460\n",
       "Robinson              1326\n",
       "Mooney                1285\n",
       "Air Tractor            852\n",
       "Hughes                 824\n",
       "Mcdonnell Douglas      715\n",
       "Aeronca                608\n",
       "Maule                  560\n",
       "Schweizer              542\n",
       "Champion               502\n",
       "De Havilland           459\n",
       "Stinson                421\n",
       "Rockwell               392\n",
       "Luscombe               391\n",
       "Cirrus                 385\n",
       "Aero Commander         380\n",
       "North American         378\n",
       "Taylorcraft            376\n",
       "Hiller                 336\n",
       "Aerospatiale           324\n",
       "Enstrom                274\n",
       "Swearingen             274\n",
       "Eurocopter             261\n",
       "Ayres                  257\n",
       "Ercoupe                234\n",
       "Aviat                  232\n",
       "Airbus                 226\n",
       "Ryan                   183\n",
       "Gulfstream             179\n",
       "Diamond                166\n",
       "Embraer                166\n",
       "Sikorsky               157\n",
       "Waco                   138\n",
       "Pitts                  136\n",
       "Lake                   131\n",
       "Name: Make, dtype: int64"
      ]
     },
     "execution_count": 85,
     "metadata": {},
     "output_type": "execute_result"
    }
   ],
   "source": [
    "make_US =df_US['Make'].value_counts()\n",
    "make_US.head(40)"
   ]
  },
  {
   "cell_type": "code",
   "execution_count": 86,
   "id": "53f0f62a-dea7-49d3-8449-df90d498a8a5",
   "metadata": {},
   "outputs": [
    {
     "name": "stderr",
     "output_type": "stream",
     "text": [
      "C:\\Users\\Enter\\AppData\\Local\\Temp\\ipykernel_6484\\2633618706.py:2: SettingWithCopyWarning: \n",
      "A value is trying to be set on a copy of a slice from a DataFrame.\n",
      "Try using .loc[row_indexer,col_indexer] = value instead\n",
      "\n",
      "See the caveats in the documentation: https://pandas.pydata.org/pandas-docs/stable/user_guide/indexing.html#returning-a-view-versus-a-copy\n",
      "  df_US['Make_class'] = df_US['Make'].where(df_US['Make'].isin(top40_US), 'Other')\n"
     ]
    }
   ],
   "source": [
    "top40_US = df_US['Make'].value_counts().nlargest(40).index\n",
    "df_US['Make_class'] = df_US['Make'].where(df_US['Make'].isin(top40_US), 'Other')"
   ]
  },
  {
   "cell_type": "code",
   "execution_count": 87,
   "id": "7433f7e9-93d9-4345-a812-5ba452510d50",
   "metadata": {},
   "outputs": [
    {
     "data": {
      "text/plain": [
       "Cessna               24531\n",
       "Other                13600\n",
       "Piper                13542\n",
       "Beech                 4819\n",
       "Bell                  3210\n",
       "Grumman               1494\n",
       "Boeing                1460\n",
       "Robinson              1326\n",
       "Mooney                1285\n",
       "Air Tractor            852\n",
       "Hughes                 824\n",
       "Mcdonnell Douglas      715\n",
       "Aeronca                608\n",
       "Maule                  560\n",
       "Schweizer              542\n",
       "Champion               502\n",
       "De Havilland           459\n",
       "Stinson                421\n",
       "Rockwell               392\n",
       "Luscombe               391\n",
       "Cirrus                 385\n",
       "Aero Commander         380\n",
       "North American         378\n",
       "Taylorcraft            376\n",
       "Hiller                 336\n",
       "Aerospatiale           324\n",
       "Enstrom                274\n",
       "Swearingen             274\n",
       "Eurocopter             261\n",
       "Ayres                  257\n",
       "Ercoupe                234\n",
       "Aviat                  232\n",
       "Airbus                 226\n",
       "Ryan                   183\n",
       "Gulfstream             179\n",
       "Diamond                166\n",
       "Embraer                166\n",
       "Sikorsky               157\n",
       "Waco                   138\n",
       "Pitts                  136\n",
       "Lake                   131\n",
       "Name: Make_class, dtype: int64"
      ]
     },
     "execution_count": 87,
     "metadata": {},
     "output_type": "execute_result"
    }
   ],
   "source": [
    "df_US['Make_class'].value_counts()"
   ]
  },
  {
   "cell_type": "code",
   "execution_count": 88,
   "id": "bc267d23-4658-43e6-90f3-23ec3a1914a8",
   "metadata": {},
   "outputs": [
    {
     "name": "stderr",
     "output_type": "stream",
     "text": [
      "C:\\Users\\Enter\\AppData\\Local\\Temp\\ipykernel_6484\\1677059448.py:1: SettingWithCopyWarning: \n",
      "A value is trying to be set on a copy of a slice from a DataFrame.\n",
      "Try using .loc[row_indexer,col_indexer] = value instead\n",
      "\n",
      "See the caveats in the documentation: https://pandas.pydata.org/pandas-docs/stable/user_guide/indexing.html#returning-a-view-versus-a-copy\n",
      "  df_US['Location'] =df_US['Location'].str.lower()\n"
     ]
    },
    {
     "data": {
      "text/plain": [
       "3600     [arroyo grande,  ca]\n",
       "3601           [newport,  or]\n",
       "3602          [woodbine,  ia]\n",
       "3603         [maryville,  mo]\n",
       "3604            [upland,  ca]\n",
       "                 ...         \n",
       "88881     [auburn hills,  mi]\n",
       "88882          [reserve,  la]\n",
       "88884        [annapolis,  md]\n",
       "88886           [payson,  az]\n",
       "88888           [athens,  ga]\n",
       "Name: Location, Length: 76726, dtype: object"
      ]
     },
     "execution_count": 88,
     "metadata": {},
     "output_type": "execute_result"
    }
   ],
   "source": [
    "df_US['Location'] =df_US['Location'].str.lower()\n",
    "df_US['Location'].str.split(',')"
   ]
  },
  {
   "cell_type": "code",
   "execution_count": 89,
   "id": "5aad4a02-1524-46f5-9894-d4bb61bd206c",
   "metadata": {},
   "outputs": [
    {
     "name": "stderr",
     "output_type": "stream",
     "text": [
      "C:\\Users\\Enter\\AppData\\Local\\Temp\\ipykernel_6484\\12364153.py:1: SettingWithCopyWarning: \n",
      "A value is trying to be set on a copy of a slice from a DataFrame.\n",
      "Try using .loc[row_indexer,col_indexer] = value instead\n",
      "\n",
      "See the caveats in the documentation: https://pandas.pydata.org/pandas-docs/stable/user_guide/indexing.html#returning-a-view-versus-a-copy\n",
      "  df_US[\"City\"] = df_US[\"Location\"].str.split(\",\").str.get(0)\n"
     ]
    },
    {
     "data": {
      "text/plain": [
       "12268"
      ]
     },
     "execution_count": 89,
     "metadata": {},
     "output_type": "execute_result"
    }
   ],
   "source": [
    "df_US[\"City\"] = df_US[\"Location\"].str.split(\",\").str.get(0)\n",
    "df_US['City'].unique().size"
   ]
  },
  {
   "cell_type": "code",
   "execution_count": 90,
   "id": "2a8f8c85-515c-4191-9670-b7e9fa1a1147",
   "metadata": {},
   "outputs": [
    {
     "name": "stderr",
     "output_type": "stream",
     "text": [
      "C:\\Users\\Enter\\AppData\\Local\\Temp\\ipykernel_6484\\3688219677.py:1: SettingWithCopyWarning: \n",
      "A value is trying to be set on a copy of a slice from a DataFrame.\n",
      "Try using .loc[row_indexer,col_indexer] = value instead\n",
      "\n",
      "See the caveats in the documentation: https://pandas.pydata.org/pandas-docs/stable/user_guide/indexing.html#returning-a-view-versus-a-copy\n",
      "  df_US[\"State\"] = df_US[\"Location\"].str.split(\",\").str.get(-1)\n"
     ]
    },
    {
     "data": {
      "text/plain": [
       "62"
      ]
     },
     "execution_count": 90,
     "metadata": {},
     "output_type": "execute_result"
    }
   ],
   "source": [
    "df_US[\"State\"] = df_US[\"Location\"].str.split(\",\").str.get(-1)\n",
    "df_US['State'].unique().size"
   ]
  },
  {
   "cell_type": "code",
   "execution_count": 91,
   "id": "06954a72-670d-4beb-aa84-27883a4b18b8",
   "metadata": {},
   "outputs": [
    {
     "name": "stderr",
     "output_type": "stream",
     "text": [
      "C:\\Users\\Enter\\AppData\\Local\\Temp\\ipykernel_6484\\2629711568.py:1: SettingWithCopyWarning: \n",
      "A value is trying to be set on a copy of a slice from a DataFrame.\n",
      "Try using .loc[row_indexer,col_indexer] = value instead\n",
      "\n",
      "See the caveats in the documentation: https://pandas.pydata.org/pandas-docs/stable/user_guide/indexing.html#returning-a-view-versus-a-copy\n",
      "  df_US['State'] =df_US['State'].str.upper()\n",
      "C:\\Users\\Enter\\AppData\\Local\\Temp\\ipykernel_6484\\2629711568.py:2: SettingWithCopyWarning: \n",
      "A value is trying to be set on a copy of a slice from a DataFrame.\n",
      "Try using .loc[row_indexer,col_indexer] = value instead\n",
      "\n",
      "See the caveats in the documentation: https://pandas.pydata.org/pandas-docs/stable/user_guide/indexing.html#returning-a-view-versus-a-copy\n",
      "  df_US['State']  = df_US['State'].str.lstrip()\n"
     ]
    },
    {
     "data": {
      "text/plain": [
       "CA    8210\n",
       "FL    5516\n",
       "TX    5468\n",
       "AK    5444\n",
       "AZ    2593\n",
       "CO    2517\n",
       "WA    2454\n",
       "IL    1911\n",
       "GA    1903\n",
       "MI    1889\n",
       "NY    1765\n",
       "OH    1700\n",
       "OR    1655\n",
       "PA    1636\n",
       "NC    1561\n",
       "WI    1482\n",
       "MO    1449\n",
       "AR    1435\n",
       "MN    1373\n",
       "ID    1368\n",
       "UT    1244\n",
       "IN    1236\n",
       "VA    1186\n",
       "NM    1180\n",
       "OK    1157\n",
       "NV    1133\n",
       "LA    1124\n",
       "NJ    1101\n",
       "AL    1073\n",
       "TN    1042\n",
       "KS    1024\n",
       "MT     985\n",
       "MA     908\n",
       "SC     900\n",
       "MS     772\n",
       "MD     771\n",
       "IA     747\n",
       "WY     685\n",
       "NE     665\n",
       "KY     597\n",
       "ND     528\n",
       "ME     478\n",
       "CT     473\n",
       "HI     462\n",
       "SD     423\n",
       "WV     373\n",
       "NH     327\n",
       "VT     218\n",
       "RI     151\n",
       "PR     111\n",
       "DE     111\n",
       "Name: State, dtype: int64"
      ]
     },
     "execution_count": 91,
     "metadata": {},
     "output_type": "execute_result"
    }
   ],
   "source": [
    "df_US['State'] =df_US['State'].str.upper()\n",
    "df_US['State']  = df_US['State'].str.lstrip()\n",
    "state =df_US['State'].value_counts()\n",
    "state.head(51)"
   ]
  },
  {
   "cell_type": "code",
   "execution_count": 92,
   "id": "d63ed0ac-5844-4b3f-97d3-d8edcc9ad4f9",
   "metadata": {},
   "outputs": [
    {
     "name": "stderr",
     "output_type": "stream",
     "text": [
      "C:\\Users\\Enter\\AppData\\Local\\Temp\\ipykernel_6484\\1033092329.py:2: SettingWithCopyWarning: \n",
      "A value is trying to be set on a copy of a slice from a DataFrame.\n",
      "Try using .loc[row_indexer,col_indexer] = value instead\n",
      "\n",
      "See the caveats in the documentation: https://pandas.pydata.org/pandas-docs/stable/user_guide/indexing.html#returning-a-view-versus-a-copy\n",
      "  df_US['State_mod'] = df_US['State'].where(df_US['State'].isin(top51_US_states), 'Other')\n"
     ]
    }
   ],
   "source": [
    "top51_US_states = df_US['State'].value_counts().nlargest(51).index\n",
    "df_US['State_mod'] = df_US['State'].where(df_US['State'].isin(top51_US_states), 'Other')"
   ]
  },
  {
   "cell_type": "code",
   "execution_count": 93,
   "id": "4419d106-b95e-4a89-b549-0dc09075be06",
   "metadata": {},
   "outputs": [
    {
     "data": {
      "text/plain": [
       "CA       8210\n",
       "FL       5516\n",
       "TX       5468\n",
       "AK       5444\n",
       "AZ       2593\n",
       "CO       2517\n",
       "WA       2454\n",
       "IL       1911\n",
       "GA       1903\n",
       "MI       1889\n",
       "NY       1765\n",
       "OH       1700\n",
       "OR       1655\n",
       "PA       1636\n",
       "NC       1561\n",
       "WI       1482\n",
       "MO       1449\n",
       "AR       1435\n",
       "MN       1373\n",
       "ID       1368\n",
       "UT       1244\n",
       "IN       1236\n",
       "VA       1186\n",
       "NM       1180\n",
       "OK       1157\n",
       "NV       1133\n",
       "LA       1124\n",
       "NJ       1101\n",
       "AL       1073\n",
       "TN       1042\n",
       "KS       1024\n",
       "MT        985\n",
       "MA        908\n",
       "SC        900\n",
       "MS        772\n",
       "MD        771\n",
       "IA        747\n",
       "WY        685\n",
       "NE        665\n",
       "KY        597\n",
       "ND        528\n",
       "ME        478\n",
       "CT        473\n",
       "HI        462\n",
       "SD        423\n",
       "WV        373\n",
       "NH        327\n",
       "VT        218\n",
       "Other     212\n",
       "RI        151\n",
       "DE        111\n",
       "PR        111\n",
       "Name: State_mod, dtype: int64"
      ]
     },
     "execution_count": 93,
     "metadata": {},
     "output_type": "execute_result"
    }
   ],
   "source": [
    "df_US['State_mod'].value_counts()"
   ]
  },
  {
   "cell_type": "code",
   "execution_count": 94,
   "id": "187c0c77-c6eb-4d22-b230-257169f898f0",
   "metadata": {},
   "outputs": [
    {
     "data": {
      "text/plain": [
       "Uninjured    42516\n",
       "Injured      20129\n",
       "Fatal        14081\n",
       "Name: Target_column, dtype: int64"
      ]
     },
     "execution_count": 94,
     "metadata": {},
     "output_type": "execute_result"
    }
   ],
   "source": [
    "df_US['Target_column'].value_counts()"
   ]
  },
  {
   "cell_type": "code",
   "execution_count": 95,
   "id": "280e515e-95d0-48c3-8847-44745b635c8f",
   "metadata": {},
   "outputs": [
    {
     "data": {
      "text/plain": [
       "Substantial    57941\n",
       "Destroyed      15211\n",
       "Minor           1863\n",
       "UNKNOWN         1711\n",
       "Name: Aircraft.damage, dtype: int64"
      ]
     },
     "execution_count": 95,
     "metadata": {},
     "output_type": "execute_result"
    }
   ],
   "source": [
    "df_US['Aircraft.damage'].value_counts()"
   ]
  },
  {
   "cell_type": "code",
   "execution_count": 96,
   "id": "6e5bc473-e048-4d8f-909a-0699217d5d82",
   "metadata": {},
   "outputs": [
    {
     "data": {
      "text/plain": [
       "1.00    62648\n",
       "0.00    11637\n",
       "0.50     1282\n",
       "0.67      295\n",
       "0.33      231\n",
       "        ...  \n",
       "0.27        1\n",
       "0.45        1\n",
       "0.18        1\n",
       "0.87        1\n",
       "0.46        1\n",
       "Name: survival_rate, Length: 62, dtype: int64"
      ]
     },
     "execution_count": 96,
     "metadata": {},
     "output_type": "execute_result"
    }
   ],
   "source": [
    "df_US['survival_rate'].value_counts()"
   ]
  },
  {
   "cell_type": "code",
   "execution_count": 97,
   "id": "3f21b862-6cf0-4f57-884a-0fbd7bdabd11",
   "metadata": {},
   "outputs": [
    {
     "data": {
      "text/plain": [
       "Index(['Investigation.Type', 'Event.Date', 'Location', 'Country', 'Latitude',\n",
       "       'Longitude', 'Airport.Code', 'Airport.Name', 'Injury.Severity',\n",
       "       'Aircraft.damage', 'Aircraft.Category', 'Make', 'Model',\n",
       "       'Amateur.Built', 'Number.of.Engines', 'Engine.Type',\n",
       "       'Purpose.of.flight', 'Air.carrier', 'Total.Fatal.Injuries',\n",
       "       'Total.Serious.Injuries', 'Total.Minor.Injuries', 'Total.Uninjured',\n",
       "       'Weather.Condition', 'Broad.phase.of.flight', 'Report.Status', 'Year',\n",
       "       'Month.Abbr', 'Day.Name.Abbr', 'Weekend', 'Make_class', 'Airport_Class',\n",
       "       'Fatal_binary', 'Serious_binary', 'Minor_binary', 'Uninjured_binary',\n",
       "       'Target_binary', 'Target_column', 'Total_passangers', 'Airplane_size',\n",
       "       'survival_rate', 'City', 'State', 'State_mod'],\n",
       "      dtype='object')"
      ]
     },
     "execution_count": 97,
     "metadata": {},
     "output_type": "execute_result"
    }
   ],
   "source": [
    "df_US.columns"
   ]
  },
  {
   "cell_type": "code",
   "execution_count": 98,
   "id": "bccb46ab-ba24-429f-85ee-ba71ed3a33fd",
   "metadata": {},
   "outputs": [
    {
     "data": {
      "text/plain": [
       "Airport    44520\n",
       "None       31742\n",
       "Private      464\n",
       "Name: Airport_Class, dtype: int64"
      ]
     },
     "execution_count": 98,
     "metadata": {},
     "output_type": "execute_result"
    }
   ],
   "source": [
    "df_US['Airport_Class'].value_counts()"
   ]
  },
  {
   "cell_type": "code",
   "execution_count": 99,
   "id": "67013bd4-923d-4ff0-bca7-bd9a08f607ee",
   "metadata": {},
   "outputs": [
    {
     "data": {
      "text/plain": [
       "small     60395\n",
       "medium    14396\n",
       "large      1935\n",
       "Name: Airplane_size, dtype: int64"
      ]
     },
     "execution_count": 99,
     "metadata": {},
     "output_type": "execute_result"
    }
   ],
   "source": [
    "df_US['Airplane_size'].value_counts()"
   ]
  },
  {
   "cell_type": "code",
   "execution_count": null,
   "id": "8c409b18-25b6-4111-ac9d-7a9643b8f664",
   "metadata": {},
   "outputs": [],
   "source": []
  },
  {
   "cell_type": "code",
   "execution_count": null,
   "id": "025db063-3775-418c-be2e-99af80a4931e",
   "metadata": {},
   "outputs": [],
   "source": []
  },
  {
   "cell_type": "code",
   "execution_count": null,
   "id": "89fb48b8-41ca-4ad3-b6dd-de1777f21ccf",
   "metadata": {},
   "outputs": [],
   "source": []
  },
  {
   "cell_type": "code",
   "execution_count": null,
   "id": "0a151c5f-597d-4205-a008-084a0476c2f1",
   "metadata": {},
   "outputs": [],
   "source": []
  },
  {
   "cell_type": "code",
   "execution_count": null,
   "id": "32af78a2-c535-428a-b084-ef6b1fe5c896",
   "metadata": {},
   "outputs": [],
   "source": []
  },
  {
   "cell_type": "code",
   "execution_count": null,
   "id": "b5efc3b2-0183-4395-b130-1294caf0b57e",
   "metadata": {},
   "outputs": [],
   "source": []
  },
  {
   "cell_type": "code",
   "execution_count": null,
   "id": "344a8935-f700-48cc-9b1c-9ad7e3dafe45",
   "metadata": {},
   "outputs": [],
   "source": []
  },
  {
   "cell_type": "code",
   "execution_count": null,
   "id": "3a26aacb-6fdf-46fb-8524-23a2d71aaf09",
   "metadata": {},
   "outputs": [],
   "source": []
  },
  {
   "cell_type": "code",
   "execution_count": null,
   "id": "2a386a99-2af4-4062-b8c8-07b2cad9ada4",
   "metadata": {},
   "outputs": [],
   "source": []
  },
  {
   "cell_type": "code",
   "execution_count": null,
   "id": "26d3afc7-881e-4e32-9e73-c0f1f3049f9a",
   "metadata": {},
   "outputs": [],
   "source": []
  },
  {
   "cell_type": "code",
   "execution_count": null,
   "id": "950f60e4-50d2-4a5c-89cc-63a02ac8febb",
   "metadata": {},
   "outputs": [],
   "source": []
  },
  {
   "cell_type": "code",
   "execution_count": null,
   "id": "45878352-76ed-4c83-a93a-db687018c288",
   "metadata": {},
   "outputs": [],
   "source": []
  },
  {
   "cell_type": "code",
   "execution_count": null,
   "id": "155cf8e2-25f8-4a4b-88d6-fe5b531db3e7",
   "metadata": {},
   "outputs": [],
   "source": []
  },
  {
   "cell_type": "code",
   "execution_count": 100,
   "id": "72af5d1f-3e16-4789-80a3-872f06f63e88",
   "metadata": {},
   "outputs": [
    {
     "name": "stdout",
     "output_type": "stream",
     "text": [
      "<class 'pandas.core.frame.DataFrame'>\n",
      "Int64Index: 5348 entries, 3682 to 88883\n",
      "Data columns (total 40 columns):\n",
      " #   Column                  Non-Null Count  Dtype         \n",
      "---  ------                  --------------  -----         \n",
      " 0   Investigation.Type      5348 non-null   object        \n",
      " 1   Event.Date              5348 non-null   datetime64[ns]\n",
      " 2   Location                5348 non-null   object        \n",
      " 3   Country                 5348 non-null   object        \n",
      " 4   Latitude                1940 non-null   object        \n",
      " 5   Longitude               1941 non-null   object        \n",
      " 6   Airport.Code            5348 non-null   object        \n",
      " 7   Airport.Name            5348 non-null   object        \n",
      " 8   Injury.Severity         5348 non-null   object        \n",
      " 9   Aircraft.damage         5348 non-null   object        \n",
      " 10  Aircraft.Category       5348 non-null   object        \n",
      " 11  Make                    5348 non-null   object        \n",
      " 12  Model                   5348 non-null   object        \n",
      " 13  Amateur.Built           5348 non-null   object        \n",
      " 14  Number.of.Engines       5348 non-null   object        \n",
      " 15  Engine.Type             5348 non-null   object        \n",
      " 16  Purpose.of.flight       5348 non-null   object        \n",
      " 17  Air.carrier             1682 non-null   object        \n",
      " 18  Total.Fatal.Injuries    5348 non-null   int32         \n",
      " 19  Total.Serious.Injuries  5348 non-null   int32         \n",
      " 20  Total.Minor.Injuries    5348 non-null   int32         \n",
      " 21  Total.Uninjured         5348 non-null   int32         \n",
      " 22  Weather.Condition       5348 non-null   object        \n",
      " 23  Broad.phase.of.flight   5348 non-null   object        \n",
      " 24  Report.Status           2484 non-null   object        \n",
      " 25  Year                    5348 non-null   int64         \n",
      " 26  Month.Abbr              5348 non-null   object        \n",
      " 27  Day.Name.Abbr           5348 non-null   object        \n",
      " 28  Weekend                 5348 non-null   object        \n",
      " 29  Make_class              5348 non-null   object        \n",
      " 30  Airport_Class           5348 non-null   object        \n",
      " 31  Fatal_binary            5348 non-null   int64         \n",
      " 32  Serious_binary          5348 non-null   int64         \n",
      " 33  Minor_binary            5348 non-null   int64         \n",
      " 34  Uninjured_binary        5348 non-null   int64         \n",
      " 35  Target_binary           5348 non-null   object        \n",
      " 36  Target_column           5348 non-null   object        \n",
      " 37  Total_passangers        5348 non-null   int32         \n",
      " 38  Airplane_size           5348 non-null   object        \n",
      " 39  survival_rate           5348 non-null   float64       \n",
      "dtypes: datetime64[ns](1), float64(1), int32(5), int64(5), object(28)\n",
      "memory usage: 1.6+ MB\n"
     ]
    }
   ],
   "source": [
    "df_all.info()"
   ]
  },
  {
   "cell_type": "code",
   "execution_count": 101,
   "id": "068e7a61-a13f-42fa-bb88-dbc81e2ce4bd",
   "metadata": {},
   "outputs": [
    {
     "data": {
      "text/plain": [
       "Cessna               1206\n",
       "Boeing                700\n",
       "Piper                 654\n",
       "Bell                  410\n",
       "Robinson              308\n",
       "Beech                 289\n",
       "Mcdonnell Douglas     154\n",
       "Airbus                110\n",
       "Cirrus                 77\n",
       "Embraer                63\n",
       "Sikorsky               57\n",
       "Name: Make, dtype: int64"
      ]
     },
     "execution_count": 101,
     "metadata": {},
     "output_type": "execute_result"
    }
   ],
   "source": [
    "make_all =df_all['Make'].value_counts()\n",
    "make_all.to_csv('make_all.csv',index=True)\n",
    "make_all.head(11)"
   ]
  },
  {
   "cell_type": "code",
   "execution_count": 102,
   "id": "697a0cd9-c0dd-44d1-b579-90be420c027a",
   "metadata": {},
   "outputs": [
    {
     "name": "stderr",
     "output_type": "stream",
     "text": [
      "C:\\Users\\Enter\\AppData\\Local\\Temp\\ipykernel_6484\\1955338294.py:2: SettingWithCopyWarning: \n",
      "A value is trying to be set on a copy of a slice from a DataFrame.\n",
      "Try using .loc[row_indexer,col_indexer] = value instead\n",
      "\n",
      "See the caveats in the documentation: https://pandas.pydata.org/pandas-docs/stable/user_guide/indexing.html#returning-a-view-versus-a-copy\n",
      "  df_all['Make_class'] = df_all['Make'].where(df_all['Make'].isin(top14_all), 'Other')\n"
     ]
    }
   ],
   "source": [
    "top14_all = df_all['Make'].value_counts().nlargest(14).index\n",
    "df_all['Make_class'] = df_all['Make'].where(df_all['Make'].isin(top14_all), 'Other')"
   ]
  },
  {
   "cell_type": "code",
   "execution_count": 103,
   "id": "a7261e31-e06b-4fe4-953b-46a34b5b75fb",
   "metadata": {},
   "outputs": [
    {
     "data": {
      "text/plain": [
       "Cessna               1206\n",
       "Other                1181\n",
       "Boeing                700\n",
       "Piper                 654\n",
       "Bell                  410\n",
       "Robinson              308\n",
       "Beech                 289\n",
       "Mcdonnell Douglas     154\n",
       "Airbus                110\n",
       "Cirrus                 77\n",
       "Embraer                63\n",
       "Sikorsky               57\n",
       "Hughes                 56\n",
       "Air Tractor            43\n",
       "De Havilland           40\n",
       "Name: Make_class, dtype: int64"
      ]
     },
     "execution_count": 103,
     "metadata": {},
     "output_type": "execute_result"
    }
   ],
   "source": [
    "df_all['Make_class'].value_counts()"
   ]
  },
  {
   "cell_type": "code",
   "execution_count": 104,
   "id": "642e774f-60a7-438d-b310-242d2f4ef1a1",
   "metadata": {},
   "outputs": [
    {
     "data": {
      "text/plain": [
       "ATLANTIC OCEAN                79\n",
       "SAN JUAN                      52\n",
       "PACIFIC OCEAN                 45\n",
       "UNKNOWN                       29\n",
       "GULF OF MEXICO                24\n",
       "Buenos Aires, Argentina       21\n",
       "London, United Kingdom        18\n",
       "ST. THOMAS                    17\n",
       "MISSING                       17\n",
       "Sao Paulo, Brazil             16\n",
       "CARIBBEAN SEA                 13\n",
       "Jakarta, Indonesia            11\n",
       "Bogota, Colombia              11\n",
       "NASSAU, BAHAMAS               11\n",
       "Nassau, Bahamas               11\n",
       "Tokyo, Japan                  11\n",
       "Rome, Italy                   10\n",
       "Freeport, Bahamas              9\n",
       "Frankfurt, Germany             9\n",
       "Mexico City, Mexico            9\n",
       "VIEQUES                        9\n",
       "CULEBRA                        8\n",
       "Paris, France                  8\n",
       "Madrid, Spain                  8\n",
       "Guatemala City, Guatemala      8\n",
       "Cusco, Peru                    8\n",
       "Johannesburg, South Africa     8\n",
       "Manaus, Brazil                 8\n",
       "Moscow, Russia                 8\n",
       "MAYAGUEZ                       7\n",
       "Brussels, Belgium              7\n",
       "Seoul, South Korea             7\n",
       "Dublin, Ireland                7\n",
       "Lima, Peru                     7\n",
       "Milan, Italy                   7\n",
       "Monterrey, Mexico              7\n",
       "Shanghai, China                7\n",
       "Mumbai, India                  7\n",
       "Bangkok, Thailand              7\n",
       "Lagos, Nigeria                 7\n",
       "BIMINI, Bahamas                6\n",
       "Georgetown, Guyana             6\n",
       "Panama City, Panama            6\n",
       "AGUADILLA                      6\n",
       "Makassar, Indonesia            6\n",
       "Culiacan, Mexico               6\n",
       "Kabul, Afghanistan             6\n",
       "Cape Town, South Africa        6\n",
       "Keflavik, Iceland              6\n",
       "DORADO                         6\n",
       "Caracas, Venezuela             6\n",
       "Toronto, Canada                5\n",
       "Shannon, Ireland               5\n",
       "Rio de Janeiro, Brazil         5\n",
       "FREEPORT, BAHAMAS              5\n",
       "Sydney, Australia              5\n",
       "Itaituba, Brazil               5\n",
       "Narita, Japan                  5\n",
       "Istanbul, Turkey               5\n",
       "Windhoek, Namibia              5\n",
       "Name: Location, dtype: int64"
      ]
     },
     "execution_count": 104,
     "metadata": {},
     "output_type": "execute_result"
    }
   ],
   "source": [
    "location_all =df_all['Location'].value_counts()\n",
    "location_all.head(60)"
   ]
  },
  {
   "cell_type": "code",
   "execution_count": null,
   "id": "dab2a432-bf66-4fad-af6c-391d8c512afa",
   "metadata": {},
   "outputs": [],
   "source": []
  },
  {
   "cell_type": "code",
   "execution_count": 105,
   "id": "62a77751-b632-40da-9514-99f6ab027622",
   "metadata": {},
   "outputs": [
    {
     "data": {
      "text/plain": [
       "Brazil                345\n",
       "Canada                326\n",
       "Mexico                289\n",
       "United Kingdom        236\n",
       "UNKNOWN               231\n",
       "Australia             222\n",
       "France                183\n",
       "Germany               177\n",
       "Bahamas               175\n",
       "Spain                 173\n",
       "Colombia              170\n",
       "Venezuela             107\n",
       "Japan                  99\n",
       "South Africa           97\n",
       "Italy                  95\n",
       "Argentina              94\n",
       "Indonesia              85\n",
       "Russia                 79\n",
       "ATLANTIC OCEAN         79\n",
       "Peru                   70\n",
       "Puerto Rico            69\n",
       "Guatemala              62\n",
       "Dominican Republic     60\n",
       "Ireland                55\n",
       "India                  54\n",
       "Chile                  53\n",
       "China                  52\n",
       "Eswatini               51\n",
       "Austria                48\n",
       "PACIFIC OCEAN          46\n",
       "Sweden                 46\n",
       "New Zealand            44\n",
       "Netherlands            42\n",
       "Philippines            39\n",
       "Panama                 38\n",
       "Portugal               34\n",
       "Bolivia                33\n",
       "Poland                 30\n",
       "American Samoa         30\n",
       "Ecuador                29\n",
       "Costa Rica             28\n",
       "Turkey                 27\n",
       "Belgium                27\n",
       "Honduras               27\n",
       "Switzerland            25\n",
       "Denmark                25\n",
       "GULF OF MEXICO         24\n",
       "Norway                 23\n",
       "South Korea            23\n",
       "Saudi Arabia           23\n",
       "Iceland                22\n",
       "Kenya                  22\n",
       "Taiwan                 22\n",
       "Thailand               20\n",
       "Malaysia               19\n",
       "Name: Country, dtype: int64"
      ]
     },
     "execution_count": 105,
     "metadata": {},
     "output_type": "execute_result"
    }
   ],
   "source": [
    "country_all =df_all['Country'].value_counts()\n",
    "country_all.head(55)"
   ]
  },
  {
   "cell_type": "code",
   "execution_count": 106,
   "id": "870631de-eeaa-4bd9-88bd-b9b4feeb1763",
   "metadata": {},
   "outputs": [
    {
     "name": "stderr",
     "output_type": "stream",
     "text": [
      "C:\\Users\\Enter\\AppData\\Local\\Temp\\ipykernel_6484\\2546401196.py:2: SettingWithCopyWarning: \n",
      "A value is trying to be set on a copy of a slice from a DataFrame.\n",
      "Try using .loc[row_indexer,col_indexer] = value instead\n",
      "\n",
      "See the caveats in the documentation: https://pandas.pydata.org/pandas-docs/stable/user_guide/indexing.html#returning-a-view-versus-a-copy\n",
      "  df_all['Country_class'] = df_all['Country'].where(df_all['Country'].isin(top30_countries_all), 'Other')\n"
     ]
    }
   ],
   "source": [
    "top30_countries_all = df_all['Country'].value_counts().nlargest(30).index\n",
    "df_all['Country_class'] = df_all['Country'].where(df_all['Country'].isin(top30_countries_all), 'Other')"
   ]
  },
  {
   "cell_type": "code",
   "execution_count": 107,
   "id": "b2d0218d-5abd-43f6-97b0-021058a7f147",
   "metadata": {},
   "outputs": [
    {
     "data": {
      "text/plain": [
       "Other                 1466\n",
       "Brazil                 345\n",
       "Canada                 326\n",
       "Mexico                 289\n",
       "United Kingdom         236\n",
       "UNKNOWN                231\n",
       "Australia              222\n",
       "France                 183\n",
       "Germany                177\n",
       "Bahamas                175\n",
       "Spain                  173\n",
       "Colombia               170\n",
       "Venezuela              107\n",
       "Japan                   99\n",
       "South Africa            97\n",
       "Italy                   95\n",
       "Argentina               94\n",
       "Indonesia               85\n",
       "Russia                  79\n",
       "ATLANTIC OCEAN          79\n",
       "Peru                    70\n",
       "Puerto Rico             69\n",
       "Guatemala               62\n",
       "Dominican Republic      60\n",
       "Ireland                 55\n",
       "India                   54\n",
       "Chile                   53\n",
       "China                   52\n",
       "Eswatini                51\n",
       "Austria                 48\n",
       "PACIFIC OCEAN           46\n",
       "Name: Country_class, dtype: int64"
      ]
     },
     "execution_count": 107,
     "metadata": {},
     "output_type": "execute_result"
    }
   ],
   "source": [
    "df_all['Country_class'].value_counts()"
   ]
  },
  {
   "cell_type": "code",
   "execution_count": 108,
   "id": "9e49b4de-aa94-4ff0-baed-8d750f082146",
   "metadata": {},
   "outputs": [
    {
     "data": {
      "text/plain": [
       "208"
      ]
     },
     "execution_count": 108,
     "metadata": {},
     "output_type": "execute_result"
    }
   ],
   "source": [
    "df_all['Country'].unique().size"
   ]
  },
  {
   "cell_type": "code",
   "execution_count": 109,
   "id": "94c795df-dc7d-4eec-9b39-743948f50f02",
   "metadata": {},
   "outputs": [
    {
     "data": {
      "text/html": [
       "<div>\n",
       "<style scoped>\n",
       "    .dataframe tbody tr th:only-of-type {\n",
       "        vertical-align: middle;\n",
       "    }\n",
       "\n",
       "    .dataframe tbody tr th {\n",
       "        vertical-align: top;\n",
       "    }\n",
       "\n",
       "    .dataframe thead th {\n",
       "        text-align: right;\n",
       "    }\n",
       "</style>\n",
       "<table border=\"1\" class=\"dataframe\">\n",
       "  <thead>\n",
       "    <tr style=\"text-align: right;\">\n",
       "      <th></th>\n",
       "      <th>Investigation.Type</th>\n",
       "      <th>Event.Date</th>\n",
       "      <th>Location</th>\n",
       "      <th>Country</th>\n",
       "      <th>Latitude</th>\n",
       "      <th>Longitude</th>\n",
       "      <th>Airport.Code</th>\n",
       "      <th>Airport.Name</th>\n",
       "      <th>Injury.Severity</th>\n",
       "      <th>Aircraft.damage</th>\n",
       "      <th>Aircraft.Category</th>\n",
       "      <th>Make</th>\n",
       "      <th>Model</th>\n",
       "      <th>Amateur.Built</th>\n",
       "      <th>Number.of.Engines</th>\n",
       "      <th>Engine.Type</th>\n",
       "      <th>Purpose.of.flight</th>\n",
       "      <th>Air.carrier</th>\n",
       "      <th>Total.Fatal.Injuries</th>\n",
       "      <th>Total.Serious.Injuries</th>\n",
       "      <th>Total.Minor.Injuries</th>\n",
       "      <th>Total.Uninjured</th>\n",
       "      <th>Weather.Condition</th>\n",
       "      <th>Broad.phase.of.flight</th>\n",
       "      <th>Report.Status</th>\n",
       "      <th>Year</th>\n",
       "      <th>Month.Abbr</th>\n",
       "      <th>Day.Name.Abbr</th>\n",
       "      <th>Weekend</th>\n",
       "      <th>Make_class</th>\n",
       "      <th>Airport_Class</th>\n",
       "      <th>Fatal_binary</th>\n",
       "      <th>Serious_binary</th>\n",
       "      <th>Minor_binary</th>\n",
       "      <th>Uninjured_binary</th>\n",
       "      <th>Target_binary</th>\n",
       "      <th>Target_column</th>\n",
       "      <th>Total_passangers</th>\n",
       "      <th>Airplane_size</th>\n",
       "      <th>survival_rate</th>\n",
       "      <th>Country_class</th>\n",
       "    </tr>\n",
       "  </thead>\n",
       "  <tbody>\n",
       "    <tr>\n",
       "      <th>38191</th>\n",
       "      <td>Accident</td>\n",
       "      <td>1995-08-28</td>\n",
       "      <td>POZNAN, Poland</td>\n",
       "      <td>Poland</td>\n",
       "      <td>NaN</td>\n",
       "      <td>NaN</td>\n",
       "      <td>None</td>\n",
       "      <td>None</td>\n",
       "      <td>Fatal</td>\n",
       "      <td>UNKNOWN</td>\n",
       "      <td>UNKNOWN</td>\n",
       "      <td>Piper</td>\n",
       "      <td>PA-34-200T</td>\n",
       "      <td>No</td>\n",
       "      <td>tw0</td>\n",
       "      <td>Reciprocating</td>\n",
       "      <td>UNKNOWN</td>\n",
       "      <td>NaN</td>\n",
       "      <td>6</td>\n",
       "      <td>0</td>\n",
       "      <td>0</td>\n",
       "      <td>0</td>\n",
       "      <td>UNKNOWN</td>\n",
       "      <td>UNKNOWN</td>\n",
       "      <td>Foreign</td>\n",
       "      <td>1995</td>\n",
       "      <td>Aug</td>\n",
       "      <td>Mon</td>\n",
       "      <td>False</td>\n",
       "      <td>Piper</td>\n",
       "      <td>None</td>\n",
       "      <td>1</td>\n",
       "      <td>0</td>\n",
       "      <td>0</td>\n",
       "      <td>0</td>\n",
       "      <td>Fatal_Injured</td>\n",
       "      <td>Fatal</td>\n",
       "      <td>6</td>\n",
       "      <td>medium</td>\n",
       "      <td>0.00</td>\n",
       "      <td>Other</td>\n",
       "    </tr>\n",
       "    <tr>\n",
       "      <th>59368</th>\n",
       "      <td>Accident</td>\n",
       "      <td>2005-08-20</td>\n",
       "      <td>NADRYBIE DWOR, POLAND</td>\n",
       "      <td>Poland</td>\n",
       "      <td>NaN</td>\n",
       "      <td>NaN</td>\n",
       "      <td>None</td>\n",
       "      <td>None</td>\n",
       "      <td>Fatal</td>\n",
       "      <td>Substantial</td>\n",
       "      <td>UNKNOWN</td>\n",
       "      <td>Unknown</td>\n",
       "      <td>Vans RV-6</td>\n",
       "      <td>Yes</td>\n",
       "      <td>UNKNOWN</td>\n",
       "      <td>UNKNOWN</td>\n",
       "      <td>UNKNOWN</td>\n",
       "      <td>NaN</td>\n",
       "      <td>2</td>\n",
       "      <td>0</td>\n",
       "      <td>0</td>\n",
       "      <td>0</td>\n",
       "      <td>IMC</td>\n",
       "      <td>UNKNOWN</td>\n",
       "      <td>Foreign</td>\n",
       "      <td>2005</td>\n",
       "      <td>Aug</td>\n",
       "      <td>Sat</td>\n",
       "      <td>True</td>\n",
       "      <td>Other</td>\n",
       "      <td>None</td>\n",
       "      <td>1</td>\n",
       "      <td>0</td>\n",
       "      <td>0</td>\n",
       "      <td>0</td>\n",
       "      <td>Fatal_Injured</td>\n",
       "      <td>Fatal</td>\n",
       "      <td>2</td>\n",
       "      <td>small</td>\n",
       "      <td>0.00</td>\n",
       "      <td>Other</td>\n",
       "    </tr>\n",
       "    <tr>\n",
       "      <th>61410</th>\n",
       "      <td>Accident</td>\n",
       "      <td>2006-09-13</td>\n",
       "      <td>SUWALKI, POLAND</td>\n",
       "      <td>Poland</td>\n",
       "      <td>NaN</td>\n",
       "      <td>NaN</td>\n",
       "      <td>None</td>\n",
       "      <td>None</td>\n",
       "      <td>Non-Fatal</td>\n",
       "      <td>Substantial</td>\n",
       "      <td>UNKNOWN</td>\n",
       "      <td>Piper</td>\n",
       "      <td>PA-46-350P</td>\n",
       "      <td>No</td>\n",
       "      <td>UNKNOWN</td>\n",
       "      <td>UNKNOWN</td>\n",
       "      <td>Personal</td>\n",
       "      <td>NaN</td>\n",
       "      <td>0</td>\n",
       "      <td>0</td>\n",
       "      <td>0</td>\n",
       "      <td>2</td>\n",
       "      <td>UNKNOWN</td>\n",
       "      <td>UNKNOWN</td>\n",
       "      <td>Foreign</td>\n",
       "      <td>2006</td>\n",
       "      <td>Sep</td>\n",
       "      <td>Wed</td>\n",
       "      <td>False</td>\n",
       "      <td>Piper</td>\n",
       "      <td>None</td>\n",
       "      <td>0</td>\n",
       "      <td>0</td>\n",
       "      <td>0</td>\n",
       "      <td>1</td>\n",
       "      <td>Minor_Uninjured</td>\n",
       "      <td>Uninjured</td>\n",
       "      <td>2</td>\n",
       "      <td>small</td>\n",
       "      <td>1.00</td>\n",
       "      <td>Other</td>\n",
       "    </tr>\n",
       "    <tr>\n",
       "      <th>63641</th>\n",
       "      <td>Accident</td>\n",
       "      <td>2007-10-28</td>\n",
       "      <td>KATOWICE, POLAND</td>\n",
       "      <td>Poland</td>\n",
       "      <td>NaN</td>\n",
       "      <td>NaN</td>\n",
       "      <td>None</td>\n",
       "      <td>None</td>\n",
       "      <td>Non-Fatal</td>\n",
       "      <td>Substantial</td>\n",
       "      <td>UNKNOWN</td>\n",
       "      <td>Boeing</td>\n",
       "      <td>737-800</td>\n",
       "      <td>No</td>\n",
       "      <td>UNKNOWN</td>\n",
       "      <td>UNKNOWN</td>\n",
       "      <td>UNKNOWN</td>\n",
       "      <td>NaN</td>\n",
       "      <td>0</td>\n",
       "      <td>0</td>\n",
       "      <td>0</td>\n",
       "      <td>122</td>\n",
       "      <td>UNKNOWN</td>\n",
       "      <td>UNKNOWN</td>\n",
       "      <td>Foreign</td>\n",
       "      <td>2007</td>\n",
       "      <td>Oct</td>\n",
       "      <td>Sun</td>\n",
       "      <td>True</td>\n",
       "      <td>Boeing</td>\n",
       "      <td>None</td>\n",
       "      <td>0</td>\n",
       "      <td>0</td>\n",
       "      <td>0</td>\n",
       "      <td>1</td>\n",
       "      <td>Minor_Uninjured</td>\n",
       "      <td>Uninjured</td>\n",
       "      <td>122</td>\n",
       "      <td>large</td>\n",
       "      <td>1.00</td>\n",
       "      <td>Other</td>\n",
       "    </tr>\n",
       "    <tr>\n",
       "      <th>68432</th>\n",
       "      <td>Incident</td>\n",
       "      <td>2010-07-01</td>\n",
       "      <td>Warsaw, Poland</td>\n",
       "      <td>Poland</td>\n",
       "      <td>NaN</td>\n",
       "      <td>NaN</td>\n",
       "      <td>EPWA</td>\n",
       "      <td>Warszawa-Okecie</td>\n",
       "      <td>Non-Fatal</td>\n",
       "      <td>Minor</td>\n",
       "      <td>Airplane</td>\n",
       "      <td>Fokker</td>\n",
       "      <td>F28</td>\n",
       "      <td>No</td>\n",
       "      <td>tw0</td>\n",
       "      <td>UNKNOWN</td>\n",
       "      <td>UNKNOWN</td>\n",
       "      <td>Contact Air</td>\n",
       "      <td>0</td>\n",
       "      <td>0</td>\n",
       "      <td>0</td>\n",
       "      <td>88</td>\n",
       "      <td>UNKNOWN</td>\n",
       "      <td>UNKNOWN</td>\n",
       "      <td>NaN</td>\n",
       "      <td>2010</td>\n",
       "      <td>Jul</td>\n",
       "      <td>Thu</td>\n",
       "      <td>False</td>\n",
       "      <td>Other</td>\n",
       "      <td>Airport</td>\n",
       "      <td>0</td>\n",
       "      <td>0</td>\n",
       "      <td>0</td>\n",
       "      <td>1</td>\n",
       "      <td>Minor_Uninjured</td>\n",
       "      <td>Uninjured</td>\n",
       "      <td>88</td>\n",
       "      <td>large</td>\n",
       "      <td>1.00</td>\n",
       "      <td>Other</td>\n",
       "    </tr>\n",
       "    <tr>\n",
       "      <th>69180</th>\n",
       "      <td>Accident</td>\n",
       "      <td>2010-11-03</td>\n",
       "      <td>Sekowice, Poland</td>\n",
       "      <td>Poland</td>\n",
       "      <td>NaN</td>\n",
       "      <td>NaN</td>\n",
       "      <td>None</td>\n",
       "      <td>None</td>\n",
       "      <td>Fatal</td>\n",
       "      <td>Destroyed</td>\n",
       "      <td>Airplane</td>\n",
       "      <td>Piper</td>\n",
       "      <td>PA46</td>\n",
       "      <td>No</td>\n",
       "      <td>one</td>\n",
       "      <td>UNKNOWN</td>\n",
       "      <td>Personal</td>\n",
       "      <td>NaN</td>\n",
       "      <td>2</td>\n",
       "      <td>0</td>\n",
       "      <td>0</td>\n",
       "      <td>0</td>\n",
       "      <td>UNKNOWN</td>\n",
       "      <td>UNKNOWN</td>\n",
       "      <td>NaN</td>\n",
       "      <td>2010</td>\n",
       "      <td>Nov</td>\n",
       "      <td>Wed</td>\n",
       "      <td>False</td>\n",
       "      <td>Piper</td>\n",
       "      <td>None</td>\n",
       "      <td>1</td>\n",
       "      <td>0</td>\n",
       "      <td>0</td>\n",
       "      <td>0</td>\n",
       "      <td>Fatal_Injured</td>\n",
       "      <td>Fatal</td>\n",
       "      <td>2</td>\n",
       "      <td>small</td>\n",
       "      <td>0.00</td>\n",
       "      <td>Other</td>\n",
       "    </tr>\n",
       "    <tr>\n",
       "      <th>70162</th>\n",
       "      <td>Accident</td>\n",
       "      <td>2011-06-18</td>\n",
       "      <td>Plock Vistula, Poland</td>\n",
       "      <td>Poland</td>\n",
       "      <td>523229N</td>\n",
       "      <td>0194051W</td>\n",
       "      <td>None</td>\n",
       "      <td>None</td>\n",
       "      <td>Fatal</td>\n",
       "      <td>Substantial</td>\n",
       "      <td>Airplane</td>\n",
       "      <td>Shannon James A Jr</td>\n",
       "      <td>AVIAT EAGLE II</td>\n",
       "      <td>Yes</td>\n",
       "      <td>one</td>\n",
       "      <td>Reciprocating</td>\n",
       "      <td>Other</td>\n",
       "      <td>Marek Szufa</td>\n",
       "      <td>1</td>\n",
       "      <td>0</td>\n",
       "      <td>0</td>\n",
       "      <td>0</td>\n",
       "      <td>UNKNOWN</td>\n",
       "      <td>UNKNOWN</td>\n",
       "      <td>NaN</td>\n",
       "      <td>2011</td>\n",
       "      <td>Jun</td>\n",
       "      <td>Sat</td>\n",
       "      <td>True</td>\n",
       "      <td>Other</td>\n",
       "      <td>None</td>\n",
       "      <td>1</td>\n",
       "      <td>0</td>\n",
       "      <td>0</td>\n",
       "      <td>0</td>\n",
       "      <td>Fatal_Injured</td>\n",
       "      <td>Fatal</td>\n",
       "      <td>1</td>\n",
       "      <td>small</td>\n",
       "      <td>0.00</td>\n",
       "      <td>Other</td>\n",
       "    </tr>\n",
       "    <tr>\n",
       "      <th>71022</th>\n",
       "      <td>Accident</td>\n",
       "      <td>2011-11-01</td>\n",
       "      <td>Warsaw, Poland</td>\n",
       "      <td>Poland</td>\n",
       "      <td>NaN</td>\n",
       "      <td>NaN</td>\n",
       "      <td>EPWA</td>\n",
       "      <td>Warszawa-Fr�D�Ric Chopin</td>\n",
       "      <td>Non-Fatal</td>\n",
       "      <td>Substantial</td>\n",
       "      <td>Airplane</td>\n",
       "      <td>Boeing</td>\n",
       "      <td>767</td>\n",
       "      <td>No</td>\n",
       "      <td>UNKNOWN</td>\n",
       "      <td>UNKNOWN</td>\n",
       "      <td>UNKNOWN</td>\n",
       "      <td>POLSKIE LINIE LOTNICZE</td>\n",
       "      <td>0</td>\n",
       "      <td>0</td>\n",
       "      <td>0</td>\n",
       "      <td>231</td>\n",
       "      <td>UNKNOWN</td>\n",
       "      <td>UNKNOWN</td>\n",
       "      <td>NaN</td>\n",
       "      <td>2011</td>\n",
       "      <td>Nov</td>\n",
       "      <td>Tue</td>\n",
       "      <td>False</td>\n",
       "      <td>Boeing</td>\n",
       "      <td>Airport</td>\n",
       "      <td>0</td>\n",
       "      <td>0</td>\n",
       "      <td>0</td>\n",
       "      <td>1</td>\n",
       "      <td>Minor_Uninjured</td>\n",
       "      <td>Uninjured</td>\n",
       "      <td>231</td>\n",
       "      <td>large</td>\n",
       "      <td>1.00</td>\n",
       "      <td>Other</td>\n",
       "    </tr>\n",
       "    <tr>\n",
       "      <th>71071</th>\n",
       "      <td>Accident</td>\n",
       "      <td>2011-11-13</td>\n",
       "      <td>Katowice, Poland</td>\n",
       "      <td>Poland</td>\n",
       "      <td>502732N</td>\n",
       "      <td>0185726E</td>\n",
       "      <td>None</td>\n",
       "      <td>None</td>\n",
       "      <td>Fatal</td>\n",
       "      <td>Substantial</td>\n",
       "      <td>Airplane</td>\n",
       "      <td>Cirrus</td>\n",
       "      <td>SR22</td>\n",
       "      <td>No</td>\n",
       "      <td>UNKNOWN</td>\n",
       "      <td>Reciprocating</td>\n",
       "      <td>UNKNOWN</td>\n",
       "      <td>Private</td>\n",
       "      <td>4</td>\n",
       "      <td>0</td>\n",
       "      <td>0</td>\n",
       "      <td>0</td>\n",
       "      <td>IMC</td>\n",
       "      <td>UNKNOWN</td>\n",
       "      <td>NaN</td>\n",
       "      <td>2011</td>\n",
       "      <td>Nov</td>\n",
       "      <td>Sun</td>\n",
       "      <td>True</td>\n",
       "      <td>Cirrus</td>\n",
       "      <td>None</td>\n",
       "      <td>1</td>\n",
       "      <td>0</td>\n",
       "      <td>0</td>\n",
       "      <td>0</td>\n",
       "      <td>Fatal_Injured</td>\n",
       "      <td>Fatal</td>\n",
       "      <td>4</td>\n",
       "      <td>medium</td>\n",
       "      <td>0.00</td>\n",
       "      <td>Other</td>\n",
       "    </tr>\n",
       "    <tr>\n",
       "      <th>71700</th>\n",
       "      <td>Accident</td>\n",
       "      <td>2012-05-01</td>\n",
       "      <td>Warszawa, Poland</td>\n",
       "      <td>Poland</td>\n",
       "      <td>NaN</td>\n",
       "      <td>NaN</td>\n",
       "      <td>None</td>\n",
       "      <td>None</td>\n",
       "      <td>Fatal</td>\n",
       "      <td>Substantial</td>\n",
       "      <td>UNKNOWN</td>\n",
       "      <td>Unknown</td>\n",
       "      <td>UNKNOWN</td>\n",
       "      <td>No</td>\n",
       "      <td>UNKNOWN</td>\n",
       "      <td>UNKNOWN</td>\n",
       "      <td>Personal</td>\n",
       "      <td>NaN</td>\n",
       "      <td>2</td>\n",
       "      <td>0</td>\n",
       "      <td>0</td>\n",
       "      <td>0</td>\n",
       "      <td>UNKNOWN</td>\n",
       "      <td>UNKNOWN</td>\n",
       "      <td>NaN</td>\n",
       "      <td>2012</td>\n",
       "      <td>May</td>\n",
       "      <td>Tue</td>\n",
       "      <td>False</td>\n",
       "      <td>Other</td>\n",
       "      <td>None</td>\n",
       "      <td>1</td>\n",
       "      <td>0</td>\n",
       "      <td>0</td>\n",
       "      <td>0</td>\n",
       "      <td>Fatal_Injured</td>\n",
       "      <td>Fatal</td>\n",
       "      <td>2</td>\n",
       "      <td>small</td>\n",
       "      <td>0.00</td>\n",
       "      <td>Other</td>\n",
       "    </tr>\n",
       "    <tr>\n",
       "      <th>73289</th>\n",
       "      <td>Incident</td>\n",
       "      <td>2013-03-12</td>\n",
       "      <td>Katowice, Poland</td>\n",
       "      <td>Poland</td>\n",
       "      <td>NaN</td>\n",
       "      <td>NaN</td>\n",
       "      <td>None</td>\n",
       "      <td>None</td>\n",
       "      <td>Non-Fatal</td>\n",
       "      <td>UNKNOWN</td>\n",
       "      <td>UNKNOWN</td>\n",
       "      <td>Boeing</td>\n",
       "      <td>737</td>\n",
       "      <td>No</td>\n",
       "      <td>UNKNOWN</td>\n",
       "      <td>UNKNOWN</td>\n",
       "      <td>UNKNOWN</td>\n",
       "      <td>NaN</td>\n",
       "      <td>0</td>\n",
       "      <td>0</td>\n",
       "      <td>0</td>\n",
       "      <td>185</td>\n",
       "      <td>UNKNOWN</td>\n",
       "      <td>UNKNOWN</td>\n",
       "      <td>NaN</td>\n",
       "      <td>2013</td>\n",
       "      <td>Mar</td>\n",
       "      <td>Tue</td>\n",
       "      <td>False</td>\n",
       "      <td>Boeing</td>\n",
       "      <td>None</td>\n",
       "      <td>0</td>\n",
       "      <td>0</td>\n",
       "      <td>0</td>\n",
       "      <td>1</td>\n",
       "      <td>Minor_Uninjured</td>\n",
       "      <td>Uninjured</td>\n",
       "      <td>185</td>\n",
       "      <td>large</td>\n",
       "      <td>1.00</td>\n",
       "      <td>Other</td>\n",
       "    </tr>\n",
       "    <tr>\n",
       "      <th>73602</th>\n",
       "      <td>Accident</td>\n",
       "      <td>2013-05-23</td>\n",
       "      <td>Babia Gora, Poland</td>\n",
       "      <td>Poland</td>\n",
       "      <td>049350N</td>\n",
       "      <td>0019320E</td>\n",
       "      <td>None</td>\n",
       "      <td>None</td>\n",
       "      <td>Fatal</td>\n",
       "      <td>Destroyed</td>\n",
       "      <td>Airplane</td>\n",
       "      <td>Piper</td>\n",
       "      <td>PA-34</td>\n",
       "      <td>No</td>\n",
       "      <td>UNKNOWN</td>\n",
       "      <td>UNKNOWN</td>\n",
       "      <td>Personal</td>\n",
       "      <td>Phinanace SA</td>\n",
       "      <td>3</td>\n",
       "      <td>0</td>\n",
       "      <td>0</td>\n",
       "      <td>0</td>\n",
       "      <td>UNKNOWN</td>\n",
       "      <td>UNKNOWN</td>\n",
       "      <td>NaN</td>\n",
       "      <td>2013</td>\n",
       "      <td>May</td>\n",
       "      <td>Thu</td>\n",
       "      <td>False</td>\n",
       "      <td>Piper</td>\n",
       "      <td>None</td>\n",
       "      <td>1</td>\n",
       "      <td>0</td>\n",
       "      <td>0</td>\n",
       "      <td>0</td>\n",
       "      <td>Fatal_Injured</td>\n",
       "      <td>Fatal</td>\n",
       "      <td>3</td>\n",
       "      <td>medium</td>\n",
       "      <td>0.00</td>\n",
       "      <td>Other</td>\n",
       "    </tr>\n",
       "    <tr>\n",
       "      <th>74247</th>\n",
       "      <td>Accident</td>\n",
       "      <td>2013-09-13</td>\n",
       "      <td>Wygonin, Poland</td>\n",
       "      <td>Poland</td>\n",
       "      <td>535821N</td>\n",
       "      <td>0018823E</td>\n",
       "      <td>None</td>\n",
       "      <td>None</td>\n",
       "      <td>Fatal</td>\n",
       "      <td>Destroyed</td>\n",
       "      <td>Helicopter</td>\n",
       "      <td>Robinson</td>\n",
       "      <td>R44</td>\n",
       "      <td>No</td>\n",
       "      <td>one</td>\n",
       "      <td>Reciprocating</td>\n",
       "      <td>UNKNOWN</td>\n",
       "      <td>WINDPROJEKT</td>\n",
       "      <td>3</td>\n",
       "      <td>0</td>\n",
       "      <td>0</td>\n",
       "      <td>0</td>\n",
       "      <td>IMC</td>\n",
       "      <td>UNKNOWN</td>\n",
       "      <td>NaN</td>\n",
       "      <td>2013</td>\n",
       "      <td>Sep</td>\n",
       "      <td>Fri</td>\n",
       "      <td>False</td>\n",
       "      <td>Robinson</td>\n",
       "      <td>None</td>\n",
       "      <td>1</td>\n",
       "      <td>0</td>\n",
       "      <td>0</td>\n",
       "      <td>0</td>\n",
       "      <td>Fatal_Injured</td>\n",
       "      <td>Fatal</td>\n",
       "      <td>3</td>\n",
       "      <td>medium</td>\n",
       "      <td>0.00</td>\n",
       "      <td>Other</td>\n",
       "    </tr>\n",
       "    <tr>\n",
       "      <th>74364</th>\n",
       "      <td>Accident</td>\n",
       "      <td>2013-10-12</td>\n",
       "      <td>Wolica Kozia, Poland</td>\n",
       "      <td>Poland</td>\n",
       "      <td>052545N</td>\n",
       "      <td>0172635E</td>\n",
       "      <td>None</td>\n",
       "      <td>None</td>\n",
       "      <td>Fatal</td>\n",
       "      <td>Substantial</td>\n",
       "      <td>Helicopter</td>\n",
       "      <td>Enstrom</td>\n",
       "      <td>280 - FX</td>\n",
       "      <td>No</td>\n",
       "      <td>UNKNOWN</td>\n",
       "      <td>UNKNOWN</td>\n",
       "      <td>UNKNOWN</td>\n",
       "      <td>NaN</td>\n",
       "      <td>2</td>\n",
       "      <td>0</td>\n",
       "      <td>0</td>\n",
       "      <td>0</td>\n",
       "      <td>UNKNOWN</td>\n",
       "      <td>UNKNOWN</td>\n",
       "      <td>NaN</td>\n",
       "      <td>2013</td>\n",
       "      <td>Oct</td>\n",
       "      <td>Sat</td>\n",
       "      <td>True</td>\n",
       "      <td>Other</td>\n",
       "      <td>None</td>\n",
       "      <td>1</td>\n",
       "      <td>0</td>\n",
       "      <td>0</td>\n",
       "      <td>0</td>\n",
       "      <td>Fatal_Injured</td>\n",
       "      <td>Fatal</td>\n",
       "      <td>2</td>\n",
       "      <td>small</td>\n",
       "      <td>0.00</td>\n",
       "      <td>Other</td>\n",
       "    </tr>\n",
       "    <tr>\n",
       "      <th>75378</th>\n",
       "      <td>Accident</td>\n",
       "      <td>2014-07-05</td>\n",
       "      <td>Czestochowska, Poland</td>\n",
       "      <td>Poland</td>\n",
       "      <td>NaN</td>\n",
       "      <td>NaN</td>\n",
       "      <td>None</td>\n",
       "      <td>None</td>\n",
       "      <td>Fatal</td>\n",
       "      <td>Destroyed</td>\n",
       "      <td>Airplane</td>\n",
       "      <td>Piper</td>\n",
       "      <td>PA 31P</td>\n",
       "      <td>No</td>\n",
       "      <td>tw0</td>\n",
       "      <td>Reciprocating</td>\n",
       "      <td>UNKNOWN</td>\n",
       "      <td>NaN</td>\n",
       "      <td>11</td>\n",
       "      <td>0</td>\n",
       "      <td>1</td>\n",
       "      <td>0</td>\n",
       "      <td>UNKNOWN</td>\n",
       "      <td>UNKNOWN</td>\n",
       "      <td>NaN</td>\n",
       "      <td>2014</td>\n",
       "      <td>Jul</td>\n",
       "      <td>Sat</td>\n",
       "      <td>True</td>\n",
       "      <td>Piper</td>\n",
       "      <td>None</td>\n",
       "      <td>1</td>\n",
       "      <td>0</td>\n",
       "      <td>1</td>\n",
       "      <td>0</td>\n",
       "      <td>Fatal_Injured</td>\n",
       "      <td>Fatal</td>\n",
       "      <td>12</td>\n",
       "      <td>medium</td>\n",
       "      <td>0.08</td>\n",
       "      <td>Other</td>\n",
       "    </tr>\n",
       "    <tr>\n",
       "      <th>76962</th>\n",
       "      <td>Accident</td>\n",
       "      <td>2015-07-17</td>\n",
       "      <td>Golub-Dobrzyn City, Poland</td>\n",
       "      <td>Poland</td>\n",
       "      <td>053626N</td>\n",
       "      <td>0019314E</td>\n",
       "      <td>None</td>\n",
       "      <td>None</td>\n",
       "      <td>Fatal</td>\n",
       "      <td>Destroyed</td>\n",
       "      <td>Airplane</td>\n",
       "      <td>3Xtrim</td>\n",
       "      <td>450 ULTRA</td>\n",
       "      <td>No</td>\n",
       "      <td>one</td>\n",
       "      <td>Reciprocating</td>\n",
       "      <td>UNKNOWN</td>\n",
       "      <td>NaN</td>\n",
       "      <td>1</td>\n",
       "      <td>0</td>\n",
       "      <td>1</td>\n",
       "      <td>0</td>\n",
       "      <td>UNKNOWN</td>\n",
       "      <td>UNKNOWN</td>\n",
       "      <td>NaN</td>\n",
       "      <td>2015</td>\n",
       "      <td>Jul</td>\n",
       "      <td>Fri</td>\n",
       "      <td>False</td>\n",
       "      <td>Other</td>\n",
       "      <td>None</td>\n",
       "      <td>1</td>\n",
       "      <td>0</td>\n",
       "      <td>1</td>\n",
       "      <td>0</td>\n",
       "      <td>Fatal_Injured</td>\n",
       "      <td>Fatal</td>\n",
       "      <td>2</td>\n",
       "      <td>small</td>\n",
       "      <td>0.50</td>\n",
       "      <td>Other</td>\n",
       "    </tr>\n",
       "    <tr>\n",
       "      <th>77195</th>\n",
       "      <td>Accident</td>\n",
       "      <td>2015-08-22</td>\n",
       "      <td>Natolin village, Poland</td>\n",
       "      <td>Poland</td>\n",
       "      <td>NaN</td>\n",
       "      <td>NaN</td>\n",
       "      <td>None</td>\n",
       "      <td>None</td>\n",
       "      <td>Non-Fatal</td>\n",
       "      <td>Destroyed</td>\n",
       "      <td>Helicopter</td>\n",
       "      <td>Robinson</td>\n",
       "      <td>R44</td>\n",
       "      <td>No</td>\n",
       "      <td>UNKNOWN</td>\n",
       "      <td>UNKNOWN</td>\n",
       "      <td>UNKNOWN</td>\n",
       "      <td>NaN</td>\n",
       "      <td>0</td>\n",
       "      <td>1</td>\n",
       "      <td>0</td>\n",
       "      <td>1</td>\n",
       "      <td>UNKNOWN</td>\n",
       "      <td>UNKNOWN</td>\n",
       "      <td>NaN</td>\n",
       "      <td>2015</td>\n",
       "      <td>Aug</td>\n",
       "      <td>Sat</td>\n",
       "      <td>True</td>\n",
       "      <td>Robinson</td>\n",
       "      <td>None</td>\n",
       "      <td>0</td>\n",
       "      <td>1</td>\n",
       "      <td>0</td>\n",
       "      <td>1</td>\n",
       "      <td>Fatal_Injured</td>\n",
       "      <td>Injured</td>\n",
       "      <td>2</td>\n",
       "      <td>small</td>\n",
       "      <td>1.00</td>\n",
       "      <td>Other</td>\n",
       "    </tr>\n",
       "    <tr>\n",
       "      <th>78062</th>\n",
       "      <td>Accident</td>\n",
       "      <td>2016-04-07</td>\n",
       "      <td>Suwalki, Poland</td>\n",
       "      <td>Poland</td>\n",
       "      <td>054320N</td>\n",
       "      <td>0225412E</td>\n",
       "      <td>None</td>\n",
       "      <td>None</td>\n",
       "      <td>Non-Fatal</td>\n",
       "      <td>Substantial</td>\n",
       "      <td>Helicopter</td>\n",
       "      <td>Mcdonnell Douglas</td>\n",
       "      <td>369E</td>\n",
       "      <td>No</td>\n",
       "      <td>UNKNOWN</td>\n",
       "      <td>UNKNOWN</td>\n",
       "      <td>UNKNOWN</td>\n",
       "      <td>NaN</td>\n",
       "      <td>0</td>\n",
       "      <td>0</td>\n",
       "      <td>2</td>\n",
       "      <td>0</td>\n",
       "      <td>UNKNOWN</td>\n",
       "      <td>UNKNOWN</td>\n",
       "      <td>NaN</td>\n",
       "      <td>2016</td>\n",
       "      <td>Apr</td>\n",
       "      <td>Thu</td>\n",
       "      <td>False</td>\n",
       "      <td>Mcdonnell Douglas</td>\n",
       "      <td>None</td>\n",
       "      <td>0</td>\n",
       "      <td>0</td>\n",
       "      <td>1</td>\n",
       "      <td>0</td>\n",
       "      <td>Minor_Uninjured</td>\n",
       "      <td>Injured</td>\n",
       "      <td>2</td>\n",
       "      <td>small</td>\n",
       "      <td>1.00</td>\n",
       "      <td>Other</td>\n",
       "    </tr>\n",
       "    <tr>\n",
       "      <th>78909</th>\n",
       "      <td>Accident</td>\n",
       "      <td>2016-09-06</td>\n",
       "      <td>Rzeszow, Poland</td>\n",
       "      <td>Poland</td>\n",
       "      <td>050644N</td>\n",
       "      <td>0022137E</td>\n",
       "      <td>None</td>\n",
       "      <td>None</td>\n",
       "      <td>Non-Fatal</td>\n",
       "      <td>Substantial</td>\n",
       "      <td>Helicopter</td>\n",
       "      <td>Unknown</td>\n",
       "      <td>Hummingbird 300LS</td>\n",
       "      <td>Yes</td>\n",
       "      <td>UNKNOWN</td>\n",
       "      <td>UNKNOWN</td>\n",
       "      <td>UNKNOWN</td>\n",
       "      <td>NaN</td>\n",
       "      <td>0</td>\n",
       "      <td>0</td>\n",
       "      <td>0</td>\n",
       "      <td>1</td>\n",
       "      <td>UNKNOWN</td>\n",
       "      <td>UNKNOWN</td>\n",
       "      <td>NaN</td>\n",
       "      <td>2016</td>\n",
       "      <td>Sep</td>\n",
       "      <td>Tue</td>\n",
       "      <td>False</td>\n",
       "      <td>Other</td>\n",
       "      <td>None</td>\n",
       "      <td>0</td>\n",
       "      <td>0</td>\n",
       "      <td>0</td>\n",
       "      <td>1</td>\n",
       "      <td>Minor_Uninjured</td>\n",
       "      <td>Uninjured</td>\n",
       "      <td>1</td>\n",
       "      <td>small</td>\n",
       "      <td>1.00</td>\n",
       "      <td>Other</td>\n",
       "    </tr>\n",
       "    <tr>\n",
       "      <th>81892</th>\n",
       "      <td>Accident</td>\n",
       "      <td>2018-07-11</td>\n",
       "      <td>Domecko, Poland</td>\n",
       "      <td>Poland</td>\n",
       "      <td>503728N</td>\n",
       "      <td>0175125E</td>\n",
       "      <td>None</td>\n",
       "      <td>None</td>\n",
       "      <td>Fatal</td>\n",
       "      <td>Destroyed</td>\n",
       "      <td>Helicopter</td>\n",
       "      <td>Robinson</td>\n",
       "      <td>R44</td>\n",
       "      <td>No</td>\n",
       "      <td>one</td>\n",
       "      <td>Reciprocating</td>\n",
       "      <td>UNKNOWN</td>\n",
       "      <td>Private</td>\n",
       "      <td>2</td>\n",
       "      <td>0</td>\n",
       "      <td>1</td>\n",
       "      <td>0</td>\n",
       "      <td>UNKNOWN</td>\n",
       "      <td>UNKNOWN</td>\n",
       "      <td>NaN</td>\n",
       "      <td>2018</td>\n",
       "      <td>Jul</td>\n",
       "      <td>Wed</td>\n",
       "      <td>False</td>\n",
       "      <td>Robinson</td>\n",
       "      <td>None</td>\n",
       "      <td>1</td>\n",
       "      <td>0</td>\n",
       "      <td>1</td>\n",
       "      <td>0</td>\n",
       "      <td>Fatal_Injured</td>\n",
       "      <td>Fatal</td>\n",
       "      <td>3</td>\n",
       "      <td>medium</td>\n",
       "      <td>0.33</td>\n",
       "      <td>Other</td>\n",
       "    </tr>\n",
       "    <tr>\n",
       "      <th>84958</th>\n",
       "      <td>Accident</td>\n",
       "      <td>2020-06-30</td>\n",
       "      <td>Strzegom city, Poland</td>\n",
       "      <td>Poland</td>\n",
       "      <td>NaN</td>\n",
       "      <td>NaN</td>\n",
       "      <td>None</td>\n",
       "      <td>None</td>\n",
       "      <td>Fatal</td>\n",
       "      <td>Destroyed</td>\n",
       "      <td>Helicopter</td>\n",
       "      <td>Robinson</td>\n",
       "      <td>R22</td>\n",
       "      <td>No</td>\n",
       "      <td>UNKNOWN</td>\n",
       "      <td>UNKNOWN</td>\n",
       "      <td>UNKNOWN</td>\n",
       "      <td>NaN</td>\n",
       "      <td>2</td>\n",
       "      <td>0</td>\n",
       "      <td>0</td>\n",
       "      <td>0</td>\n",
       "      <td>UNKNOWN</td>\n",
       "      <td>UNKNOWN</td>\n",
       "      <td>NaN</td>\n",
       "      <td>2020</td>\n",
       "      <td>Jun</td>\n",
       "      <td>Tue</td>\n",
       "      <td>False</td>\n",
       "      <td>Robinson</td>\n",
       "      <td>None</td>\n",
       "      <td>1</td>\n",
       "      <td>0</td>\n",
       "      <td>0</td>\n",
       "      <td>0</td>\n",
       "      <td>Fatal_Injured</td>\n",
       "      <td>Fatal</td>\n",
       "      <td>2</td>\n",
       "      <td>small</td>\n",
       "      <td>0.00</td>\n",
       "      <td>Other</td>\n",
       "    </tr>\n",
       "    <tr>\n",
       "      <th>85661</th>\n",
       "      <td>Incident</td>\n",
       "      <td>2020-12-05</td>\n",
       "      <td>Katowice, Poland</td>\n",
       "      <td>Poland</td>\n",
       "      <td>NaN</td>\n",
       "      <td>NaN</td>\n",
       "      <td>KTW</td>\n",
       "      <td>Katowice Airport</td>\n",
       "      <td>Non-Fatal</td>\n",
       "      <td>Minor</td>\n",
       "      <td>Airplane</td>\n",
       "      <td>Boeing</td>\n",
       "      <td>737</td>\n",
       "      <td>No</td>\n",
       "      <td>tw0</td>\n",
       "      <td>UNKNOWN</td>\n",
       "      <td>Business</td>\n",
       "      <td>Cargo Air</td>\n",
       "      <td>0</td>\n",
       "      <td>0</td>\n",
       "      <td>0</td>\n",
       "      <td>2</td>\n",
       "      <td>UNKNOWN</td>\n",
       "      <td>UNKNOWN</td>\n",
       "      <td>NaN</td>\n",
       "      <td>2020</td>\n",
       "      <td>Dec</td>\n",
       "      <td>Sat</td>\n",
       "      <td>True</td>\n",
       "      <td>Boeing</td>\n",
       "      <td>Airport</td>\n",
       "      <td>0</td>\n",
       "      <td>0</td>\n",
       "      <td>0</td>\n",
       "      <td>1</td>\n",
       "      <td>Minor_Uninjured</td>\n",
       "      <td>Uninjured</td>\n",
       "      <td>2</td>\n",
       "      <td>small</td>\n",
       "      <td>1.00</td>\n",
       "      <td>Other</td>\n",
       "    </tr>\n",
       "    <tr>\n",
       "      <th>86521</th>\n",
       "      <td>Accident</td>\n",
       "      <td>2021-07-06</td>\n",
       "      <td>Mikolajki, Poland</td>\n",
       "      <td>Poland</td>\n",
       "      <td>NaN</td>\n",
       "      <td>NaN</td>\n",
       "      <td>None</td>\n",
       "      <td>None</td>\n",
       "      <td>Non-Fatal</td>\n",
       "      <td>UNKNOWN</td>\n",
       "      <td>Helicopter</td>\n",
       "      <td>Robinson</td>\n",
       "      <td>R44</td>\n",
       "      <td>No</td>\n",
       "      <td>UNKNOWN</td>\n",
       "      <td>UNKNOWN</td>\n",
       "      <td>UNKNOWN</td>\n",
       "      <td>NaN</td>\n",
       "      <td>0</td>\n",
       "      <td>0</td>\n",
       "      <td>3</td>\n",
       "      <td>0</td>\n",
       "      <td>UNKNOWN</td>\n",
       "      <td>UNKNOWN</td>\n",
       "      <td>NaN</td>\n",
       "      <td>2021</td>\n",
       "      <td>Jul</td>\n",
       "      <td>Tue</td>\n",
       "      <td>False</td>\n",
       "      <td>Robinson</td>\n",
       "      <td>None</td>\n",
       "      <td>0</td>\n",
       "      <td>0</td>\n",
       "      <td>1</td>\n",
       "      <td>0</td>\n",
       "      <td>Minor_Uninjured</td>\n",
       "      <td>Injured</td>\n",
       "      <td>3</td>\n",
       "      <td>medium</td>\n",
       "      <td>1.00</td>\n",
       "      <td>Other</td>\n",
       "    </tr>\n",
       "    <tr>\n",
       "      <th>87257</th>\n",
       "      <td>Accident</td>\n",
       "      <td>2021-12-11</td>\n",
       "      <td>Silesian, Poland</td>\n",
       "      <td>Poland</td>\n",
       "      <td>NaN</td>\n",
       "      <td>NaN</td>\n",
       "      <td>None</td>\n",
       "      <td>None</td>\n",
       "      <td>Non-Fatal</td>\n",
       "      <td>UNKNOWN</td>\n",
       "      <td>UNKNOWN</td>\n",
       "      <td>Schweizer</td>\n",
       "      <td>269C</td>\n",
       "      <td>No</td>\n",
       "      <td>UNKNOWN</td>\n",
       "      <td>UNKNOWN</td>\n",
       "      <td>UNKNOWN</td>\n",
       "      <td>NaN</td>\n",
       "      <td>0</td>\n",
       "      <td>0</td>\n",
       "      <td>0</td>\n",
       "      <td>2</td>\n",
       "      <td>UNKNOWN</td>\n",
       "      <td>UNKNOWN</td>\n",
       "      <td>NaN</td>\n",
       "      <td>2021</td>\n",
       "      <td>Dec</td>\n",
       "      <td>Sat</td>\n",
       "      <td>True</td>\n",
       "      <td>Other</td>\n",
       "      <td>None</td>\n",
       "      <td>0</td>\n",
       "      <td>0</td>\n",
       "      <td>0</td>\n",
       "      <td>1</td>\n",
       "      <td>Minor_Uninjured</td>\n",
       "      <td>Uninjured</td>\n",
       "      <td>2</td>\n",
       "      <td>small</td>\n",
       "      <td>1.00</td>\n",
       "      <td>Other</td>\n",
       "    </tr>\n",
       "    <tr>\n",
       "      <th>87261</th>\n",
       "      <td>Accident</td>\n",
       "      <td>2021-12-12</td>\n",
       "      <td>Szadek, OF</td>\n",
       "      <td>Poland</td>\n",
       "      <td>NaN</td>\n",
       "      <td>NaN</td>\n",
       "      <td>None</td>\n",
       "      <td>None</td>\n",
       "      <td>Fatal</td>\n",
       "      <td>UNKNOWN</td>\n",
       "      <td>UNKNOWN</td>\n",
       "      <td>Rans</td>\n",
       "      <td>S12</td>\n",
       "      <td>No</td>\n",
       "      <td>UNKNOWN</td>\n",
       "      <td>UNKNOWN</td>\n",
       "      <td>UNKNOWN</td>\n",
       "      <td>NaN</td>\n",
       "      <td>1</td>\n",
       "      <td>0</td>\n",
       "      <td>1</td>\n",
       "      <td>0</td>\n",
       "      <td>UNKNOWN</td>\n",
       "      <td>UNKNOWN</td>\n",
       "      <td>NaN</td>\n",
       "      <td>2021</td>\n",
       "      <td>Dec</td>\n",
       "      <td>Sun</td>\n",
       "      <td>True</td>\n",
       "      <td>Other</td>\n",
       "      <td>None</td>\n",
       "      <td>1</td>\n",
       "      <td>0</td>\n",
       "      <td>1</td>\n",
       "      <td>0</td>\n",
       "      <td>Fatal_Injured</td>\n",
       "      <td>Fatal</td>\n",
       "      <td>2</td>\n",
       "      <td>small</td>\n",
       "      <td>0.50</td>\n",
       "      <td>Other</td>\n",
       "    </tr>\n",
       "    <tr>\n",
       "      <th>87287</th>\n",
       "      <td>Incident</td>\n",
       "      <td>2022-01-02</td>\n",
       "      <td>Warsaw,</td>\n",
       "      <td>Poland</td>\n",
       "      <td>NaN</td>\n",
       "      <td>NaN</td>\n",
       "      <td>None</td>\n",
       "      <td>None</td>\n",
       "      <td>Non-Fatal</td>\n",
       "      <td>UNKNOWN</td>\n",
       "      <td>Airplane</td>\n",
       "      <td>Boeing</td>\n",
       "      <td>787</td>\n",
       "      <td>No</td>\n",
       "      <td>UNKNOWN</td>\n",
       "      <td>UNKNOWN</td>\n",
       "      <td>UNKNOWN</td>\n",
       "      <td>LOT Polish Airlines</td>\n",
       "      <td>0</td>\n",
       "      <td>0</td>\n",
       "      <td>0</td>\n",
       "      <td>199</td>\n",
       "      <td>UNKNOWN</td>\n",
       "      <td>UNKNOWN</td>\n",
       "      <td>NaN</td>\n",
       "      <td>2022</td>\n",
       "      <td>Jan</td>\n",
       "      <td>Sun</td>\n",
       "      <td>True</td>\n",
       "      <td>Boeing</td>\n",
       "      <td>None</td>\n",
       "      <td>0</td>\n",
       "      <td>0</td>\n",
       "      <td>0</td>\n",
       "      <td>1</td>\n",
       "      <td>Minor_Uninjured</td>\n",
       "      <td>Uninjured</td>\n",
       "      <td>199</td>\n",
       "      <td>large</td>\n",
       "      <td>1.00</td>\n",
       "      <td>Other</td>\n",
       "    </tr>\n",
       "    <tr>\n",
       "      <th>87600</th>\n",
       "      <td>Accident</td>\n",
       "      <td>2022-03-29</td>\n",
       "      <td>Kleko,</td>\n",
       "      <td>Poland</td>\n",
       "      <td>NaN</td>\n",
       "      <td>NaN</td>\n",
       "      <td>None</td>\n",
       "      <td>None</td>\n",
       "      <td>Fatal</td>\n",
       "      <td>Substantial</td>\n",
       "      <td>Airplane</td>\n",
       "      <td>Sachse Stephan</td>\n",
       "      <td>AVENTURA II</td>\n",
       "      <td>No</td>\n",
       "      <td>one</td>\n",
       "      <td>UNKNOWN</td>\n",
       "      <td>UNKNOWN</td>\n",
       "      <td>NaN</td>\n",
       "      <td>1</td>\n",
       "      <td>0</td>\n",
       "      <td>0</td>\n",
       "      <td>0</td>\n",
       "      <td>UNKNOWN</td>\n",
       "      <td>UNKNOWN</td>\n",
       "      <td>NaN</td>\n",
       "      <td>2022</td>\n",
       "      <td>Mar</td>\n",
       "      <td>Tue</td>\n",
       "      <td>False</td>\n",
       "      <td>Other</td>\n",
       "      <td>None</td>\n",
       "      <td>1</td>\n",
       "      <td>0</td>\n",
       "      <td>0</td>\n",
       "      <td>0</td>\n",
       "      <td>Fatal_Injured</td>\n",
       "      <td>Fatal</td>\n",
       "      <td>1</td>\n",
       "      <td>small</td>\n",
       "      <td>0.00</td>\n",
       "      <td>Other</td>\n",
       "    </tr>\n",
       "    <tr>\n",
       "      <th>87895</th>\n",
       "      <td>Accident</td>\n",
       "      <td>2022-06-02</td>\n",
       "      <td>Klobuck,</td>\n",
       "      <td>Poland</td>\n",
       "      <td>NaN</td>\n",
       "      <td>NaN</td>\n",
       "      <td>None</td>\n",
       "      <td>None</td>\n",
       "      <td>Fatal</td>\n",
       "      <td>Destroyed</td>\n",
       "      <td>Airplane</td>\n",
       "      <td>Cessna</td>\n",
       "      <td>152</td>\n",
       "      <td>No</td>\n",
       "      <td>UNKNOWN</td>\n",
       "      <td>UNKNOWN</td>\n",
       "      <td>UNKNOWN</td>\n",
       "      <td>NaN</td>\n",
       "      <td>2</td>\n",
       "      <td>0</td>\n",
       "      <td>0</td>\n",
       "      <td>0</td>\n",
       "      <td>UNKNOWN</td>\n",
       "      <td>UNKNOWN</td>\n",
       "      <td>NaN</td>\n",
       "      <td>2022</td>\n",
       "      <td>Jun</td>\n",
       "      <td>Thu</td>\n",
       "      <td>False</td>\n",
       "      <td>Cessna</td>\n",
       "      <td>None</td>\n",
       "      <td>1</td>\n",
       "      <td>0</td>\n",
       "      <td>0</td>\n",
       "      <td>0</td>\n",
       "      <td>Fatal_Injured</td>\n",
       "      <td>Fatal</td>\n",
       "      <td>2</td>\n",
       "      <td>small</td>\n",
       "      <td>0.00</td>\n",
       "      <td>Other</td>\n",
       "    </tr>\n",
       "    <tr>\n",
       "      <th>88034</th>\n",
       "      <td>Accident</td>\n",
       "      <td>2022-06-24</td>\n",
       "      <td>Bielsko Biala,</td>\n",
       "      <td>Poland</td>\n",
       "      <td>NaN</td>\n",
       "      <td>NaN</td>\n",
       "      <td>None</td>\n",
       "      <td>None</td>\n",
       "      <td>Non-Fatal</td>\n",
       "      <td>Substantial</td>\n",
       "      <td>Airplane</td>\n",
       "      <td>Cessna</td>\n",
       "      <td>TU206G</td>\n",
       "      <td>No</td>\n",
       "      <td>UNKNOWN</td>\n",
       "      <td>UNKNOWN</td>\n",
       "      <td>UNKNOWN</td>\n",
       "      <td>NaN</td>\n",
       "      <td>0</td>\n",
       "      <td>0</td>\n",
       "      <td>0</td>\n",
       "      <td>6</td>\n",
       "      <td>UNKNOWN</td>\n",
       "      <td>UNKNOWN</td>\n",
       "      <td>NaN</td>\n",
       "      <td>2022</td>\n",
       "      <td>Jun</td>\n",
       "      <td>Fri</td>\n",
       "      <td>False</td>\n",
       "      <td>Cessna</td>\n",
       "      <td>None</td>\n",
       "      <td>0</td>\n",
       "      <td>0</td>\n",
       "      <td>0</td>\n",
       "      <td>1</td>\n",
       "      <td>Minor_Uninjured</td>\n",
       "      <td>Uninjured</td>\n",
       "      <td>6</td>\n",
       "      <td>medium</td>\n",
       "      <td>1.00</td>\n",
       "      <td>Other</td>\n",
       "    </tr>\n",
       "    <tr>\n",
       "      <th>88300</th>\n",
       "      <td>Accident</td>\n",
       "      <td>2022-08-03</td>\n",
       "      <td>Piotrk�w Trybunalski,</td>\n",
       "      <td>Poland</td>\n",
       "      <td>512235N</td>\n",
       "      <td>0019410E</td>\n",
       "      <td>None</td>\n",
       "      <td>None</td>\n",
       "      <td>Fatal</td>\n",
       "      <td>Destroyed</td>\n",
       "      <td>Airplane</td>\n",
       "      <td>Short</td>\n",
       "      <td>SC7</td>\n",
       "      <td>No</td>\n",
       "      <td>UNKNOWN</td>\n",
       "      <td>UNKNOWN</td>\n",
       "      <td>UNKNOWN</td>\n",
       "      <td>NaN</td>\n",
       "      <td>2</td>\n",
       "      <td>0</td>\n",
       "      <td>0</td>\n",
       "      <td>0</td>\n",
       "      <td>UNKNOWN</td>\n",
       "      <td>UNKNOWN</td>\n",
       "      <td>NaN</td>\n",
       "      <td>2022</td>\n",
       "      <td>Aug</td>\n",
       "      <td>Wed</td>\n",
       "      <td>False</td>\n",
       "      <td>Other</td>\n",
       "      <td>None</td>\n",
       "      <td>1</td>\n",
       "      <td>0</td>\n",
       "      <td>0</td>\n",
       "      <td>0</td>\n",
       "      <td>Fatal_Injured</td>\n",
       "      <td>Fatal</td>\n",
       "      <td>2</td>\n",
       "      <td>small</td>\n",
       "      <td>0.00</td>\n",
       "      <td>Other</td>\n",
       "    </tr>\n",
       "  </tbody>\n",
       "</table>\n",
       "</div>"
      ],
      "text/plain": [
       "      Investigation.Type Event.Date                    Location Country  \\\n",
       "38191           Accident 1995-08-28              POZNAN, Poland  Poland   \n",
       "59368           Accident 2005-08-20       NADRYBIE DWOR, POLAND  Poland   \n",
       "61410           Accident 2006-09-13             SUWALKI, POLAND  Poland   \n",
       "63641           Accident 2007-10-28            KATOWICE, POLAND  Poland   \n",
       "68432           Incident 2010-07-01              Warsaw, Poland  Poland   \n",
       "69180           Accident 2010-11-03            Sekowice, Poland  Poland   \n",
       "70162           Accident 2011-06-18       Plock Vistula, Poland  Poland   \n",
       "71022           Accident 2011-11-01              Warsaw, Poland  Poland   \n",
       "71071           Accident 2011-11-13            Katowice, Poland  Poland   \n",
       "71700           Accident 2012-05-01            Warszawa, Poland  Poland   \n",
       "73289           Incident 2013-03-12            Katowice, Poland  Poland   \n",
       "73602           Accident 2013-05-23          Babia Gora, Poland  Poland   \n",
       "74247           Accident 2013-09-13             Wygonin, Poland  Poland   \n",
       "74364           Accident 2013-10-12        Wolica Kozia, Poland  Poland   \n",
       "75378           Accident 2014-07-05       Czestochowska, Poland  Poland   \n",
       "76962           Accident 2015-07-17  Golub-Dobrzyn City, Poland  Poland   \n",
       "77195           Accident 2015-08-22     Natolin village, Poland  Poland   \n",
       "78062           Accident 2016-04-07             Suwalki, Poland  Poland   \n",
       "78909           Accident 2016-09-06             Rzeszow, Poland  Poland   \n",
       "81892           Accident 2018-07-11             Domecko, Poland  Poland   \n",
       "84958           Accident 2020-06-30       Strzegom city, Poland  Poland   \n",
       "85661           Incident 2020-12-05            Katowice, Poland  Poland   \n",
       "86521           Accident 2021-07-06           Mikolajki, Poland  Poland   \n",
       "87257           Accident 2021-12-11            Silesian, Poland  Poland   \n",
       "87261           Accident 2021-12-12                  Szadek, OF  Poland   \n",
       "87287           Incident 2022-01-02                    Warsaw,   Poland   \n",
       "87600           Accident 2022-03-29                     Kleko,   Poland   \n",
       "87895           Accident 2022-06-02                   Klobuck,   Poland   \n",
       "88034           Accident 2022-06-24             Bielsko Biala,   Poland   \n",
       "88300           Accident 2022-08-03      Piotrk�w Trybunalski,   Poland   \n",
       "\n",
       "      Latitude Longitude Airport.Code              Airport.Name  \\\n",
       "38191      NaN       NaN         None                      None   \n",
       "59368      NaN       NaN         None                      None   \n",
       "61410      NaN       NaN         None                      None   \n",
       "63641      NaN       NaN         None                      None   \n",
       "68432      NaN       NaN         EPWA           Warszawa-Okecie   \n",
       "69180      NaN       NaN         None                      None   \n",
       "70162  523229N  0194051W         None                      None   \n",
       "71022      NaN       NaN         EPWA  Warszawa-Fr�D�Ric Chopin   \n",
       "71071  502732N  0185726E         None                      None   \n",
       "71700      NaN       NaN         None                      None   \n",
       "73289      NaN       NaN         None                      None   \n",
       "73602  049350N  0019320E         None                      None   \n",
       "74247  535821N  0018823E         None                      None   \n",
       "74364  052545N  0172635E         None                      None   \n",
       "75378      NaN       NaN         None                      None   \n",
       "76962  053626N  0019314E         None                      None   \n",
       "77195      NaN       NaN         None                      None   \n",
       "78062  054320N  0225412E         None                      None   \n",
       "78909  050644N  0022137E         None                      None   \n",
       "81892  503728N  0175125E         None                      None   \n",
       "84958      NaN       NaN         None                      None   \n",
       "85661      NaN       NaN          KTW          Katowice Airport   \n",
       "86521      NaN       NaN         None                      None   \n",
       "87257      NaN       NaN         None                      None   \n",
       "87261      NaN       NaN         None                      None   \n",
       "87287      NaN       NaN         None                      None   \n",
       "87600      NaN       NaN         None                      None   \n",
       "87895      NaN       NaN         None                      None   \n",
       "88034      NaN       NaN         None                      None   \n",
       "88300  512235N  0019410E         None                      None   \n",
       "\n",
       "      Injury.Severity Aircraft.damage Aircraft.Category                Make  \\\n",
       "38191           Fatal         UNKNOWN           UNKNOWN               Piper   \n",
       "59368           Fatal     Substantial           UNKNOWN             Unknown   \n",
       "61410       Non-Fatal     Substantial           UNKNOWN               Piper   \n",
       "63641       Non-Fatal     Substantial           UNKNOWN              Boeing   \n",
       "68432       Non-Fatal           Minor          Airplane              Fokker   \n",
       "69180           Fatal       Destroyed          Airplane               Piper   \n",
       "70162           Fatal     Substantial          Airplane  Shannon James A Jr   \n",
       "71022       Non-Fatal     Substantial          Airplane              Boeing   \n",
       "71071           Fatal     Substantial          Airplane              Cirrus   \n",
       "71700           Fatal     Substantial           UNKNOWN             Unknown   \n",
       "73289       Non-Fatal         UNKNOWN           UNKNOWN              Boeing   \n",
       "73602           Fatal       Destroyed          Airplane               Piper   \n",
       "74247           Fatal       Destroyed        Helicopter            Robinson   \n",
       "74364           Fatal     Substantial        Helicopter             Enstrom   \n",
       "75378           Fatal       Destroyed          Airplane               Piper   \n",
       "76962           Fatal       Destroyed          Airplane              3Xtrim   \n",
       "77195       Non-Fatal       Destroyed        Helicopter            Robinson   \n",
       "78062       Non-Fatal     Substantial        Helicopter   Mcdonnell Douglas   \n",
       "78909       Non-Fatal     Substantial        Helicopter             Unknown   \n",
       "81892           Fatal       Destroyed        Helicopter            Robinson   \n",
       "84958           Fatal       Destroyed        Helicopter            Robinson   \n",
       "85661       Non-Fatal           Minor          Airplane              Boeing   \n",
       "86521       Non-Fatal         UNKNOWN        Helicopter            Robinson   \n",
       "87257       Non-Fatal         UNKNOWN           UNKNOWN           Schweizer   \n",
       "87261           Fatal         UNKNOWN           UNKNOWN                Rans   \n",
       "87287       Non-Fatal         UNKNOWN          Airplane              Boeing   \n",
       "87600           Fatal     Substantial          Airplane      Sachse Stephan   \n",
       "87895           Fatal       Destroyed          Airplane              Cessna   \n",
       "88034       Non-Fatal     Substantial          Airplane              Cessna   \n",
       "88300           Fatal       Destroyed          Airplane               Short   \n",
       "\n",
       "                   Model Amateur.Built Number.of.Engines    Engine.Type  \\\n",
       "38191         PA-34-200T            No               tw0  Reciprocating   \n",
       "59368          Vans RV-6           Yes           UNKNOWN        UNKNOWN   \n",
       "61410         PA-46-350P            No           UNKNOWN        UNKNOWN   \n",
       "63641            737-800            No           UNKNOWN        UNKNOWN   \n",
       "68432                F28            No               tw0        UNKNOWN   \n",
       "69180               PA46            No               one        UNKNOWN   \n",
       "70162     AVIAT EAGLE II           Yes               one  Reciprocating   \n",
       "71022                767            No           UNKNOWN        UNKNOWN   \n",
       "71071               SR22            No           UNKNOWN  Reciprocating   \n",
       "71700            UNKNOWN            No           UNKNOWN        UNKNOWN   \n",
       "73289                737            No           UNKNOWN        UNKNOWN   \n",
       "73602              PA-34            No           UNKNOWN        UNKNOWN   \n",
       "74247                R44            No               one  Reciprocating   \n",
       "74364           280 - FX            No           UNKNOWN        UNKNOWN   \n",
       "75378             PA 31P            No               tw0  Reciprocating   \n",
       "76962          450 ULTRA            No               one  Reciprocating   \n",
       "77195                R44            No           UNKNOWN        UNKNOWN   \n",
       "78062               369E            No           UNKNOWN        UNKNOWN   \n",
       "78909  Hummingbird 300LS           Yes           UNKNOWN        UNKNOWN   \n",
       "81892                R44            No               one  Reciprocating   \n",
       "84958                R22            No           UNKNOWN        UNKNOWN   \n",
       "85661                737            No               tw0        UNKNOWN   \n",
       "86521                R44            No           UNKNOWN        UNKNOWN   \n",
       "87257               269C            No           UNKNOWN        UNKNOWN   \n",
       "87261                S12            No           UNKNOWN        UNKNOWN   \n",
       "87287                787            No           UNKNOWN        UNKNOWN   \n",
       "87600        AVENTURA II            No               one        UNKNOWN   \n",
       "87895                152            No           UNKNOWN        UNKNOWN   \n",
       "88034             TU206G            No           UNKNOWN        UNKNOWN   \n",
       "88300                SC7            No           UNKNOWN        UNKNOWN   \n",
       "\n",
       "      Purpose.of.flight             Air.carrier  Total.Fatal.Injuries  \\\n",
       "38191           UNKNOWN                     NaN                     6   \n",
       "59368           UNKNOWN                     NaN                     2   \n",
       "61410          Personal                     NaN                     0   \n",
       "63641           UNKNOWN                     NaN                     0   \n",
       "68432           UNKNOWN             Contact Air                     0   \n",
       "69180          Personal                     NaN                     2   \n",
       "70162             Other             Marek Szufa                     1   \n",
       "71022           UNKNOWN  POLSKIE LINIE LOTNICZE                     0   \n",
       "71071           UNKNOWN                 Private                     4   \n",
       "71700          Personal                     NaN                     2   \n",
       "73289           UNKNOWN                     NaN                     0   \n",
       "73602          Personal            Phinanace SA                     3   \n",
       "74247           UNKNOWN             WINDPROJEKT                     3   \n",
       "74364           UNKNOWN                     NaN                     2   \n",
       "75378           UNKNOWN                     NaN                    11   \n",
       "76962           UNKNOWN                     NaN                     1   \n",
       "77195           UNKNOWN                     NaN                     0   \n",
       "78062           UNKNOWN                     NaN                     0   \n",
       "78909           UNKNOWN                     NaN                     0   \n",
       "81892           UNKNOWN                 Private                     2   \n",
       "84958           UNKNOWN                     NaN                     2   \n",
       "85661          Business               Cargo Air                     0   \n",
       "86521           UNKNOWN                     NaN                     0   \n",
       "87257           UNKNOWN                     NaN                     0   \n",
       "87261           UNKNOWN                     NaN                     1   \n",
       "87287           UNKNOWN     LOT Polish Airlines                     0   \n",
       "87600           UNKNOWN                     NaN                     1   \n",
       "87895           UNKNOWN                     NaN                     2   \n",
       "88034           UNKNOWN                     NaN                     0   \n",
       "88300           UNKNOWN                     NaN                     2   \n",
       "\n",
       "       Total.Serious.Injuries  Total.Minor.Injuries  Total.Uninjured  \\\n",
       "38191                       0                     0                0   \n",
       "59368                       0                     0                0   \n",
       "61410                       0                     0                2   \n",
       "63641                       0                     0              122   \n",
       "68432                       0                     0               88   \n",
       "69180                       0                     0                0   \n",
       "70162                       0                     0                0   \n",
       "71022                       0                     0              231   \n",
       "71071                       0                     0                0   \n",
       "71700                       0                     0                0   \n",
       "73289                       0                     0              185   \n",
       "73602                       0                     0                0   \n",
       "74247                       0                     0                0   \n",
       "74364                       0                     0                0   \n",
       "75378                       0                     1                0   \n",
       "76962                       0                     1                0   \n",
       "77195                       1                     0                1   \n",
       "78062                       0                     2                0   \n",
       "78909                       0                     0                1   \n",
       "81892                       0                     1                0   \n",
       "84958                       0                     0                0   \n",
       "85661                       0                     0                2   \n",
       "86521                       0                     3                0   \n",
       "87257                       0                     0                2   \n",
       "87261                       0                     1                0   \n",
       "87287                       0                     0              199   \n",
       "87600                       0                     0                0   \n",
       "87895                       0                     0                0   \n",
       "88034                       0                     0                6   \n",
       "88300                       0                     0                0   \n",
       "\n",
       "      Weather.Condition Broad.phase.of.flight Report.Status  Year Month.Abbr  \\\n",
       "38191           UNKNOWN               UNKNOWN       Foreign  1995        Aug   \n",
       "59368               IMC               UNKNOWN       Foreign  2005        Aug   \n",
       "61410           UNKNOWN               UNKNOWN       Foreign  2006        Sep   \n",
       "63641           UNKNOWN               UNKNOWN       Foreign  2007        Oct   \n",
       "68432           UNKNOWN               UNKNOWN           NaN  2010        Jul   \n",
       "69180           UNKNOWN               UNKNOWN           NaN  2010        Nov   \n",
       "70162           UNKNOWN               UNKNOWN           NaN  2011        Jun   \n",
       "71022           UNKNOWN               UNKNOWN           NaN  2011        Nov   \n",
       "71071               IMC               UNKNOWN           NaN  2011        Nov   \n",
       "71700           UNKNOWN               UNKNOWN           NaN  2012        May   \n",
       "73289           UNKNOWN               UNKNOWN           NaN  2013        Mar   \n",
       "73602           UNKNOWN               UNKNOWN           NaN  2013        May   \n",
       "74247               IMC               UNKNOWN           NaN  2013        Sep   \n",
       "74364           UNKNOWN               UNKNOWN           NaN  2013        Oct   \n",
       "75378           UNKNOWN               UNKNOWN           NaN  2014        Jul   \n",
       "76962           UNKNOWN               UNKNOWN           NaN  2015        Jul   \n",
       "77195           UNKNOWN               UNKNOWN           NaN  2015        Aug   \n",
       "78062           UNKNOWN               UNKNOWN           NaN  2016        Apr   \n",
       "78909           UNKNOWN               UNKNOWN           NaN  2016        Sep   \n",
       "81892           UNKNOWN               UNKNOWN           NaN  2018        Jul   \n",
       "84958           UNKNOWN               UNKNOWN           NaN  2020        Jun   \n",
       "85661           UNKNOWN               UNKNOWN           NaN  2020        Dec   \n",
       "86521           UNKNOWN               UNKNOWN           NaN  2021        Jul   \n",
       "87257           UNKNOWN               UNKNOWN           NaN  2021        Dec   \n",
       "87261           UNKNOWN               UNKNOWN           NaN  2021        Dec   \n",
       "87287           UNKNOWN               UNKNOWN           NaN  2022        Jan   \n",
       "87600           UNKNOWN               UNKNOWN           NaN  2022        Mar   \n",
       "87895           UNKNOWN               UNKNOWN           NaN  2022        Jun   \n",
       "88034           UNKNOWN               UNKNOWN           NaN  2022        Jun   \n",
       "88300           UNKNOWN               UNKNOWN           NaN  2022        Aug   \n",
       "\n",
       "      Day.Name.Abbr Weekend         Make_class Airport_Class  Fatal_binary  \\\n",
       "38191           Mon   False              Piper          None             1   \n",
       "59368           Sat    True              Other          None             1   \n",
       "61410           Wed   False              Piper          None             0   \n",
       "63641           Sun    True             Boeing          None             0   \n",
       "68432           Thu   False              Other       Airport             0   \n",
       "69180           Wed   False              Piper          None             1   \n",
       "70162           Sat    True              Other          None             1   \n",
       "71022           Tue   False             Boeing       Airport             0   \n",
       "71071           Sun    True             Cirrus          None             1   \n",
       "71700           Tue   False              Other          None             1   \n",
       "73289           Tue   False             Boeing          None             0   \n",
       "73602           Thu   False              Piper          None             1   \n",
       "74247           Fri   False           Robinson          None             1   \n",
       "74364           Sat    True              Other          None             1   \n",
       "75378           Sat    True              Piper          None             1   \n",
       "76962           Fri   False              Other          None             1   \n",
       "77195           Sat    True           Robinson          None             0   \n",
       "78062           Thu   False  Mcdonnell Douglas          None             0   \n",
       "78909           Tue   False              Other          None             0   \n",
       "81892           Wed   False           Robinson          None             1   \n",
       "84958           Tue   False           Robinson          None             1   \n",
       "85661           Sat    True             Boeing       Airport             0   \n",
       "86521           Tue   False           Robinson          None             0   \n",
       "87257           Sat    True              Other          None             0   \n",
       "87261           Sun    True              Other          None             1   \n",
       "87287           Sun    True             Boeing          None             0   \n",
       "87600           Tue   False              Other          None             1   \n",
       "87895           Thu   False             Cessna          None             1   \n",
       "88034           Fri   False             Cessna          None             0   \n",
       "88300           Wed   False              Other          None             1   \n",
       "\n",
       "       Serious_binary  Minor_binary  Uninjured_binary    Target_binary  \\\n",
       "38191               0             0                 0    Fatal_Injured   \n",
       "59368               0             0                 0    Fatal_Injured   \n",
       "61410               0             0                 1  Minor_Uninjured   \n",
       "63641               0             0                 1  Minor_Uninjured   \n",
       "68432               0             0                 1  Minor_Uninjured   \n",
       "69180               0             0                 0    Fatal_Injured   \n",
       "70162               0             0                 0    Fatal_Injured   \n",
       "71022               0             0                 1  Minor_Uninjured   \n",
       "71071               0             0                 0    Fatal_Injured   \n",
       "71700               0             0                 0    Fatal_Injured   \n",
       "73289               0             0                 1  Minor_Uninjured   \n",
       "73602               0             0                 0    Fatal_Injured   \n",
       "74247               0             0                 0    Fatal_Injured   \n",
       "74364               0             0                 0    Fatal_Injured   \n",
       "75378               0             1                 0    Fatal_Injured   \n",
       "76962               0             1                 0    Fatal_Injured   \n",
       "77195               1             0                 1    Fatal_Injured   \n",
       "78062               0             1                 0  Minor_Uninjured   \n",
       "78909               0             0                 1  Minor_Uninjured   \n",
       "81892               0             1                 0    Fatal_Injured   \n",
       "84958               0             0                 0    Fatal_Injured   \n",
       "85661               0             0                 1  Minor_Uninjured   \n",
       "86521               0             1                 0  Minor_Uninjured   \n",
       "87257               0             0                 1  Minor_Uninjured   \n",
       "87261               0             1                 0    Fatal_Injured   \n",
       "87287               0             0                 1  Minor_Uninjured   \n",
       "87600               0             0                 0    Fatal_Injured   \n",
       "87895               0             0                 0    Fatal_Injured   \n",
       "88034               0             0                 1  Minor_Uninjured   \n",
       "88300               0             0                 0    Fatal_Injured   \n",
       "\n",
       "      Target_column  Total_passangers Airplane_size  survival_rate  \\\n",
       "38191         Fatal                 6        medium           0.00   \n",
       "59368         Fatal                 2         small           0.00   \n",
       "61410     Uninjured                 2         small           1.00   \n",
       "63641     Uninjured               122         large           1.00   \n",
       "68432     Uninjured                88         large           1.00   \n",
       "69180         Fatal                 2         small           0.00   \n",
       "70162         Fatal                 1         small           0.00   \n",
       "71022     Uninjured               231         large           1.00   \n",
       "71071         Fatal                 4        medium           0.00   \n",
       "71700         Fatal                 2         small           0.00   \n",
       "73289     Uninjured               185         large           1.00   \n",
       "73602         Fatal                 3        medium           0.00   \n",
       "74247         Fatal                 3        medium           0.00   \n",
       "74364         Fatal                 2         small           0.00   \n",
       "75378         Fatal                12        medium           0.08   \n",
       "76962         Fatal                 2         small           0.50   \n",
       "77195       Injured                 2         small           1.00   \n",
       "78062       Injured                 2         small           1.00   \n",
       "78909     Uninjured                 1         small           1.00   \n",
       "81892         Fatal                 3        medium           0.33   \n",
       "84958         Fatal                 2         small           0.00   \n",
       "85661     Uninjured                 2         small           1.00   \n",
       "86521       Injured                 3        medium           1.00   \n",
       "87257     Uninjured                 2         small           1.00   \n",
       "87261         Fatal                 2         small           0.50   \n",
       "87287     Uninjured               199         large           1.00   \n",
       "87600         Fatal                 1         small           0.00   \n",
       "87895         Fatal                 2         small           0.00   \n",
       "88034     Uninjured                 6        medium           1.00   \n",
       "88300         Fatal                 2         small           0.00   \n",
       "\n",
       "      Country_class  \n",
       "38191         Other  \n",
       "59368         Other  \n",
       "61410         Other  \n",
       "63641         Other  \n",
       "68432         Other  \n",
       "69180         Other  \n",
       "70162         Other  \n",
       "71022         Other  \n",
       "71071         Other  \n",
       "71700         Other  \n",
       "73289         Other  \n",
       "73602         Other  \n",
       "74247         Other  \n",
       "74364         Other  \n",
       "75378         Other  \n",
       "76962         Other  \n",
       "77195         Other  \n",
       "78062         Other  \n",
       "78909         Other  \n",
       "81892         Other  \n",
       "84958         Other  \n",
       "85661         Other  \n",
       "86521         Other  \n",
       "87257         Other  \n",
       "87261         Other  \n",
       "87287         Other  \n",
       "87600         Other  \n",
       "87895         Other  \n",
       "88034         Other  \n",
       "88300         Other  "
      ]
     },
     "execution_count": 109,
     "metadata": {},
     "output_type": "execute_result"
    }
   ],
   "source": [
    "df_all[df_all['Country']=='Poland']"
   ]
  },
  {
   "cell_type": "code",
   "execution_count": null,
   "id": "1a57d08d-4d8b-479d-ad1f-ebaba8c6a624",
   "metadata": {},
   "outputs": [],
   "source": []
  },
  {
   "cell_type": "code",
   "execution_count": 110,
   "id": "d184e443-de45-452f-98cf-9a411b0adf44",
   "metadata": {},
   "outputs": [
    {
     "data": {
      "text/plain": [
       "Index(['Investigation.Type', 'Event.Date', 'Location', 'Country', 'Latitude',\n",
       "       'Longitude', 'Airport.Code', 'Airport.Name', 'Injury.Severity',\n",
       "       'Aircraft.damage', 'Aircraft.Category', 'Make', 'Model',\n",
       "       'Amateur.Built', 'Number.of.Engines', 'Engine.Type',\n",
       "       'Purpose.of.flight', 'Air.carrier', 'Total.Fatal.Injuries',\n",
       "       'Total.Serious.Injuries', 'Total.Minor.Injuries', 'Total.Uninjured',\n",
       "       'Weather.Condition', 'Broad.phase.of.flight', 'Report.Status', 'Year',\n",
       "       'Month.Abbr', 'Day.Name.Abbr', 'Weekend', 'Make_class', 'Airport_Class',\n",
       "       'Fatal_binary', 'Serious_binary', 'Minor_binary', 'Uninjured_binary',\n",
       "       'Target_binary', 'Target_column', 'Total_passangers', 'Airplane_size',\n",
       "       'survival_rate', 'Country_class'],\n",
       "      dtype='object')"
      ]
     },
     "execution_count": 110,
     "metadata": {},
     "output_type": "execute_result"
    }
   ],
   "source": [
    "df_all.columns"
   ]
  },
  {
   "cell_type": "code",
   "execution_count": 111,
   "id": "5cd7a6a9-e2ad-4fbb-b9a3-a05a6fcac63f",
   "metadata": {},
   "outputs": [
    {
     "data": {
      "text/plain": [
       "Fatal        2729\n",
       "Uninjured    1816\n",
       "Injured       803\n",
       "Name: Target_column, dtype: int64"
      ]
     },
     "execution_count": 111,
     "metadata": {},
     "output_type": "execute_result"
    }
   ],
   "source": [
    "df_all['Target_column'].value_counts()"
   ]
  },
  {
   "cell_type": "code",
   "execution_count": 112,
   "id": "3e4dd4be-81ab-4950-a354-dfd52b29b966",
   "metadata": {},
   "outputs": [
    {
     "data": {
      "text/plain": [
       "Fatal_Injured      3177\n",
       "Minor_Uninjured    2171\n",
       "Name: Target_binary, dtype: int64"
      ]
     },
     "execution_count": 112,
     "metadata": {},
     "output_type": "execute_result"
    }
   ],
   "source": [
    "df_all['Target_binary'].value_counts()"
   ]
  },
  {
   "cell_type": "code",
   "execution_count": 113,
   "id": "4a3015a1-314a-40bd-aca1-e00cca8e78bc",
   "metadata": {},
   "outputs": [
    {
     "data": {
      "text/plain": [
       "Substantial    2190\n",
       "Destroyed      2049\n",
       "UNKNOWN         708\n",
       "Minor           401\n",
       "Name: Aircraft.damage, dtype: int64"
      ]
     },
     "execution_count": 113,
     "metadata": {},
     "output_type": "execute_result"
    }
   ],
   "source": [
    "df_all['Aircraft.damage'].value_counts()"
   ]
  },
  {
   "cell_type": "code",
   "execution_count": 114,
   "id": "ce67b4a1-0361-4efb-bc31-c90cb6f54ce9",
   "metadata": {},
   "outputs": [
    {
     "data": {
      "text/plain": [
       "1.00    2621\n",
       "0.00    2112\n",
       "0.50     197\n",
       "0.67      64\n",
       "0.33      59\n",
       "        ... \n",
       "0.95       1\n",
       "0.77       1\n",
       "0.37       1\n",
       "0.62       1\n",
       "0.49       1\n",
       "Name: survival_rate, Length: 73, dtype: int64"
      ]
     },
     "execution_count": 114,
     "metadata": {},
     "output_type": "execute_result"
    }
   ],
   "source": [
    "df_all['survival_rate'].value_counts()"
   ]
  },
  {
   "cell_type": "code",
   "execution_count": 115,
   "id": "8fd9b243-9dd6-4fbd-9143-839e55a5b21f",
   "metadata": {},
   "outputs": [
    {
     "data": {
      "text/plain": [
       "No         5168\n",
       "Yes         136\n",
       "UNKNOWN      44\n",
       "Name: Amateur.Built, dtype: int64"
      ]
     },
     "execution_count": 115,
     "metadata": {},
     "output_type": "execute_result"
    }
   ],
   "source": [
    "df_all['Amateur.Built'].value_counts()"
   ]
  },
  {
   "cell_type": "code",
   "execution_count": 116,
   "id": "a8b4491e-0e5f-41ec-86e9-47c04be12221",
   "metadata": {},
   "outputs": [
    {
     "data": {
      "text/plain": [
       "UNKNOWN          3307\n",
       "one              1117\n",
       "tw0               803\n",
       "three_to_four     121\n",
       "Name: Number.of.Engines, dtype: int64"
      ]
     },
     "execution_count": 116,
     "metadata": {},
     "output_type": "execute_result"
    }
   ],
   "source": [
    "df_all['Number.of.Engines'].value_counts()"
   ]
  },
  {
   "cell_type": "code",
   "execution_count": 117,
   "id": "ac91e2bb-368b-47dd-8dc7-2c773153f163",
   "metadata": {},
   "outputs": [
    {
     "data": {
      "text/plain": [
       "UNKNOWN          3624\n",
       "Reciprocating     987\n",
       "Turbo Fan         276\n",
       "Turbo Shaft       257\n",
       "Turbo Prop        169\n",
       "Turbo Jet          35\n",
       "Name: Engine.Type, dtype: int64"
      ]
     },
     "execution_count": 117,
     "metadata": {},
     "output_type": "execute_result"
    }
   ],
   "source": [
    "df_all['Engine.Type'].value_counts()"
   ]
  },
  {
   "cell_type": "code",
   "execution_count": 118,
   "id": "2f28230d-1a4a-4af3-9cb3-7c38741fcd38",
   "metadata": {},
   "outputs": [
    {
     "data": {
      "text/plain": [
       "UNKNOWN               3642\n",
       "Personal               854\n",
       "Business               197\n",
       "Instructional          162\n",
       "Other                  121\n",
       "Aerial Observation      85\n",
       "Aerial Application      83\n",
       "Positioning             77\n",
       "Ferry                   76\n",
       "Public Aircraft         38\n",
       "Flight Test             13\n",
       "Name: Purpose.of.flight, dtype: int64"
      ]
     },
     "execution_count": 118,
     "metadata": {},
     "output_type": "execute_result"
    }
   ],
   "source": [
    "df_all['Purpose.of.flight'].value_counts()"
   ]
  },
  {
   "cell_type": "code",
   "execution_count": 119,
   "id": "670cb760-9682-4292-b1bb-1c1cd6e2f739",
   "metadata": {},
   "outputs": [
    {
     "data": {
      "text/plain": [
       "UNKNOWN        4854\n",
       "Cruise          185\n",
       "Takeoff          79\n",
       "Landing          58\n",
       "Maneuvering      44\n",
       "Approach         41\n",
       "Climb            28\n",
       "Descent          23\n",
       "Standing         18\n",
       "Taxi             15\n",
       "Go-around         3\n",
       "Name: Broad.phase.of.flight, dtype: int64"
      ]
     },
     "execution_count": 119,
     "metadata": {},
     "output_type": "execute_result"
    }
   ],
   "source": [
    "df_all['Broad.phase.of.flight'].value_counts()"
   ]
  },
  {
   "cell_type": "code",
   "execution_count": 120,
   "id": "51402fb4-ac66-4fb7-9aca-3b2427192968",
   "metadata": {},
   "outputs": [
    {
     "data": {
      "text/plain": [
       "UNKNOWN    3163\n",
       "VMC        1843\n",
       "IMC         342\n",
       "Name: Weather.Condition, dtype: int64"
      ]
     },
     "execution_count": 120,
     "metadata": {},
     "output_type": "execute_result"
    }
   ],
   "source": [
    "df_all['Weather.Condition'].value_counts()"
   ]
  },
  {
   "cell_type": "code",
   "execution_count": 121,
   "id": "9bd6f3eb-7f5a-4769-9535-74cbf5e66015",
   "metadata": {},
   "outputs": [
    {
     "data": {
      "text/plain": [
       "Aug    533\n",
       "Jul    510\n",
       "Oct    470\n",
       "Jun    468\n",
       "Sep    467\n",
       "May    447\n",
       "Mar    431\n",
       "Feb    416\n",
       "Jan    415\n",
       "Nov    409\n",
       "Dec    392\n",
       "Apr    390\n",
       "Name: Month.Abbr, dtype: int64"
      ]
     },
     "execution_count": 121,
     "metadata": {},
     "output_type": "execute_result"
    }
   ],
   "source": [
    "df_all['Month.Abbr'].value_counts()"
   ]
  },
  {
   "cell_type": "code",
   "execution_count": 122,
   "id": "d88ec82d-7227-40dc-a930-9933bf223e2d",
   "metadata": {},
   "outputs": [
    {
     "data": {
      "text/plain": [
       "Sat    806\n",
       "Fri    801\n",
       "Sun    785\n",
       "Wed    780\n",
       "Mon    738\n",
       "Tue    726\n",
       "Thu    712\n",
       "Name: Day.Name.Abbr, dtype: int64"
      ]
     },
     "execution_count": 122,
     "metadata": {},
     "output_type": "execute_result"
    }
   ],
   "source": [
    "df_all['Day.Name.Abbr'].value_counts()"
   ]
  },
  {
   "cell_type": "code",
   "execution_count": 123,
   "id": "6fe7f60a-25f5-4ee8-86af-c59f10609216",
   "metadata": {},
   "outputs": [
    {
     "data": {
      "text/plain": [
       "Cessna               1206\n",
       "Other                1181\n",
       "Boeing                700\n",
       "Piper                 654\n",
       "Bell                  410\n",
       "Robinson              308\n",
       "Beech                 289\n",
       "Mcdonnell Douglas     154\n",
       "Airbus                110\n",
       "Cirrus                 77\n",
       "Embraer                63\n",
       "Sikorsky               57\n",
       "Hughes                 56\n",
       "Air Tractor            43\n",
       "De Havilland           40\n",
       "Name: Make_class, dtype: int64"
      ]
     },
     "execution_count": 123,
     "metadata": {},
     "output_type": "execute_result"
    }
   ],
   "source": [
    "df_all['Make_class'].value_counts()"
   ]
  },
  {
   "cell_type": "code",
   "execution_count": 124,
   "id": "53ff0748-12b8-41c8-83d2-e041d8862e4d",
   "metadata": {},
   "outputs": [
    {
     "data": {
      "text/plain": [
       "None       4486\n",
       "Airport     861\n",
       "Private       1\n",
       "Name: Airport_Class, dtype: int64"
      ]
     },
     "execution_count": 124,
     "metadata": {},
     "output_type": "execute_result"
    }
   ],
   "source": [
    "df_all['Airport_Class'].value_counts()"
   ]
  },
  {
   "cell_type": "code",
   "execution_count": 125,
   "id": "637d93bb-03bf-42cc-af51-2fd851587789",
   "metadata": {},
   "outputs": [
    {
     "data": {
      "text/plain": [
       "small     2529\n",
       "medium    2042\n",
       "large      777\n",
       "Name: Airplane_size, dtype: int64"
      ]
     },
     "execution_count": 125,
     "metadata": {},
     "output_type": "execute_result"
    }
   ],
   "source": [
    "df_all['Airplane_size'].value_counts()"
   ]
  },
  {
   "cell_type": "code",
   "execution_count": 126,
   "id": "5e2602ad-14bb-4265-9982-01a1f5e48692",
   "metadata": {},
   "outputs": [
    {
     "data": {
      "text/plain": [
       "Index(['Investigation.Type', 'Event.Date', 'Location', 'Country', 'Latitude',\n",
       "       'Longitude', 'Airport.Code', 'Airport.Name', 'Injury.Severity',\n",
       "       'Aircraft.damage', 'Aircraft.Category', 'Make', 'Model',\n",
       "       'Amateur.Built', 'Number.of.Engines', 'Engine.Type',\n",
       "       'Purpose.of.flight', 'Air.carrier', 'Total.Fatal.Injuries',\n",
       "       'Total.Serious.Injuries', 'Total.Minor.Injuries', 'Total.Uninjured',\n",
       "       'Weather.Condition', 'Broad.phase.of.flight', 'Report.Status', 'Year',\n",
       "       'Month.Abbr', 'Day.Name.Abbr', 'Weekend', 'Make_class', 'Airport_Class',\n",
       "       'Fatal_binary', 'Serious_binary', 'Minor_binary', 'Uninjured_binary',\n",
       "       'Target_binary', 'Target_column', 'Total_passangers', 'Airplane_size',\n",
       "       'survival_rate', 'City', 'State', 'State_mod'],\n",
       "      dtype='object')"
      ]
     },
     "execution_count": 126,
     "metadata": {},
     "output_type": "execute_result"
    }
   ],
   "source": [
    "df_US.columns"
   ]
  },
  {
   "cell_type": "code",
   "execution_count": 127,
   "id": "496ec564-00e0-42b7-b5a6-f05bc5b6c2e7",
   "metadata": {},
   "outputs": [],
   "source": [
    "df_US_ml = df_US.drop(columns = ['Investigation.Type', 'Event.Date', 'Location', 'Country', 'Latitude', 'Aircraft.Category','Total_passangers',\n",
    "       'Longitude', 'Airport.Code', 'Airport.Name', 'Injury.Severity','Model', 'Air.carrier', 'Total.Fatal.Injuries', 'Weekend',\n",
    "       'Total.Serious.Injuries', 'Total.Minor.Injuries', 'Total.Uninjured','Report.Status', 'Year','Make','Fatal_binary', 'Serious_binary', 'Minor_binary', 'Uninjured_binary','survival_rate', 'City', 'State'], axis=1)"
   ]
  },
  {
   "cell_type": "code",
   "execution_count": 128,
   "id": "a4ad9162-d1f2-44f1-8533-ef85a72b0f04",
   "metadata": {},
   "outputs": [
    {
     "data": {
      "text/plain": [
       "Index(['Aircraft.damage', 'Amateur.Built', 'Number.of.Engines', 'Engine.Type',\n",
       "       'Purpose.of.flight', 'Weather.Condition', 'Broad.phase.of.flight',\n",
       "       'Month.Abbr', 'Day.Name.Abbr', 'Make_class', 'Airport_Class',\n",
       "       'Target_binary', 'Target_column', 'Airplane_size', 'State_mod'],\n",
       "      dtype='object')"
      ]
     },
     "execution_count": 128,
     "metadata": {},
     "output_type": "execute_result"
    }
   ],
   "source": [
    "df_US_ml.columns"
   ]
  },
  {
   "cell_type": "markdown",
   "id": "ad3cb6cd-5c81-4f9a-98b1-74747c8588e4",
   "metadata": {},
   "source": [
    "### first dataset with Aircraft Damage as target column"
   ]
  },
  {
   "cell_type": "code",
   "execution_count": 129,
   "id": "aa65ac3e-744d-44f6-b6db-39180361cdb9",
   "metadata": {},
   "outputs": [
    {
     "data": {
      "text/plain": [
       "Substantial    57941\n",
       "Destroyed      15211\n",
       "Minor           1863\n",
       "UNKNOWN         1711\n",
       "Name: Aircraft.damage, dtype: int64"
      ]
     },
     "execution_count": 129,
     "metadata": {},
     "output_type": "execute_result"
    }
   ],
   "source": [
    "df_US_ml['Aircraft.damage'].value_counts()"
   ]
  },
  {
   "cell_type": "code",
   "execution_count": 130,
   "id": "b92e047f-5661-46bb-8cd5-ab189165af21",
   "metadata": {},
   "outputs": [],
   "source": [
    "X1 = df_US_ml[df_US_ml['Aircraft.damage']!='UNKNOWN']"
   ]
  },
  {
   "cell_type": "code",
   "execution_count": 131,
   "id": "332bb280-1c25-4537-b3e5-9a5c557efdc4",
   "metadata": {},
   "outputs": [
    {
     "data": {
      "text/plain": [
       "Substantial    57941\n",
       "Destroyed      15211\n",
       "Minor           1863\n",
       "Name: Aircraft.damage, dtype: int64"
      ]
     },
     "execution_count": 131,
     "metadata": {},
     "output_type": "execute_result"
    }
   ],
   "source": [
    "X1['Aircraft.damage'].value_counts()"
   ]
  },
  {
   "cell_type": "code",
   "execution_count": 132,
   "id": "d8337cc7-a8d1-4521-9c0e-efa538462328",
   "metadata": {},
   "outputs": [],
   "source": [
    "y1=X1['Aircraft.damage']"
   ]
  },
  {
   "cell_type": "code",
   "execution_count": 133,
   "id": "2dbb84d7-da7a-49ff-a9a1-626c46bb686c",
   "metadata": {},
   "outputs": [
    {
     "data": {
      "text/plain": [
       "(75015,)"
      ]
     },
     "execution_count": 133,
     "metadata": {},
     "output_type": "execute_result"
    }
   ],
   "source": [
    "y1.shape"
   ]
  },
  {
   "cell_type": "code",
   "execution_count": 203,
   "id": "0259a0a1-4bbc-4cbe-a97f-28db9d542825",
   "metadata": {},
   "outputs": [],
   "source": [
    "from sklearn.preprocessing import LabelEncoder\n",
    " \n",
    "# Creating a instance of label Encoder.\n",
    "le = LabelEncoder()\n",
    " \n",
    "# Using .fit_transform function to fit label\n",
    "# encoder and return encoded label\n",
    "y1_label = le.fit_transform(y1)"
   ]
  },
  {
   "cell_type": "code",
   "execution_count": 202,
   "id": "8bab68f6-6bf7-4930-a9be-e20e6c2704a8",
   "metadata": {},
   "outputs": [
    {
     "ename": "AttributeError",
     "evalue": "'numpy.ndarray' object has no attribute 'value_count'",
     "output_type": "error",
     "traceback": [
      "\u001b[1;31m---------------------------------------------------------------------------\u001b[0m",
      "\u001b[1;31mAttributeError\u001b[0m                            Traceback (most recent call last)",
      "\u001b[1;32m~\\AppData\\Local\\Temp\\ipykernel_6484\\521249822.py\u001b[0m in \u001b[0;36m<module>\u001b[1;34m\u001b[0m\n\u001b[1;32m----> 1\u001b[1;33m \u001b[0mlabel\u001b[0m\u001b[1;33m.\u001b[0m\u001b[0mvalue_count\u001b[0m\u001b[1;33m\u001b[0m\u001b[1;33m\u001b[0m\u001b[0m\n\u001b[0m",
      "\u001b[1;31mAttributeError\u001b[0m: 'numpy.ndarray' object has no attribute 'value_count'"
     ]
    }
   ],
   "source": []
  },
  {
   "cell_type": "code",
   "execution_count": null,
   "id": "dcf75c4d-2b89-4bd0-a232-f998afcfec4b",
   "metadata": {},
   "outputs": [],
   "source": []
  },
  {
   "cell_type": "code",
   "execution_count": null,
   "id": "9e670b0e-1d99-4cc1-8181-3d552f508921",
   "metadata": {},
   "outputs": [],
   "source": []
  },
  {
   "cell_type": "code",
   "execution_count": null,
   "id": "3877f8e6-63d1-42eb-a7d9-713664d7dc4c",
   "metadata": {},
   "outputs": [],
   "source": []
  },
  {
   "cell_type": "code",
   "execution_count": null,
   "id": "785a99bf-6801-4820-8617-1d8ca53aeecf",
   "metadata": {},
   "outputs": [],
   "source": []
  },
  {
   "cell_type": "code",
   "execution_count": 134,
   "id": "6e699cda-182c-47df-8982-35a7cb0d3088",
   "metadata": {},
   "outputs": [],
   "source": [
    "X1 = X1.drop(columns = ['Aircraft.damage','Target_binary', 'Target_column'], axis=1)"
   ]
  },
  {
   "cell_type": "code",
   "execution_count": 135,
   "id": "d1ff5af4-b4f8-4cb9-a209-e3ca97f7013f",
   "metadata": {},
   "outputs": [
    {
     "data": {
      "text/plain": [
       "(75015, 12)"
      ]
     },
     "execution_count": 135,
     "metadata": {},
     "output_type": "execute_result"
    }
   ],
   "source": [
    "X1.shape"
   ]
  },
  {
   "cell_type": "code",
   "execution_count": 136,
   "id": "72d7466d-61f4-4f7e-9706-e3f00828d36b",
   "metadata": {},
   "outputs": [
    {
     "data": {
      "text/plain": [
       "Index(['Amateur.Built', 'Number.of.Engines', 'Engine.Type',\n",
       "       'Purpose.of.flight', 'Weather.Condition', 'Broad.phase.of.flight',\n",
       "       'Month.Abbr', 'Day.Name.Abbr', 'Make_class', 'Airport_Class',\n",
       "       'Airplane_size', 'State_mod'],\n",
       "      dtype='object')"
      ]
     },
     "execution_count": 136,
     "metadata": {},
     "output_type": "execute_result"
    }
   ],
   "source": [
    "X1.columns"
   ]
  },
  {
   "cell_type": "code",
   "execution_count": 137,
   "id": "3cd34857-aa78-4a75-9613-41e88f898a78",
   "metadata": {},
   "outputs": [
    {
     "name": "stdout",
     "output_type": "stream",
     "text": [
      "<class 'pandas.core.frame.DataFrame'>\n",
      "Int64Index: 75015 entries, 3601 to 88886\n",
      "Data columns (total 12 columns):\n",
      " #   Column                 Non-Null Count  Dtype \n",
      "---  ------                 --------------  ----- \n",
      " 0   Amateur.Built          75015 non-null  object\n",
      " 1   Number.of.Engines      75015 non-null  object\n",
      " 2   Engine.Type            75015 non-null  object\n",
      " 3   Purpose.of.flight      75015 non-null  object\n",
      " 4   Weather.Condition      75015 non-null  object\n",
      " 5   Broad.phase.of.flight  75015 non-null  object\n",
      " 6   Month.Abbr             75015 non-null  object\n",
      " 7   Day.Name.Abbr          75015 non-null  object\n",
      " 8   Make_class             75015 non-null  object\n",
      " 9   Airport_Class          75015 non-null  object\n",
      " 10  Airplane_size          75015 non-null  object\n",
      " 11  State_mod              75015 non-null  object\n",
      "dtypes: object(12)\n",
      "memory usage: 7.4+ MB\n"
     ]
    }
   ],
   "source": [
    "X1.info()"
   ]
  },
  {
   "cell_type": "code",
   "execution_count": 138,
   "id": "a9923d80-809c-4d7c-b67a-2dd28ea8ca36",
   "metadata": {},
   "outputs": [],
   "source": [
    "from sklearn.preprocessing import OneHotEncoder"
   ]
  },
  {
   "cell_type": "code",
   "execution_count": 197,
   "id": "ea0ecc59-75ce-4d7a-872e-dedf13c3b5fd",
   "metadata": {},
   "outputs": [
    {
     "data": {
      "text/plain": [
       "OneHotEncoder(handle_unknown='ignore')"
      ]
     },
     "execution_count": 197,
     "metadata": {},
     "output_type": "execute_result"
    }
   ],
   "source": [
    "enc1 = OneHotEncoder(handle_unknown='ignore')\n",
    "enc1.fit(X1)"
   ]
  },
  {
   "cell_type": "code",
   "execution_count": 140,
   "id": "53e0ce3b-6f6b-4bf2-b367-7d0e40e6706f",
   "metadata": {},
   "outputs": [
    {
     "data": {
      "text/plain": [
       "Index(['Amateur.Built', 'Number.of.Engines', 'Engine.Type',\n",
       "       'Purpose.of.flight', 'Weather.Condition', 'Broad.phase.of.flight',\n",
       "       'Month.Abbr', 'Day.Name.Abbr', 'Make_class', 'Airport_Class',\n",
       "       'Airplane_size', 'State_mod'],\n",
       "      dtype='object')"
      ]
     },
     "execution_count": 140,
     "metadata": {},
     "output_type": "execute_result"
    }
   ],
   "source": [
    "X1.columns"
   ]
  },
  {
   "cell_type": "code",
   "execution_count": 141,
   "id": "f4e1667c-6172-43fb-9374-fffb7ca9396a",
   "metadata": {},
   "outputs": [],
   "source": [
    "X1_dummies=pd.get_dummies(X1)"
   ]
  },
  {
   "cell_type": "code",
   "execution_count": 142,
   "id": "3dcbde2c-ce55-46fe-934c-1cc6c1e783a5",
   "metadata": {},
   "outputs": [
    {
     "data": {
      "text/plain": [
       "OneHotEncoder(handle_unknown='ignore')"
      ]
     },
     "execution_count": 142,
     "metadata": {},
     "output_type": "execute_result"
    }
   ],
   "source": [
    "enc1"
   ]
  },
  {
   "cell_type": "code",
   "execution_count": 143,
   "id": "7c3d6bb9-85f8-46e8-959c-d28806e94665",
   "metadata": {},
   "outputs": [
    {
     "data": {
      "text/plain": [
       "[array(['No', 'UNKNOWN', 'Yes'], dtype=object),\n",
       " array(['UNKNOWN', 'one', 'three_to_four', 'tw0'], dtype=object),\n",
       " array(['Reciprocating', 'Turbo Fan', 'Turbo Jet', 'Turbo Prop',\n",
       "        'Turbo Shaft', 'UNKNOWN'], dtype=object),\n",
       " array(['Aerial Application', 'Aerial Observation', 'Business', 'Ferry',\n",
       "        'Flight Test', 'Instructional', 'Other', 'Personal', 'Positioning',\n",
       "        'Public Aircraft', 'UNKNOWN'], dtype=object),\n",
       " array(['IMC', 'UNKNOWN', 'VMC'], dtype=object),\n",
       " array(['Approach', 'Climb', 'Cruise', 'Descent', 'Go-around', 'Landing',\n",
       "        'Maneuvering', 'Standing', 'Takeoff', 'Taxi', 'UNKNOWN'],\n",
       "       dtype=object),\n",
       " array(['Apr', 'Aug', 'Dec', 'Feb', 'Jan', 'Jul', 'Jun', 'Mar', 'May',\n",
       "        'Nov', 'Oct', 'Sep'], dtype=object),\n",
       " array(['Fri', 'Mon', 'Sat', 'Sun', 'Thu', 'Tue', 'Wed'], dtype=object),\n",
       " array(['Aero Commander', 'Aeronca', 'Aerospatiale', 'Air Tractor',\n",
       "        'Airbus', 'Aviat', 'Ayres', 'Beech', 'Bell', 'Boeing', 'Cessna',\n",
       "        'Champion', 'Cirrus', 'De Havilland', 'Diamond', 'Embraer',\n",
       "        'Enstrom', 'Ercoupe', 'Eurocopter', 'Grumman', 'Gulfstream',\n",
       "        'Hiller', 'Hughes', 'Lake', 'Luscombe', 'Maule',\n",
       "        'Mcdonnell Douglas', 'Mooney', 'North American', 'Other', 'Piper',\n",
       "        'Pitts', 'Robinson', 'Rockwell', 'Ryan', 'Schweizer', 'Sikorsky',\n",
       "        'Stinson', 'Swearingen', 'Taylorcraft', 'Waco'], dtype=object),\n",
       " array(['Airport', 'None', 'Private'], dtype=object),\n",
       " array(['large', 'medium', 'small'], dtype=object),\n",
       " array(['AK', 'AL', 'AR', 'AZ', 'CA', 'CO', 'CT', 'DE', 'FL', 'GA', 'HI',\n",
       "        'IA', 'ID', 'IL', 'IN', 'KS', 'KY', 'LA', 'MA', 'MD', 'ME', 'MI',\n",
       "        'MN', 'MO', 'MS', 'MT', 'NC', 'ND', 'NE', 'NH', 'NJ', 'NM', 'NV',\n",
       "        'NY', 'OH', 'OK', 'OR', 'Other', 'PA', 'PR', 'RI', 'SC', 'SD',\n",
       "        'TN', 'TX', 'UT', 'VA', 'VT', 'WA', 'WI', 'WV', 'WY'], dtype=object)]"
      ]
     },
     "execution_count": 143,
     "metadata": {},
     "output_type": "execute_result"
    }
   ],
   "source": [
    "enc1.categories_"
   ]
  },
  {
   "cell_type": "code",
   "execution_count": 144,
   "id": "315a943e-8666-4329-8b18-b7737de1e507",
   "metadata": {},
   "outputs": [],
   "source": [
    "from sklearn.model_selection import train_test_split"
   ]
  },
  {
   "cell_type": "code",
   "execution_count": 204,
   "id": "37938b39-7b12-419e-9b38-907d38811b1a",
   "metadata": {},
   "outputs": [],
   "source": [
    "X1_train, X1_test, y1_train, y1_test = train_test_split(X1_dummies, y1_label, test_size=0.2, random_state=0)"
   ]
  },
  {
   "cell_type": "markdown",
   "id": "1852f7fe-ed88-49ca-bb43-29d9227fbb44",
   "metadata": {},
   "source": [
    "### 1) RAndom Forest"
   ]
  },
  {
   "cell_type": "code",
   "execution_count": 146,
   "id": "214a5093-e8d2-4f88-a858-cc3a7badceb9",
   "metadata": {},
   "outputs": [],
   "source": [
    "from sklearn.ensemble import RandomForestClassifier"
   ]
  },
  {
   "cell_type": "code",
   "execution_count": 147,
   "id": "7e07a949-dc00-4a05-9e7d-5594c21950af",
   "metadata": {},
   "outputs": [],
   "source": [
    "model1_rf=RandomForestClassifier(n_estimators=20, max_features='auto', random_state =101)"
   ]
  },
  {
   "cell_type": "code",
   "execution_count": 205,
   "id": "4d5e9ea1-27a2-4775-9c98-ee50360f91e3",
   "metadata": {},
   "outputs": [
    {
     "data": {
      "text/plain": [
       "RandomForestClassifier(n_estimators=20, random_state=101)"
      ]
     },
     "execution_count": 205,
     "metadata": {},
     "output_type": "execute_result"
    }
   ],
   "source": [
    "model1_rf.fit(X1_train, y1_train)"
   ]
  },
  {
   "cell_type": "code",
   "execution_count": 206,
   "id": "22ae3735-dace-41ae-87e4-8a5560fa9a87",
   "metadata": {},
   "outputs": [
    {
     "data": {
      "text/plain": [
       "array([0.00345385, 0.00021442, 0.00319023, 0.00204102, 0.00847268,\n",
       "       0.00268774, 0.00783457, 0.00873689, 0.00427235, 0.00203774,\n",
       "       0.00425712, 0.00337961, 0.00324456, 0.00421615, 0.00195579,\n",
       "       0.00724553, 0.00225785, 0.00094865, 0.00805319, 0.00390523,\n",
       "       0.01430099, 0.00371795, 0.0025711 , 0.01152015, 0.02202112,\n",
       "       0.00319685, 0.03501704, 0.00944472, 0.00665445, 0.00963372,\n",
       "       0.00430504, 0.00372919, 0.02121724, 0.02689897, 0.00269709,\n",
       "       0.01098443, 0.00389751, 0.01773441, 0.01396029, 0.01705558,\n",
       "       0.01097125, 0.01172876, 0.01064717, 0.01786754, 0.01614101,\n",
       "       0.01322676, 0.01629688, 0.01212305, 0.01361515, 0.01556075,\n",
       "       0.01881592, 0.0169185 , 0.02105552, 0.01993993, 0.01758865,\n",
       "       0.01758967, 0.01782481, 0.0015511 , 0.00172927, 0.00110547,\n",
       "       0.0014936 , 0.00057829, 0.00049101, 0.00086072, 0.00848484,\n",
       "       0.00569701, 0.00314948, 0.0135889 , 0.00143774, 0.00151122,\n",
       "       0.00112019, 0.00041045, 0.000535  , 0.00130082, 0.00091998,\n",
       "       0.00057406, 0.00400198, 0.00088253, 0.00137113, 0.00215845,\n",
       "       0.00058472, 0.00099597, 0.00112123, 0.00177318, 0.00338475,\n",
       "       0.0023747 , 0.00982648, 0.01401339, 0.00068453, 0.00299055,\n",
       "       0.00173449, 0.00070586, 0.00135272, 0.0007869 , 0.00137689,\n",
       "       0.00086876, 0.00114357, 0.00053774, 0.01232455, 0.0133312 ,\n",
       "       0.00085788, 0.00574599, 0.00905483, 0.00949288, 0.00908533,\n",
       "       0.0046855 , 0.00531998, 0.00795255, 0.0149552 , 0.00837696,\n",
       "       0.00232407, 0.00077792, 0.01421808, 0.00737535, 0.00266304,\n",
       "       0.00336816, 0.00462195, 0.00675175, 0.00489782, 0.00387698,\n",
       "       0.00322956, 0.00472746, 0.00399066, 0.00319448, 0.00254275,\n",
       "       0.00693838, 0.00491098, 0.00530636, 0.00319165, 0.00381574,\n",
       "       0.00575334, 0.00209271, 0.00296464, 0.00170102, 0.00448245,\n",
       "       0.00478865, 0.00478864, 0.00658926, 0.00590259, 0.00565022,\n",
       "       0.00556526, 0.00111769, 0.00595775, 0.00076536, 0.00087516,\n",
       "       0.00348219, 0.0023743 , 0.00481333, 0.01475507, 0.0043194 ,\n",
       "       0.00480354, 0.00172812, 0.00759765, 0.00584308, 0.00231275,\n",
       "       0.00298582])"
      ]
     },
     "execution_count": 206,
     "metadata": {},
     "output_type": "execute_result"
    }
   ],
   "source": [
    "model1_rf.feature_importances_"
   ]
  },
  {
   "cell_type": "code",
   "execution_count": 207,
   "id": "8ce1ba37-7545-4f8c-baa7-e18fe78afa9d",
   "metadata": {},
   "outputs": [],
   "source": [
    "preds1_rf = model1_rf.predict(X1_test)"
   ]
  },
  {
   "cell_type": "code",
   "execution_count": 208,
   "id": "161be866-2534-43a1-9c8d-bf777600ecd5",
   "metadata": {},
   "outputs": [],
   "source": [
    "from sklearn.metrics import confusion_matrix, classification_report, plot_confusion_matrix, accuracy_score, roc_curve, roc_auc_score, precision_recall_curve"
   ]
  },
  {
   "cell_type": "code",
   "execution_count": 209,
   "id": "f1237b62-67b8-46c1-a562-832037fc8216",
   "metadata": {},
   "outputs": [
    {
     "ename": "ValueError",
     "evalue": "Classification metrics can't handle a mix of multilabel-indicator and multiclass targets",
     "output_type": "error",
     "traceback": [
      "\u001b[1;31m---------------------------------------------------------------------------\u001b[0m",
      "\u001b[1;31mValueError\u001b[0m                                Traceback (most recent call last)",
      "\u001b[1;32m~\\AppData\\Local\\Temp\\ipykernel_6484\\1154417114.py\u001b[0m in \u001b[0;36m<module>\u001b[1;34m\u001b[0m\n\u001b[1;32m----> 1\u001b[1;33m \u001b[0mconfusion_matrix\u001b[0m\u001b[1;33m(\u001b[0m \u001b[0mX1_test\u001b[0m\u001b[1;33m,\u001b[0m \u001b[0mpreds1_rf\u001b[0m\u001b[1;33m)\u001b[0m\u001b[1;33m\u001b[0m\u001b[1;33m\u001b[0m\u001b[0m\n\u001b[0m",
      "\u001b[1;32m~\\anaconda3\\lib\\site-packages\\sklearn\\metrics\\_classification.py\u001b[0m in \u001b[0;36mconfusion_matrix\u001b[1;34m(y_true, y_pred, labels, sample_weight, normalize)\u001b[0m\n\u001b[0;32m    305\u001b[0m     \u001b[1;33m(\u001b[0m\u001b[1;36m0\u001b[0m\u001b[1;33m,\u001b[0m \u001b[1;36m2\u001b[0m\u001b[1;33m,\u001b[0m \u001b[1;36m1\u001b[0m\u001b[1;33m,\u001b[0m \u001b[1;36m1\u001b[0m\u001b[1;33m)\u001b[0m\u001b[1;33m\u001b[0m\u001b[1;33m\u001b[0m\u001b[0m\n\u001b[0;32m    306\u001b[0m     \"\"\"\n\u001b[1;32m--> 307\u001b[1;33m     \u001b[0my_type\u001b[0m\u001b[1;33m,\u001b[0m \u001b[0my_true\u001b[0m\u001b[1;33m,\u001b[0m \u001b[0my_pred\u001b[0m \u001b[1;33m=\u001b[0m \u001b[0m_check_targets\u001b[0m\u001b[1;33m(\u001b[0m\u001b[0my_true\u001b[0m\u001b[1;33m,\u001b[0m \u001b[0my_pred\u001b[0m\u001b[1;33m)\u001b[0m\u001b[1;33m\u001b[0m\u001b[1;33m\u001b[0m\u001b[0m\n\u001b[0m\u001b[0;32m    308\u001b[0m     \u001b[1;32mif\u001b[0m \u001b[0my_type\u001b[0m \u001b[1;32mnot\u001b[0m \u001b[1;32min\u001b[0m \u001b[1;33m(\u001b[0m\u001b[1;34m\"binary\"\u001b[0m\u001b[1;33m,\u001b[0m \u001b[1;34m\"multiclass\"\u001b[0m\u001b[1;33m)\u001b[0m\u001b[1;33m:\u001b[0m\u001b[1;33m\u001b[0m\u001b[1;33m\u001b[0m\u001b[0m\n\u001b[0;32m    309\u001b[0m         \u001b[1;32mraise\u001b[0m \u001b[0mValueError\u001b[0m\u001b[1;33m(\u001b[0m\u001b[1;34m\"%s is not supported\"\u001b[0m \u001b[1;33m%\u001b[0m \u001b[0my_type\u001b[0m\u001b[1;33m)\u001b[0m\u001b[1;33m\u001b[0m\u001b[1;33m\u001b[0m\u001b[0m\n",
      "\u001b[1;32m~\\anaconda3\\lib\\site-packages\\sklearn\\metrics\\_classification.py\u001b[0m in \u001b[0;36m_check_targets\u001b[1;34m(y_true, y_pred)\u001b[0m\n\u001b[0;32m     91\u001b[0m \u001b[1;33m\u001b[0m\u001b[0m\n\u001b[0;32m     92\u001b[0m     \u001b[1;32mif\u001b[0m \u001b[0mlen\u001b[0m\u001b[1;33m(\u001b[0m\u001b[0my_type\u001b[0m\u001b[1;33m)\u001b[0m \u001b[1;33m>\u001b[0m \u001b[1;36m1\u001b[0m\u001b[1;33m:\u001b[0m\u001b[1;33m\u001b[0m\u001b[1;33m\u001b[0m\u001b[0m\n\u001b[1;32m---> 93\u001b[1;33m         raise ValueError(\n\u001b[0m\u001b[0;32m     94\u001b[0m             \"Classification metrics can't handle a mix of {0} and {1} targets\".format(\n\u001b[0;32m     95\u001b[0m                 \u001b[0mtype_true\u001b[0m\u001b[1;33m,\u001b[0m \u001b[0mtype_pred\u001b[0m\u001b[1;33m\u001b[0m\u001b[1;33m\u001b[0m\u001b[0m\n",
      "\u001b[1;31mValueError\u001b[0m: Classification metrics can't handle a mix of multilabel-indicator and multiclass targets"
     ]
    }
   ],
   "source": [
    "confusion_matrix( X1_test, preds1_rf)"
   ]
  },
  {
   "cell_type": "code",
   "execution_count": 152,
   "id": "2af7dfcb-9138-4930-bdcf-8aab1029f10b",
   "metadata": {},
   "outputs": [
    {
     "name": "stderr",
     "output_type": "stream",
     "text": [
      "C:\\Users\\Enter\\anaconda3\\lib\\site-packages\\sklearn\\utils\\deprecation.py:87: FutureWarning: Function plot_confusion_matrix is deprecated; Function `plot_confusion_matrix` is deprecated in 1.0 and will be removed in 1.2. Use one of the class methods: ConfusionMatrixDisplay.from_predictions or ConfusionMatrixDisplay.from_estimator.\n",
      "  warnings.warn(msg, category=FutureWarning)\n"
     ]
    },
    {
     "data": {
      "text/plain": [
       "<sklearn.metrics._plot.confusion_matrix.ConfusionMatrixDisplay at 0x245504076d0>"
      ]
     },
     "execution_count": 152,
     "metadata": {},
     "output_type": "execute_result"
    },
    {
     "data": {
      "image/png": "[encoded data removed]",
      "text/plain": [
       "<Figure size 640x480 with 2 Axes>"
      ]
     },
     "metadata": {},
     "output_type": "display_data"
    }
   ],
   "source": [
    "plot_confusion_matrix(model1_rf, X1_test, y1_test)"
   ]
  },
  {
   "cell_type": "code",
   "execution_count": 154,
   "id": "291a9069-e21e-479a-b3b9-166f0ac7d466",
   "metadata": {},
   "outputs": [
    {
     "data": {
      "text/plain": [
       "0.7807105245617543"
      ]
     },
     "execution_count": 154,
     "metadata": {},
     "output_type": "execute_result"
    }
   ],
   "source": [
    "accuracy_score(y1_test, preds1_rf)"
   ]
  },
  {
   "cell_type": "code",
   "execution_count": 156,
   "id": "4ad60ba0-e983-409f-8729-2f7a28a567fe",
   "metadata": {},
   "outputs": [
    {
     "name": "stdout",
     "output_type": "stream",
     "text": [
      "              precision    recall  f1-score   support\n",
      "\n",
      "   Destroyed       0.51      0.33      0.40      2984\n",
      "       Minor       0.55      0.25      0.35       398\n",
      " Substantial       0.82      0.92      0.87     11621\n",
      "\n",
      "    accuracy                           0.78     15003\n",
      "   macro avg       0.63      0.50      0.54     15003\n",
      "weighted avg       0.75      0.78      0.76     15003\n",
      "\n"
     ]
    }
   ],
   "source": [
    "print(classification_report(y1_test, preds1_rf))"
   ]
  },
  {
   "cell_type": "code",
   "execution_count": 222,
   "id": "c1151485-5f14-41c9-a467-7843e97ba1b6",
   "metadata": {},
   "outputs": [
    {
     "data": {
      "text/plain": [
       "<AxesSubplot:>"
      ]
     },
     "execution_count": 222,
     "metadata": {},
     "output_type": "execute_result"
    },
    {
     "data": {
      "image/png": "[encoded data removed]",
      "text/plain": [
       "<Figure size 640x480 with 1 Axes>"
      ]
     },
     "metadata": {},
     "output_type": "display_data"
    }
   ],
   "source": [
    "(pd.Series(model1_rf.feature_importances_, index=X1_dummies.columns)\n",
    "   .nlargest(20)\n",
    "   .plot(kind='barh'))  "
   ]
  },
  {
   "cell_type": "code",
   "execution_count": null,
   "id": "17d4cbb1-b431-4719-ac63-53c4e8d2a91f",
   "metadata": {},
   "outputs": [],
   "source": []
  },
  {
   "cell_type": "code",
   "execution_count": null,
   "id": "066f286f-320b-49d9-a94b-320ffe0f63a2",
   "metadata": {},
   "outputs": [],
   "source": []
  },
  {
   "cell_type": "markdown",
   "id": "ef357e4a-06ce-4415-908a-a6ea1044c334",
   "metadata": {},
   "source": [
    "### RF wit grid searchCV"
   ]
  },
  {
   "cell_type": "code",
   "execution_count": 157,
   "id": "090b8578-e9b6-456c-b8aa-c22a91f11022",
   "metadata": {},
   "outputs": [],
   "source": [
    "from sklearn.model_selection import GridSearchCV"
   ]
  },
  {
   "cell_type": "code",
   "execution_count": 165,
   "id": "34d72b86-5762-4df2-a46f-7b690245bca4",
   "metadata": {},
   "outputs": [],
   "source": [
    "n_estimators=[50,100,200]\n",
    "max_features = [2,3]\n",
    "bootstrap = [True,False]\n",
    "oob_score=[True,False]"
   ]
  },
  {
   "cell_type": "code",
   "execution_count": 166,
   "id": "5e015c64-f45f-415d-9be6-a0ebb14457e5",
   "metadata": {},
   "outputs": [],
   "source": [
    "param_grid = {'n_estimators':n_estimators,\n",
    "              'max_features':max_features,\n",
    "              'bootstrap':bootstrap,\n",
    "              'oob_score':oob_score}"
   ]
  },
  {
   "cell_type": "code",
   "execution_count": 167,
   "id": "4a6ce804-80a0-45d6-a941-91f4d3e6a65b",
   "metadata": {},
   "outputs": [],
   "source": [
    "model1_rf1=RandomForestClassifier()"
   ]
  },
  {
   "cell_type": "code",
   "execution_count": 168,
   "id": "f0be027a-796d-46db-aa90-1584196eccc1",
   "metadata": {},
   "outputs": [],
   "source": [
    "grid1_rf1 = GridSearchCV(model1_rf1, param_grid)"
   ]
  },
  {
   "cell_type": "code",
   "execution_count": 182,
   "id": "5abd5cdc-41bc-4b97-8cd7-6e74f8b00deb",
   "metadata": {},
   "outputs": [
    {
     "name": "stderr",
     "output_type": "stream",
     "text": [
      "C:\\Users\\Enter\\anaconda3\\lib\\site-packages\\sklearn\\model_selection\\_validation.py:372: FitFailedWarning: \n",
      "30 fits failed out of a total of 120.\n",
      "The score on these train-test partitions for these parameters will be set to nan.\n",
      "If these failures are not expected, you can try to debug them by setting error_score='raise'.\n",
      "\n",
      "Below are more details about the failures:\n",
      "--------------------------------------------------------------------------------\n",
      "30 fits failed with the following error:\n",
      "Traceback (most recent call last):\n",
      "  File \"C:\\Users\\Enter\\anaconda3\\lib\\site-packages\\sklearn\\model_selection\\_validation.py\", line 680, in _fit_and_score\n",
      "    estimator.fit(X_train, y_train, **fit_params)\n",
      "  File \"C:\\Users\\Enter\\anaconda3\\lib\\site-packages\\sklearn\\ensemble\\_forest.py\", line 411, in fit\n",
      "    raise ValueError(\"Out of bag estimation only available if bootstrap=True\")\n",
      "ValueError: Out of bag estimation only available if bootstrap=True\n",
      "\n",
      "  warnings.warn(some_fits_failed_message, FitFailedWarning)\n",
      "C:\\Users\\Enter\\anaconda3\\lib\\site-packages\\sklearn\\model_selection\\_search.py:969: UserWarning: One or more of the test scores are non-finite: [0.786876   0.7882257  0.78912552 0.78915886 0.79040862 0.79017531\n",
      " 0.78890891 0.78854234 0.78965873 0.78989202 0.79117513 0.79132506\n",
      "        nan 0.78337666        nan 0.78470974        nan 0.78505969\n",
      "        nan 0.78332666        nan 0.78437645        nan 0.78562619]\n",
      "  warnings.warn(\n"
     ]
    },
    {
     "data": {
      "text/plain": [
       "GridSearchCV(estimator=RandomForestClassifier(),\n",
       "             param_grid={'bootstrap': [True, False], 'max_features': [2, 3],\n",
       "                         'n_estimators': [50, 100, 200],\n",
       "                         'oob_score': [True, False]})"
      ]
     },
     "execution_count": 182,
     "metadata": {},
     "output_type": "execute_result"
    }
   ],
   "source": [
    "grid1_rf1.fit(X1_train, y1_train)"
   ]
  },
  {
   "cell_type": "code",
   "execution_count": 184,
   "id": "68e9976e-b4db-4469-aae1-48b1603a6c7d",
   "metadata": {},
   "outputs": [
    {
     "data": {
      "text/plain": [
       "{'bootstrap': True, 'max_features': 3, 'n_estimators': 200, 'oob_score': False}"
      ]
     },
     "execution_count": 184,
     "metadata": {},
     "output_type": "execute_result"
    }
   ],
   "source": [
    "grid1_rf1.best_params_"
   ]
  },
  {
   "cell_type": "code",
   "execution_count": 185,
   "id": "830eaf77-461f-40e5-9b32-9ed92f7b5bca",
   "metadata": {},
   "outputs": [
    {
     "name": "stdout",
     "output_type": "stream",
     "text": [
      "              precision    recall  f1-score   support\n",
      "\n",
      "   Destroyed       0.51      0.33      0.40      2984\n",
      "       Minor       0.55      0.25      0.35       398\n",
      " Substantial       0.82      0.92      0.87     11621\n",
      "\n",
      "    accuracy                           0.78     15003\n",
      "   macro avg       0.63      0.50      0.54     15003\n",
      "weighted avg       0.75      0.78      0.76     15003\n",
      "\n"
     ]
    }
   ],
   "source": [
    "print(classification_report(y1_test, preds1_rf))"
   ]
  },
  {
   "cell_type": "code",
   "execution_count": 187,
   "id": "0b4cdd0a-f730-40e6-b062-2c6711476cca",
   "metadata": {},
   "outputs": [
    {
     "ename": "AttributeError",
     "evalue": "'RandomForestClassifier' object has no attribute 'oob_score_'",
     "output_type": "error",
     "traceback": [
      "\u001b[1;31m---------------------------------------------------------------------------\u001b[0m",
      "\u001b[1;31mAttributeError\u001b[0m                            Traceback (most recent call last)",
      "\u001b[1;32m~\\AppData\\Local\\Temp\\ipykernel_6484\\1956443163.py\u001b[0m in \u001b[0;36m<module>\u001b[1;34m\u001b[0m\n\u001b[1;32m----> 1\u001b[1;33m \u001b[0mgrid1_rf1\u001b[0m\u001b[1;33m.\u001b[0m\u001b[0mbest_estimator_\u001b[0m\u001b[1;33m.\u001b[0m\u001b[0moob_score_\u001b[0m\u001b[1;33m\u001b[0m\u001b[1;33m\u001b[0m\u001b[0m\n\u001b[0m",
      "\u001b[1;31mAttributeError\u001b[0m: 'RandomForestClassifier' object has no attribute 'oob_score_'"
     ]
    }
   ],
   "source": [
    "grid1_rf1.best_estimator_.oob_score_"
   ]
  },
  {
   "cell_type": "code",
   "execution_count": null,
   "id": "a3e48a60-9c1c-42d9-a754-ba4edc82881e",
   "metadata": {},
   "outputs": [],
   "source": []
  },
  {
   "cell_type": "markdown",
   "id": "0e86d55e-f723-430e-b4f8-652849742b24",
   "metadata": {},
   "source": [
    "#### XG BOOST"
   ]
  },
  {
   "cell_type": "code",
   "execution_count": 210,
   "id": "2f9fc0a4-7931-49fe-993d-a296819dea3e",
   "metadata": {},
   "outputs": [],
   "source": [
    "import xgboost as xgb\n",
    "import time"
   ]
  },
  {
   "cell_type": "code",
   "execution_count": 211,
   "id": "f1c502e1-c5c3-4cd8-bf4e-6c4353f18b57",
   "metadata": {},
   "outputs": [],
   "source": [
    "from sklearn.metrics import confusion_matrix, classification_report, plot_confusion_matrix, accuracy_score, roc_curve, roc_auc_score, precision_recall_curve"
   ]
  },
  {
   "cell_type": "code",
   "execution_count": 212,
   "id": "15bcd658-9990-4ae5-b4e7-761571090dad",
   "metadata": {},
   "outputs": [
    {
     "name": "stderr",
     "output_type": "stream",
     "text": [
      "C:\\Users\\Enter\\anaconda3\\lib\\site-packages\\xgboost\\sklearn.py:1395: UserWarning: `use_label_encoder` is deprecated in 1.7.0.\n",
      "  warnings.warn(\"`use_label_encoder` is deprecated in 1.7.0.\")\n"
     ]
    }
   ],
   "source": [
    "model1_xgb = xgb.XGBClassifier(n_estimators = 100, max_depth =3, use_label_encoder=False, metrics ='error')"
   ]
  },
  {
   "cell_type": "code",
   "execution_count": null,
   "id": "0345ec19-bb91-4bfd-8609-6d141d644b1e",
   "metadata": {},
   "outputs": [],
   "source": []
  },
  {
   "cell_type": "code",
   "execution_count": 213,
   "id": "f3b3ad96-02b5-4931-a686-b661dca4ea26",
   "metadata": {},
   "outputs": [
    {
     "name": "stdout",
     "output_type": "stream",
     "text": [
      "[17:11:00] WARNING: C:\\buildkite-agent\\builds\\buildkite-windows-cpu-autoscaling-group-i-07593ffd91cd9da33-1\\xgboost\\xgboost-ci-windows\\src\\learner.cc:767: \n",
      "Parameters: { \"metrics\" } are not used.\n",
      "\n",
      "time:  11.32025694847107\n"
     ]
    }
   ],
   "source": [
    "start =time.time()\n",
    "\n",
    "model1_xgb.fit(X1_train, y1_train)\n",
    "\n",
    "end = time.time()\n",
    "print(\"time: \", end -start)"
   ]
  },
  {
   "cell_type": "code",
   "execution_count": 214,
   "id": "92951254-3879-49dd-bcb4-6f318575f66b",
   "metadata": {},
   "outputs": [],
   "source": [
    "pred1_xgb = model1_xgb.predict(X1_test)"
   ]
  },
  {
   "cell_type": "code",
   "execution_count": 215,
   "id": "5fe75ae8-7c98-49a0-be6f-00c6a50da16a",
   "metadata": {},
   "outputs": [
    {
     "data": {
      "text/plain": [
       "0.8050389922015597"
      ]
     },
     "execution_count": 215,
     "metadata": {},
     "output_type": "execute_result"
    }
   ],
   "source": [
    "accuracy_score(y1_test, pred1_xgb)"
   ]
  },
  {
   "cell_type": "code",
   "execution_count": 216,
   "id": "fe266f4d-88d8-4e9f-a341-c4de81fa02aa",
   "metadata": {},
   "outputs": [
    {
     "name": "stdout",
     "output_type": "stream",
     "text": [
      "              precision    recall  f1-score   support\n",
      "\n",
      "           0       0.65      0.28      0.40      2984\n",
      "           1       0.63      0.28      0.39       398\n",
      "           2       0.82      0.96      0.88     11621\n",
      "\n",
      "    accuracy                           0.81     15003\n",
      "   macro avg       0.70      0.51      0.56     15003\n",
      "weighted avg       0.78      0.81      0.77     15003\n",
      "\n"
     ]
    }
   ],
   "source": [
    "print(classification_report(y1_test, pred1_xgb))"
   ]
  },
  {
   "cell_type": "code",
   "execution_count": 217,
   "id": "fb39d6b4-6db9-4912-a9f0-1b09a661ce78",
   "metadata": {},
   "outputs": [
    {
     "data": {
      "text/plain": [
       "array([0.01243007, 0.00139943, 0.00168298, 0.00372569, 0.03548256,\n",
       "       0.00784118, 0.01441805, 0.01318298, 0.00813081, 0.00432807,\n",
       "       0.00239181, 0.00559927, 0.00316955, 0.00573273, 0.00132393,\n",
       "       0.00271075, 0.00352382, 0.00195978, 0.00722592, 0.00251978,\n",
       "       0.0130642 , 0.00313994, 0.00171589, 0.03224276, 0.00867524,\n",
       "       0.00318012, 0.17957157, 0.00364502, 0.0151321 , 0.00395416,\n",
       "       0.00234041, 0.00271793, 0.08085334, 0.04808774, 0.00715241,\n",
       "       0.00315543, 0.01848004, 0.06620547, 0.00181286, 0.00157034,\n",
       "       0.00150961, 0.00128199, 0.00245166, 0.00166939, 0.00200912,\n",
       "       0.00198695, 0.00218166, 0.00276154, 0.00162896, 0.00120493,\n",
       "       0.00167782, 0.00163162, 0.0014266 , 0.00175681, 0.00135066,\n",
       "       0.00177016, 0.0021403 , 0.00151844, 0.00190998, 0.00203416,\n",
       "       0.00128831, 0.00180724, 0.00137877, 0.00098578, 0.00599575,\n",
       "       0.00203131, 0.00307105, 0.00366493, 0.00130924, 0.00223975,\n",
       "       0.        , 0.00109904, 0.001125  , 0.00175568, 0.00062234,\n",
       "       0.        , 0.0030398 , 0.00153052, 0.00165161, 0.00285825,\n",
       "       0.00353342, 0.00162983, 0.00234537, 0.00187231, 0.00240016,\n",
       "       0.00414464, 0.00708401, 0.00275339, 0.0014876 , 0.00541165,\n",
       "       0.00113096, 0.00071633, 0.00203378, 0.00171517, 0.00059635,\n",
       "       0.00132763, 0.00213253, 0.00169001, 0.00390993, 0.0183048 ,\n",
       "       0.00107589, 0.07975513, 0.00614282, 0.01920519, 0.01890281,\n",
       "       0.00077167, 0.00129089, 0.0015899 , 0.00963805, 0.00265655,\n",
       "       0.00117272, 0.00272349, 0.00435248, 0.00094918, 0.00267202,\n",
       "       0.00177817, 0.00164116, 0.00247555, 0.00301991, 0.00239798,\n",
       "       0.00196396, 0.00161935, 0.00114176, 0.0019667 , 0.00253294,\n",
       "       0.00220461, 0.0025497 , 0.00182421, 0.00209205, 0.00104154,\n",
       "       0.00099505, 0.00258243, 0.00092846, 0.        , 0.00159168,\n",
       "       0.        , 0.00206572, 0.00225132, 0.00195463, 0.00213408,\n",
       "       0.00186124, 0.00210234, 0.00179437, 0.00076909, 0.        ,\n",
       "       0.00113993, 0.        , 0.00183391, 0.00315572, 0.00179588,\n",
       "       0.00100072, 0.00282457, 0.0018416 , 0.00274817, 0.00203503,\n",
       "       0.00239295], dtype=float32)"
      ]
     },
     "execution_count": 217,
     "metadata": {},
     "output_type": "execute_result"
    }
   ],
   "source": [
    "model1_xgb.feature_importances_"
   ]
  },
  {
   "cell_type": "code",
   "execution_count": 223,
   "id": "c425c03e-f4a7-49f3-9948-1846e2c14ecd",
   "metadata": {},
   "outputs": [
    {
     "data": {
      "text/plain": [
       "<AxesSubplot:>"
      ]
     },
     "execution_count": 223,
     "metadata": {},
     "output_type": "execute_result"
    },
    {
     "data": {
      "image/png": "[encoded data removed]",
      "text/plain": [
       "<Figure size 640x480 with 1 Axes>"
      ]
     },
     "metadata": {},
     "output_type": "display_data"
    }
   ],
   "source": [
    "(pd.Series(model1_xgb.feature_importances_, index=X1_dummies.columns)\n",
    "   .nlargest(20)\n",
    "   .plot(kind='barh'))  "
   ]
  },
  {
   "cell_type": "code",
   "execution_count": null,
   "id": "7a44e020-e562-4fde-845d-701cda86a642",
   "metadata": {},
   "outputs": [],
   "source": []
  },
  {
   "cell_type": "code",
   "execution_count": null,
   "id": "8156d31b-7d95-4bc3-91c0-4336da2ba362",
   "metadata": {},
   "outputs": [],
   "source": []
  },
  {
   "cell_type": "code",
   "execution_count": null,
   "id": "4f9317e1-ca83-488f-a679-1fc0cf24e529",
   "metadata": {},
   "outputs": [],
   "source": []
  },
  {
   "cell_type": "code",
   "execution_count": null,
   "id": "0aba9661-a945-49a8-b4a4-369c0d9a0737",
   "metadata": {},
   "outputs": [],
   "source": []
  },
  {
   "cell_type": "code",
   "execution_count": null,
   "id": "c2efb0c1-06f2-48cb-bbae-9f5426db5bd1",
   "metadata": {},
   "outputs": [],
   "source": []
  },
  {
   "cell_type": "markdown",
   "id": "f8dfa0b5-6724-4948-ae13-5e8eab92f8b7",
   "metadata": {},
   "source": [
    "### second dataset with Target Binary as target column"
   ]
  },
  {
   "cell_type": "code",
   "execution_count": 227,
   "id": "7013227b-2062-4df2-bcc6-f008a059e3c9",
   "metadata": {},
   "outputs": [
    {
     "data": {
      "text/plain": [
       "Minor_Uninjured    52820\n",
       "Fatal_Injured      23906\n",
       "Name: Target_binary, dtype: int64"
      ]
     },
     "execution_count": 227,
     "metadata": {},
     "output_type": "execute_result"
    }
   ],
   "source": [
    "df_US_ml['Target_binary'].value_counts()"
   ]
  },
  {
   "cell_type": "code",
   "execution_count": 228,
   "id": "137fcb65-1389-44e3-b355-bc417f3a3766",
   "metadata": {},
   "outputs": [],
   "source": [
    "y2=df_US_ml['Target_binary']"
   ]
  },
  {
   "cell_type": "code",
   "execution_count": 229,
   "id": "884a5ab1-7b33-44ec-a75f-bd803e8c582f",
   "metadata": {},
   "outputs": [],
   "source": [
    "X2 = df_US_ml.drop(columns = ['Aircraft.damage','Target_binary', 'Target_column'], axis=1)"
   ]
  },
  {
   "cell_type": "code",
   "execution_count": 230,
   "id": "db21b4c9-e643-46a5-b2ab-4401ab0aeaed",
   "metadata": {},
   "outputs": [
    {
     "data": {
      "text/plain": [
       "OneHotEncoder(handle_unknown='ignore')"
      ]
     },
     "execution_count": 230,
     "metadata": {},
     "output_type": "execute_result"
    }
   ],
   "source": [
    "enc2 = OneHotEncoder(handle_unknown='ignore')\n",
    "enc2.fit(X2)"
   ]
  },
  {
   "cell_type": "code",
   "execution_count": 231,
   "id": "9c2ee80c-b363-4dd6-bc33-7c870f27d3ce",
   "metadata": {},
   "outputs": [],
   "source": [
    "from sklearn.model_selection import train_test_split"
   ]
  },
  {
   "cell_type": "code",
   "execution_count": 232,
   "id": "31a80ce8-7124-4342-8c27-bc82de6ec350",
   "metadata": {},
   "outputs": [],
   "source": [
    "X2_dummies=pd.get_dummies(X2)"
   ]
  },
  {
   "cell_type": "code",
   "execution_count": 233,
   "id": "8f3941b7-4667-4826-89ab-d3a81c8cfb14",
   "metadata": {},
   "outputs": [],
   "source": [
    "y2_label = le.fit_transform(y2)"
   ]
  },
  {
   "cell_type": "code",
   "execution_count": 234,
   "id": "9c7e0e84-aea5-41e5-b8a4-ac61385ecfd1",
   "metadata": {},
   "outputs": [],
   "source": [
    "X2_train, X2_test, y2_train, y2_test = train_test_split(X2_dummies, y2_label, test_size=0.2, random_state=0)"
   ]
  },
  {
   "cell_type": "markdown",
   "id": "6434d646-484f-4020-9d8d-5d68ffc99a1e",
   "metadata": {},
   "source": [
    "### model 2 RF"
   ]
  },
  {
   "cell_type": "code",
   "execution_count": 235,
   "id": "2fd1dd5d-045b-4470-8c42-8039f6645d96",
   "metadata": {},
   "outputs": [],
   "source": [
    "model2_rf=RandomForestClassifier(n_estimators=200, max_features='auto', random_state =101)"
   ]
  },
  {
   "cell_type": "code",
   "execution_count": 236,
   "id": "32e41ae5-9562-44d3-af6c-ff49390b63ea",
   "metadata": {},
   "outputs": [
    {
     "data": {
      "text/plain": [
       "RandomForestClassifier(n_estimators=200, random_state=101)"
      ]
     },
     "execution_count": 236,
     "metadata": {},
     "output_type": "execute_result"
    }
   ],
   "source": [
    "model2_rf.fit(X2_train, y2_train)"
   ]
  },
  {
   "cell_type": "code",
   "execution_count": 237,
   "id": "96570dbc-5636-4dd6-8885-392dda50e507",
   "metadata": {},
   "outputs": [],
   "source": [
    "pred2_rf = model2_rf.predict(X2_test)"
   ]
  },
  {
   "cell_type": "code",
   "execution_count": 239,
   "id": "9826b348-b674-4ccc-9332-69e082138af7",
   "metadata": {},
   "outputs": [
    {
     "ename": "ValueError",
     "evalue": "Classification metrics can't handle a mix of multilabel-indicator and binary targets",
     "output_type": "error",
     "traceback": [
      "\u001b[1;31m---------------------------------------------------------------------------\u001b[0m",
      "\u001b[1;31mValueError\u001b[0m                                Traceback (most recent call last)",
      "\u001b[1;32m~\\AppData\\Local\\Temp\\ipykernel_6484\\1913597798.py\u001b[0m in \u001b[0;36m<module>\u001b[1;34m\u001b[0m\n\u001b[1;32m----> 1\u001b[1;33m \u001b[0mconfusion_matrix\u001b[0m\u001b[1;33m(\u001b[0m \u001b[0mX2_test\u001b[0m\u001b[1;33m,\u001b[0m \u001b[0mpred2_rf\u001b[0m\u001b[1;33m)\u001b[0m\u001b[1;33m\u001b[0m\u001b[1;33m\u001b[0m\u001b[0m\n\u001b[0m",
      "\u001b[1;32m~\\anaconda3\\lib\\site-packages\\sklearn\\metrics\\_classification.py\u001b[0m in \u001b[0;36mconfusion_matrix\u001b[1;34m(y_true, y_pred, labels, sample_weight, normalize)\u001b[0m\n\u001b[0;32m    305\u001b[0m     \u001b[1;33m(\u001b[0m\u001b[1;36m0\u001b[0m\u001b[1;33m,\u001b[0m \u001b[1;36m2\u001b[0m\u001b[1;33m,\u001b[0m \u001b[1;36m1\u001b[0m\u001b[1;33m,\u001b[0m \u001b[1;36m1\u001b[0m\u001b[1;33m)\u001b[0m\u001b[1;33m\u001b[0m\u001b[1;33m\u001b[0m\u001b[0m\n\u001b[0;32m    306\u001b[0m     \"\"\"\n\u001b[1;32m--> 307\u001b[1;33m     \u001b[0my_type\u001b[0m\u001b[1;33m,\u001b[0m \u001b[0my_true\u001b[0m\u001b[1;33m,\u001b[0m \u001b[0my_pred\u001b[0m \u001b[1;33m=\u001b[0m \u001b[0m_check_targets\u001b[0m\u001b[1;33m(\u001b[0m\u001b[0my_true\u001b[0m\u001b[1;33m,\u001b[0m \u001b[0my_pred\u001b[0m\u001b[1;33m)\u001b[0m\u001b[1;33m\u001b[0m\u001b[1;33m\u001b[0m\u001b[0m\n\u001b[0m\u001b[0;32m    308\u001b[0m     \u001b[1;32mif\u001b[0m \u001b[0my_type\u001b[0m \u001b[1;32mnot\u001b[0m \u001b[1;32min\u001b[0m \u001b[1;33m(\u001b[0m\u001b[1;34m\"binary\"\u001b[0m\u001b[1;33m,\u001b[0m \u001b[1;34m\"multiclass\"\u001b[0m\u001b[1;33m)\u001b[0m\u001b[1;33m:\u001b[0m\u001b[1;33m\u001b[0m\u001b[1;33m\u001b[0m\u001b[0m\n\u001b[0;32m    309\u001b[0m         \u001b[1;32mraise\u001b[0m \u001b[0mValueError\u001b[0m\u001b[1;33m(\u001b[0m\u001b[1;34m\"%s is not supported\"\u001b[0m \u001b[1;33m%\u001b[0m \u001b[0my_type\u001b[0m\u001b[1;33m)\u001b[0m\u001b[1;33m\u001b[0m\u001b[1;33m\u001b[0m\u001b[0m\n",
      "\u001b[1;32m~\\anaconda3\\lib\\site-packages\\sklearn\\metrics\\_classification.py\u001b[0m in \u001b[0;36m_check_targets\u001b[1;34m(y_true, y_pred)\u001b[0m\n\u001b[0;32m     91\u001b[0m \u001b[1;33m\u001b[0m\u001b[0m\n\u001b[0;32m     92\u001b[0m     \u001b[1;32mif\u001b[0m \u001b[0mlen\u001b[0m\u001b[1;33m(\u001b[0m\u001b[0my_type\u001b[0m\u001b[1;33m)\u001b[0m \u001b[1;33m>\u001b[0m \u001b[1;36m1\u001b[0m\u001b[1;33m:\u001b[0m\u001b[1;33m\u001b[0m\u001b[1;33m\u001b[0m\u001b[0m\n\u001b[1;32m---> 93\u001b[1;33m         raise ValueError(\n\u001b[0m\u001b[0;32m     94\u001b[0m             \"Classification metrics can't handle a mix of {0} and {1} targets\".format(\n\u001b[0;32m     95\u001b[0m                 \u001b[0mtype_true\u001b[0m\u001b[1;33m,\u001b[0m \u001b[0mtype_pred\u001b[0m\u001b[1;33m\u001b[0m\u001b[1;33m\u001b[0m\u001b[0m\n",
      "\u001b[1;31mValueError\u001b[0m: Classification metrics can't handle a mix of multilabel-indicator and binary targets"
     ]
    }
   ],
   "source": [
    "confusion_matrix( X2_test, pred2_rf)"
   ]
  },
  {
   "cell_type": "code",
   "execution_count": 240,
   "id": "a13cc4af-def8-4810-be82-77b4ea5da152",
   "metadata": {},
   "outputs": [
    {
     "data": {
      "text/plain": [
       "0.7256614101394501"
      ]
     },
     "execution_count": 240,
     "metadata": {},
     "output_type": "execute_result"
    }
   ],
   "source": [
    "accuracy_score(y2_test, pred2_rf)"
   ]
  },
  {
   "cell_type": "code",
   "execution_count": 241,
   "id": "8180312b-fc73-4c09-b86b-30a0b0cfbbe5",
   "metadata": {},
   "outputs": [
    {
     "name": "stdout",
     "output_type": "stream",
     "text": [
      "              precision    recall  f1-score   support\n",
      "\n",
      "           0       0.60      0.39      0.47      4840\n",
      "           1       0.76      0.88      0.81     10506\n",
      "\n",
      "    accuracy                           0.73     15346\n",
      "   macro avg       0.68      0.63      0.64     15346\n",
      "weighted avg       0.71      0.73      0.71     15346\n",
      "\n"
     ]
    }
   ],
   "source": [
    "print(classification_report(y2_test, pred2_rf))"
   ]
  },
  {
   "cell_type": "code",
   "execution_count": 242,
   "id": "f9e84aee-3747-4d68-b28b-e3f3e50b3858",
   "metadata": {},
   "outputs": [
    {
     "data": {
      "text/plain": [
       "<AxesSubplot:>"
      ]
     },
     "execution_count": 242,
     "metadata": {},
     "output_type": "execute_result"
    },
    {
     "data": {
      "image/png": "[encoded data removed]",
      "text/plain": [
       "<Figure size 640x480 with 1 Axes>"
      ]
     },
     "metadata": {},
     "output_type": "display_data"
    }
   ],
   "source": [
    "(pd.Series(model2_rf.feature_importances_, index=X2_dummies.columns)\n",
    "   .nlargest(20)\n",
    "   .plot(kind='barh'))  "
   ]
  },
  {
   "cell_type": "code",
   "execution_count": null,
   "id": "40b7c331-d6e0-40a8-bfcc-8d3eacc68b8c",
   "metadata": {},
   "outputs": [],
   "source": []
  },
  {
   "cell_type": "markdown",
   "id": "1fbaa690-a372-4e52-9961-1339c6536b57",
   "metadata": {},
   "source": [
    "#### model 2 XGBOOST"
   ]
  },
  {
   "cell_type": "code",
   "execution_count": 243,
   "id": "f6efb335-36f4-4d82-b020-e42138e621f8",
   "metadata": {},
   "outputs": [
    {
     "name": "stderr",
     "output_type": "stream",
     "text": [
      "C:\\Users\\Enter\\anaconda3\\lib\\site-packages\\xgboost\\sklearn.py:1395: UserWarning: `use_label_encoder` is deprecated in 1.7.0.\n",
      "  warnings.warn(\"`use_label_encoder` is deprecated in 1.7.0.\")\n"
     ]
    }
   ],
   "source": [
    "model2_xgb = xgb.XGBClassifier(n_estimators = 200, max_depth =5, use_label_encoder=False, metrics ='error')"
   ]
  },
  {
   "cell_type": "code",
   "execution_count": 244,
   "id": "1220701c-4f6d-4fd6-b74b-e05be199c471",
   "metadata": {},
   "outputs": [
    {
     "name": "stdout",
     "output_type": "stream",
     "text": [
      "[17:44:26] WARNING: C:\\buildkite-agent\\builds\\buildkite-windows-cpu-autoscaling-group-i-07593ffd91cd9da33-1\\xgboost\\xgboost-ci-windows\\src\\learner.cc:767: \n",
      "Parameters: { \"metrics\" } are not used.\n",
      "\n",
      "time:  13.629400491714478\n"
     ]
    }
   ],
   "source": [
    "start =time.time()\n",
    "\n",
    "model2_xgb.fit(X2_train, y2_train)\n",
    "\n",
    "end = time.time()\n",
    "print(\"time: \", end -start)"
   ]
  },
  {
   "cell_type": "code",
   "execution_count": 246,
   "id": "c2b265eb-9d65-4528-888f-a10c6283280e",
   "metadata": {},
   "outputs": [],
   "source": [
    "pred2_xgb = model2_xgb.predict(X2_test)"
   ]
  },
  {
   "cell_type": "code",
   "execution_count": 247,
   "id": "eed86e45-cae1-4d92-be22-021f4c149cb2",
   "metadata": {},
   "outputs": [
    {
     "name": "stdout",
     "output_type": "stream",
     "text": [
      "              precision    recall  f1-score   support\n",
      "\n",
      "           0       0.65      0.36      0.47      4840\n",
      "           1       0.76      0.91      0.82     10506\n",
      "\n",
      "    accuracy                           0.74     15346\n",
      "   macro avg       0.70      0.64      0.65     15346\n",
      "weighted avg       0.72      0.74      0.71     15346\n",
      "\n"
     ]
    }
   ],
   "source": [
    "print(classification_report(y2_test, pred2_xgb))"
   ]
  },
  {
   "cell_type": "code",
   "execution_count": 248,
   "id": "ca73d62a-afea-4a02-8d62-09c75194aa1a",
   "metadata": {},
   "outputs": [
    {
     "data": {
      "text/plain": [
       "<AxesSubplot:>"
      ]
     },
     "execution_count": 248,
     "metadata": {},
     "output_type": "execute_result"
    },
    {
     "data": {
      "image/png": "[encoded data removed]",
      "text/plain": [
       "<Figure size 640x480 with 1 Axes>"
      ]
     },
     "metadata": {},
     "output_type": "display_data"
    }
   ],
   "source": [
    "(pd.Series(model2_xgb.feature_importances_, index=X2_dummies.columns)\n",
    "   .nlargest(20)\n",
    "   .plot(kind='barh'))  "
   ]
  },
  {
   "cell_type": "code",
   "execution_count": null,
   "id": "97ac2a8b-6162-449a-b90d-640df53f3e78",
   "metadata": {},
   "outputs": [],
   "source": []
  },
  {
   "cell_type": "code",
   "execution_count": null,
   "id": "d10eed79-2a60-4d1f-a017-17a02a832115",
   "metadata": {},
   "outputs": [],
   "source": []
  },
  {
   "cell_type": "code",
   "execution_count": null,
   "id": "06919394-6118-4bee-8304-8a506fc269fb",
   "metadata": {},
   "outputs": [],
   "source": []
  },
  {
   "cell_type": "code",
   "execution_count": null,
   "id": "c7607ca0-77ea-43dc-95e6-71f8de3b0d68",
   "metadata": {},
   "outputs": [],
   "source": []
  },
  {
   "cell_type": "code",
   "execution_count": null,
   "id": "00ed8299-061e-425e-85fc-93c3ef32990b",
   "metadata": {},
   "outputs": [],
   "source": []
  },
  {
   "cell_type": "markdown",
   "id": "5851082a-175b-450d-8d5f-e093707d8f8b",
   "metadata": {},
   "source": [
    "### third dataset with Target Column as target column"
   ]
  },
  {
   "cell_type": "code",
   "execution_count": null,
   "id": "7323b19c-8e22-4ebf-8731-a6835152e319",
   "metadata": {},
   "outputs": [],
   "source": [
    "df_US_ml['Target_column'].value_counts()"
   ]
  },
  {
   "cell_type": "code",
   "execution_count": null,
   "id": "d1982178-17af-4155-bad9-53635a78465c",
   "metadata": {},
   "outputs": [],
   "source": [
    "y3=df_US_ml['Target_column']"
   ]
  },
  {
   "cell_type": "code",
   "execution_count": null,
   "id": "36781b51-97ce-43cb-8f51-d051eaee745c",
   "metadata": {},
   "outputs": [],
   "source": [
    "X3 = df_US_ml.drop(columns = ['Aircraft.damage','Target_binary', 'Target_column'], axis=1)"
   ]
  },
  {
   "cell_type": "code",
   "execution_count": null,
   "id": "a816df81-19c3-4784-b6e8-4d69e86b8eeb",
   "metadata": {},
   "outputs": [],
   "source": [
    "enc3 = OneHotEncoder(handle_unknown='ignore')\n",
    "enc3.fit(X3)"
   ]
  },
  {
   "cell_type": "code",
   "execution_count": null,
   "id": "8489f1ba-d36e-43a7-b4a4-f3dd337bb7ac",
   "metadata": {},
   "outputs": [],
   "source": []
  },
  {
   "cell_type": "code",
   "execution_count": null,
   "id": "784e5876-b894-4784-8a3f-5940f6717a06",
   "metadata": {},
   "outputs": [],
   "source": []
  },
  {
   "cell_type": "code",
   "execution_count": null,
   "id": "09553fde-357c-4e52-a4dd-7aff3d161397",
   "metadata": {},
   "outputs": [],
   "source": []
  },
  {
   "cell_type": "code",
   "execution_count": null,
   "id": "0b299c2a-9285-4f52-9139-21ab1b1af5d5",
   "metadata": {},
   "outputs": [],
   "source": []
  },
  {
   "cell_type": "code",
   "execution_count": null,
   "id": "2061aaa0-3540-4971-9938-d34fb328778d",
   "metadata": {},
   "outputs": [],
   "source": []
  },
  {
   "cell_type": "code",
   "execution_count": null,
   "id": "546edd76-a5fc-43d4-8571-a0d32e122c90",
   "metadata": {},
   "outputs": [],
   "source": []
  },
  {
   "cell_type": "code",
   "execution_count": null,
   "id": "cbbdbdd9-bde4-4710-a60f-afe141f34236",
   "metadata": {},
   "outputs": [],
   "source": []
  },
  {
   "cell_type": "code",
   "execution_count": null,
   "id": "f4ba78aa-4992-4daf-866c-5239d3630da6",
   "metadata": {},
   "outputs": [],
   "source": []
  },
  {
   "cell_type": "code",
   "execution_count": null,
   "id": "1ce85358-a6b3-4d9f-bceb-8cb9e6560b37",
   "metadata": {},
   "outputs": [],
   "source": []
  },
  {
   "cell_type": "code",
   "execution_count": null,
   "id": "85723851-74cc-4f81-8375-6a2a6b82a831",
   "metadata": {},
   "outputs": [],
   "source": []
  },
  {
   "cell_type": "code",
   "execution_count": null,
   "id": "705f9d31-e3bd-4197-ba4e-adf236fcd861",
   "metadata": {},
   "outputs": [],
   "source": []
  }
 ],
 "metadata": {
  "kernelspec": {
   "display_name": "Python 3 (ipykernel)",
   "language": "python",
   "name": "python3"
  },
  "language_info": {
   "codemirror_mode": {
    "name": "ipython",
    "version": 3
   },
   "file_extension": ".py",
   "mimetype": "text/x-python",
   "name": "python",
   "nbconvert_exporter": "python",
   "pygments_lexer": "ipython3",
   "version": "3.9.13"
  }
 },
 "nbformat": 4,
 "nbformat_minor": 5
}
