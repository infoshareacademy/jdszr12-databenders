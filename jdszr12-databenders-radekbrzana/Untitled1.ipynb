{
 "cells": [
  {
   "cell_type": "code",
   "execution_count": null,
   "id": "f4a95580-8eb6-437e-b23d-dd09ffda491c",
   "metadata": {},
   "outputs": [],
   "source": [
    "# Oblicz średnią wartość base_total dla wierszy, w których słowa 'grass' lub 'bug' pojawiają się w kolumnie type1 lub type2.\n",
    "types = ['grass', 'fire', 'water', 'bug', 'normal', 'poison', 'electric', 'ground',\n",
    " 'fairy', 'fighting', 'psychic', 'rock', 'ghost', 'ice', 'dragon', 'dark', 'steel',\n",
    " 'flying']\n",
    "averages = {}\n",
    "for t in types:\n",
    "    avg = df.loc[(df['type1'].str.contains(t, case=False)) | (df['type2'].str.contains(t, case=False)), 'base_total'].mean()\n",
    "    averages[t] = avg\n",
    "    print(f\"Average base_total for {t}: {avg}\")"
   ]
  }
 ],
 "metadata": {
  "kernelspec": {
   "display_name": "Python 3 (ipykernel)",
   "language": "python",
   "name": "python3"
  },
  "language_info": {
   "codemirror_mode": {
    "name": "ipython",
    "version": 3
   },
   "file_extension": ".py",
   "mimetype": "text/x-python",
   "name": "python",
   "nbconvert_exporter": "python",
   "pygments_lexer": "ipython3",
   "version": "3.10.8"
  }
 },
 "nbformat": 4,
 "nbformat_minor": 5
}
