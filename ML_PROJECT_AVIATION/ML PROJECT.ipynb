{
 "cells": [
  {
   "cell_type": "code",
   "execution_count": 1,
   "id": "8a65d674",
   "metadata": {},
   "outputs": [],
   "source": [
    "import numpy as np\n",
    "import pandas as pd\n",
    "import matplotlib.pyplot as plt\n",
    "import seaborn as sns\n",
    "# Cel ML: analiza szans na wypadek lotniczy Cel aplikacji: predykcja bezpiecznego lotu"
   ]
  },
  {
   "cell_type": "code",
   "execution_count": 2,
   "id": "70d37f19",
   "metadata": {
    "scrolled": false
   },
   "outputs": [
    {
     "name": "stderr",
     "output_type": "stream",
     "text": [
      "/var/folders/rr/3tz5xt4j16s1wvxsg7zr8hg80000gn/T/ipykernel_2570/2001571506.py:1: DtypeWarning: Columns (6,7,23,28,31,33) have mixed types. Specify dtype option on import or set low_memory=False.\n",
      "  df = pd.read_csv(\"AviationData2.csv\")\n"
     ]
    },
    {
     "data": {
      "text/html": [
       "<div>\n",
       "<style scoped>\n",
       "    .dataframe tbody tr th:only-of-type {\n",
       "        vertical-align: middle;\n",
       "    }\n",
       "\n",
       "    .dataframe tbody tr th {\n",
       "        vertical-align: top;\n",
       "    }\n",
       "\n",
       "    .dataframe thead th {\n",
       "        text-align: right;\n",
       "    }\n",
       "</style>\n",
       "<table border=\"1\" class=\"dataframe\">\n",
       "  <thead>\n",
       "    <tr style=\"text-align: right;\">\n",
       "      <th></th>\n",
       "      <th>Event.Id</th>\n",
       "      <th>Investigation.Type</th>\n",
       "      <th>Accident.Number</th>\n",
       "      <th>Event.Date</th>\n",
       "      <th>Location</th>\n",
       "      <th>Country</th>\n",
       "      <th>Latitude</th>\n",
       "      <th>Longitude</th>\n",
       "      <th>Airport.Code</th>\n",
       "      <th>Airport.Name</th>\n",
       "      <th>...</th>\n",
       "      <th>Broad.phase.of.flight</th>\n",
       "      <th>Report.Status</th>\n",
       "      <th>Publication.Date</th>\n",
       "      <th>Unnamed: 31</th>\n",
       "      <th>Unnamed: 32</th>\n",
       "      <th>Unnamed: 33</th>\n",
       "      <th>Unnamed: 34</th>\n",
       "      <th>Unnamed: 35</th>\n",
       "      <th>Unnamed: 36</th>\n",
       "      <th>Unnamed: 37</th>\n",
       "    </tr>\n",
       "  </thead>\n",
       "  <tbody>\n",
       "    <tr>\n",
       "      <th>0</th>\n",
       "      <td>20001218X45444</td>\n",
       "      <td>Accident</td>\n",
       "      <td>SEA87LA080</td>\n",
       "      <td>1948-10-24</td>\n",
       "      <td>MOOSE CREEK, ID</td>\n",
       "      <td>United States</td>\n",
       "      <td>NaN</td>\n",
       "      <td>NaN</td>\n",
       "      <td>NaN</td>\n",
       "      <td>NaN</td>\n",
       "      <td>...</td>\n",
       "      <td>Cruise</td>\n",
       "      <td>Probable Cause</td>\n",
       "      <td>NaN</td>\n",
       "      <td>NaN</td>\n",
       "      <td>NaN</td>\n",
       "      <td>NaN</td>\n",
       "      <td>NaN</td>\n",
       "      <td>NaN</td>\n",
       "      <td>NaN</td>\n",
       "      <td>NaN</td>\n",
       "    </tr>\n",
       "    <tr>\n",
       "      <th>1</th>\n",
       "      <td>20001218X45447</td>\n",
       "      <td>Accident</td>\n",
       "      <td>LAX94LA336</td>\n",
       "      <td>1962-07-19</td>\n",
       "      <td>BRIDGEPORT, CA</td>\n",
       "      <td>United States</td>\n",
       "      <td>NaN</td>\n",
       "      <td>NaN</td>\n",
       "      <td>NaN</td>\n",
       "      <td>NaN</td>\n",
       "      <td>...</td>\n",
       "      <td>Unknown</td>\n",
       "      <td>Probable Cause</td>\n",
       "      <td>19-09-1996</td>\n",
       "      <td>NaN</td>\n",
       "      <td>NaN</td>\n",
       "      <td>NaN</td>\n",
       "      <td>NaN</td>\n",
       "      <td>NaN</td>\n",
       "      <td>NaN</td>\n",
       "      <td>NaN</td>\n",
       "    </tr>\n",
       "    <tr>\n",
       "      <th>2</th>\n",
       "      <td>20061025X01555</td>\n",
       "      <td>Accident</td>\n",
       "      <td>NYC07LA005</td>\n",
       "      <td>1974-08-30</td>\n",
       "      <td>Saltville, VA</td>\n",
       "      <td>United States</td>\n",
       "      <td>36.922223</td>\n",
       "      <td>-81.878056</td>\n",
       "      <td>NaN</td>\n",
       "      <td>NaN</td>\n",
       "      <td>...</td>\n",
       "      <td>Cruise</td>\n",
       "      <td>Probable Cause</td>\n",
       "      <td>26-02-2007</td>\n",
       "      <td>NaN</td>\n",
       "      <td>NaN</td>\n",
       "      <td>NaN</td>\n",
       "      <td>NaN</td>\n",
       "      <td>NaN</td>\n",
       "      <td>NaN</td>\n",
       "      <td>NaN</td>\n",
       "    </tr>\n",
       "    <tr>\n",
       "      <th>3</th>\n",
       "      <td>20001218X45448</td>\n",
       "      <td>Accident</td>\n",
       "      <td>LAX96LA321</td>\n",
       "      <td>1977-06-19</td>\n",
       "      <td>EUREKA, CA</td>\n",
       "      <td>United States</td>\n",
       "      <td>NaN</td>\n",
       "      <td>NaN</td>\n",
       "      <td>NaN</td>\n",
       "      <td>NaN</td>\n",
       "      <td>...</td>\n",
       "      <td>Cruise</td>\n",
       "      <td>Probable Cause</td>\n",
       "      <td>12-09-2000</td>\n",
       "      <td>NaN</td>\n",
       "      <td>NaN</td>\n",
       "      <td>NaN</td>\n",
       "      <td>NaN</td>\n",
       "      <td>NaN</td>\n",
       "      <td>NaN</td>\n",
       "      <td>NaN</td>\n",
       "    </tr>\n",
       "    <tr>\n",
       "      <th>4</th>\n",
       "      <td>20041105X01764</td>\n",
       "      <td>Accident</td>\n",
       "      <td>CHI79FA064</td>\n",
       "      <td>1979-08-02</td>\n",
       "      <td>Canton, OH</td>\n",
       "      <td>United States</td>\n",
       "      <td>NaN</td>\n",
       "      <td>NaN</td>\n",
       "      <td>NaN</td>\n",
       "      <td>NaN</td>\n",
       "      <td>...</td>\n",
       "      <td>Approach</td>\n",
       "      <td>Probable Cause</td>\n",
       "      <td>16-04-1980</td>\n",
       "      <td>NaN</td>\n",
       "      <td>NaN</td>\n",
       "      <td>NaN</td>\n",
       "      <td>NaN</td>\n",
       "      <td>NaN</td>\n",
       "      <td>NaN</td>\n",
       "      <td>NaN</td>\n",
       "    </tr>\n",
       "  </tbody>\n",
       "</table>\n",
       "<p>5 rows × 38 columns</p>\n",
       "</div>"
      ],
      "text/plain": [
       "         Event.Id Investigation.Type Accident.Number  Event.Date  \\\n",
       "0  20001218X45444           Accident      SEA87LA080  1948-10-24   \n",
       "1  20001218X45447           Accident      LAX94LA336  1962-07-19   \n",
       "2  20061025X01555           Accident      NYC07LA005  1974-08-30   \n",
       "3  20001218X45448           Accident      LAX96LA321  1977-06-19   \n",
       "4  20041105X01764           Accident      CHI79FA064  1979-08-02   \n",
       "\n",
       "          Location        Country   Latitude  Longitude Airport.Code  \\\n",
       "0  MOOSE CREEK, ID  United States        NaN        NaN          NaN   \n",
       "1   BRIDGEPORT, CA  United States        NaN        NaN          NaN   \n",
       "2    Saltville, VA  United States  36.922223 -81.878056          NaN   \n",
       "3       EUREKA, CA  United States        NaN        NaN          NaN   \n",
       "4       Canton, OH  United States        NaN        NaN          NaN   \n",
       "\n",
       "  Airport.Name  ... Broad.phase.of.flight   Report.Status Publication.Date  \\\n",
       "0          NaN  ...                Cruise  Probable Cause              NaN   \n",
       "1          NaN  ...               Unknown  Probable Cause       19-09-1996   \n",
       "2          NaN  ...                Cruise  Probable Cause       26-02-2007   \n",
       "3          NaN  ...                Cruise  Probable Cause       12-09-2000   \n",
       "4          NaN  ...              Approach  Probable Cause       16-04-1980   \n",
       "\n",
       "  Unnamed: 31 Unnamed: 32 Unnamed: 33 Unnamed: 34  Unnamed: 35 Unnamed: 36  \\\n",
       "0         NaN         NaN         NaN         NaN          NaN         NaN   \n",
       "1         NaN         NaN         NaN         NaN          NaN         NaN   \n",
       "2         NaN         NaN         NaN         NaN          NaN         NaN   \n",
       "3         NaN         NaN         NaN         NaN          NaN         NaN   \n",
       "4         NaN         NaN         NaN         NaN          NaN         NaN   \n",
       "\n",
       "  Unnamed: 37  \n",
       "0         NaN  \n",
       "1         NaN  \n",
       "2         NaN  \n",
       "3         NaN  \n",
       "4         NaN  \n",
       "\n",
       "[5 rows x 38 columns]"
      ]
     },
     "execution_count": 2,
     "metadata": {},
     "output_type": "execute_result"
    }
   ],
   "source": [
    "df = pd.read_csv(\"AviationData2.csv\")\n",
    "df.head()\n"
   ]
  },
  {
   "cell_type": "code",
   "execution_count": 3,
   "id": "dbf71668",
   "metadata": {},
   "outputs": [],
   "source": [
    "df_no_column = df.drop(['Event.Id', 'Investigation.Type', 'Accident.Number','Latitude', 'Longitude', 'Airport.Code','Airport.Name', 'Registration.Number', 'FAR.Description', 'Schedule', 'Air.carrier','Publication.Date', 'Unnamed: 31', 'Unnamed: 32', 'Unnamed: 33', 'Unnamed: 34', 'Unnamed: 35', 'Unnamed: 36', 'Unnamed: 37'], axis=1)"
   ]
  },
  {
   "cell_type": "code",
   "execution_count": 4,
   "id": "d4bd926c",
   "metadata": {
    "scrolled": true
   },
   "outputs": [
    {
     "data": {
      "text/html": [
       "<div>\n",
       "<style scoped>\n",
       "    .dataframe tbody tr th:only-of-type {\n",
       "        vertical-align: middle;\n",
       "    }\n",
       "\n",
       "    .dataframe tbody tr th {\n",
       "        vertical-align: top;\n",
       "    }\n",
       "\n",
       "    .dataframe thead th {\n",
       "        text-align: right;\n",
       "    }\n",
       "</style>\n",
       "<table border=\"1\" class=\"dataframe\">\n",
       "  <thead>\n",
       "    <tr style=\"text-align: right;\">\n",
       "      <th></th>\n",
       "      <th>Event.Date</th>\n",
       "      <th>Location</th>\n",
       "      <th>Country</th>\n",
       "      <th>Injury.Severity</th>\n",
       "      <th>Aircraft.damage</th>\n",
       "      <th>Aircraft.Category</th>\n",
       "      <th>Make</th>\n",
       "      <th>Model</th>\n",
       "      <th>Amateur.Built</th>\n",
       "      <th>Number.of.Engines</th>\n",
       "      <th>Engine.Type</th>\n",
       "      <th>Purpose.of.flight</th>\n",
       "      <th>Total.Fatal.Injuries</th>\n",
       "      <th>Total.Serious.Injuries</th>\n",
       "      <th>Total.Minor.Injuries</th>\n",
       "      <th>Total.Uninjured</th>\n",
       "      <th>Weather.Condition</th>\n",
       "      <th>Broad.phase.of.flight</th>\n",
       "      <th>Report.Status</th>\n",
       "    </tr>\n",
       "  </thead>\n",
       "  <tbody>\n",
       "    <tr>\n",
       "      <th>0</th>\n",
       "      <td>1948-10-24</td>\n",
       "      <td>MOOSE CREEK, ID</td>\n",
       "      <td>United States</td>\n",
       "      <td>Fatal(2)</td>\n",
       "      <td>Destroyed</td>\n",
       "      <td>NaN</td>\n",
       "      <td>Stinson</td>\n",
       "      <td>108-3</td>\n",
       "      <td>No</td>\n",
       "      <td>1.0</td>\n",
       "      <td>Reciprocating</td>\n",
       "      <td>Personal</td>\n",
       "      <td>2.0</td>\n",
       "      <td>0.0</td>\n",
       "      <td>0.0</td>\n",
       "      <td>0.0</td>\n",
       "      <td>UNK</td>\n",
       "      <td>Cruise</td>\n",
       "      <td>Probable Cause</td>\n",
       "    </tr>\n",
       "    <tr>\n",
       "      <th>1</th>\n",
       "      <td>1962-07-19</td>\n",
       "      <td>BRIDGEPORT, CA</td>\n",
       "      <td>United States</td>\n",
       "      <td>Fatal(4)</td>\n",
       "      <td>Destroyed</td>\n",
       "      <td>NaN</td>\n",
       "      <td>Piper</td>\n",
       "      <td>PA24-180</td>\n",
       "      <td>No</td>\n",
       "      <td>1.0</td>\n",
       "      <td>Reciprocating</td>\n",
       "      <td>Personal</td>\n",
       "      <td>4.0</td>\n",
       "      <td>0.0</td>\n",
       "      <td>0.0</td>\n",
       "      <td>0.0</td>\n",
       "      <td>UNK</td>\n",
       "      <td>Unknown</td>\n",
       "      <td>Probable Cause</td>\n",
       "    </tr>\n",
       "    <tr>\n",
       "      <th>2</th>\n",
       "      <td>1974-08-30</td>\n",
       "      <td>Saltville, VA</td>\n",
       "      <td>United States</td>\n",
       "      <td>Fatal(3)</td>\n",
       "      <td>Destroyed</td>\n",
       "      <td>NaN</td>\n",
       "      <td>Cessna</td>\n",
       "      <td>172M</td>\n",
       "      <td>No</td>\n",
       "      <td>1.0</td>\n",
       "      <td>Reciprocating</td>\n",
       "      <td>Personal</td>\n",
       "      <td>3.0</td>\n",
       "      <td>NaN</td>\n",
       "      <td>NaN</td>\n",
       "      <td>NaN</td>\n",
       "      <td>IMC</td>\n",
       "      <td>Cruise</td>\n",
       "      <td>Probable Cause</td>\n",
       "    </tr>\n",
       "    <tr>\n",
       "      <th>3</th>\n",
       "      <td>1977-06-19</td>\n",
       "      <td>EUREKA, CA</td>\n",
       "      <td>United States</td>\n",
       "      <td>Fatal(2)</td>\n",
       "      <td>Destroyed</td>\n",
       "      <td>NaN</td>\n",
       "      <td>Rockwell</td>\n",
       "      <td>112</td>\n",
       "      <td>No</td>\n",
       "      <td>1.0</td>\n",
       "      <td>Reciprocating</td>\n",
       "      <td>Personal</td>\n",
       "      <td>2.0</td>\n",
       "      <td>0.0</td>\n",
       "      <td>0.0</td>\n",
       "      <td>0.0</td>\n",
       "      <td>IMC</td>\n",
       "      <td>Cruise</td>\n",
       "      <td>Probable Cause</td>\n",
       "    </tr>\n",
       "    <tr>\n",
       "      <th>4</th>\n",
       "      <td>1979-08-02</td>\n",
       "      <td>Canton, OH</td>\n",
       "      <td>United States</td>\n",
       "      <td>Fatal(1)</td>\n",
       "      <td>Destroyed</td>\n",
       "      <td>NaN</td>\n",
       "      <td>Cessna</td>\n",
       "      <td>501</td>\n",
       "      <td>No</td>\n",
       "      <td>NaN</td>\n",
       "      <td>NaN</td>\n",
       "      <td>Personal</td>\n",
       "      <td>1.0</td>\n",
       "      <td>2.0</td>\n",
       "      <td>NaN</td>\n",
       "      <td>0.0</td>\n",
       "      <td>VMC</td>\n",
       "      <td>Approach</td>\n",
       "      <td>Probable Cause</td>\n",
       "    </tr>\n",
       "  </tbody>\n",
       "</table>\n",
       "</div>"
      ],
      "text/plain": [
       "   Event.Date         Location        Country Injury.Severity Aircraft.damage  \\\n",
       "0  1948-10-24  MOOSE CREEK, ID  United States        Fatal(2)       Destroyed   \n",
       "1  1962-07-19   BRIDGEPORT, CA  United States        Fatal(4)       Destroyed   \n",
       "2  1974-08-30    Saltville, VA  United States        Fatal(3)       Destroyed   \n",
       "3  1977-06-19       EUREKA, CA  United States        Fatal(2)       Destroyed   \n",
       "4  1979-08-02       Canton, OH  United States        Fatal(1)       Destroyed   \n",
       "\n",
       "  Aircraft.Category      Make     Model Amateur.Built  Number.of.Engines  \\\n",
       "0               NaN   Stinson     108-3            No                1.0   \n",
       "1               NaN     Piper  PA24-180            No                1.0   \n",
       "2               NaN    Cessna      172M            No                1.0   \n",
       "3               NaN  Rockwell       112            No                1.0   \n",
       "4               NaN    Cessna       501            No                NaN   \n",
       "\n",
       "     Engine.Type Purpose.of.flight Total.Fatal.Injuries  \\\n",
       "0  Reciprocating          Personal                  2.0   \n",
       "1  Reciprocating          Personal                  4.0   \n",
       "2  Reciprocating          Personal                  3.0   \n",
       "3  Reciprocating          Personal                  2.0   \n",
       "4            NaN          Personal                  1.0   \n",
       "\n",
       "   Total.Serious.Injuries  Total.Minor.Injuries  Total.Uninjured  \\\n",
       "0                     0.0                   0.0              0.0   \n",
       "1                     0.0                   0.0              0.0   \n",
       "2                     NaN                   NaN              NaN   \n",
       "3                     0.0                   0.0              0.0   \n",
       "4                     2.0                   NaN              0.0   \n",
       "\n",
       "  Weather.Condition Broad.phase.of.flight   Report.Status  \n",
       "0               UNK                Cruise  Probable Cause  \n",
       "1               UNK               Unknown  Probable Cause  \n",
       "2               IMC                Cruise  Probable Cause  \n",
       "3               IMC                Cruise  Probable Cause  \n",
       "4               VMC              Approach  Probable Cause  "
      ]
     },
     "execution_count": 4,
     "metadata": {},
     "output_type": "execute_result"
    }
   ],
   "source": [
    "df_no_column.head()"
   ]
  },
  {
   "cell_type": "code",
   "execution_count": 7,
   "id": "aaef5298",
   "metadata": {},
   "outputs": [
    {
     "data": {
      "text/plain": [
       "array(['Destroyed', 'Substantial', 'Minor', nan, 'Fatal(2)', 'Unknown'],\n",
       "      dtype=object)"
      ]
     },
     "execution_count": 7,
     "metadata": {},
     "output_type": "execute_result"
    }
   ],
   "source": [
    "df[\"Aircraft.damage\"].unique()"
   ]
  },
  {
   "cell_type": "code",
   "execution_count": 8,
   "id": "52513ec9",
   "metadata": {},
   "outputs": [],
   "source": [
    "df['Make'] = df['Make'].str.lower()"
   ]
  },
  {
   "cell_type": "code",
   "execution_count": 9,
   "id": "7d3c7011",
   "metadata": {},
   "outputs": [
    {
     "data": {
      "text/plain": [
       "array(['stinson', 'piper', 'cessna', ..., 'james r dernovsek',\n",
       "       'orlican s r o', 'royse ralph l'], dtype=object)"
      ]
     },
     "execution_count": 9,
     "metadata": {},
     "output_type": "execute_result"
    }
   ],
   "source": [
    "df[\"Make\"].unique()"
   ]
  },
  {
   "cell_type": "code",
   "execution_count": 10,
   "id": "0e9b4d03",
   "metadata": {},
   "outputs": [],
   "source": [
    "us_df = df_no_column[df_no_column['Country'] == 'United States']"
   ]
  },
  {
   "cell_type": "code",
   "execution_count": 11,
   "id": "b78672b6",
   "metadata": {},
   "outputs": [],
   "source": [
    "us_df.to_csv('us_df.csv', index=False)"
   ]
  },
  {
   "cell_type": "code",
   "execution_count": null,
   "id": "86b94149",
   "metadata": {},
   "outputs": [],
   "source": []
  },
  {
   "cell_type": "code",
   "execution_count": 26,
   "id": "dfe2c0a8",
   "metadata": {},
   "outputs": [],
   "source": [
    "df_no_column.to_csv('df_no_column.csv', index=False)"
   ]
  },
  {
   "cell_type": "code",
   "execution_count": 6,
   "id": "ead61e9c",
   "metadata": {},
   "outputs": [
    {
     "name": "stdout",
     "output_type": "stream",
     "text": [
      "       Event.Date                Location         Country Injury.Severity  \\\n",
      "58803  2005-06-10         Canada/US borde             NaN        Incident   \n",
      "53640  2002-10-11                     NaN       Australia        Incident   \n",
      "49759  2000-11-28          Nairobi, Kenya           Kenya        Incident   \n",
      "61788  2006-12-07  London, United Kingdom  United Kingdom        Incident   \n",
      "62530  2007-05-13          London Control             NaN        Incident   \n",
      "61437  2006-09-18     Brisbane, Australia       Australia        Incident   \n",
      "50016  2001-01-30                     NaN       Australia        Incident   \n",
      "61431  2006-09-17                     NaN         Iceland        Incident   \n",
      "61405  2006-09-12   Auckland, New Zealand     New Zealand        Incident   \n",
      "60290  2006-03-05         Dublin, Ireland         Ireland        Incident   \n",
      "\n",
      "      Aircraft.damage Aircraft.Category                   Make      Model  \\\n",
      "58803             NaN               NaN                    NaN        NaN   \n",
      "53640             NaN               NaN  Saab-scania Ab (saab)     227-AC   \n",
      "49759           Minor               NaN                    NaN        NaN   \n",
      "61788             NaN               NaN                 Boeing    747-4Q8   \n",
      "62530             NaN               NaN                 Boeing    737-800   \n",
      "61437             NaN               NaN                 Boeing        777   \n",
      "50016             NaN          Airplane                 Boeing  B-777-300   \n",
      "61431           Minor               NaN                 Boeing    767-300   \n",
      "61405             NaN               NaN                 Boeing        737   \n",
      "60290             NaN               NaN       Airbus Industrie       A320   \n",
      "\n",
      "      Amateur.Built Number.of.Engines Engine.Type Purpose.of.flight  \\\n",
      "58803            No               NaN         NaN               NaN   \n",
      "53640           NaN               NaN         NaN               NaN   \n",
      "49759            No               NaN         NaN               NaN   \n",
      "61788           NaN               NaN         NaN               NaN   \n",
      "62530            No               NaN         NaN               NaN   \n",
      "61437           NaN               NaN         NaN               NaN   \n",
      "50016           NaN               NaN         NaN               NaN   \n",
      "61431           NaN               NaN         NaN               NaN   \n",
      "61405           NaN               NaN         NaN               NaN   \n",
      "60290           NaN               NaN         NaN               NaN   \n",
      "\n",
      "      Total.Fatal.Injuries  Total.Serious.Injuries  Total.Minor.Injuries  \\\n",
      "58803                  NaN                     NaN                   NaN   \n",
      "53640                  NaN                     NaN                   NaN   \n",
      "49759                  NaN                     NaN                   NaN   \n",
      "61788                  NaN                     NaN                   NaN   \n",
      "62530                  NaN                     NaN                   NaN   \n",
      "61437                  NaN                     NaN                   NaN   \n",
      "50016                  NaN                     NaN                   NaN   \n",
      "61431                  NaN                     NaN                   NaN   \n",
      "61405                  NaN                     NaN                   NaN   \n",
      "60290                  NaN                     NaN                   NaN   \n",
      "\n",
      "       Total.Uninjured Weather.Condition Broad.phase.of.flight Report.Status  \n",
      "58803              NaN               NaN                   NaN       Foreign  \n",
      "53640              NaN               NaN                   NaN       Foreign  \n",
      "49759              NaN               NaN                   NaN       Foreign  \n",
      "61788              NaN               NaN                   NaN       Foreign  \n",
      "62530              NaN               NaN                   NaN       Foreign  \n",
      "61437              NaN               NaN                   NaN       Foreign  \n",
      "50016              NaN               NaN                   NaN       Foreign  \n",
      "61431              NaN               NaN                   NaN       Foreign  \n",
      "61405              NaN               NaN                   NaN       Foreign  \n",
      "60290              NaN               NaN                   NaN       Foreign  \n"
     ]
    }
   ],
   "source": [
    "# Calculate the number of missing values in each row\n",
    "missing_values_count = df.isnull().sum(axis=1)\n",
    "\n",
    "# Sort the rows based on the count of missing values\n",
    "sorted_rows = df.loc[missing_values_count.sort_values(ascending=False).index]\n",
    "\n",
    "# Select the rows with the highest count of missing values\n",
    "rows_with_most_missing_values = sorted_rows.head(10)\n",
    "\n",
    "# Print the rows with the most missing values\n",
    "print(rows_with_most_missing_values)\n"
   ]
  },
  {
   "cell_type": "code",
   "execution_count": 30,
   "id": "c2339335",
   "metadata": {
    "scrolled": true
   },
   "outputs": [],
   "source": [
    "# Create a data frame with rows containing 'United States' in the 'Country' column\n",
    "us_df = df_no_column[df_no_column['Country'] == 'United States']\n",
    "\n",
    "# Create a data frame with rows not containing 'United States' in the 'Country' column\n",
    "non_us_df = df_no_column[df_no_column['Country'] != 'United States']"
   ]
  },
  {
   "cell_type": "code",
   "execution_count": 31,
   "id": "9e74d36f",
   "metadata": {},
   "outputs": [
    {
     "data": {
      "text/plain": [
       "(82248, 19)"
      ]
     },
     "execution_count": 31,
     "metadata": {},
     "output_type": "execute_result"
    }
   ],
   "source": [
    "us_df.shape"
   ]
  },
  {
   "cell_type": "code",
   "execution_count": 32,
   "id": "b5baca7e",
   "metadata": {},
   "outputs": [],
   "source": [
    "us_df.to_csv('us_df.csv', index=False)"
   ]
  },
  {
   "cell_type": "code",
   "execution_count": 9,
   "id": "1aa9cc1c",
   "metadata": {},
   "outputs": [
    {
     "data": {
      "text/plain": [
       "Event.Date                    0\n",
       "Location                     11\n",
       "Country                       0\n",
       "Injury.Severity             108\n",
       "Aircraft.damage            1979\n",
       "Aircraft.Category         54092\n",
       "Make                         21\n",
       "Model                        38\n",
       "Amateur.Built                21\n",
       "Number.of.Engines          1874\n",
       "Engine.Type                3024\n",
       "Purpose.of.flight          2432\n",
       "Total.Fatal.Injuries      10656\n",
       "Total.Serious.Injuries    11374\n",
       "Total.Minor.Injuries      10729\n",
       "Total.Uninjured            5006\n",
       "Weather.Condition           646\n",
       "Broad.phase.of.flight     21088\n",
       "Report.Status              2613\n",
       "dtype: int64"
      ]
     },
     "execution_count": 9,
     "metadata": {},
     "output_type": "execute_result"
    }
   ],
   "source": [
    "us_df.isnull().sum()"
   ]
  },
  {
   "cell_type": "code",
   "execution_count": 33,
   "id": "5a655755",
   "metadata": {},
   "outputs": [
    {
     "data": {
      "text/plain": [
       "(6641, 19)"
      ]
     },
     "execution_count": 33,
     "metadata": {},
     "output_type": "execute_result"
    }
   ],
   "source": [
    "non_us_df.shape"
   ]
  },
  {
   "cell_type": "code",
   "execution_count": 34,
   "id": "5937901e",
   "metadata": {},
   "outputs": [],
   "source": [
    "non_us_df.to_csv('non_us_df.csv', index=False)"
   ]
  },
  {
   "cell_type": "code",
   "execution_count": 10,
   "id": "9ba73f1e",
   "metadata": {},
   "outputs": [
    {
     "data": {
      "text/plain": [
       "Event.Date                   0\n",
       "Location                    41\n",
       "Country                    226\n",
       "Injury.Severity            892\n",
       "Aircraft.damage           1215\n",
       "Aircraft.Category         2508\n",
       "Make                        42\n",
       "Model                       54\n",
       "Amateur.Built               81\n",
       "Number.of.Engines         4209\n",
       "Engine.Type               4054\n",
       "Purpose.of.flight         3763\n",
       "Total.Fatal.Injuries       747\n",
       "Total.Serious.Injuries    1135\n",
       "Total.Minor.Injuries      1204\n",
       "Total.Uninjured            907\n",
       "Weather.Condition         3846\n",
       "Broad.phase.of.flight     6075\n",
       "Report.Status             3771\n",
       "dtype: int64"
      ]
     },
     "execution_count": 10,
     "metadata": {},
     "output_type": "execute_result"
    }
   ],
   "source": [
    "non_us_df.isnull().sum()"
   ]
  },
  {
   "cell_type": "code",
   "execution_count": null,
   "id": "35aba5e7",
   "metadata": {},
   "outputs": [],
   "source": [
    "#EDA"
   ]
  },
  {
   "cell_type": "code",
   "execution_count": 15,
   "id": "f9c5ae4e",
   "metadata": {},
   "outputs": [
    {
     "name": "stdout",
     "output_type": "stream",
     "text": [
      "       Event.Date       Location        Country  Injury.Severity  \\\n",
      "55329  2003-08-19  CLEVELAND, OH  United States  BURKE LAKEFRONT   \n",
      "\n",
      "      Aircraft.damage Aircraft.Category    Make   Model Amateur.Built  \\\n",
      "55329       Non-Fatal       Substantial  N229ME  Cessna           172   \n",
      "\n",
      "      Number.of.Engines Engine.Type Purpose.of.flight Total.Fatal.Injuries  \\\n",
      "55329                No           1               NaN                  NaN   \n",
      "\n",
      "       Total.Serious.Injuries  Total.Minor.Injuries  Total.Uninjured  \\\n",
      "55329                     NaN                   NaN              NaN   \n",
      "\n",
      "      Weather.Condition Broad.phase.of.flight Report.Status  \n",
      "55329                 2                   VMC       Landing  \n"
     ]
    }
   ],
   "source": [
    "import pandas as pd\n",
    "\n",
    "# Assuming your DataFrame is named 'df'\n",
    "# Find the row in the 'Amateur.Built' column that has a value of 172\n",
    "b\n",
    "\n",
    "# Print the row\n",
    "print(row_with_value_172)\n"
   ]
  },
  {
   "cell_type": "code",
   "execution_count": 4,
   "id": "159dcea7",
   "metadata": {},
   "outputs": [
    {
     "data": {
      "text/plain": [
       "array(['Accident', 'Incident'], dtype=object)"
      ]
     },
     "execution_count": 4,
     "metadata": {},
     "output_type": "execute_result"
    }
   ],
   "source": [
    "df[\"Investigation.Type\"].unique()"
   ]
  },
  {
   "cell_type": "code",
   "execution_count": 5,
   "id": "7e7a7e33",
   "metadata": {},
   "outputs": [
    {
     "data": {
      "text/plain": [
       "Index(['Event.Id', 'Investigation.Type', 'Accident.Number', 'Event.Date',\n",
       "       'Location', 'Country', 'Latitude', 'Longitude', 'Airport.Code',\n",
       "       'Airport.Name', 'Injury.Severity', 'Aircraft.damage',\n",
       "       'Aircraft.Category', 'Registration.Number', 'Make', 'Model',\n",
       "       'Amateur.Built', 'Number.of.Engines', 'Engine.Type', 'FAR.Description',\n",
       "       'Schedule', 'Purpose.of.flight', 'Air.carrier', 'Total.Fatal.Injuries',\n",
       "       'Total.Serious.Injuries', 'Total.Minor.Injuries', 'Total.Uninjured',\n",
       "       'Weather.Condition', 'Broad.phase.of.flight', 'Report.Status',\n",
       "       'Publication.Date', 'Unnamed: 31'],\n",
       "      dtype='object')"
      ]
     },
     "execution_count": 5,
     "metadata": {},
     "output_type": "execute_result"
    }
   ],
   "source": [
    "df.columns"
   ]
  },
  {
   "cell_type": "code",
   "execution_count": 18,
   "id": "065a5669",
   "metadata": {
    "scrolled": true
   },
   "outputs": [
    {
     "data": {
      "text/plain": [
       "Substantial    64146\n",
       "Destroyed      18622\n",
       "Minor           2805\n",
       "Unknown          119\n",
       "Non-Fatal          2\n",
       "Fatal(2)           1\n",
       "Name: Aircraft.damage, dtype: int64"
      ]
     },
     "execution_count": 18,
     "metadata": {},
     "output_type": "execute_result"
    }
   ],
   "source": [
    "df[\"Aircraft.damage\"].value_counts()"
   ]
  },
  {
   "cell_type": "code",
   "execution_count": 3,
   "id": "e798dced",
   "metadata": {
    "scrolled": true
   },
   "outputs": [
    {
     "data": {
      "text/plain": [
       "Cessna              22226\n",
       "Piper               12029\n",
       "CESSNA               4922\n",
       "Beech                4329\n",
       "PIPER                2841\n",
       "                    ...  \n",
       "Kirchner                1\n",
       "1977 Colfer-chan        1\n",
       "Leonard Walters         1\n",
       "Maule Air Inc.          1\n",
       "ROYSE RALPH L           1\n",
       "Name: Make, Length: 8240, dtype: int64"
      ]
     },
     "execution_count": 3,
     "metadata": {},
     "output_type": "execute_result"
    }
   ],
   "source": [
    "df['Make'].value_counts()"
   ]
  },
  {
   "cell_type": "code",
   "execution_count": 6,
   "id": "bb7ad2c5",
   "metadata": {},
   "outputs": [
    {
     "data": {
      "text/plain": [
       "0.0      33457\n",
       "0        26214\n",
       "1.0       5652\n",
       "2.0       3307\n",
       "1         3230\n",
       "         ...  \n",
       "35.0         1\n",
       "29.0         1\n",
       "125.0        1\n",
       "70.0         1\n",
       "62           1\n",
       "Name: Total.Fatal.Injuries, Length: 164, dtype: int64"
      ]
     },
     "execution_count": 6,
     "metadata": {},
     "output_type": "execute_result"
    }
   ],
   "source": [
    "df['Total.Fatal.Injuries'].value_counts()"
   ]
  },
  {
   "cell_type": "code",
   "execution_count": 7,
   "id": "875c19f0",
   "metadata": {},
   "outputs": [
    {
     "data": {
      "text/plain": [
       "array(['2', '4', '3', '1', nan, '0', '8', '78', '7', '6', '5', '153',\n",
       "       '12', '14', '23', '10', '11', '9', '17', '13', '29', '70',\n",
       "       '(dba: Kenai Helicopters)', '135', '31', '256', '25', '82', 0.0,\n",
       "       2.0, 1.0, 4.0, 3.0, 5.0, 6.0, 10.0, 9.0, 156.0, 28.0, 8.0, 18.0,\n",
       "       43.0, 15.0, 12.0, 7.0, 14.0, 270.0, 144.0, 174.0, 11.0, 111.0,\n",
       "       131.0, 20.0, 73.0, 27.0, 34.0, 25.0, 23.0, 13.0, 87.0, 30.0, 16.0,\n",
       "       47.0, 56.0, 37.0, 132.0, 68.0, 54.0, 52.0, 65.0, 72.0, 160.0,\n",
       "       189.0, 123.0, 33.0, 110.0, 230.0, 70.0, 97.0, 349.0, 125.0, 29.0,\n",
       "       35.0, 228.0, 75.0, 104.0, 229.0, 80.0, 217.0, 169.0, 88.0, 19.0,\n",
       "       60.0, 113.0, 143.0, 83.0, 24.0, 44.0, 64.0, 92.0, 118.0, 265.0,\n",
       "       26.0, 138.0, 206.0, 71.0, 21.0, 46.0, 102.0, 115.0, 141.0, 55.0,\n",
       "       121.0, 45.0, 145.0, 117.0, 107.0, 124.0, 49.0, 154.0, 96.0, 114.0,\n",
       "       199.0, 89.0, 57.0, 17.0, '24', '49', '228', '152', '90', '89',\n",
       "       '103', '158', '157', '42', '21', '77',\n",
       "       ' pending outcome of trial.', '19', '18', '28', '127', '44', '50',\n",
       "       '33', '239', '295', '58', '162', '43', '150', ' CAROL A. WIDENER',\n",
       "       '224', '62', '66', '16', 'a-ASA', '71', '112', 188, 157, 41, 176,\n",
       "       62], dtype=object)"
      ]
     },
     "execution_count": 7,
     "metadata": {},
     "output_type": "execute_result"
    }
   ],
   "source": [
    "df['Total.Fatal.Injuries'].unique()"
   ]
  },
  {
   "cell_type": "code",
   "execution_count": 17,
   "id": "a0218723",
   "metadata": {
    "scrolled": true
   },
   "outputs": [
    {
     "data": {
      "text/plain": [
       "array(['Destroyed', 'Substantial', 'Minor', nan, 'Non-Fatal', 'Fatal(2)',\n",
       "       'Unknown'], dtype=object)"
      ]
     },
     "execution_count": 17,
     "metadata": {},
     "output_type": "execute_result"
    }
   ],
   "source": [
    "df[\"Aircraft.damage\"].unique()"
   ]
  },
  {
   "cell_type": "code",
   "execution_count": 19,
   "id": "9187c6f7",
   "metadata": {},
   "outputs": [
    {
     "data": {
      "text/plain": [
       "array([nan, 'Part 129: Foreign', 'Part 91: General Aviation',\n",
       "       'Part 135: Air Taxi & Commuter', 'Part 125: 20+ Pax,6000+ lbs',\n",
       "       'Part 121: Air Carrier', 'Part 137: Agricultural',\n",
       "       'Part 133: Rotorcraft Ext. Load', 'Unknown',\n",
       "       'Part 91F: Special Flt Ops.', 'Turbo Shaft',\n",
       "       'Non-U.S., Non-Commercial', 'Public Aircraft',\n",
       "       'Non-U.S., Commercial', 'Reciprocating', 'Public Use',\n",
       "       'Turbo Prop', 'Armed Forces', 'Part 91 Subpart K: Fractional',\n",
       "       '91', 'NUSC', '135', 'NUSN', '121', '137', '129', '133', '091K',\n",
       "       'UNK', 'PUBU', 'ARMF', '103', '125', '437', '107'], dtype=object)"
      ]
     },
     "execution_count": 19,
     "metadata": {},
     "output_type": "execute_result"
    }
   ],
   "source": [
    "df['FAR.Description'].unique()"
   ]
  },
  {
   "cell_type": "code",
   "execution_count": 20,
   "id": "52922706",
   "metadata": {},
   "outputs": [
    {
     "data": {
      "text/plain": [
       "array(['Stinson', 'Piper', 'Cessna', ..., 'JAMES R DERNOVSEK',\n",
       "       'ORLICAN S R O', 'ROYSE RALPH L'], dtype=object)"
      ]
     },
     "execution_count": 20,
     "metadata": {},
     "output_type": "execute_result"
    }
   ],
   "source": [
    "df['Make'].unique()"
   ]
  },
  {
   "cell_type": "code",
   "execution_count": 6,
   "id": "91457a88",
   "metadata": {
    "scrolled": true
   },
   "outputs": [
    {
     "data": {
      "text/plain": [
       "array(['Fatal(2)', 'Fatal(4)', 'Fatal(3)', 'Fatal(1)', 'Non-Fatal',\n",
       "       'Incident', 'Fatal(8)', 'Fatal(78)', 'Fatal(7)', 'Fatal(6)',\n",
       "       'Fatal(5)', 'Fatal(153)', 'Fatal(12)', 'Fatal(14)', 'Fatal(23)',\n",
       "       'Fatal(10)', 'Fatal(11)', 'Fatal(9)', 'Fatal(17)', 'Fatal(13)',\n",
       "       'Fatal(29)', 'Fatal(70)', 'Unavailable', 'O', 'Fatal(135)',\n",
       "       'Fatal(31)', 'Fatal(256)', 'Fatal(25)', 'Fatal(82)', 'Fatal(156)',\n",
       "       'Fatal(28)', 'Fatal(18)', 'Fatal(43)', 'Fatal(15)', 'Fatal(270)',\n",
       "       'Fatal(144)', 'Fatal(174)', 'Fatal(111)', 'Fatal(131)',\n",
       "       'Fatal(20)', 'Fatal(73)', 'Fatal(27)', 'Fatal(34)', 'Fatal(87)',\n",
       "       'Fatal(30)', 'Fatal(16)', 'Fatal(47)', 'Fatal(56)', 'Fatal(37)',\n",
       "       'Fatal(132)', 'Fatal(68)', 'Fatal(54)', 'Fatal(52)', 'Fatal(65)',\n",
       "       'Fatal(72)', 'Fatal(160)', 'Fatal(189)', 'Fatal(123)', 'Fatal(33)',\n",
       "       'Fatal(110)', 'Fatal(230)', 'Fatal(97)', 'Fatal(349)',\n",
       "       'Fatal(125)', 'Fatal(35)', 'Fatal(228)', 'Fatal(75)', 'Fatal(104)',\n",
       "       'Fatal(229)', 'Fatal(80)', 'Fatal(217)', 'Fatal(169)', 'Fatal(88)',\n",
       "       'Fatal(19)', 'Fatal(60)', 'Fatal(113)', 'Fatal(143)', 'Fatal(83)',\n",
       "       'Fatal(24)', 'Fatal(44)', 'Fatal(64)', 'Fatal(92)', 'Fatal(118)',\n",
       "       'Fatal(265)', 'Fatal(26)', 'Fatal(138)', 'Fatal(206)', 'Fatal(71)',\n",
       "       'Fatal(21)', 'Fatal(46)', 'Fatal(102)', 'Fatal(115)',\n",
       "       'BURKE LAKEFRONT', ' Coweta Co', 'Fatal(141)', 'Fatal(55)',\n",
       "       'Fatal(121)', 'Fatal(45)', 'Fatal(145)', 'Fatal(117)',\n",
       "       'Fatal(107)', 'Fatal(124)', 'Fatal(49)', 'Fatal(154)', 'Fatal(96)',\n",
       "       'Fatal(114)', 'Fatal(199)', 'Fatal(89)', 'Fatal(57)', 'Fatal', nan,\n",
       "       'Minor', 'Serious'], dtype=object)"
      ]
     },
     "execution_count": 6,
     "metadata": {},
     "output_type": "execute_result"
    }
   ],
   "source": [
    "df['Injury.Severity'].unique()"
   ]
  },
  {
   "cell_type": "code",
   "execution_count": 42,
   "id": "37794184",
   "metadata": {
    "scrolled": true
   },
   "outputs": [
    {
     "data": {
      "text/plain": [
       "Investigation.Type            0\n",
       "Event.Date                    0\n",
       "Location                     52\n",
       "Country                       0\n",
       "Airport.Code              38640\n",
       "Airport.Name              36100\n",
       "Injury.Severity            1000\n",
       "Aircraft.damage            3194\n",
       "Aircraft.Category         56600\n",
       "Make                         63\n",
       "Model                        92\n",
       "Amateur.Built               102\n",
       "Number.of.Engines          6087\n",
       "Engine.Type                7078\n",
       "FAR.Description           56863\n",
       "Schedule                  76307\n",
       "Purpose.of.flight          6195\n",
       "Air.carrier               72238\n",
       "Total.Fatal.Injuries      11407\n",
       "Total.Serious.Injuries    12509\n",
       "Total.Minor.Injuries      11933\n",
       "Total.Uninjured            5913\n",
       "Weather.Condition          4492\n",
       "Broad.phase.of.flight     27163\n",
       "Report.Status              6384\n",
       "Publication.Date          13771\n",
       "dtype: int64"
      ]
     },
     "execution_count": 42,
     "metadata": {},
     "output_type": "execute_result"
    }
   ],
   "source": [
    "df.isnull().sum()"
   ]
  },
  {
   "cell_type": "code",
   "execution_count": 26,
   "id": "79598407",
   "metadata": {
    "scrolled": true
   },
   "outputs": [
    {
     "name": "stdout",
     "output_type": "stream",
     "text": [
      "<class 'pandas.core.frame.DataFrame'>\n",
      "RangeIndex: 88889 entries, 0 to 88888\n",
      "Data columns (total 26 columns):\n",
      " #   Column                  Non-Null Count  Dtype  \n",
      "---  ------                  --------------  -----  \n",
      " 0   Investigation.Type      88889 non-null  object \n",
      " 1   Event.Date              88889 non-null  object \n",
      " 2   Location                88837 non-null  object \n",
      " 3   Country                 88663 non-null  object \n",
      " 4   Airport.Code            50249 non-null  object \n",
      " 5   Airport.Name            52789 non-null  object \n",
      " 6   Injury.Severity         87889 non-null  object \n",
      " 7   Aircraft.damage         85695 non-null  object \n",
      " 8   Aircraft.Category       32289 non-null  object \n",
      " 9   Make                    88826 non-null  object \n",
      " 10  Model                   88797 non-null  object \n",
      " 11  Amateur.Built           88787 non-null  object \n",
      " 12  Number.of.Engines       82806 non-null  object \n",
      " 13  Engine.Type             81811 non-null  object \n",
      " 14  FAR.Description         32026 non-null  object \n",
      " 15  Schedule                12582 non-null  object \n",
      " 16  Purpose.of.flight       82694 non-null  object \n",
      " 17  Air.carrier             16651 non-null  object \n",
      " 18  Total.Fatal.Injuries    77482 non-null  float64\n",
      " 19  Total.Serious.Injuries  76380 non-null  float64\n",
      " 20  Total.Minor.Injuries    76956 non-null  float64\n",
      " 21  Total.Uninjured         82976 non-null  float64\n",
      " 22  Weather.Condition       84397 non-null  object \n",
      " 23  Broad.phase.of.flight   61726 non-null  object \n",
      " 24  Report.Status           82505 non-null  object \n",
      " 25  Publication.Date        75118 non-null  object \n",
      "dtypes: float64(4), object(22)\n",
      "memory usage: 17.6+ MB\n"
     ]
    }
   ],
   "source": [
    "df.info()"
   ]
  },
  {
   "cell_type": "code",
   "execution_count": 27,
   "id": "aed3acf7",
   "metadata": {},
   "outputs": [],
   "source": [
    "import pandas_profiling as pp"
   ]
  },
  {
   "cell_type": "code",
   "execution_count": 37,
   "id": "74b00cca",
   "metadata": {},
   "outputs": [],
   "source": [
    "profile = pp.ProfileReport(non_us_df)"
   ]
  },
  {
   "cell_type": "code",
   "execution_count": 38,
   "id": "53535736",
   "metadata": {},
   "outputs": [
    {
     "name": "stderr",
     "output_type": "stream",
     "text": [
      "/Users/smarta/opt/anaconda3/lib/python3.9/site-packages/multimethod/__init__.py:209: SettingWithCopyWarning: \n",
      "A value is trying to be set on a copy of a slice from a DataFrame\n",
      "\n",
      "See the caveats in the documentation: https://pandas.pydata.org/pandas-docs/stable/user_guide/indexing.html#returning-a-view-versus-a-copy\n",
      "  return self[tuple(map(self.get_type, args))](*args, **kwargs)\n"
     ]
    },
    {
     "data": {
      "application/vnd.jupyter.widget-view+json": {
       "model_id": "8af8bc3dd34648d69a2f75faa9299e32",
       "version_major": 2,
       "version_minor": 0
      },
      "text/plain": [
       "Summarize dataset:   0%|          | 0/5 [00:00<?, ?it/s]"
      ]
     },
     "metadata": {},
     "output_type": "display_data"
    },
    {
     "data": {
      "application/vnd.jupyter.widget-view+json": {
       "model_id": "ed69fd6877934176a955f2477673cce6",
       "version_major": 2,
       "version_minor": 0
      },
      "text/plain": [
       "Generate report structure:   0%|          | 0/1 [00:00<?, ?it/s]"
      ]
     },
     "metadata": {},
     "output_type": "display_data"
    },
    {
     "data": {
      "application/vnd.jupyter.widget-view+json": {
       "model_id": "418db64c963d4b15a3dfae9de6290e77",
       "version_major": 2,
       "version_minor": 0
      },
      "text/plain": [
       "Render HTML:   0%|          | 0/1 [00:00<?, ?it/s]"
      ]
     },
     "metadata": {},
     "output_type": "display_data"
    },
    {
     "data": {
      "application/vnd.jupyter.widget-view+json": {
       "model_id": "002ead212ccf4a0f8a8feba1caf00cf8",
       "version_major": 2,
       "version_minor": 0
      },
      "text/plain": [
       "Export report to file:   0%|          | 0/1 [00:00<?, ?it/s]"
      ]
     },
     "metadata": {},
     "output_type": "display_data"
    }
   ],
   "source": [
    "profile.to_file(\"non_us_df.html\")"
   ]
  },
  {
   "cell_type": "code",
   "execution_count": null,
   "id": "16750e60",
   "metadata": {},
   "outputs": [],
   "source": [
    "# UNIFORM"
   ]
  },
  {
   "cell_type": "code",
   "execution_count": 10,
   "id": "77464b31",
   "metadata": {},
   "outputs": [],
   "source": [
    "# Convert all names to lowercase\n",
    "df['Airport.Name'] = df['Airport.Name'].str.lower()"
   ]
  },
  {
   "cell_type": "code",
   "execution_count": 12,
   "id": "240ef840",
   "metadata": {},
   "outputs": [],
   "source": [
    "df['Airport.Name'] = df['Airport.Name'].replace(r'^private.*', 'Private', regex=True)"
   ]
  },
  {
   "cell_type": "code",
   "execution_count": 13,
   "id": "26e7d6b3",
   "metadata": {},
   "outputs": [
    {
     "data": {
      "text/plain": [
       "Private                           1044\n",
       "none                               232\n",
       "merrill field                      109\n",
       "centennial                         102\n",
       "van nuys                            97\n",
       "                                  ... \n",
       "lower loon creek airstrip            1\n",
       "on the rocks airstrip                1\n",
       "meriden-markham                      1\n",
       "saint louis regional                 1\n",
       "wichita dwight d eisenhower nt       1\n",
       "Name: Airport.Name, Length: 21504, dtype: int64"
      ]
     },
     "execution_count": 13,
     "metadata": {},
     "output_type": "execute_result"
    }
   ],
   "source": [
    "df['Airport.Name'].value_counts()"
   ]
  },
  {
   "cell_type": "code",
   "execution_count": 18,
   "id": "a4188b1e",
   "metadata": {},
   "outputs": [],
   "source": [
    "# Convert all names to lowercase\n",
    "df['Make'] = df['Make'].str.lower()\n",
    "\n",
    "# Replace specific variations with the desired name\n",
    "df['Make'] = df['Make'].replace('cessna', 'Cessna')"
   ]
  },
  {
   "cell_type": "code",
   "execution_count": 19,
   "id": "c9518565",
   "metadata": {},
   "outputs": [],
   "source": [
    "# If you have multiple variations, you can use regular expressions or other techniques\n",
    "# For example, to replace any variation of 'cessna' with 'Cessna', you can use:\n",
    "df['Make'] = df['Make'].replace(r'^cessna.*', 'Cessna', regex=True)"
   ]
  },
  {
   "cell_type": "code",
   "execution_count": 20,
   "id": "952edfe0",
   "metadata": {},
   "outputs": [
    {
     "data": {
      "text/plain": [
       "Cessna           27211\n",
       "piper            14870\n",
       "beech             5371\n",
       "boeing            2745\n",
       "bell              2721\n",
       "                 ...  \n",
       "cohen                1\n",
       "kitchens             1\n",
       "lutes                1\n",
       "izatt                1\n",
       "royse ralph l        1\n",
       "Name: Make, Length: 7577, dtype: int64"
      ]
     },
     "execution_count": 20,
     "metadata": {},
     "output_type": "execute_result"
    }
   ],
   "source": [
    "# Verify the changes\n",
    "df['Make'].value_counts()"
   ]
  },
  {
   "cell_type": "code",
   "execution_count": 23,
   "id": "95ffd80e",
   "metadata": {
    "scrolled": true
   },
   "outputs": [
    {
     "name": "stdout",
     "output_type": "stream",
     "text": [
      "Cessna                         27211\n",
      "piper                          14870\n",
      "beech                           5371\n",
      "boeing                          2745\n",
      "bell                            2721\n",
      "mooney                          1334\n",
      "robinson                        1230\n",
      "grumman                         1172\n",
      "bellanca                        1045\n",
      "hughes                           932\n",
      "schweizer                        773\n",
      "air tractor                      691\n",
      "aeronca                          636\n",
      "mcdonnell douglas                608\n",
      "maule                            589\n",
      "champion                         519\n",
      "stinson                          439\n",
      "aero commander                   429\n",
      "de havilland                     422\n",
      "luscombe                         414\n",
      "aerospatiale                     388\n",
      "north american                   383\n",
      "taylorcraft                      383\n",
      "rockwell                         355\n",
      "hiller                           348\n",
      "enstrom                          296\n",
      "airbus                           291\n",
      "douglas                          281\n",
      "embraer                          238\n",
      "ayres                            238\n",
      "sikorsky                         233\n",
      "robinson helicopter              230\n",
      "grumman american                 226\n",
      "cirrus design corp               223\n",
      "eurocopter                       220\n",
      "air tractor inc                  219\n",
      "robinson helicopter company      194\n",
      "swearingen                       180\n",
      "airbus industrie                 164\n",
      "fairchild                        161\n",
      "Name: Make, dtype: int64\n"
     ]
    }
   ],
   "source": [
    "top_20_make_counts = df['Make'].value_counts().head(40)\n",
    "print(top_20_make_counts)"
   ]
  },
  {
   "cell_type": "code",
   "execution_count": 30,
   "id": "61e0e45b",
   "metadata": {},
   "outputs": [
    {
     "name": "stdout",
     "output_type": "stream",
     "text": [
      "1.0    69580\n",
      "2.0    11078\n",
      "0.0     1226\n",
      "3.0      483\n",
      "4.0      431\n",
      "8.0        3\n",
      "6.0        1\n",
      "Name: Number.of.Engines, dtype: int64\n"
     ]
    }
   ],
   "source": [
    "top_20_make_counts = df['Number.of.Engines'].value_counts().head(40)\n",
    "print(top_20_make_counts)"
   ]
  },
  {
   "cell_type": "code",
   "execution_count": 32,
   "id": "1891b038",
   "metadata": {
    "scrolled": true
   },
   "outputs": [
    {
     "name": "stdout",
     "output_type": "stream",
     "text": [
      "[nan 'Part 129: Foreign' 'Part 91: General Aviation'\n",
      " 'Part 135: Air Taxi & Commuter' 'Part 125: 20+ Pax,6000+ lbs'\n",
      " 'Part 121: Air Carrier' 'Part 137: Agricultural'\n",
      " 'Part 133: Rotorcraft Ext. Load' 'Unknown' 'Part 91F: Special Flt Ops.'\n",
      " 'Turbo Shaft' 'Non-U.S., Non-Commercial' 'Public Aircraft'\n",
      " 'Non-U.S., Commercial' 'Reciprocating' 'Public Use' 'Turbo Prop'\n",
      " 'Armed Forces' 'Part 91 Subpart K: Fractional' '91' 'NUSC' '135' 'NUSN'\n",
      " '121' '137' '133' '091K' 'UNK' 'PUBU' 'ARMF' '103' '125' '437' '107']\n"
     ]
    }
   ],
   "source": [
    "df['FAR.Description'] = df['FAR.Description'].replace(r'.*129.*', 'Part 129: Foreign', regex=True)\n",
    "# Verify the changes\n",
    "print(df['FAR.Description'].unique())"
   ]
  },
  {
   "cell_type": "code",
   "execution_count": 34,
   "id": "165ad47e",
   "metadata": {},
   "outputs": [],
   "source": [
    "df['FAR.Description'] = df['FAR.Description'].replace(r'.*91.*', 'Part 91: General Aviation', regex=True)"
   ]
  },
  {
   "cell_type": "code",
   "execution_count": 36,
   "id": "d156e9b5",
   "metadata": {},
   "outputs": [],
   "source": [
    "df['FAR.Description'] = df['FAR.Description'].replace(r'.*137.*', 'Part 137: Agricultural', regex=True)"
   ]
  },
  {
   "cell_type": "code",
   "execution_count": 37,
   "id": "f6a3f679",
   "metadata": {},
   "outputs": [
    {
     "name": "stdout",
     "output_type": "stream",
     "text": [
      "Part 91: General Aviation         24722\n",
      "NUSN                               1584\n",
      "Part 137: Agricultural             1447\n",
      "NUSC                               1013\n",
      "135                                 746\n",
      "121                                 679\n",
      "UNK                                 371\n",
      "Part 129: Foreign                   346\n",
      "Part 135: Air Taxi & Commuter       298\n",
      "PUBU                                253\n",
      "Part 121: Air Carrier               165\n",
      "133                                 107\n",
      "Non-U.S., Non-Commercial             97\n",
      "Non-U.S., Commercial                 93\n",
      "Part 133: Rotorcraft Ext. Load       32\n",
      "Unknown                              22\n",
      "Public Use                           19\n",
      "ARMF                                  8\n",
      "125                                   5\n",
      "Part 125: 20+ Pax,6000+ lbs           5\n",
      "107                                   4\n",
      "Reciprocating                         2\n",
      "Public Aircraft                       2\n",
      "103                                   2\n",
      "Armed Forces                          1\n",
      "Turbo Shaft                           1\n",
      "437                                   1\n",
      "Turbo Prop                            1\n",
      "Name: FAR.Description, dtype: int64\n"
     ]
    }
   ],
   "source": [
    "top_20_make_counts = df['FAR.Description'].value_counts().head(40)\n",
    "print(top_20_make_counts)"
   ]
  },
  {
   "cell_type": "code",
   "execution_count": null,
   "id": "d9534336",
   "metadata": {},
   "outputs": [],
   "source": [
    "# CHANGING DATA TYPE"
   ]
  },
  {
   "cell_type": "code",
   "execution_count": 25,
   "id": "eadfcb69",
   "metadata": {
    "scrolled": true
   },
   "outputs": [
    {
     "name": "stdout",
     "output_type": "stream",
     "text": [
      "float64\n"
     ]
    }
   ],
   "source": [
    "# Convert non-numeric values to NaN\n",
    "df['Total.Fatal.Injuries'] = pd.to_numeric(df['Total.Fatal.Injuries'], errors='coerce')\n",
    "\n",
    "# Transform to float\n",
    "df['Total.Fatal.Injuries'] = df['Total.Fatal.Injuries'].astype(float)\n",
    "\n",
    "# Verify the data type transformation\n",
    "print(df['Total.Fatal.Injuries'].dtype)\n"
   ]
  },
  {
   "cell_type": "code",
   "execution_count": 28,
   "id": "a57e9a85",
   "metadata": {},
   "outputs": [
    {
     "name": "stdout",
     "output_type": "stream",
     "text": [
      "float64\n"
     ]
    }
   ],
   "source": [
    "# Convert non-numeric values to NaN\n",
    "df['Number.of.Engines'] = pd.to_numeric(df['Number.of.Engines'], errors='coerce')\n",
    "\n",
    "# Transform to float\n",
    "df['Number.of.Engines'] = df['Number.of.Engines'].astype(float)\n",
    "\n",
    "# Verify the data type transformation\n",
    "print(df['Number.of.Engines'].dtype)\n"
   ]
  },
  {
   "cell_type": "code",
   "execution_count": 29,
   "id": "3302ffc6",
   "metadata": {},
   "outputs": [
    {
     "name": "stdout",
     "output_type": "stream",
     "text": [
      "<class 'pandas.core.frame.DataFrame'>\n",
      "RangeIndex: 88889 entries, 0 to 88888\n",
      "Data columns (total 26 columns):\n",
      " #   Column                  Non-Null Count  Dtype  \n",
      "---  ------                  --------------  -----  \n",
      " 0   Investigation.Type      88889 non-null  object \n",
      " 1   Event.Date              88889 non-null  object \n",
      " 2   Location                88837 non-null  object \n",
      " 3   Country                 88663 non-null  object \n",
      " 4   Airport.Code            50249 non-null  object \n",
      " 5   Airport.Name            52789 non-null  object \n",
      " 6   Injury.Severity         87889 non-null  object \n",
      " 7   Aircraft.damage         85695 non-null  object \n",
      " 8   Aircraft.Category       32289 non-null  object \n",
      " 9   Make                    88826 non-null  object \n",
      " 10  Model                   88797 non-null  object \n",
      " 11  Amateur.Built           88787 non-null  object \n",
      " 12  Number.of.Engines       82802 non-null  float64\n",
      " 13  Engine.Type             81811 non-null  object \n",
      " 14  FAR.Description         32026 non-null  object \n",
      " 15  Schedule                12582 non-null  object \n",
      " 16  Purpose.of.flight       82694 non-null  object \n",
      " 17  Air.carrier             16651 non-null  object \n",
      " 18  Total.Fatal.Injuries    77482 non-null  float64\n",
      " 19  Total.Serious.Injuries  76380 non-null  float64\n",
      " 20  Total.Minor.Injuries    76956 non-null  float64\n",
      " 21  Total.Uninjured         82976 non-null  float64\n",
      " 22  Weather.Condition       84397 non-null  object \n",
      " 23  Broad.phase.of.flight   61726 non-null  object \n",
      " 24  Report.Status           82505 non-null  object \n",
      " 25  Publication.Date        75118 non-null  object \n",
      "dtypes: float64(5), object(21)\n",
      "memory usage: 17.6+ MB\n"
     ]
    }
   ],
   "source": [
    "df.info()"
   ]
  },
  {
   "cell_type": "code",
   "execution_count": null,
   "id": "bb33d98d",
   "metadata": {},
   "outputs": [],
   "source": [
    "# MISSING VALUES"
   ]
  },
  {
   "cell_type": "code",
   "execution_count": 13,
   "id": "cc4c5533",
   "metadata": {},
   "outputs": [
    {
     "data": {
      "image/png": "[encoded data removed]",
      "text/plain": [
       "<Figure size 640x480 with 1 Axes>"
      ]
     },
     "metadata": {},
     "output_type": "display_data"
    }
   ],
   "source": [
    "def percent_missing(df):\n",
    "    percent_nan = 100* df.isnull().sum() / len(df)\n",
    "    percent_nan = percent_nan[percent_nan>0].sort_values()\n",
    "    return percent_nan\n",
    "percent_nan = percent_missing(df)\n",
    "\n",
    "sns.barplot(x=percent_nan.index,y=percent_nan)\n",
    "plt.xticks(rotation=90);\n"
   ]
  },
  {
   "cell_type": "code",
   "execution_count": 38,
   "id": "44d3e7c2",
   "metadata": {
    "scrolled": false
   },
   "outputs": [],
   "source": [
    "# null countries are outside US\n",
    "df[df['Country'].isnull()]\n",
    "df['Country'].fillna('Foreign', inplace=True)\n"
   ]
  },
  {
   "cell_type": "code",
   "execution_count": 41,
   "id": "46a5f5f1",
   "metadata": {},
   "outputs": [
    {
     "data": {
      "text/plain": [
       "array(['United States', 'Foreign', 'GULF OF MEXICO', 'Puerto Rico',\n",
       "       'ATLANTIC OCEAN', 'HIGH ISLAND', 'Bahamas', 'MISSING', 'Pakistan',\n",
       "       'Angola', 'Germany', 'Korea, Republic Of', 'Martinique',\n",
       "       'American Samoa', 'PACIFIC OCEAN', 'Canada', 'Bolivia', 'Mexico',\n",
       "       'Dominica', 'Netherlands Antilles', 'Iceland', 'Greece', 'Guam',\n",
       "       'Australia', 'CARIBBEAN SEA', 'West Indies', 'Japan',\n",
       "       'Philippines', 'Venezuela', 'Bermuda', 'San Juan Islands',\n",
       "       'Colombia', 'El Salvador', 'United Kingdom',\n",
       "       'British Virgin Islands', 'Netherlands', 'Costa Rica',\n",
       "       'Mozambique', 'Jamaica', 'Panama', 'Guyana', 'Norway', 'Hong Kong',\n",
       "       'Portugal', 'Malaysia', 'Turks And Caicos Islands',\n",
       "       'Northern Mariana Islands', 'Dominican Republic', 'Suriname',\n",
       "       'Honduras', 'Congo', 'Belize', 'Guatemala', 'Anguilla', 'France',\n",
       "       'St Vincent And The Grenadines', 'Haiti', 'Montserrat',\n",
       "       'Papua New Guinea', 'Cayman Islands', 'Sweden', 'Taiwan',\n",
       "       'Senegal', 'Barbados', 'BLOCK 651A', 'Brazil', 'Mauritius',\n",
       "       'Argentina', 'Kenya', 'Ecuador', 'Aruba', 'Saudi Arabia', 'Cuba',\n",
       "       'Italy', 'French Guiana', 'Denmark', 'Sudan', 'Spain',\n",
       "       'Federated States Of Micronesia', 'St Lucia', 'Switzerland',\n",
       "       'Central African Republic', 'Algeria', 'Turkey', 'Nicaragua',\n",
       "       'Marshall Islands', 'Trinidad And Tobago', 'Poland', 'Belarus',\n",
       "       'Austria', 'Malta', 'Cameroon', 'Solomon Islands', 'Zambia',\n",
       "       'Peru', 'Croatia', 'Fiji', 'South Africa', 'India', 'Ethiopia',\n",
       "       'Ireland', 'Chile', 'Antigua And Barbuda', 'Uganda', 'China',\n",
       "       'Cambodia', 'Paraguay', 'Thailand', 'Belgium', 'Gambia', 'Uruguay',\n",
       "       'Tanzania', 'Mali', 'Indonesia', 'Bahrain', 'Kazakhstan', 'Egypt',\n",
       "       'Russia', 'Cyprus', \"Cote D'ivoire\", 'Nigeria', 'Greenland',\n",
       "       'Vietnam', 'New Zealand', 'Singapore', 'Ghana', 'Gabon', 'Nepal',\n",
       "       'Slovakia', 'Finland', 'Liberia', 'Romania', 'Maldives',\n",
       "       'Antarctica', 'Zimbabwe', 'Botswana', 'Isle of Man', 'Latvia',\n",
       "       'Niger', 'French Polynesia', 'Guadeloupe', 'Ivory Coast',\n",
       "       'Tunisia', 'Eritrea', 'Gibraltar', 'Namibia', 'Czech Republic',\n",
       "       'Benin', 'Bosnia And Herzegovina', 'Israel', 'Estonia',\n",
       "       'St Kitts And Nevis', 'Sierra Leone', 'Corsica', 'Scotland',\n",
       "       'Reunion', 'United Arab Emirates', 'Afghanistan', 'Ukraine',\n",
       "       'Hungary', 'Bangladesh', 'Morocco', 'Iraq', 'Jordan', 'Qatar',\n",
       "       'Madagascar', 'Malawi', 'Unknown', 'Central Africa', 'South Sudan',\n",
       "       'Saint Barthelemy', 'Micronesia', 'South Korea', 'Kyrgyzstan',\n",
       "       'Turks And Caicos', 'Eswatini', 'Tokelau', 'Sint Maarten', 'Macao',\n",
       "       'Seychelles', 'Rwanda', 'Palau', 'Luxembourg', 'Lebanon',\n",
       "       'Bosnia and Herzegovina', 'Libya', 'Guinea',\n",
       "       'Saint Vincent and the Grenadines', 'UN', 'Iran', 'Lithuania',\n",
       "       'Malampa', 'Antigua and Barbuda', 'AY', 'Chad', 'Cayenne',\n",
       "       'New Caledonia', 'Yemen', 'Slovenia', 'Nauru', 'Niue', 'Bulgaria',\n",
       "       'Republic of North Macedonia', 'Virgin Islands', 'Somalia',\n",
       "       'Pacific Ocean', 'Obyan', 'Mauritania', 'Albania', 'Wolseley',\n",
       "       'Wallis and Futuna', 'Saint Pierre and Miquelon', 'Georgia',\n",
       "       \"C�te d'Ivoire\", 'South Korean', 'Serbia', 'MU', 'Guernsey',\n",
       "       'Great Britain', 'Turks and Caicos Islands'], dtype=object)"
      ]
     },
     "execution_count": 41,
     "metadata": {},
     "output_type": "execute_result"
    }
   ],
   "source": [
    "df['Country'].unique()"
   ]
  }
 ],
 "metadata": {
  "kernelspec": {
   "display_name": "Python 3 (ipykernel)",
   "language": "python",
   "name": "python3"
  },
  "language_info": {
   "codemirror_mode": {
    "name": "ipython",
    "version": 3
   },
   "file_extension": ".py",
   "mimetype": "text/x-python",
   "name": "python",
   "nbconvert_exporter": "python",
   "pygments_lexer": "ipython3",
   "version": "3.9.13"
  }
 },
 "nbformat": 4,
 "nbformat_minor": 5
}
