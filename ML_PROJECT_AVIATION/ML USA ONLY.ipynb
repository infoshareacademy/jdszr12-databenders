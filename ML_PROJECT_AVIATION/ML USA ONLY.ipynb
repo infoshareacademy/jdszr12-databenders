{
 "cells": [
  {
   "cell_type": "code",
   "execution_count": 38,
   "id": "8afe7607",
   "metadata": {},
   "outputs": [],
   "source": [
    "import numpy as np\n",
    "import pandas as pd\n",
    "import matplotlib.pyplot as plt\n",
    "import seaborn as sns"
   ]
  },
  {
   "cell_type": "code",
   "execution_count": 39,
   "id": "14e7c65c",
   "metadata": {},
   "outputs": [
    {
     "name": "stderr",
     "output_type": "stream",
     "text": [
      "/var/folders/rr/3tz5xt4j16s1wvxsg7zr8hg80000gn/T/ipykernel_4735/828703826.py:1: DtypeWarning: Columns (6,7,23,28,31,33) have mixed types. Specify dtype option on import or set low_memory=False.\n",
      "  df = pd.read_csv(\"AviationData2.csv\")\n"
     ]
    },
    {
     "data": {
      "text/html": [
       "<div>\n",
       "<style scoped>\n",
       "    .dataframe tbody tr th:only-of-type {\n",
       "        vertical-align: middle;\n",
       "    }\n",
       "\n",
       "    .dataframe tbody tr th {\n",
       "        vertical-align: top;\n",
       "    }\n",
       "\n",
       "    .dataframe thead th {\n",
       "        text-align: right;\n",
       "    }\n",
       "</style>\n",
       "<table border=\"1\" class=\"dataframe\">\n",
       "  <thead>\n",
       "    <tr style=\"text-align: right;\">\n",
       "      <th></th>\n",
       "      <th>Event.Id</th>\n",
       "      <th>Investigation.Type</th>\n",
       "      <th>Accident.Number</th>\n",
       "      <th>Event.Date</th>\n",
       "      <th>Location</th>\n",
       "      <th>Country</th>\n",
       "      <th>Latitude</th>\n",
       "      <th>Longitude</th>\n",
       "      <th>Airport.Code</th>\n",
       "      <th>Airport.Name</th>\n",
       "      <th>...</th>\n",
       "      <th>Broad.phase.of.flight</th>\n",
       "      <th>Report.Status</th>\n",
       "      <th>Publication.Date</th>\n",
       "      <th>Unnamed: 31</th>\n",
       "      <th>Unnamed: 32</th>\n",
       "      <th>Unnamed: 33</th>\n",
       "      <th>Unnamed: 34</th>\n",
       "      <th>Unnamed: 35</th>\n",
       "      <th>Unnamed: 36</th>\n",
       "      <th>Unnamed: 37</th>\n",
       "    </tr>\n",
       "  </thead>\n",
       "  <tbody>\n",
       "    <tr>\n",
       "      <th>0</th>\n",
       "      <td>20001218X45444</td>\n",
       "      <td>Accident</td>\n",
       "      <td>SEA87LA080</td>\n",
       "      <td>1948-10-24</td>\n",
       "      <td>MOOSE CREEK, ID</td>\n",
       "      <td>United States</td>\n",
       "      <td>NaN</td>\n",
       "      <td>NaN</td>\n",
       "      <td>NaN</td>\n",
       "      <td>NaN</td>\n",
       "      <td>...</td>\n",
       "      <td>Cruise</td>\n",
       "      <td>Probable Cause</td>\n",
       "      <td>NaN</td>\n",
       "      <td>NaN</td>\n",
       "      <td>NaN</td>\n",
       "      <td>NaN</td>\n",
       "      <td>NaN</td>\n",
       "      <td>NaN</td>\n",
       "      <td>NaN</td>\n",
       "      <td>NaN</td>\n",
       "    </tr>\n",
       "    <tr>\n",
       "      <th>1</th>\n",
       "      <td>20001218X45447</td>\n",
       "      <td>Accident</td>\n",
       "      <td>LAX94LA336</td>\n",
       "      <td>1962-07-19</td>\n",
       "      <td>BRIDGEPORT, CA</td>\n",
       "      <td>United States</td>\n",
       "      <td>NaN</td>\n",
       "      <td>NaN</td>\n",
       "      <td>NaN</td>\n",
       "      <td>NaN</td>\n",
       "      <td>...</td>\n",
       "      <td>Unknown</td>\n",
       "      <td>Probable Cause</td>\n",
       "      <td>19-09-1996</td>\n",
       "      <td>NaN</td>\n",
       "      <td>NaN</td>\n",
       "      <td>NaN</td>\n",
       "      <td>NaN</td>\n",
       "      <td>NaN</td>\n",
       "      <td>NaN</td>\n",
       "      <td>NaN</td>\n",
       "    </tr>\n",
       "    <tr>\n",
       "      <th>2</th>\n",
       "      <td>20061025X01555</td>\n",
       "      <td>Accident</td>\n",
       "      <td>NYC07LA005</td>\n",
       "      <td>1974-08-30</td>\n",
       "      <td>Saltville, VA</td>\n",
       "      <td>United States</td>\n",
       "      <td>36.922223</td>\n",
       "      <td>-81.878056</td>\n",
       "      <td>NaN</td>\n",
       "      <td>NaN</td>\n",
       "      <td>...</td>\n",
       "      <td>Cruise</td>\n",
       "      <td>Probable Cause</td>\n",
       "      <td>26-02-2007</td>\n",
       "      <td>NaN</td>\n",
       "      <td>NaN</td>\n",
       "      <td>NaN</td>\n",
       "      <td>NaN</td>\n",
       "      <td>NaN</td>\n",
       "      <td>NaN</td>\n",
       "      <td>NaN</td>\n",
       "    </tr>\n",
       "    <tr>\n",
       "      <th>3</th>\n",
       "      <td>20001218X45448</td>\n",
       "      <td>Accident</td>\n",
       "      <td>LAX96LA321</td>\n",
       "      <td>1977-06-19</td>\n",
       "      <td>EUREKA, CA</td>\n",
       "      <td>United States</td>\n",
       "      <td>NaN</td>\n",
       "      <td>NaN</td>\n",
       "      <td>NaN</td>\n",
       "      <td>NaN</td>\n",
       "      <td>...</td>\n",
       "      <td>Cruise</td>\n",
       "      <td>Probable Cause</td>\n",
       "      <td>12-09-2000</td>\n",
       "      <td>NaN</td>\n",
       "      <td>NaN</td>\n",
       "      <td>NaN</td>\n",
       "      <td>NaN</td>\n",
       "      <td>NaN</td>\n",
       "      <td>NaN</td>\n",
       "      <td>NaN</td>\n",
       "    </tr>\n",
       "    <tr>\n",
       "      <th>4</th>\n",
       "      <td>20041105X01764</td>\n",
       "      <td>Accident</td>\n",
       "      <td>CHI79FA064</td>\n",
       "      <td>1979-08-02</td>\n",
       "      <td>Canton, OH</td>\n",
       "      <td>United States</td>\n",
       "      <td>NaN</td>\n",
       "      <td>NaN</td>\n",
       "      <td>NaN</td>\n",
       "      <td>NaN</td>\n",
       "      <td>...</td>\n",
       "      <td>Approach</td>\n",
       "      <td>Probable Cause</td>\n",
       "      <td>16-04-1980</td>\n",
       "      <td>NaN</td>\n",
       "      <td>NaN</td>\n",
       "      <td>NaN</td>\n",
       "      <td>NaN</td>\n",
       "      <td>NaN</td>\n",
       "      <td>NaN</td>\n",
       "      <td>NaN</td>\n",
       "    </tr>\n",
       "  </tbody>\n",
       "</table>\n",
       "<p>5 rows × 38 columns</p>\n",
       "</div>"
      ],
      "text/plain": [
       "         Event.Id Investigation.Type Accident.Number  Event.Date  \\\n",
       "0  20001218X45444           Accident      SEA87LA080  1948-10-24   \n",
       "1  20001218X45447           Accident      LAX94LA336  1962-07-19   \n",
       "2  20061025X01555           Accident      NYC07LA005  1974-08-30   \n",
       "3  20001218X45448           Accident      LAX96LA321  1977-06-19   \n",
       "4  20041105X01764           Accident      CHI79FA064  1979-08-02   \n",
       "\n",
       "          Location        Country   Latitude  Longitude Airport.Code  \\\n",
       "0  MOOSE CREEK, ID  United States        NaN        NaN          NaN   \n",
       "1   BRIDGEPORT, CA  United States        NaN        NaN          NaN   \n",
       "2    Saltville, VA  United States  36.922223 -81.878056          NaN   \n",
       "3       EUREKA, CA  United States        NaN        NaN          NaN   \n",
       "4       Canton, OH  United States        NaN        NaN          NaN   \n",
       "\n",
       "  Airport.Name  ... Broad.phase.of.flight   Report.Status Publication.Date  \\\n",
       "0          NaN  ...                Cruise  Probable Cause              NaN   \n",
       "1          NaN  ...               Unknown  Probable Cause       19-09-1996   \n",
       "2          NaN  ...                Cruise  Probable Cause       26-02-2007   \n",
       "3          NaN  ...                Cruise  Probable Cause       12-09-2000   \n",
       "4          NaN  ...              Approach  Probable Cause       16-04-1980   \n",
       "\n",
       "  Unnamed: 31 Unnamed: 32 Unnamed: 33 Unnamed: 34  Unnamed: 35 Unnamed: 36  \\\n",
       "0         NaN         NaN         NaN         NaN          NaN         NaN   \n",
       "1         NaN         NaN         NaN         NaN          NaN         NaN   \n",
       "2         NaN         NaN         NaN         NaN          NaN         NaN   \n",
       "3         NaN         NaN         NaN         NaN          NaN         NaN   \n",
       "4         NaN         NaN         NaN         NaN          NaN         NaN   \n",
       "\n",
       "  Unnamed: 37  \n",
       "0         NaN  \n",
       "1         NaN  \n",
       "2         NaN  \n",
       "3         NaN  \n",
       "4         NaN  \n",
       "\n",
       "[5 rows x 38 columns]"
      ]
     },
     "execution_count": 39,
     "metadata": {},
     "output_type": "execute_result"
    }
   ],
   "source": [
    "df = pd.read_csv(\"AviationData2.csv\")\n",
    "df.head()"
   ]
  },
  {
   "cell_type": "code",
   "execution_count": 40,
   "id": "5d2d0cfd",
   "metadata": {},
   "outputs": [
    {
     "data": {
      "text/html": [
       "<div>\n",
       "<style scoped>\n",
       "    .dataframe tbody tr th:only-of-type {\n",
       "        vertical-align: middle;\n",
       "    }\n",
       "\n",
       "    .dataframe tbody tr th {\n",
       "        vertical-align: top;\n",
       "    }\n",
       "\n",
       "    .dataframe thead th {\n",
       "        text-align: right;\n",
       "    }\n",
       "</style>\n",
       "<table border=\"1\" class=\"dataframe\">\n",
       "  <thead>\n",
       "    <tr style=\"text-align: right;\">\n",
       "      <th></th>\n",
       "      <th>Event.Date</th>\n",
       "      <th>Location</th>\n",
       "      <th>Country</th>\n",
       "      <th>Injury.Severity</th>\n",
       "      <th>Aircraft.damage</th>\n",
       "      <th>Aircraft.Category</th>\n",
       "      <th>Make</th>\n",
       "      <th>Model</th>\n",
       "      <th>Amateur.Built</th>\n",
       "      <th>Number.of.Engines</th>\n",
       "      <th>Engine.Type</th>\n",
       "      <th>Purpose.of.flight</th>\n",
       "      <th>Total.Fatal.Injuries</th>\n",
       "      <th>Total.Serious.Injuries</th>\n",
       "      <th>Total.Minor.Injuries</th>\n",
       "      <th>Total.Uninjured</th>\n",
       "      <th>Weather.Condition</th>\n",
       "      <th>Broad.phase.of.flight</th>\n",
       "      <th>Report.Status</th>\n",
       "    </tr>\n",
       "  </thead>\n",
       "  <tbody>\n",
       "    <tr>\n",
       "      <th>0</th>\n",
       "      <td>1948-10-24</td>\n",
       "      <td>MOOSE CREEK, ID</td>\n",
       "      <td>United States</td>\n",
       "      <td>Fatal(2)</td>\n",
       "      <td>Destroyed</td>\n",
       "      <td>NaN</td>\n",
       "      <td>Stinson</td>\n",
       "      <td>108-3</td>\n",
       "      <td>No</td>\n",
       "      <td>1.0</td>\n",
       "      <td>Reciprocating</td>\n",
       "      <td>Personal</td>\n",
       "      <td>2.0</td>\n",
       "      <td>0.0</td>\n",
       "      <td>0.0</td>\n",
       "      <td>0.0</td>\n",
       "      <td>UNK</td>\n",
       "      <td>Cruise</td>\n",
       "      <td>Probable Cause</td>\n",
       "    </tr>\n",
       "    <tr>\n",
       "      <th>1</th>\n",
       "      <td>1962-07-19</td>\n",
       "      <td>BRIDGEPORT, CA</td>\n",
       "      <td>United States</td>\n",
       "      <td>Fatal(4)</td>\n",
       "      <td>Destroyed</td>\n",
       "      <td>NaN</td>\n",
       "      <td>Piper</td>\n",
       "      <td>PA24-180</td>\n",
       "      <td>No</td>\n",
       "      <td>1.0</td>\n",
       "      <td>Reciprocating</td>\n",
       "      <td>Personal</td>\n",
       "      <td>4.0</td>\n",
       "      <td>0.0</td>\n",
       "      <td>0.0</td>\n",
       "      <td>0.0</td>\n",
       "      <td>UNK</td>\n",
       "      <td>Unknown</td>\n",
       "      <td>Probable Cause</td>\n",
       "    </tr>\n",
       "    <tr>\n",
       "      <th>2</th>\n",
       "      <td>1974-08-30</td>\n",
       "      <td>Saltville, VA</td>\n",
       "      <td>United States</td>\n",
       "      <td>Fatal(3)</td>\n",
       "      <td>Destroyed</td>\n",
       "      <td>NaN</td>\n",
       "      <td>Cessna</td>\n",
       "      <td>172M</td>\n",
       "      <td>No</td>\n",
       "      <td>1.0</td>\n",
       "      <td>Reciprocating</td>\n",
       "      <td>Personal</td>\n",
       "      <td>3.0</td>\n",
       "      <td>NaN</td>\n",
       "      <td>NaN</td>\n",
       "      <td>NaN</td>\n",
       "      <td>IMC</td>\n",
       "      <td>Cruise</td>\n",
       "      <td>Probable Cause</td>\n",
       "    </tr>\n",
       "    <tr>\n",
       "      <th>3</th>\n",
       "      <td>1977-06-19</td>\n",
       "      <td>EUREKA, CA</td>\n",
       "      <td>United States</td>\n",
       "      <td>Fatal(2)</td>\n",
       "      <td>Destroyed</td>\n",
       "      <td>NaN</td>\n",
       "      <td>Rockwell</td>\n",
       "      <td>112</td>\n",
       "      <td>No</td>\n",
       "      <td>1.0</td>\n",
       "      <td>Reciprocating</td>\n",
       "      <td>Personal</td>\n",
       "      <td>2.0</td>\n",
       "      <td>0.0</td>\n",
       "      <td>0.0</td>\n",
       "      <td>0.0</td>\n",
       "      <td>IMC</td>\n",
       "      <td>Cruise</td>\n",
       "      <td>Probable Cause</td>\n",
       "    </tr>\n",
       "    <tr>\n",
       "      <th>4</th>\n",
       "      <td>1979-08-02</td>\n",
       "      <td>Canton, OH</td>\n",
       "      <td>United States</td>\n",
       "      <td>Fatal(1)</td>\n",
       "      <td>Destroyed</td>\n",
       "      <td>NaN</td>\n",
       "      <td>Cessna</td>\n",
       "      <td>501</td>\n",
       "      <td>No</td>\n",
       "      <td>NaN</td>\n",
       "      <td>NaN</td>\n",
       "      <td>Personal</td>\n",
       "      <td>1.0</td>\n",
       "      <td>2.0</td>\n",
       "      <td>NaN</td>\n",
       "      <td>0.0</td>\n",
       "      <td>VMC</td>\n",
       "      <td>Approach</td>\n",
       "      <td>Probable Cause</td>\n",
       "    </tr>\n",
       "  </tbody>\n",
       "</table>\n",
       "</div>"
      ],
      "text/plain": [
       "   Event.Date         Location        Country Injury.Severity Aircraft.damage  \\\n",
       "0  1948-10-24  MOOSE CREEK, ID  United States        Fatal(2)       Destroyed   \n",
       "1  1962-07-19   BRIDGEPORT, CA  United States        Fatal(4)       Destroyed   \n",
       "2  1974-08-30    Saltville, VA  United States        Fatal(3)       Destroyed   \n",
       "3  1977-06-19       EUREKA, CA  United States        Fatal(2)       Destroyed   \n",
       "4  1979-08-02       Canton, OH  United States        Fatal(1)       Destroyed   \n",
       "\n",
       "  Aircraft.Category      Make     Model Amateur.Built  Number.of.Engines  \\\n",
       "0               NaN   Stinson     108-3            No                1.0   \n",
       "1               NaN     Piper  PA24-180            No                1.0   \n",
       "2               NaN    Cessna      172M            No                1.0   \n",
       "3               NaN  Rockwell       112            No                1.0   \n",
       "4               NaN    Cessna       501            No                NaN   \n",
       "\n",
       "     Engine.Type Purpose.of.flight Total.Fatal.Injuries  \\\n",
       "0  Reciprocating          Personal                  2.0   \n",
       "1  Reciprocating          Personal                  4.0   \n",
       "2  Reciprocating          Personal                  3.0   \n",
       "3  Reciprocating          Personal                  2.0   \n",
       "4            NaN          Personal                  1.0   \n",
       "\n",
       "   Total.Serious.Injuries  Total.Minor.Injuries  Total.Uninjured  \\\n",
       "0                     0.0                   0.0              0.0   \n",
       "1                     0.0                   0.0              0.0   \n",
       "2                     NaN                   NaN              NaN   \n",
       "3                     0.0                   0.0              0.0   \n",
       "4                     2.0                   NaN              0.0   \n",
       "\n",
       "  Weather.Condition Broad.phase.of.flight   Report.Status  \n",
       "0               UNK                Cruise  Probable Cause  \n",
       "1               UNK               Unknown  Probable Cause  \n",
       "2               IMC                Cruise  Probable Cause  \n",
       "3               IMC                Cruise  Probable Cause  \n",
       "4               VMC              Approach  Probable Cause  "
      ]
     },
     "execution_count": 40,
     "metadata": {},
     "output_type": "execute_result"
    }
   ],
   "source": [
    "# usunięcie niepotrzebnych kolumn\n",
    "df1 = df.drop(['Event.Id', 'Investigation.Type', 'Accident.Number','Latitude', 'Longitude', 'Airport.Code','Airport.Name', 'Registration.Number', 'FAR.Description', 'Schedule', 'Air.carrier','Publication.Date', 'Unnamed: 31', 'Unnamed: 32', 'Unnamed: 33', 'Unnamed: 34', 'Unnamed: 35', 'Unnamed: 36', 'Unnamed: 37'], axis=1)\n",
    "df1.head()"
   ]
  },
  {
   "cell_type": "code",
   "execution_count": 41,
   "id": "147b7241",
   "metadata": {
    "scrolled": true
   },
   "outputs": [],
   "source": [
    "# dane tylko z USA\n",
    "us_df = df1[df1['Country'] == 'United States']"
   ]
  },
  {
   "cell_type": "code",
   "execution_count": 121,
   "id": "d5160636",
   "metadata": {},
   "outputs": [
    {
     "data": {
      "text/plain": [
       "Event.Date                    0\n",
       "Location                     11\n",
       "Country                       0\n",
       "Injury.Severity             108\n",
       "Aircraft.damage            1979\n",
       "Aircraft.Category         54093\n",
       "Make                         21\n",
       "Model                        38\n",
       "Amateur.Built                21\n",
       "Number.of.Engines          1770\n",
       "Engine.Type                3023\n",
       "Purpose.of.flight          2429\n",
       "Total.Fatal.Injuries      10654\n",
       "Total.Serious.Injuries    11374\n",
       "Total.Minor.Injuries      10729\n",
       "Total.Uninjured            5005\n",
       "Weather.Condition           645\n",
       "Broad.phase.of.flight     21088\n",
       "Report.Status              2613\n",
       "States                       11\n",
       "dtype: int64"
      ]
     },
     "execution_count": 121,
     "metadata": {},
     "output_type": "execute_result"
    }
   ],
   "source": [
    "us_df.isnull().sum()"
   ]
  },
  {
   "cell_type": "code",
   "execution_count": 43,
   "id": "94e71545",
   "metadata": {},
   "outputs": [
    {
     "data": {
      "text/plain": [
       "array(['United States'], dtype=object)"
      ]
     },
     "execution_count": 43,
     "metadata": {},
     "output_type": "execute_result"
    }
   ],
   "source": [
    "us_df['Country'].unique()"
   ]
  },
  {
   "cell_type": "code",
   "execution_count": 44,
   "id": "4695ac4e",
   "metadata": {},
   "outputs": [
    {
     "data": {
      "text/plain": [
       "array(['No', 'Yes', nan], dtype=object)"
      ]
     },
     "execution_count": 44,
     "metadata": {},
     "output_type": "execute_result"
    }
   ],
   "source": [
    "us_df['Amateur.Built'].unique()"
   ]
  },
  {
   "cell_type": "code",
   "execution_count": 45,
   "id": "c43060fd",
   "metadata": {},
   "outputs": [
    {
     "data": {
      "text/plain": [
       "No     73906\n",
       "Yes     8321\n",
       "Name: Amateur.Built, dtype: int64"
      ]
     },
     "execution_count": 45,
     "metadata": {},
     "output_type": "execute_result"
    }
   ],
   "source": [
    "us_df['Amateur.Built'].value_counts()"
   ]
  },
  {
   "cell_type": "code",
   "execution_count": 46,
   "id": "17ce6238",
   "metadata": {},
   "outputs": [
    {
     "data": {
      "text/plain": [
       "array([ 1., nan,  2.,  0.,  3.,  4.,  8.,  6.])"
      ]
     },
     "execution_count": 46,
     "metadata": {},
     "output_type": "execute_result"
    }
   ],
   "source": [
    "us_df['Number.of.Engines'].unique()"
   ]
  },
  {
   "cell_type": "code",
   "execution_count": 47,
   "id": "098f199d",
   "metadata": {},
   "outputs": [
    {
     "data": {
      "text/plain": [
       "1.0    68405\n",
       "2.0    10087\n",
       "0.0     1106\n",
       "3.0      431\n",
       "4.0      340\n",
       "8.0        3\n",
       "6.0        1\n",
       "Name: Number.of.Engines, dtype: int64"
      ]
     },
     "execution_count": 47,
     "metadata": {},
     "output_type": "execute_result"
    }
   ],
   "source": [
    "us_df['Number.of.Engines'].value_counts()"
   ]
  },
  {
   "cell_type": "code",
   "execution_count": 48,
   "id": "31fce656",
   "metadata": {},
   "outputs": [
    {
     "data": {
      "text/plain": [
       "array(['Personal', nan, 'Business', 'Instructional', 'Unknown', 'Ferry',\n",
       "       'Executive/corporate', 'Aerial Observation', 'Aerial Application',\n",
       "       'Public Aircraft', 'Skydiving', 'Other Work Use', 'Positioning',\n",
       "       'Flight Test', 'Air Race/show', 'Air Drop', 'Glider Tow',\n",
       "       'Public Aircraft - Federal', 'Public Aircraft - Local',\n",
       "       'External Load', 'Public Aircraft - State', 'Banner Tow',\n",
       "       'Firefighting', 'Air Race show', 'PUBS', 'ASHO', 'PUBL'],\n",
       "      dtype=object)"
      ]
     },
     "execution_count": 48,
     "metadata": {},
     "output_type": "execute_result"
    }
   ],
   "source": [
    "us_df['Purpose.of.flight'].unique()"
   ]
  },
  {
   "cell_type": "code",
   "execution_count": 49,
   "id": "03d4d16b",
   "metadata": {
    "scrolled": true
   },
   "outputs": [
    {
     "data": {
      "text/plain": [
       "Personal                     48544\n",
       "Instructional                10429\n",
       "Unknown                       5739\n",
       "Aerial Application            4627\n",
       "Business                      3843\n",
       "Positioning                   1566\n",
       "Other Work Use                1192\n",
       "Ferry                          729\n",
       "Aerial Observation             707\n",
       "Public Aircraft                685\n",
       "Executive/corporate            509\n",
       "Flight Test                    391\n",
       "Skydiving                      171\n",
       "External Load                  112\n",
       "Banner Tow                     101\n",
       "Public Aircraft - Federal       98\n",
       "Air Race show                   82\n",
       "Public Aircraft - Local         74\n",
       "Public Aircraft - State         63\n",
       "Air Race/show                   57\n",
       "Glider Tow                      52\n",
       "Firefighting                    29\n",
       "Air Drop                         8\n",
       "ASHO                             6\n",
       "PUBS                             4\n",
       "PUBL                             1\n",
       "Name: Purpose.of.flight, dtype: int64"
      ]
     },
     "execution_count": 49,
     "metadata": {},
     "output_type": "execute_result"
    }
   ],
   "source": [
    "us_df['Purpose.of.flight'].value_counts()"
   ]
  },
  {
   "cell_type": "code",
   "execution_count": 57,
   "id": "9b9f305f",
   "metadata": {},
   "outputs": [
    {
     "data": {
      "text/plain": [
       "array(['UNK', 'IMC', 'VMC', nan, '0'], dtype=object)"
      ]
     },
     "execution_count": 57,
     "metadata": {},
     "output_type": "execute_result"
    }
   ],
   "source": [
    "us_df['Weather.Condition'].unique()"
   ]
  },
  {
   "cell_type": "code",
   "execution_count": 56,
   "id": "836dc777",
   "metadata": {},
   "outputs": [
    {
     "data": {
      "text/plain": [
       "VMC    75315\n",
       "IMC     5618\n",
       "UNK      668\n",
       "0          2\n",
       "Name: Weather.Condition, dtype: int64"
      ]
     },
     "execution_count": 56,
     "metadata": {},
     "output_type": "execute_result"
    }
   ],
   "source": [
    "us_df['Weather.Condition'].value_counts()"
   ]
  },
  {
   "cell_type": "code",
   "execution_count": 52,
   "id": "7b16fd7c",
   "metadata": {},
   "outputs": [
    {
     "name": "stderr",
     "output_type": "stream",
     "text": [
      "/var/folders/rr/3tz5xt4j16s1wvxsg7zr8hg80000gn/T/ipykernel_4735/3350712895.py:1: SettingWithCopyWarning: \n",
      "A value is trying to be set on a copy of a slice from a DataFrame.\n",
      "Try using .loc[row_indexer,col_indexer] = value instead\n",
      "\n",
      "See the caveats in the documentation: https://pandas.pydata.org/pandas-docs/stable/user_guide/indexing.html#returning-a-view-versus-a-copy\n",
      "  us_df['Weather.Condition'] = us_df['Weather.Condition'].str.upper()\n"
     ]
    }
   ],
   "source": [
    "us_df['Weather.Condition'] = us_df['Weather.Condition'].str.upper()"
   ]
  },
  {
   "cell_type": "code",
   "execution_count": 64,
   "id": "1b706d69",
   "metadata": {},
   "outputs": [
    {
     "name": "stderr",
     "output_type": "stream",
     "text": [
      "/var/folders/rr/3tz5xt4j16s1wvxsg7zr8hg80000gn/T/ipykernel_4735/2825775398.py:1: SettingWithCopyWarning: \n",
      "A value is trying to be set on a copy of a slice from a DataFrame.\n",
      "Try using .loc[row_indexer,col_indexer] = value instead\n",
      "\n",
      "See the caveats in the documentation: https://pandas.pydata.org/pandas-docs/stable/user_guide/indexing.html#returning-a-view-versus-a-copy\n",
      "  us_df['Location'] = us_df['Location'].str.upper()\n"
     ]
    }
   ],
   "source": [
    "us_df['Location'] = us_df['Location'].str.upper()"
   ]
  },
  {
   "cell_type": "code",
   "execution_count": 65,
   "id": "0b913609",
   "metadata": {
    "scrolled": true
   },
   "outputs": [
    {
     "data": {
      "text/plain": [
       "ANCHORAGE, AK       548\n",
       "MIAMI, FL           275\n",
       "HOUSTON, TX         271\n",
       "ALBUQUERQUE, NM     265\n",
       "CHICAGO, IL         256\n",
       "                   ... \n",
       "LAWRENCEVILE, GA      1\n",
       "ECKLEY, CO            1\n",
       "SAINT JOSEPH, LA      1\n",
       "MATTAPAN, MA          1\n",
       "AUBURN HILLS, MI      1\n",
       "Name: Location, Length: 17588, dtype: int64"
      ]
     },
     "execution_count": 65,
     "metadata": {},
     "output_type": "execute_result"
    }
   ],
   "source": [
    "us_df['Location'].value_counts()"
   ]
  },
  {
   "cell_type": "code",
   "execution_count": 68,
   "id": "64cd4c6e",
   "metadata": {
    "scrolled": true
   },
   "outputs": [
    {
     "name": "stdout",
     "output_type": "stream",
     "text": [
      "ANCHORAGE, AK      548\n",
      "MIAMI, FL          275\n",
      "HOUSTON, TX        271\n",
      "ALBUQUERQUE, NM    265\n",
      "CHICAGO, IL        256\n",
      "FAIRBANKS, AK      246\n",
      "PHOENIX, AZ        224\n",
      "TUCSON, AZ         196\n",
      "DENVER, CO         196\n",
      "ATLANTA, GA        189\n",
      "RENO, NV           177\n",
      "SAN DIEGO, CA      177\n",
      "LAS VEGAS, NV      175\n",
      "TALKEETNA, AK      171\n",
      "PALMER, AK         163\n",
      "ORLANDO, FL        163\n",
      "ENGLEWOOD, CO      159\n",
      "SAN ANTONIO, TX    151\n",
      "MESA, AZ           149\n",
      "CHANDLER, AZ       148\n",
      "Name: Location, dtype: int64\n"
     ]
    }
   ],
   "source": [
    "top_20_location_counts = us_df['Location'].value_counts().head(20)\n",
    "print(top_20_location_counts)"
   ]
  },
  {
   "cell_type": "code",
   "execution_count": 69,
   "id": "23b74cc7",
   "metadata": {},
   "outputs": [
    {
     "name": "stderr",
     "output_type": "stream",
     "text": [
      "/var/folders/rr/3tz5xt4j16s1wvxsg7zr8hg80000gn/T/ipykernel_4735/684012230.py:2: SettingWithCopyWarning: \n",
      "A value is trying to be set on a copy of a slice from a DataFrame.\n",
      "Try using .loc[row_indexer,col_indexer] = value instead\n",
      "\n",
      "See the caveats in the documentation: https://pandas.pydata.org/pandas-docs/stable/user_guide/indexing.html#returning-a-view-versus-a-copy\n",
      "  us_df['States'] = us_df['Location'].str.split(',').str[-1].str.strip()\n"
     ]
    }
   ],
   "source": [
    "# stworzenie kolumny ze stanami\n",
    "us_df['States'] = us_df['Location'].str.split(',').str[-1].str.strip()"
   ]
  },
  {
   "cell_type": "code",
   "execution_count": 70,
   "id": "54f5c145",
   "metadata": {
    "scrolled": true
   },
   "outputs": [
    {
     "data": {
      "text/plain": [
       "CA    8857\n",
       "TX    5913\n",
       "FL    5825\n",
       "AK    5672\n",
       "AZ    2834\n",
       "      ... \n",
       "PO      14\n",
       "GU       8\n",
       "VI       6\n",
       "UN       3\n",
       "CB       1\n",
       "Name: States, Length: 61, dtype: int64"
      ]
     },
     "execution_count": 70,
     "metadata": {},
     "output_type": "execute_result"
    }
   ],
   "source": [
    "us_df['States'].value_counts()"
   ]
  },
  {
   "cell_type": "code",
   "execution_count": 72,
   "id": "9c704119",
   "metadata": {
    "scrolled": true
   },
   "outputs": [
    {
     "name": "stdout",
     "output_type": "stream",
     "text": [
      "CA    8857\n",
      "TX    5913\n",
      "FL    5825\n",
      "AK    5672\n",
      "AZ    2834\n",
      "CO    2726\n",
      "WA    2613\n",
      "IL    2060\n",
      "MI    2030\n",
      "GA    2023\n",
      "NY    1915\n",
      "OH    1823\n",
      "PA    1790\n",
      "OR    1772\n",
      "NC    1661\n",
      "MO    1565\n",
      "WI    1560\n",
      "AR    1519\n",
      "MN    1456\n",
      "ID    1436\n",
      "NM    1358\n",
      "UT    1336\n",
      "IN    1320\n",
      "VA    1275\n",
      "OK    1240\n",
      "NV    1236\n",
      "LA    1216\n",
      "NJ    1170\n",
      "AL    1153\n",
      "TN    1108\n",
      "Name: States, dtype: int64\n"
     ]
    }
   ],
   "source": [
    "top_20_states_counts = us_df['States'].value_counts().head(30)\n",
    "print(top_20_states_counts)"
   ]
  },
  {
   "cell_type": "code",
   "execution_count": 90,
   "id": "45ab2587",
   "metadata": {
    "scrolled": true
   },
   "outputs": [
    {
     "data": {
      "text/plain": [
       "array(['Cruise', 'Unknown', 'Approach', 'Climb', 'Takeoff', 'Landing',\n",
       "       'Taxi', 'Descent', 'Maneuvering', 'Standing', 'Go-around', nan],\n",
       "      dtype=object)"
      ]
     },
     "execution_count": 90,
     "metadata": {},
     "output_type": "execute_result"
    }
   ],
   "source": [
    "us_df['Broad.phase.of.flight'].unique()"
   ]
  },
  {
   "cell_type": "code",
   "execution_count": 96,
   "id": "ace29e42",
   "metadata": {},
   "outputs": [
    {
     "data": {
      "text/plain": [
       "array(['Destroyed', 'Substantial', 'Minor', nan, 'Unknown'], dtype=object)"
      ]
     },
     "execution_count": 96,
     "metadata": {},
     "output_type": "execute_result"
    }
   ],
   "source": [
    "us_df['Aircraft.damage'].unique()"
   ]
  },
  {
   "cell_type": "code",
   "execution_count": null,
   "id": "9a0eb187",
   "metadata": {},
   "outputs": [],
   "source": []
  },
  {
   "cell_type": "code",
   "execution_count": 93,
   "id": "8d87c22c",
   "metadata": {
    "scrolled": true
   },
   "outputs": [
    {
     "name": "stdout",
     "output_type": "stream",
     "text": [
      "       Event.Date    Location        Country Injury.Severity Aircraft.damage  \\\n",
      "55945  2003-12-04  MORLAN, GA  United States       Coweta Co        Fatal(2)   \n",
      "\n",
      "      Aircraft.Category   Make Model Amateur.Built  Number.of.Engines  \\\n",
      "55945         Destroyed  beech  B200            No                2.0   \n",
      "\n",
      "      Engine.Type Purpose.of.flight Total.Fatal.Injuries  \\\n",
      "55945  turbo prop       Positioning                  2.0   \n",
      "\n",
      "       Total.Serious.Injuries  Total.Minor.Injuries  Total.Uninjured  \\\n",
      "55945                     0.0                   NaN              NaN   \n",
      "\n",
      "      Weather.Condition Broad.phase.of.flight   Report.Status States  \n",
      "55945               IMC              Approach  Probable Cause     GA  \n"
     ]
    }
   ],
   "source": [
    "row_with_value_Fatal = us_df[us_df['Aircraft.damage'] == 'Fatal(2)']\n",
    "print(row_with_value_Fatal)"
   ]
  },
  {
   "cell_type": "code",
   "execution_count": 94,
   "id": "23eb217a",
   "metadata": {},
   "outputs": [],
   "source": [
    "us_df.loc[55945, 'Aircraft.damage'] = 'Destroyed'"
   ]
  },
  {
   "cell_type": "code",
   "execution_count": 95,
   "id": "8265a331",
   "metadata": {},
   "outputs": [],
   "source": [
    "us_df.loc[55945, 'Injury.Severity'] = 'Fatal(2)'"
   ]
  },
  {
   "cell_type": "code",
   "execution_count": 86,
   "id": "cd98fcab",
   "metadata": {
    "scrolled": false
   },
   "outputs": [
    {
     "data": {
      "text/plain": [
       "Landing        15365\n",
       "Takeoff        12412\n",
       "Cruise         10073\n",
       "Maneuvering     8100\n",
       "Approach        6502\n",
       "Climb           2006\n",
       "Taxi            1941\n",
       "Descent         1862\n",
       "Go-around       1350\n",
       "Standing         926\n",
       "Unknown          623\n",
       "Name: Broad.phase.of.flight, dtype: int64"
      ]
     },
     "execution_count": 86,
     "metadata": {},
     "output_type": "execute_result"
    }
   ],
   "source": [
    "us_df['Broad.phase.of.flight'].value_counts()"
   ]
  },
  {
   "cell_type": "code",
   "execution_count": 87,
   "id": "7b6b43f4",
   "metadata": {},
   "outputs": [
    {
     "name": "stdout",
     "output_type": "stream",
     "text": [
      "Empty DataFrame\n",
      "Columns: [Event.Date, Location, Country, Injury.Severity, Aircraft.damage, Aircraft.Category, Make, Model, Amateur.Built, Number.of.Engines, Engine.Type, Purpose.of.flight, Total.Fatal.Injuries, Total.Serious.Injuries, Total.Minor.Injuries, Total.Uninjured, Weather.Condition, Broad.phase.of.flight, Report.Status, States]\n",
      "Index: []\n"
     ]
    }
   ],
   "source": [
    "row_with_value_vmc = us_df[us_df['Broad.phase.of.flight'] == 'VMC']\n",
    "print(row_with_value_vmc)"
   ]
  },
  {
   "cell_type": "code",
   "execution_count": 78,
   "id": "aec54c04",
   "metadata": {},
   "outputs": [],
   "source": [
    "# wpisanie w wierszach 70590 i 77039 VMC w kolumnie Weather\n",
    "us_df.loc[us_df.index.isin([70590, 77039]), 'Weather.Condition'] = 'VMC'"
   ]
  },
  {
   "cell_type": "code",
   "execution_count": 80,
   "id": "2c950b2f",
   "metadata": {},
   "outputs": [],
   "source": [
    "us_df.loc[70590, 'Total.Serious.Injuries'] = 1.0"
   ]
  },
  {
   "cell_type": "code",
   "execution_count": 81,
   "id": "2a02052e",
   "metadata": {},
   "outputs": [],
   "source": [
    "us_df.loc[77039, 'Total.Serious.Injuries'] = 2.0"
   ]
  },
  {
   "cell_type": "code",
   "execution_count": 82,
   "id": "6e4528a2",
   "metadata": {},
   "outputs": [],
   "source": [
    "us_df.loc[us_df.index.isin([70590, 77039]), 'Total.Fatal.Injuries'] = 0.0"
   ]
  },
  {
   "cell_type": "code",
   "execution_count": 85,
   "id": "c284b11f",
   "metadata": {},
   "outputs": [],
   "source": [
    "us_df.loc[us_df.index.isin([70590, 77039]), 'Broad.phase.of.flight'] = 'Unknown'"
   ]
  },
  {
   "cell_type": "code",
   "execution_count": 59,
   "id": "0d717a03",
   "metadata": {},
   "outputs": [],
   "source": [
    "# zamiana Other na Unknown\n",
    "\n"
   ]
  },
  {
   "cell_type": "code",
   "execution_count": 53,
   "id": "e4a98eac",
   "metadata": {},
   "outputs": [
    {
     "name": "stderr",
     "output_type": "stream",
     "text": [
      "/var/folders/rr/3tz5xt4j16s1wvxsg7zr8hg80000gn/T/ipykernel_4735/2796289136.py:1: SettingWithCopyWarning: \n",
      "A value is trying to be set on a copy of a slice from a DataFrame.\n",
      "Try using .loc[row_indexer,col_indexer] = value instead\n",
      "\n",
      "See the caveats in the documentation: https://pandas.pydata.org/pandas-docs/stable/user_guide/indexing.html#returning-a-view-versus-a-copy\n",
      "  us_df['Make'] = us_df['Make'].str.lower()\n"
     ]
    }
   ],
   "source": [
    "us_df['Make'] = us_df['Make'].str.lower()"
   ]
  },
  {
   "cell_type": "code",
   "execution_count": 54,
   "id": "278cc717",
   "metadata": {},
   "outputs": [
    {
     "data": {
      "text/plain": [
       "array(['stinson', 'piper', 'cessna', ..., 'james r dernovsek',\n",
       "       'orlican s r o', 'royse ralph l'], dtype=object)"
      ]
     },
     "execution_count": 54,
     "metadata": {},
     "output_type": "execute_result"
    }
   ],
   "source": [
    "us_df['Make'].unique()"
   ]
  },
  {
   "cell_type": "code",
   "execution_count": 55,
   "id": "f969c1f0",
   "metadata": {
    "scrolled": true
   },
   "outputs": [
    {
     "data": {
      "text/plain": [
       "cessna           25853\n",
       "piper            14168\n",
       "beech             5059\n",
       "bell              2285\n",
       "boeing            1485\n",
       "                 ...  \n",
       "van grouw            1\n",
       "schwarzler           1\n",
       "rotordyne            1\n",
       "wirth                1\n",
       "royse ralph l        1\n",
       "Name: Make, Length: 7404, dtype: int64"
      ]
     },
     "execution_count": 55,
     "metadata": {},
     "output_type": "execute_result"
    }
   ],
   "source": [
    "us_df['Make'].value_counts()"
   ]
  },
  {
   "cell_type": "code",
   "execution_count": 89,
   "id": "21bac1e4",
   "metadata": {},
   "outputs": [
    {
     "data": {
      "text/plain": [
       "reciprocating    68507\n",
       "turbo shaft       3331\n",
       "turbo prop        3206\n",
       "turbo fan         2094\n",
       "unknown           1386\n",
       "turbo jet          667\n",
       "none                21\n",
       "electric            10\n",
       "lr                   2\n",
       "hybrid rocket        1\n",
       "Name: Engine.Type, dtype: int64"
      ]
     },
     "execution_count": 89,
     "metadata": {},
     "output_type": "execute_result"
    }
   ],
   "source": [
    "us_df['Engine.Type'].value_counts()"
   ]
  },
  {
   "cell_type": "code",
   "execution_count": 125,
   "id": "cafe3b0f",
   "metadata": {},
   "outputs": [
    {
     "data": {
      "text/plain": [
       "<AxesSubplot:xlabel='Engine.Type', ylabel='count'>"
      ]
     },
     "execution_count": 125,
     "metadata": {},
     "output_type": "execute_result"
    }
   ],
   "source": [
    "sns.countplot(data=us_df,x='Engine.Type')\n"
   ]
  },
  {
   "cell_type": "code",
   "execution_count": 88,
   "id": "65da141a",
   "metadata": {
    "scrolled": true
   },
   "outputs": [],
   "source": [
    "us_df.loc[us_df['Engine.Type'] == 'unk', 'Engine.Type'] = 'unknown'"
   ]
  },
  {
   "cell_type": "code",
   "execution_count": null,
   "id": "5d822b72",
   "metadata": {},
   "outputs": [],
   "source": []
  },
  {
   "cell_type": "code",
   "execution_count": 74,
   "id": "b114973c",
   "metadata": {},
   "outputs": [
    {
     "name": "stderr",
     "output_type": "stream",
     "text": [
      "/var/folders/rr/3tz5xt4j16s1wvxsg7zr8hg80000gn/T/ipykernel_4735/3187726784.py:1: SettingWithCopyWarning: \n",
      "A value is trying to be set on a copy of a slice from a DataFrame.\n",
      "Try using .loc[row_indexer,col_indexer] = value instead\n",
      "\n",
      "See the caveats in the documentation: https://pandas.pydata.org/pandas-docs/stable/user_guide/indexing.html#returning-a-view-versus-a-copy\n",
      "  us_df['Engine.Type'] = us_df['Engine.Type'].str.lower()\n"
     ]
    }
   ],
   "source": [
    "us_df['Engine.Type'] = us_df['Engine.Type'].str.lower()"
   ]
  },
  {
   "cell_type": "code",
   "execution_count": 62,
   "id": "e7612223",
   "metadata": {
    "scrolled": true
   },
   "outputs": [
    {
     "name": "stderr",
     "output_type": "stream",
     "text": [
      "/Users/smarta/opt/anaconda3/lib/python3.9/site-packages/multimethod/__init__.py:209: SettingWithCopyWarning: \n",
      "A value is trying to be set on a copy of a slice from a DataFrame\n",
      "\n",
      "See the caveats in the documentation: https://pandas.pydata.org/pandas-docs/stable/user_guide/indexing.html#returning-a-view-versus-a-copy\n",
      "  return self[tuple(map(self.get_type, args))](*args, **kwargs)\n"
     ]
    },
    {
     "data": {
      "application/vnd.jupyter.widget-view+json": {
       "model_id": "802f874d0acd45b9a20ce43570690d0b",
       "version_major": 2,
       "version_minor": 0
      },
      "text/plain": [
       "Summarize dataset:   0%|          | 0/5 [00:00<?, ?it/s]"
      ]
     },
     "metadata": {},
     "output_type": "display_data"
    },
    {
     "data": {
      "application/vnd.jupyter.widget-view+json": {
       "model_id": "0bc9cb2f35aa47eebac36afa4f99599c",
       "version_major": 2,
       "version_minor": 0
      },
      "text/plain": [
       "Generate report structure:   0%|          | 0/1 [00:00<?, ?it/s]"
      ]
     },
     "metadata": {},
     "output_type": "display_data"
    },
    {
     "data": {
      "application/vnd.jupyter.widget-view+json": {
       "model_id": "0c879bc75dc64a788e84fdef00aea90f",
       "version_major": 2,
       "version_minor": 0
      },
      "text/plain": [
       "Render HTML:   0%|          | 0/1 [00:00<?, ?it/s]"
      ]
     },
     "metadata": {},
     "output_type": "display_data"
    },
    {
     "data": {
      "application/vnd.jupyter.widget-view+json": {
       "model_id": "2d4d32cfb3e94207bd6babf2f037f814",
       "version_major": 2,
       "version_minor": 0
      },
      "text/plain": [
       "Export report to file:   0%|          | 0/1 [00:00<?, ?it/s]"
      ]
     },
     "metadata": {},
     "output_type": "display_data"
    }
   ],
   "source": [
    "import pandas_profiling as pp\n",
    "profile = pp.ProfileReport(us_df)\n",
    "profile.to_file(\"us_df.html\")"
   ]
  },
  {
   "cell_type": "code",
   "execution_count": 97,
   "id": "e486c66f",
   "metadata": {},
   "outputs": [],
   "source": [
    "us_df.to_csv('df_usa.csv', index=False)"
   ]
  },
  {
   "cell_type": "code",
   "execution_count": 120,
   "id": "f7cd5cb2",
   "metadata": {},
   "outputs": [
    {
     "data": {
      "text/plain": [
       "1.0    68497\n",
       "2.0    10100\n",
       "0.0     1106\n",
       "3.0      431\n",
       "4.0      340\n",
       "8.0        3\n",
       "6.0        1\n",
       "Name: Number.of.Engines, dtype: int64"
      ]
     },
     "execution_count": 120,
     "metadata": {},
     "output_type": "execute_result"
    }
   ],
   "source": [
    "us_df['Number.of.Engines'].value_counts()"
   ]
  },
  {
   "cell_type": "code",
   "execution_count": 103,
   "id": "3f0bfc72",
   "metadata": {},
   "outputs": [],
   "source": [
    "# uzupełnienie liczby silników\n",
    "specific_models = ['150', '150F', '150J', '150L', '152']\n",
    "us_df.loc[(us_df['Number.of.Engines'].isna()) & (us_df['Make'] == 'cessna') & (us_df['Model'].isin(specific_models)), 'Number.of.Engines'] = 1.0\n"
   ]
  },
  {
   "cell_type": "code",
   "execution_count": 105,
   "id": "0a1c2350",
   "metadata": {},
   "outputs": [],
   "source": [
    "specific_models = ['172', '172F', '172D', '172E', '172N', '172P', '172Q', '172R', '175B', '177', '180', '182', '182E', '182E', '182J', '182P', '182S']\n",
    "us_df.loc[(us_df['Number.of.Engines'].isna()) & (us_df['Make'] == 'cessna') & (us_df['Model'].isin(specific_models)), 'Number.of.Engines'] = 1.0"
   ]
  },
  {
   "cell_type": "code",
   "execution_count": 107,
   "id": "2c3194e9",
   "metadata": {},
   "outputs": [],
   "source": [
    "specific_models = ['185', '205', '206', '207', '208B', '210', '210F', '210N']\n",
    "us_df.loc[(us_df['Number.of.Engines'].isna()) & (us_df['Make'] == 'cessna') & (us_df['Model'].isin(specific_models)), 'Number.of.Engines'] = 1.0"
   ]
  },
  {
   "cell_type": "code",
   "execution_count": 112,
   "id": "1a4d884c",
   "metadata": {},
   "outputs": [],
   "source": [
    "specific_models = ['A185', 'A185F', 'A188','A188B', 'C172', 'R172', 'R182', 'T206', 'T210', 'T210N', 'T210 - H']\n",
    "us_df.loc[(us_df['Number.of.Engines'].isna()) & (us_df['Make'] == 'cessna') & (us_df['Model'].isin(specific_models)), 'Number.of.Engines'] = 1.0"
   ]
  },
  {
   "cell_type": "code",
   "execution_count": 114,
   "id": "4cb99ffb",
   "metadata": {},
   "outputs": [],
   "source": [
    "specific_models = ['P210', 'P210N', 'T240', 'T182T', 'T188C']\n",
    "us_df.loc[(us_df['Number.of.Engines'].isna()) & (us_df['Make'] == 'cessna') & (us_df['Model'].isin(specific_models)), 'Number.of.Engines'] = 1.0"
   ]
  },
  {
   "cell_type": "code",
   "execution_count": 115,
   "id": "344026e0",
   "metadata": {},
   "outputs": [],
   "source": [
    "specific_models = ['441', '500', '501','680', 'T310', 'T310Q', 'T310R', 'S550', '310J', '310K', '310R']\n",
    "us_df.loc[(us_df['Number.of.Engines'].isna()) & (us_df['Make'] == 'cessna') & (us_df['Model'].isin(specific_models)), 'Number.of.Engines'] = 2.0"
   ]
  },
  {
   "cell_type": "code",
   "execution_count": 119,
   "id": "f0c1df6d",
   "metadata": {},
   "outputs": [],
   "source": [
    "us_df.loc[(us_df['Number.of.Engines'].isna()) & (us_df['Make'] == 'shweizer') & (us_df['Model'].str.contains('SG')), 'Number.of.Engines'] = 0.0\n"
   ]
  },
  {
   "cell_type": "code",
   "execution_count": 126,
   "id": "1ad6556b",
   "metadata": {},
   "outputs": [
    {
     "data": {
      "text/plain": [
       "<AxesSubplot:>"
      ]
     },
     "execution_count": 126,
     "metadata": {},
     "output_type": "execute_result"
    }
   ],
   "source": [
    "# WIZUALIZACJE\n",
    "sns.heatmap(us_df.corr(),annot=True)\n"
   ]
  },
  {
   "cell_type": "code",
   "execution_count": 127,
   "id": "b0dadaf3",
   "metadata": {},
   "outputs": [
    {
     "name": "stdout",
     "output_type": "stream",
     "text": [
      "<class 'pandas.core.frame.DataFrame'>\n",
      "Int64Index: 82248 entries, 0 to 88888\n",
      "Data columns (total 20 columns):\n",
      " #   Column                  Non-Null Count  Dtype  \n",
      "---  ------                  --------------  -----  \n",
      " 0   Event.Date              82248 non-null  object \n",
      " 1   Location                82237 non-null  object \n",
      " 2   Country                 82248 non-null  object \n",
      " 3   Injury.Severity         82140 non-null  object \n",
      " 4   Aircraft.damage         80269 non-null  object \n",
      " 5   Aircraft.Category       28155 non-null  object \n",
      " 6   Make                    82227 non-null  object \n",
      " 7   Model                   82210 non-null  object \n",
      " 8   Amateur.Built           82227 non-null  object \n",
      " 9   Number.of.Engines       80478 non-null  float64\n",
      " 10  Engine.Type             79225 non-null  object \n",
      " 11  Purpose.of.flight       79819 non-null  object \n",
      " 12  Total.Fatal.Injuries    71594 non-null  object \n",
      " 13  Total.Serious.Injuries  70874 non-null  float64\n",
      " 14  Total.Minor.Injuries    71519 non-null  float64\n",
      " 15  Total.Uninjured         77243 non-null  float64\n",
      " 16  Weather.Condition       81603 non-null  object \n",
      " 17  Broad.phase.of.flight   61160 non-null  object \n",
      " 18  Report.Status           79635 non-null  object \n",
      " 19  States                  82237 non-null  object \n",
      "dtypes: float64(4), object(16)\n",
      "memory usage: 15.2+ MB\n"
     ]
    }
   ],
   "source": [
    "us_df.info()"
   ]
  },
  {
   "cell_type": "markdown",
   "id": "c5a58b21",
   "metadata": {},
   "source": [
    "df = pd.read_csv(\"AviationData2.csv\")"
   ]
  }
 ],
 "metadata": {
  "kernelspec": {
   "display_name": "Python 3 (ipykernel)",
   "language": "python",
   "name": "python3"
  },
  "language_info": {
   "codemirror_mode": {
    "name": "ipython",
    "version": 3
   },
   "file_extension": ".py",
   "mimetype": "text/x-python",
   "name": "python",
   "nbconvert_exporter": "python",
   "pygments_lexer": "ipython3",
   "version": "3.9.13"
  }
 },
 "nbformat": 4,
 "nbformat_minor": 5
}
