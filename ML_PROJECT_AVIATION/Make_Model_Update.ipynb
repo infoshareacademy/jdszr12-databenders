{
 "cells": [
  {
   "cell_type": "code",
   "execution_count": 90,
   "id": "4cfd0b7e",
   "metadata": {},
   "outputs": [],
   "source": [
    "import numpy as np\n",
    "import pandas as pd\n",
    "import matplotlib.pyplot as plt\n",
    "import seaborn as sns"
   ]
  },
  {
   "cell_type": "code",
   "execution_count": 105,
   "id": "b3d86866",
   "metadata": {},
   "outputs": [
    {
     "data": {
      "text/html": [
       "<div>\n",
       "<style scoped>\n",
       "    .dataframe tbody tr th:only-of-type {\n",
       "        vertical-align: middle;\n",
       "    }\n",
       "\n",
       "    .dataframe tbody tr th {\n",
       "        vertical-align: top;\n",
       "    }\n",
       "\n",
       "    .dataframe thead th {\n",
       "        text-align: right;\n",
       "    }\n",
       "</style>\n",
       "<table border=\"1\" class=\"dataframe\">\n",
       "  <thead>\n",
       "    <tr style=\"text-align: right;\">\n",
       "      <th></th>\n",
       "      <th>Event.Date</th>\n",
       "      <th>Location</th>\n",
       "      <th>Country</th>\n",
       "      <th>Injury.Severity</th>\n",
       "      <th>Aircraft.damage</th>\n",
       "      <th>Aircraft.Category</th>\n",
       "      <th>Make</th>\n",
       "      <th>Model</th>\n",
       "      <th>Amateur.Built</th>\n",
       "      <th>Number.of.Engines</th>\n",
       "      <th>Engine.Type</th>\n",
       "      <th>Purpose.of.flight</th>\n",
       "      <th>Total.Fatal.Injuries</th>\n",
       "      <th>Total.Serious.Injuries</th>\n",
       "      <th>Total.Minor.Injuries</th>\n",
       "      <th>Total.Uninjured</th>\n",
       "      <th>Weather.Condition</th>\n",
       "      <th>Broad.phase.of.flight</th>\n",
       "      <th>Report.Status</th>\n",
       "      <th>States</th>\n",
       "    </tr>\n",
       "  </thead>\n",
       "  <tbody>\n",
       "    <tr>\n",
       "      <th>0</th>\n",
       "      <td>1948-10-24</td>\n",
       "      <td>MOOSE CREEK, ID</td>\n",
       "      <td>United States</td>\n",
       "      <td>Fatal(2)</td>\n",
       "      <td>Destroyed</td>\n",
       "      <td>NaN</td>\n",
       "      <td>stinson</td>\n",
       "      <td>108-3</td>\n",
       "      <td>No</td>\n",
       "      <td>1.0</td>\n",
       "      <td>reciprocating</td>\n",
       "      <td>Personal</td>\n",
       "      <td>2.0</td>\n",
       "      <td>0.0</td>\n",
       "      <td>0.0</td>\n",
       "      <td>0.0</td>\n",
       "      <td>UNK</td>\n",
       "      <td>Cruise</td>\n",
       "      <td>Probable Cause</td>\n",
       "      <td>ID</td>\n",
       "    </tr>\n",
       "    <tr>\n",
       "      <th>1</th>\n",
       "      <td>1962-07-19</td>\n",
       "      <td>BRIDGEPORT, CA</td>\n",
       "      <td>United States</td>\n",
       "      <td>Fatal(4)</td>\n",
       "      <td>Destroyed</td>\n",
       "      <td>NaN</td>\n",
       "      <td>piper</td>\n",
       "      <td>PA24-180</td>\n",
       "      <td>No</td>\n",
       "      <td>1.0</td>\n",
       "      <td>reciprocating</td>\n",
       "      <td>Personal</td>\n",
       "      <td>4.0</td>\n",
       "      <td>0.0</td>\n",
       "      <td>0.0</td>\n",
       "      <td>0.0</td>\n",
       "      <td>UNK</td>\n",
       "      <td>Unknown</td>\n",
       "      <td>Probable Cause</td>\n",
       "      <td>CA</td>\n",
       "    </tr>\n",
       "    <tr>\n",
       "      <th>2</th>\n",
       "      <td>1974-08-30</td>\n",
       "      <td>SALTVILLE, VA</td>\n",
       "      <td>United States</td>\n",
       "      <td>Fatal(3)</td>\n",
       "      <td>Destroyed</td>\n",
       "      <td>NaN</td>\n",
       "      <td>cessna</td>\n",
       "      <td>172M</td>\n",
       "      <td>No</td>\n",
       "      <td>1.0</td>\n",
       "      <td>reciprocating</td>\n",
       "      <td>Personal</td>\n",
       "      <td>3.0</td>\n",
       "      <td>NaN</td>\n",
       "      <td>NaN</td>\n",
       "      <td>NaN</td>\n",
       "      <td>IMC</td>\n",
       "      <td>Cruise</td>\n",
       "      <td>Probable Cause</td>\n",
       "      <td>VA</td>\n",
       "    </tr>\n",
       "    <tr>\n",
       "      <th>3</th>\n",
       "      <td>1977-06-19</td>\n",
       "      <td>EUREKA, CA</td>\n",
       "      <td>United States</td>\n",
       "      <td>Fatal(2)</td>\n",
       "      <td>Destroyed</td>\n",
       "      <td>NaN</td>\n",
       "      <td>rockwell</td>\n",
       "      <td>112</td>\n",
       "      <td>No</td>\n",
       "      <td>1.0</td>\n",
       "      <td>reciprocating</td>\n",
       "      <td>Personal</td>\n",
       "      <td>2.0</td>\n",
       "      <td>0.0</td>\n",
       "      <td>0.0</td>\n",
       "      <td>0.0</td>\n",
       "      <td>IMC</td>\n",
       "      <td>Cruise</td>\n",
       "      <td>Probable Cause</td>\n",
       "      <td>CA</td>\n",
       "    </tr>\n",
       "    <tr>\n",
       "      <th>4</th>\n",
       "      <td>1979-08-02</td>\n",
       "      <td>CANTON, OH</td>\n",
       "      <td>United States</td>\n",
       "      <td>Fatal(1)</td>\n",
       "      <td>Destroyed</td>\n",
       "      <td>NaN</td>\n",
       "      <td>cessna</td>\n",
       "      <td>501</td>\n",
       "      <td>No</td>\n",
       "      <td>NaN</td>\n",
       "      <td>NaN</td>\n",
       "      <td>Personal</td>\n",
       "      <td>1.0</td>\n",
       "      <td>2.0</td>\n",
       "      <td>NaN</td>\n",
       "      <td>0.0</td>\n",
       "      <td>VMC</td>\n",
       "      <td>Approach</td>\n",
       "      <td>Probable Cause</td>\n",
       "      <td>OH</td>\n",
       "    </tr>\n",
       "  </tbody>\n",
       "</table>\n",
       "</div>"
      ],
      "text/plain": [
       "   Event.Date         Location        Country Injury.Severity Aircraft.damage  \\\n",
       "0  1948-10-24  MOOSE CREEK, ID  United States        Fatal(2)       Destroyed   \n",
       "1  1962-07-19   BRIDGEPORT, CA  United States        Fatal(4)       Destroyed   \n",
       "2  1974-08-30    SALTVILLE, VA  United States        Fatal(3)       Destroyed   \n",
       "3  1977-06-19       EUREKA, CA  United States        Fatal(2)       Destroyed   \n",
       "4  1979-08-02       CANTON, OH  United States        Fatal(1)       Destroyed   \n",
       "\n",
       "  Aircraft.Category      Make     Model Amateur.Built  Number.of.Engines  \\\n",
       "0               NaN   stinson     108-3            No                1.0   \n",
       "1               NaN     piper  PA24-180            No                1.0   \n",
       "2               NaN    cessna      172M            No                1.0   \n",
       "3               NaN  rockwell       112            No                1.0   \n",
       "4               NaN    cessna       501            No                NaN   \n",
       "\n",
       "     Engine.Type Purpose.of.flight  Total.Fatal.Injuries  \\\n",
       "0  reciprocating          Personal                   2.0   \n",
       "1  reciprocating          Personal                   4.0   \n",
       "2  reciprocating          Personal                   3.0   \n",
       "3  reciprocating          Personal                   2.0   \n",
       "4            NaN          Personal                   1.0   \n",
       "\n",
       "   Total.Serious.Injuries  Total.Minor.Injuries  Total.Uninjured  \\\n",
       "0                     0.0                   0.0              0.0   \n",
       "1                     0.0                   0.0              0.0   \n",
       "2                     NaN                   NaN              NaN   \n",
       "3                     0.0                   0.0              0.0   \n",
       "4                     2.0                   NaN              0.0   \n",
       "\n",
       "  Weather.Condition Broad.phase.of.flight   Report.Status States  \n",
       "0               UNK                Cruise  Probable Cause     ID  \n",
       "1               UNK               Unknown  Probable Cause     CA  \n",
       "2               IMC                Cruise  Probable Cause     VA  \n",
       "3               IMC                Cruise  Probable Cause     CA  \n",
       "4               VMC              Approach  Probable Cause     OH  "
      ]
     },
     "execution_count": 105,
     "metadata": {},
     "output_type": "execute_result"
    }
   ],
   "source": [
    "df = pd.read_csv(\"df_usa.csv\")\n",
    "df.head()"
   ]
  },
  {
   "cell_type": "code",
   "execution_count": 92,
   "id": "a7f2d97b",
   "metadata": {},
   "outputs": [],
   "source": [
    "df['Model'] = df['Model'].str.replace('-', '')"
   ]
  },
  {
   "cell_type": "code",
   "execution_count": 3,
   "id": "aa1472ec",
   "metadata": {},
   "outputs": [],
   "source": [
    "# ZAMIANA NAZW W MODELU "
   ]
  },
  {
   "cell_type": "code",
   "execution_count": 99,
   "id": "407797cb",
   "metadata": {
    "scrolled": true
   },
   "outputs": [],
   "source": [
    "\n",
    "update_info = {\n",
    "    ('beech', ('33', '35', '36')): 'Bonanza',#6\n",
    "    ('beech', ('55', '56', '58')): 'Baron',#6\n",
    "    ('beech', ('19', '23', '24')): 'Musketeer',#4\n",
    "    ('beech', (18,)): 'Model 18',#10\n",
    "    ('beech', (90,)): 'Model 90',#9\n",
    "    ('beech', (100,)): 'Model 100',#15\n",
    "    ('beech', ('200', '300', '400')): 'Model 200-400',#12\n",
    "    ('beech', (45,)): '45',#10\n",
    "    ('bell', ('206', '407')): 'Model 206-407',#5\n",
    "    ('bell', ('47', '58')): 'Model 47-58',#4\n",
    "    ('bell', ('204', '205', '222')): 'Model 206-407',#10\n",
    "    ('bell', ('212', '412', '214', 'TH', 'UH')): 'Model 185-421',#15\n",
    "    ('cessna', ('120', '140', '150', '152')): 'Model 120-152',#2\n",
    "    ('cessna', ('170', '172', '177', '175', '180', '182')): 'Model 170-182',#4\n",
    "    ('cessna', ('206', '210', '185', '152', '421')): 'Model 185-421',#6\n",
    "    ('cessna', (188,)): 'Model 188',#1\n",
    "    ('cessna', (207,)): 'Model 207',#8\n",
    "    ('cessna', (208,)): 'Model 208',#10\n",
    "    ('piper', ('18', '38', '22-108', 'J')): 'Model 18-38',#2\n",
    "    ('piper', ('20', '22', '28', '30', '44')): 'Model 20-44',#4\n",
    "    ('piper', ('23', '34', '24', '32', '46')): 'Model 23-46',#6\n",
    "    ('mooney', (20,)): 'Mooney medium',\n",
    "    ('mooney', (18, '2A')): 'Mooney small'\n",
    "}\n",
    "\n",
    "def update_model(row):\n",
    "    make = row['Make']\n",
    "    model = str(row['Model'])\n",
    "    \n",
    "    for condition, info in update_info.items():\n",
    "        if make == condition[0] and any(x in model for x in map(str, condition[1])):\n",
    "            return f\"{info}\"\n",
    "    \n",
    "    return model\n",
    "\n",
    "df['Model.Update'] = df.apply(update_model, axis=1)\n"
   ]
  },
  {
   "cell_type": "code",
   "execution_count": 101,
   "id": "e9747ea5",
   "metadata": {},
   "outputs": [],
   "source": [
    "update_capacity = {\n",
    "    ('cessna', ('120', '140', '150', '152', '188')): 'cessna_small',#2\n",
    "    ('cessna', ('170', '172', '177', '175', '180', '182', '206', '210', '185', '152', '421', '207', '208')): 'cessna_medium',#4\n",
    "    \n",
    "    ('piper', ('18', '38', '22-108', 'J', '25')): 'piper_small',#2\n",
    "    ('piper', ('20', '22', '28', '30', '44','23', '34', '24', '32', '46', '12', '31')): 'piper_medium',#4\n",
    "    \n",
    "    ('mooney', (20,)): 'Mooney medium',\n",
    "    ('mooney', (18, '2A')): 'Mooney small'\n",
    "}\n",
    "\n",
    "def update_capacity(row):\n",
    "    make = row['Make']\n",
    "    model = str(row['Model'])\n",
    "    \n",
    "    for condition, info in update_capacity.items():\n",
    "        if make == condition[0] and any(x in model for x in map(str, condition[1])):\n",
    "            return f\"{info}\"\n",
    "    \n",
    "    return model\n",
    "\n",
    "df['Model.Capacity'] = df.apply(update_model, axis=1)\n"
   ]
  },
  {
   "cell_type": "code",
   "execution_count": 104,
   "id": "a1514f3f",
   "metadata": {},
   "outputs": [
    {
     "name": "stdout",
     "output_type": "stream",
     "text": [
      "0                 1083\n",
      "1          Model 18-38\n",
      "2        Model 170-182\n",
      "3                  112\n",
      "4                  501\n",
      "             ...      \n",
      "82243      Model 20-44\n",
      "82244             7ECA\n",
      "82245            8GCBC\n",
      "82246    Model 185-421\n",
      "82247      Model 23-46\n",
      "Name: Model.Capacity, Length: 82248, dtype: object\n"
     ]
    }
   ],
   "source": [
    "\n",
    "print(df['Model.Capacity'])\n"
   ]
  },
  {
   "cell_type": "code",
   "execution_count": 96,
   "id": "c61f012b",
   "metadata": {},
   "outputs": [],
   "source": [
    "# Fixing the condition for 'Mooney large'\n",
    "df.loc[(df['Make'] == 'mooney') & (df['Model'].str.contains('M20')), 'Model.Update'] = 'Mooney large'\n",
    "df.loc[df['Make'] == 'mooney', 'Model.Update'] = 'Mooney small'"
   ]
  },
  {
   "cell_type": "code",
   "execution_count": 100,
   "id": "f231ed53",
   "metadata": {},
   "outputs": [
    {
     "name": "stdout",
     "output_type": "stream",
     "text": [
      "Top 20 models from the 'mooney' brand:\n",
      "Mooney small       1265\n",
      "Mooney large         10\n",
      "M10                   5\n",
      "M22                   3\n",
      "231                   3\n",
      "M2OJ                  1\n",
      "M2O                   1\n",
      "21                    1\n",
      "MK21                  1\n",
      "MARK 22               1\n",
      "M2OE                  1\n",
      "RANS S7 COURIER       1\n",
      "Name: Model.Update, dtype: int64\n"
     ]
    }
   ],
   "source": [
    "mooney_df = df[df['Make'] == 'mooney']\n",
    "\n",
    "# Use the value_counts() function to get the count of each unique model\n",
    "model_counts = mooney_df['Model.Update'].value_counts()\n",
    "\n",
    "top_20_models = model_counts.head(50)\n",
    "\n",
    "print(\"Top 20 models from the 'mooney' brand:\")\n",
    "print(top_20_models)"
   ]
  },
  {
   "cell_type": "code",
   "execution_count": 88,
   "id": "987c2c94",
   "metadata": {},
   "outputs": [
    {
     "name": "stdout",
     "output_type": "stream",
     "text": [
      "48       Mooney small\n",
      "70       Mooney small\n",
      "113      Mooney small\n",
      "145      Mooney small\n",
      "152      Mooney small\n",
      "             ...     \n",
      "81845    Mooney small\n",
      "82087    Mooney small\n",
      "82193    Mooney small\n",
      "82203    Mooney small\n",
      "82229    Mooney small\n",
      "Name: Model.Update, Length: 1293, dtype: object\n"
     ]
    }
   ],
   "source": [
    "\n",
    "mooney_rows = df[df['Make'] == 'mooney']\n",
    "mooney_model_update = mooney_rows['Model.Update']\n",
    "print(mooney_model_update)\n"
   ]
  },
  {
   "cell_type": "code",
   "execution_count": 74,
   "id": "cbd3c304",
   "metadata": {},
   "outputs": [
    {
     "ename": "AttributeError",
     "evalue": "'DataFrame' object has no attribute 'mooney_model_update'",
     "output_type": "error",
     "traceback": [
      "\u001b[0;31m---------------------------------------------------------------------------\u001b[0m",
      "\u001b[0;31mAttributeError\u001b[0m                            Traceback (most recent call last)",
      "\u001b[0;32m/var/folders/rr/3tz5xt4j16s1wvxsg7zr8hg80000gn/T/ipykernel_29666/1635857404.py\u001b[0m in \u001b[0;36m<module>\u001b[0;34m\u001b[0m\n\u001b[0;32m----> 1\u001b[0;31m \u001b[0mdf\u001b[0m\u001b[0;34m.\u001b[0m\u001b[0mmooney_model_update\u001b[0m\u001b[0;34m.\u001b[0m\u001b[0munique\u001b[0m\u001b[0;34m(\u001b[0m\u001b[0;34m)\u001b[0m\u001b[0;34m\u001b[0m\u001b[0;34m\u001b[0m\u001b[0m\n\u001b[0m",
      "\u001b[0;32m~/opt/anaconda3/lib/python3.9/site-packages/pandas/core/generic.py\u001b[0m in \u001b[0;36m__getattr__\u001b[0;34m(self, name)\u001b[0m\n\u001b[1;32m   5573\u001b[0m         ):\n\u001b[1;32m   5574\u001b[0m             \u001b[0;32mreturn\u001b[0m \u001b[0mself\u001b[0m\u001b[0;34m[\u001b[0m\u001b[0mname\u001b[0m\u001b[0;34m]\u001b[0m\u001b[0;34m\u001b[0m\u001b[0;34m\u001b[0m\u001b[0m\n\u001b[0;32m-> 5575\u001b[0;31m         \u001b[0;32mreturn\u001b[0m \u001b[0mobject\u001b[0m\u001b[0;34m.\u001b[0m\u001b[0m__getattribute__\u001b[0m\u001b[0;34m(\u001b[0m\u001b[0mself\u001b[0m\u001b[0;34m,\u001b[0m \u001b[0mname\u001b[0m\u001b[0;34m)\u001b[0m\u001b[0;34m\u001b[0m\u001b[0;34m\u001b[0m\u001b[0m\n\u001b[0m\u001b[1;32m   5576\u001b[0m \u001b[0;34m\u001b[0m\u001b[0m\n\u001b[1;32m   5577\u001b[0m     \u001b[0;32mdef\u001b[0m \u001b[0m__setattr__\u001b[0m\u001b[0;34m(\u001b[0m\u001b[0mself\u001b[0m\u001b[0;34m,\u001b[0m \u001b[0mname\u001b[0m\u001b[0;34m:\u001b[0m \u001b[0mstr\u001b[0m\u001b[0;34m,\u001b[0m \u001b[0mvalue\u001b[0m\u001b[0;34m)\u001b[0m \u001b[0;34m->\u001b[0m \u001b[0;32mNone\u001b[0m\u001b[0;34m:\u001b[0m\u001b[0;34m\u001b[0m\u001b[0;34m\u001b[0m\u001b[0m\n",
      "\u001b[0;31mAttributeError\u001b[0m: 'DataFrame' object has no attribute 'mooney_model_update'"
     ]
    }
   ],
   "source": []
  },
  {
   "cell_type": "code",
   "execution_count": 35,
   "id": "d659ef74",
   "metadata": {},
   "outputs": [],
   "source": [
    "# Cessna na airplane\n",
    "df.loc[df['Make'] == 'cessna', 'Aircraft.Category'] = 'Airplane'\n"
   ]
  },
  {
   "cell_type": "code",
   "execution_count": 37,
   "id": "7599520b",
   "metadata": {},
   "outputs": [],
   "source": [
    "df.loc[df['Make'] == 'piper', 'Aircraft.Category'] = 'Airplane'"
   ]
  },
  {
   "cell_type": "code",
   "execution_count": 38,
   "id": "9393a232",
   "metadata": {},
   "outputs": [],
   "source": [
    "df.loc[df['Make'] == 'beech', 'Aircraft.Category'] = 'Airplane'"
   ]
  },
  {
   "cell_type": "code",
   "execution_count": 39,
   "id": "44f355b5",
   "metadata": {},
   "outputs": [],
   "source": [
    "df.loc[df['Make'] == 'bell', 'Aircraft.Category'] = 'Helicopter'"
   ]
  },
  {
   "cell_type": "code",
   "execution_count": 41,
   "id": "c2b1044b",
   "metadata": {},
   "outputs": [],
   "source": [
    "df.loc[df['Make'] == 'robinson', 'Aircraft.Category'] = 'Helicopter'"
   ]
  },
  {
   "cell_type": "code",
   "execution_count": 42,
   "id": "bb310a44",
   "metadata": {},
   "outputs": [],
   "source": [
    "df.loc[df['Make'] == 'hughes', 'Aircraft.Category'] = 'Helicopter'"
   ]
  },
  {
   "cell_type": "code",
   "execution_count": 43,
   "id": "ad7b0d1c",
   "metadata": {},
   "outputs": [],
   "source": [
    "df.loc[df['Make'] == 'boeing', 'Aircraft.Category'] = 'Airplane'"
   ]
  },
  {
   "cell_type": "code",
   "execution_count": 44,
   "id": "621b5a37",
   "metadata": {},
   "outputs": [],
   "source": [
    "df.loc[df['Make'] == 'mooney', 'Aircraft.Category'] = 'Airplane'"
   ]
  },
  {
   "cell_type": "code",
   "execution_count": 45,
   "id": "29e6a973",
   "metadata": {},
   "outputs": [],
   "source": [
    "df.loc[df['Make'] == 'grumman', 'Aircraft.Category'] = 'Airplane'"
   ]
  },
  {
   "cell_type": "code",
   "execution_count": 52,
   "id": "89aab18a",
   "metadata": {},
   "outputs": [],
   "source": [
    "df.loc[df['Make'] == 'air tractor', 'Aircraft.Category'] = 'Airplane'"
   ]
  },
  {
   "cell_type": "code",
   "execution_count": 51,
   "id": "256a912c",
   "metadata": {},
   "outputs": [],
   "source": [
    "df.loc[df['Make'] == 'maule', 'Aircraft.Category'] = 'Airplane'"
   ]
  },
  {
   "cell_type": "code",
   "execution_count": 50,
   "id": "6c9cafca",
   "metadata": {},
   "outputs": [],
   "source": [
    "df.loc[df['Make'] == 'champion', 'Aircraft.Category'] = 'Airplane'"
   ]
  },
  {
   "cell_type": "code",
   "execution_count": 48,
   "id": "f2628db2",
   "metadata": {},
   "outputs": [],
   "source": [
    "df.loc[df['Make'] == 'stinson', 'Aircraft.Category'] = 'Airplane'"
   ]
  },
  {
   "cell_type": "code",
   "execution_count": 49,
   "id": "4dd9c893",
   "metadata": {},
   "outputs": [],
   "source": [
    "df.loc[df['Make'] == 'luscombe', 'Aircraft.Category'] = 'Airplane'"
   ]
  },
  {
   "cell_type": "code",
   "execution_count": 55,
   "id": "d26a5d75",
   "metadata": {},
   "outputs": [],
   "source": [
    "df.loc[df['Make'] == 'aero commander', 'Aircraft.Category'] = 'Airplane'"
   ]
  },
  {
   "cell_type": "code",
   "execution_count": 56,
   "id": "6c6809ad",
   "metadata": {},
   "outputs": [],
   "source": [
    "df.loc[df['Make'] == 'taylorcraft', 'Aircraft.Category'] = 'Airplane'"
   ]
  },
  {
   "cell_type": "code",
   "execution_count": 57,
   "id": "c664e907",
   "metadata": {},
   "outputs": [],
   "source": [
    "df.loc[df['Make'] == 'rockwell', 'Aircraft.Category'] = 'Airplane'"
   ]
  },
  {
   "cell_type": "code",
   "execution_count": 60,
   "id": "15ac17eb",
   "metadata": {},
   "outputs": [],
   "source": [
    "df.loc[df['Make'] == 'hiller', 'Aircraft.Category'] = 'Helicopter'"
   ]
  },
  {
   "cell_type": "code",
   "execution_count": 59,
   "id": "a4646c98",
   "metadata": {},
   "outputs": [],
   "source": [
    "df.loc[df['Make'] == 'eurocopter', 'Aircraft.Category'] = 'Helicopter'"
   ]
  },
  {
   "cell_type": "code",
   "execution_count": null,
   "id": "190275f8",
   "metadata": {},
   "outputs": [],
   "source": []
  },
  {
   "cell_type": "code",
   "execution_count": 61,
   "id": "a779e597",
   "metadata": {
    "scrolled": true
   },
   "outputs": [
    {
     "data": {
      "text/plain": [
       "Event.Date                    0\n",
       "Location                     11\n",
       "Country                       0\n",
       "Injury.Severity             108\n",
       "Aircraft.damage            1979\n",
       "Aircraft.Category         13249\n",
       "Make                         21\n",
       "Model                        38\n",
       "Amateur.Built                21\n",
       "Number.of.Engines          1875\n",
       "Engine.Type                3023\n",
       "Purpose.of.flight          2429\n",
       "Total.Fatal.Injuries      10654\n",
       "Total.Serious.Injuries    11374\n",
       "Total.Minor.Injuries      10729\n",
       "Total.Uninjured            5005\n",
       "Weather.Condition           645\n",
       "Broad.phase.of.flight     21088\n",
       "Report.Status              2613\n",
       "States                       74\n",
       "Model.Update                  0\n",
       "dtype: int64"
      ]
     },
     "execution_count": 61,
     "metadata": {},
     "output_type": "execute_result"
    }
   ],
   "source": [
    "df.isnull().sum()"
   ]
  },
  {
   "cell_type": "code",
   "execution_count": 54,
   "id": "371b79c4",
   "metadata": {},
   "outputs": [
    {
     "data": {
      "text/html": [
       "<div>\n",
       "<style scoped>\n",
       "    .dataframe tbody tr th:only-of-type {\n",
       "        vertical-align: middle;\n",
       "    }\n",
       "\n",
       "    .dataframe tbody tr th {\n",
       "        vertical-align: top;\n",
       "    }\n",
       "\n",
       "    .dataframe thead th {\n",
       "        text-align: right;\n",
       "    }\n",
       "</style>\n",
       "<table border=\"1\" class=\"dataframe\">\n",
       "  <thead>\n",
       "    <tr style=\"text-align: right;\">\n",
       "      <th></th>\n",
       "      <th>Number.of.Engines</th>\n",
       "      <th>Total.Fatal.Injuries</th>\n",
       "      <th>Total.Serious.Injuries</th>\n",
       "      <th>Total.Minor.Injuries</th>\n",
       "      <th>Total.Uninjured</th>\n",
       "    </tr>\n",
       "  </thead>\n",
       "  <tbody>\n",
       "    <tr>\n",
       "      <th>count</th>\n",
       "      <td>80373.000000</td>\n",
       "      <td>71594.000000</td>\n",
       "      <td>70874.000000</td>\n",
       "      <td>71519.000000</td>\n",
       "      <td>77243.000000</td>\n",
       "    </tr>\n",
       "    <tr>\n",
       "      <th>mean</th>\n",
       "      <td>1.135481</td>\n",
       "      <td>0.421683</td>\n",
       "      <td>0.257175</td>\n",
       "      <td>0.333016</td>\n",
       "      <td>4.302448</td>\n",
       "    </tr>\n",
       "    <tr>\n",
       "      <th>std</th>\n",
       "      <td>0.427286</td>\n",
       "      <td>2.433647</td>\n",
       "      <td>1.144181</td>\n",
       "      <td>1.306620</td>\n",
       "      <td>23.794728</td>\n",
       "    </tr>\n",
       "    <tr>\n",
       "      <th>min</th>\n",
       "      <td>0.000000</td>\n",
       "      <td>0.000000</td>\n",
       "      <td>0.000000</td>\n",
       "      <td>0.000000</td>\n",
       "      <td>0.000000</td>\n",
       "    </tr>\n",
       "    <tr>\n",
       "      <th>25%</th>\n",
       "      <td>1.000000</td>\n",
       "      <td>0.000000</td>\n",
       "      <td>0.000000</td>\n",
       "      <td>0.000000</td>\n",
       "      <td>0.000000</td>\n",
       "    </tr>\n",
       "    <tr>\n",
       "      <th>50%</th>\n",
       "      <td>1.000000</td>\n",
       "      <td>0.000000</td>\n",
       "      <td>0.000000</td>\n",
       "      <td>0.000000</td>\n",
       "      <td>1.000000</td>\n",
       "    </tr>\n",
       "    <tr>\n",
       "      <th>75%</th>\n",
       "      <td>1.000000</td>\n",
       "      <td>0.000000</td>\n",
       "      <td>0.000000</td>\n",
       "      <td>0.000000</td>\n",
       "      <td>2.000000</td>\n",
       "    </tr>\n",
       "    <tr>\n",
       "      <th>max</th>\n",
       "      <td>8.000000</td>\n",
       "      <td>265.000000</td>\n",
       "      <td>137.000000</td>\n",
       "      <td>125.000000</td>\n",
       "      <td>699.000000</td>\n",
       "    </tr>\n",
       "  </tbody>\n",
       "</table>\n",
       "</div>"
      ],
      "text/plain": [
       "       Number.of.Engines  Total.Fatal.Injuries  Total.Serious.Injuries  \\\n",
       "count       80373.000000          71594.000000            70874.000000   \n",
       "mean            1.135481              0.421683                0.257175   \n",
       "std             0.427286              2.433647                1.144181   \n",
       "min             0.000000              0.000000                0.000000   \n",
       "25%             1.000000              0.000000                0.000000   \n",
       "50%             1.000000              0.000000                0.000000   \n",
       "75%             1.000000              0.000000                0.000000   \n",
       "max             8.000000            265.000000              137.000000   \n",
       "\n",
       "       Total.Minor.Injuries  Total.Uninjured  \n",
       "count          71519.000000     77243.000000  \n",
       "mean               0.333016         4.302448  \n",
       "std                1.306620        23.794728  \n",
       "min                0.000000         0.000000  \n",
       "25%                0.000000         0.000000  \n",
       "50%                0.000000         1.000000  \n",
       "75%                0.000000         2.000000  \n",
       "max              125.000000       699.000000  "
      ]
     },
     "execution_count": 54,
     "metadata": {},
     "output_type": "execute_result"
    }
   ],
   "source": [
    "df.describe()"
   ]
  },
  {
   "cell_type": "code",
   "execution_count": 76,
   "id": "b5436e5c",
   "metadata": {},
   "outputs": [],
   "source": [
    "df['Make'] = df['Make'].str.replace('-', '')"
   ]
  },
  {
   "cell_type": "code",
   "execution_count": 85,
   "id": "6daf5b88",
   "metadata": {
    "scrolled": true
   },
   "outputs": [
    {
     "name": "stdout",
     "output_type": "stream",
     "text": [
      "Top 20 models from the 'beech' brand:\n",
      "A36      451\n",
      "C23      222\n",
      "58       217\n",
      "V35B     160\n",
      "35       142\n",
      "F33A     122\n",
      "95B55    122\n",
      "23        93\n",
      "A36TC     80\n",
      "V35       78\n",
      "S35       76\n",
      "C24R      74\n",
      "E18S      69\n",
      "B19       67\n",
      "200       66\n",
      "58P       65\n",
      "76        64\n",
      "C35       63\n",
      "A23       62\n",
      "H35       60\n",
      "77        59\n",
      "K35       55\n",
      "G35       54\n",
      "36        53\n",
      "1900D     52\n",
      "B35       51\n",
      "A35       48\n",
      "J35       47\n",
      "B36TC     46\n",
      "P35       43\n",
      "C90       42\n",
      "V35A      41\n",
      "95C55     41\n",
      "M35       40\n",
      "B23       40\n",
      "E55       38\n",
      "A2324     37\n",
      "F35       37\n",
      "95A55     34\n",
      "B60       34\n",
      "35B33     34\n",
      "1900C     34\n",
      "55        34\n",
      "A24R      34\n",
      "95        33\n",
      "N35       32\n",
      "C45H      31\n",
      "35C33     30\n",
      "D18S      30\n",
      "BE58      30\n",
      "Name: Model, dtype: int64\n"
     ]
    }
   ],
   "source": [
    "beech_df = df[df['Make'] == 'beech']\n",
    "\n",
    "# Use the value_counts() function to get the count of each unique model\n",
    "model_counts = beech_df['Model'].value_counts()\n",
    "\n",
    "top_20_models = model_counts.head(50)\n",
    "\n",
    "print(\"Top 20 models from the 'beech' brand:\")\n",
    "print(top_20_models)"
   ]
  },
  {
   "cell_type": "code",
   "execution_count": 89,
   "id": "ef8afbcb",
   "metadata": {
    "scrolled": true
   },
   "outputs": [
    {
     "name": "stdout",
     "output_type": "stream",
     "text": [
      "Top 20 models from the 'mooney' brand:\n",
      "Mooney small    1293\n",
      "Name: Model.Update, dtype: int64\n"
     ]
    }
   ],
   "source": [
    "mooney_df = df[df['Make'] == 'mooney']\n",
    "\n",
    "# Use the value_counts() function to get the count of each unique model\n",
    "model_counts = mooney_df['Model.Update'].value_counts()\n",
    "\n",
    "top_20_models = model_counts.head(50)\n",
    "\n",
    "print(\"Top 20 models from the 'mooney' brand:\")\n",
    "print(top_20_models)"
   ]
  },
  {
   "cell_type": "code",
   "execution_count": 64,
   "id": "96d7b70b",
   "metadata": {},
   "outputs": [
    {
     "data": {
      "text/plain": [
       "9906"
      ]
     },
     "execution_count": 64,
     "metadata": {},
     "output_type": "execute_result"
    }
   ],
   "source": [
    "df['Model.Update'].unique().size"
   ]
  },
  {
   "cell_type": "code",
   "execution_count": 21,
   "id": "65b65640",
   "metadata": {},
   "outputs": [
    {
     "name": "stdout",
     "output_type": "stream",
     "text": [
      "Top 20 models from the 'bell' brand:\n",
      "206         1074\n",
      "47G           94\n",
      "407           88\n",
      "47G-2         83\n",
      "47G-3B-1      65\n",
      "UH-1B         53\n",
      "47D1          50\n",
      "47G-5         35\n",
      "OH-58A        33\n",
      "UH-1H         32\n",
      "212           30\n",
      "47G2          29\n",
      "47G-4A        27\n",
      "47G-2A        24\n",
      "OH-58C        20\n",
      "47G-3B1       19\n",
      "205A-1        17\n",
      "222           17\n",
      "47G-5A        17\n",
      "47G3B1        15\n",
      "47G-3B        15\n",
      "412           15\n",
      "47G-3B-2      15\n",
      "47            11\n",
      "47D-1         11\n",
      "OH 58A        11\n",
      "TH-13T        10\n",
      "47-G5         10\n",
      "47-D1         10\n",
      "222UT          9\n",
      "204B           9\n",
      "47-G2          8\n",
      "47G-2A-1       8\n",
      "222U           8\n",
      "47G-4          7\n",
      "47J            7\n",
      "47G5           7\n",
      "230            7\n",
      "47J-2A         7\n",
      "214B-1         7\n",
      "47G3B2A        6\n",
      "47J-2          6\n",
      "430            6\n",
      "UH 1H          6\n",
      "UH1B           5\n",
      "UH-1E          5\n",
      "47-G3B1        5\n",
      "TH-1L          5\n",
      "47G4           5\n",
      "47G 3B 1       5\n",
      "Name: Model.Update, dtype: int64\n"
     ]
    }
   ],
   "source": [
    "bell_df = df[df['Make'] == 'bell']\n",
    "\n",
    "# Use the value_counts() function to get the count of each unique model\n",
    "model_counts = bell_df['Model.Update'].value_counts()\n",
    "\n",
    "top_20_models = model_counts.head(50)\n",
    "\n",
    "print(\"Top 20 models from the 'bell' brand:\")\n",
    "print(top_20_models)"
   ]
  }
 ],
 "metadata": {
  "kernelspec": {
   "display_name": "Python 3 (ipykernel)",
   "language": "python",
   "name": "python3"
  },
  "language_info": {
   "codemirror_mode": {
    "name": "ipython",
    "version": 3
   },
   "file_extension": ".py",
   "mimetype": "text/x-python",
   "name": "python",
   "nbconvert_exporter": "python",
   "pygments_lexer": "ipython3",
   "version": "3.9.13"
  }
 },
 "nbformat": 4,
 "nbformat_minor": 5
}
