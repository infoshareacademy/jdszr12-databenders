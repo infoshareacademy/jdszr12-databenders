{
 "cells": [
  {
   "cell_type": "code",
   "execution_count": 28,
   "id": "21b3dade",
   "metadata": {},
   "outputs": [],
   "source": [
    "import numpy as np\n",
    "import pandas as pd\n",
    "import matplotlib.pyplot as plt\n",
    "import seaborn as sns"
   ]
  },
  {
   "cell_type": "code",
   "execution_count": 146,
   "id": "6cabe75c",
   "metadata": {
    "scrolled": true
   },
   "outputs": [
    {
     "data": {
      "text/html": [
       "<div>\n",
       "<style scoped>\n",
       "    .dataframe tbody tr th:only-of-type {\n",
       "        vertical-align: middle;\n",
       "    }\n",
       "\n",
       "    .dataframe tbody tr th {\n",
       "        vertical-align: top;\n",
       "    }\n",
       "\n",
       "    .dataframe thead th {\n",
       "        text-align: right;\n",
       "    }\n",
       "</style>\n",
       "<table border=\"1\" class=\"dataframe\">\n",
       "  <thead>\n",
       "    <tr style=\"text-align: right;\">\n",
       "      <th></th>\n",
       "      <th>Event.Date</th>\n",
       "      <th>Location</th>\n",
       "      <th>Country</th>\n",
       "      <th>Injury.Severity</th>\n",
       "      <th>Aircraft.damage</th>\n",
       "      <th>Aircraft.Category</th>\n",
       "      <th>Make</th>\n",
       "      <th>Model</th>\n",
       "      <th>Amateur.Built</th>\n",
       "      <th>Number.of.Engines</th>\n",
       "      <th>...</th>\n",
       "      <th>Total.Minor.Injuries</th>\n",
       "      <th>Total.Uninjured</th>\n",
       "      <th>Weather.Condition</th>\n",
       "      <th>Broad.phase.of.flight</th>\n",
       "      <th>Report.Status</th>\n",
       "      <th>States</th>\n",
       "      <th>Year</th>\n",
       "      <th>Month.Abbr</th>\n",
       "      <th>Day.Name.Abbr</th>\n",
       "      <th>Weekend</th>\n",
       "    </tr>\n",
       "  </thead>\n",
       "  <tbody>\n",
       "    <tr>\n",
       "      <th>0</th>\n",
       "      <td>1982-01-01</td>\n",
       "      <td>PULLMAN, WA</td>\n",
       "      <td>United States</td>\n",
       "      <td>Non-Fatal</td>\n",
       "      <td>Substantial</td>\n",
       "      <td>Airplane</td>\n",
       "      <td>cessna</td>\n",
       "      <td>140</td>\n",
       "      <td>No</td>\n",
       "      <td>1.0</td>\n",
       "      <td>...</td>\n",
       "      <td>0.0</td>\n",
       "      <td>2.0</td>\n",
       "      <td>VMC</td>\n",
       "      <td>Takeoff</td>\n",
       "      <td>Probable Cause</td>\n",
       "      <td>WA</td>\n",
       "      <td>1982</td>\n",
       "      <td>Jan</td>\n",
       "      <td>Fri</td>\n",
       "      <td>False</td>\n",
       "    </tr>\n",
       "    <tr>\n",
       "      <th>1</th>\n",
       "      <td>1982-01-01</td>\n",
       "      <td>EAST HANOVER, NJ</td>\n",
       "      <td>United States</td>\n",
       "      <td>Non-Fatal</td>\n",
       "      <td>Substantial</td>\n",
       "      <td>Airplane</td>\n",
       "      <td>cessna</td>\n",
       "      <td>401B</td>\n",
       "      <td>No</td>\n",
       "      <td>2.0</td>\n",
       "      <td>...</td>\n",
       "      <td>0.0</td>\n",
       "      <td>2.0</td>\n",
       "      <td>IMC</td>\n",
       "      <td>Landing</td>\n",
       "      <td>Probable Cause</td>\n",
       "      <td>NJ</td>\n",
       "      <td>1982</td>\n",
       "      <td>Jan</td>\n",
       "      <td>Fri</td>\n",
       "      <td>False</td>\n",
       "    </tr>\n",
       "    <tr>\n",
       "      <th>2</th>\n",
       "      <td>1982-01-01</td>\n",
       "      <td>JACKSONVILLE, FL</td>\n",
       "      <td>United States</td>\n",
       "      <td>Non-Fatal</td>\n",
       "      <td>Substantial</td>\n",
       "      <td>NaN</td>\n",
       "      <td>north american</td>\n",
       "      <td>NAVION L-17B</td>\n",
       "      <td>No</td>\n",
       "      <td>1.0</td>\n",
       "      <td>...</td>\n",
       "      <td>3.0</td>\n",
       "      <td>0.0</td>\n",
       "      <td>IMC</td>\n",
       "      <td>Cruise</td>\n",
       "      <td>Probable Cause</td>\n",
       "      <td>FL</td>\n",
       "      <td>1982</td>\n",
       "      <td>Jan</td>\n",
       "      <td>Fri</td>\n",
       "      <td>False</td>\n",
       "    </tr>\n",
       "    <tr>\n",
       "      <th>3</th>\n",
       "      <td>1982-01-01</td>\n",
       "      <td>HOBBS, NM</td>\n",
       "      <td>United States</td>\n",
       "      <td>Non-Fatal</td>\n",
       "      <td>Substantial</td>\n",
       "      <td>NaN</td>\n",
       "      <td>piper</td>\n",
       "      <td>PA-28-161</td>\n",
       "      <td>No</td>\n",
       "      <td>1.0</td>\n",
       "      <td>...</td>\n",
       "      <td>0.0</td>\n",
       "      <td>1.0</td>\n",
       "      <td>VMC</td>\n",
       "      <td>Approach</td>\n",
       "      <td>Probable Cause</td>\n",
       "      <td>NM</td>\n",
       "      <td>1982</td>\n",
       "      <td>Jan</td>\n",
       "      <td>Fri</td>\n",
       "      <td>False</td>\n",
       "    </tr>\n",
       "    <tr>\n",
       "      <th>4</th>\n",
       "      <td>1982-01-01</td>\n",
       "      <td>TUSKEGEE, AL</td>\n",
       "      <td>United States</td>\n",
       "      <td>Non-Fatal</td>\n",
       "      <td>Substantial</td>\n",
       "      <td>NaN</td>\n",
       "      <td>beech</td>\n",
       "      <td>V35B</td>\n",
       "      <td>No</td>\n",
       "      <td>1.0</td>\n",
       "      <td>...</td>\n",
       "      <td>0.0</td>\n",
       "      <td>1.0</td>\n",
       "      <td>VMC</td>\n",
       "      <td>Landing</td>\n",
       "      <td>Probable Cause</td>\n",
       "      <td>AL</td>\n",
       "      <td>1982</td>\n",
       "      <td>Jan</td>\n",
       "      <td>Fri</td>\n",
       "      <td>False</td>\n",
       "    </tr>\n",
       "  </tbody>\n",
       "</table>\n",
       "<p>5 rows × 24 columns</p>\n",
       "</div>"
      ],
      "text/plain": [
       "   Event.Date          Location        Country Injury.Severity  \\\n",
       "0  1982-01-01       PULLMAN, WA  United States       Non-Fatal   \n",
       "1  1982-01-01  EAST HANOVER, NJ  United States       Non-Fatal   \n",
       "2  1982-01-01  JACKSONVILLE, FL  United States       Non-Fatal   \n",
       "3  1982-01-01         HOBBS, NM  United States       Non-Fatal   \n",
       "4  1982-01-01      TUSKEGEE, AL  United States       Non-Fatal   \n",
       "\n",
       "  Aircraft.damage Aircraft.Category            Make         Model  \\\n",
       "0     Substantial          Airplane          cessna           140   \n",
       "1     Substantial          Airplane          cessna          401B   \n",
       "2     Substantial               NaN  north american  NAVION L-17B   \n",
       "3     Substantial               NaN           piper     PA-28-161   \n",
       "4     Substantial               NaN           beech          V35B   \n",
       "\n",
       "  Amateur.Built  Number.of.Engines  ... Total.Minor.Injuries Total.Uninjured  \\\n",
       "0            No                1.0  ...                  0.0             2.0   \n",
       "1            No                2.0  ...                  0.0             2.0   \n",
       "2            No                1.0  ...                  3.0             0.0   \n",
       "3            No                1.0  ...                  0.0             1.0   \n",
       "4            No                1.0  ...                  0.0             1.0   \n",
       "\n",
       "   Weather.Condition  Broad.phase.of.flight   Report.Status  States  Year  \\\n",
       "0                VMC                Takeoff  Probable Cause      WA  1982   \n",
       "1                IMC                Landing  Probable Cause      NJ  1982   \n",
       "2                IMC                 Cruise  Probable Cause      FL  1982   \n",
       "3                VMC               Approach  Probable Cause      NM  1982   \n",
       "4                VMC                Landing  Probable Cause      AL  1982   \n",
       "\n",
       "  Month.Abbr Day.Name.Abbr Weekend  \n",
       "0        Jan           Fri   False  \n",
       "1        Jan           Fri   False  \n",
       "2        Jan           Fri   False  \n",
       "3        Jan           Fri   False  \n",
       "4        Jan           Fri   False  \n",
       "\n",
       "[5 rows x 24 columns]"
      ]
     },
     "execution_count": 146,
     "metadata": {},
     "output_type": "execute_result"
    }
   ],
   "source": [
    "df = pd.read_csv(\"make_model_date.csv\")\n",
    "df.head()"
   ]
  },
  {
   "cell_type": "code",
   "execution_count": 147,
   "id": "0c228dae",
   "metadata": {},
   "outputs": [],
   "source": [
    "df['Model'] = df['Model'].str.replace('-', '')"
   ]
  },
  {
   "cell_type": "code",
   "execution_count": 148,
   "id": "8cc805cf",
   "metadata": {},
   "outputs": [],
   "source": [
    "df['Model'] = df['Model'].str.lower()"
   ]
  },
  {
   "cell_type": "code",
   "execution_count": 149,
   "id": "4df54789",
   "metadata": {},
   "outputs": [],
   "source": [
    "# POŁĄCZENIE marek\n",
    "df['Make'] = df['Make'].replace(r'^robinson.*', 'robinson', regex=True)\n",
    "df['Make'] = df['Make'].replace(r'^air tractor.*', 'air tractor', regex=True)\n",
    "df['Make'] = df['Make'].replace(r'^douglas.*', 'mcdonnell douglas', regex=True)\n",
    "df['Make'] = df['Make'].replace(r'^grumman.*', 'grumman', regex=True)\n",
    "df['Make'] = df['Make'].replace(r'^champion.*', 'champion', regex=True)\n",
    "df['Make'] = df['Make'].replace(r'^schweizer.*', 'schweizer', regex=True)\n",
    "df['Make'] = df['Make'].replace(r'^boeing.*', 'boeing', regex=True)\n",
    "df['Make'] = df['Make'].replace(r'^ ayres.*', ' ayres', regex=True)\n",
    "df['Make'] = df['Make'].replace(r'^eurocopter.*', 'eurocopter', regex=True)\n",
    "df['Make'] = df['Make'].replace(r'^bombardier.*', 'bombardier', regex=True)\n",
    "df['Make'] = df['Make'].replace(r'^cirrus.*', 'cirrus', regex=True)\n",
    "df['Make'] = df['Make'].replace(r'^ben.*', 'bensen', regex=True)\n",
    "df['Make'] = df['Make'].replace(r'^legend.*', 'american legend ', regex=True)\n",
    "df['Make'] = df['Make'].replace(r'^piper.*', 'piper', regex=True)\n",
    "df['Make'] = df['Make'].replace(r'^bell.*', 'bell', regex=True)\n",
    "df['Make'] = df['Make'].replace(r'^raytheon.*', 'raytheon', regex=True)\n",
    "df['Make'] = df['Make'].replace(r'^rockwell.*', 'rockwell', regex=True)\n"
   ]
  },
  {
   "cell_type": "code",
   "execution_count": 109,
   "id": "c691ba55",
   "metadata": {},
   "outputs": [
    {
     "name": "stdout",
     "output_type": "stream",
     "text": [
      "Number of rows with 'cessna' in the 'Make' column: 25889\n"
     ]
    }
   ],
   "source": [
    "count = df[df['Make'].str.contains('cessna', case=False, na=False)].shape[0]\n",
    "print(\"Number of rows with 'cessna' in the 'Make' column:\", count)"
   ]
  },
  {
   "cell_type": "code",
   "execution_count": 110,
   "id": "c49ca7c9",
   "metadata": {},
   "outputs": [
    {
     "name": "stdout",
     "output_type": "stream",
     "text": [
      "Number of rows with 'north' in the 'Make' column: 391\n"
     ]
    }
   ],
   "source": [
    "count = df[df['Make'].str.contains('north american', case=False, na=False)].shape[0]\n",
    "print(\"Number of rows with 'north' in the 'Make' column:\", count)\n"
   ]
  },
  {
   "cell_type": "code",
   "execution_count": 124,
   "id": "c432a693",
   "metadata": {
    "scrolled": true
   },
   "outputs": [
    {
     "data": {
      "text/plain": [
       "Event.Date                    0\n",
       "Location                     10\n",
       "Country                       0\n",
       "Injury.Severity              91\n",
       "Aircraft.damage            1918\n",
       "Aircraft.Category         10749\n",
       "Make                         21\n",
       "Model                        38\n",
       "Amateur.Built                20\n",
       "Number.of.Engines          1759\n",
       "Engine.Type                2550\n",
       "Purpose.of.flight          2196\n",
       "Total.Fatal.Injuries          0\n",
       "Total.Serious.Injuries        0\n",
       "Total.Minor.Injuries          0\n",
       "Total.Uninjured               0\n",
       "Weather.Condition           521\n",
       "Broad.phase.of.flight     15829\n",
       "Report.Status              2026\n",
       "States                       58\n",
       "Year                          0\n",
       "Month.Abbr                    0\n",
       "Day.Name.Abbr                 0\n",
       "Weekend                       0\n",
       "Model.Capacity                0\n",
       "Capacity                      0\n",
       "dtype: int64"
      ]
     },
     "execution_count": 124,
     "metadata": {},
     "output_type": "execute_result"
    }
   ],
   "source": [
    "df.isnull().sum()"
   ]
  },
  {
   "cell_type": "code",
   "execution_count": 64,
   "id": "0c979e43",
   "metadata": {
    "scrolled": true
   },
   "outputs": [
    {
     "name": "stdout",
     "output_type": "stream",
     "text": [
      "Event.Date                  0\n",
      "Location                    2\n",
      "Country                     0\n",
      "Injury.Severity             0\n",
      "Aircraft.damage           123\n",
      "Aircraft.Category           0\n",
      "Make                        0\n",
      "Model                       1\n",
      "Amateur.Built               5\n",
      "Number.of.Engines          23\n",
      "Engine.Type                13\n",
      "Purpose.of.flight         163\n",
      "Total.Fatal.Injuries        0\n",
      "Total.Serious.Injuries      0\n",
      "Total.Minor.Injuries        0\n",
      "Total.Uninjured             0\n",
      "Weather.Condition          13\n",
      "Broad.phase.of.flight       0\n",
      "Report.Status               0\n",
      "States                      2\n",
      "Year                        0\n",
      "Month.Abbr                  0\n",
      "Day.Name.Abbr               0\n",
      "Weekend                     0\n",
      "dtype: int64\n"
     ]
    }
   ],
   "source": [
    "#how many missing values in each column there are for all rows that have 'cessna' name in column 'Make'\n",
    "cessna_df = df[df['Make'] == 'cessna']\n",
    "missing_values_count = cessna_df.isna().sum()\n",
    "\n",
    "print(missing_values_count)"
   ]
  },
  {
   "cell_type": "code",
   "execution_count": 132,
   "id": "162c8d08",
   "metadata": {},
   "outputs": [
    {
     "name": "stdout",
     "output_type": "stream",
     "text": [
      "Event.Date                 0\n",
      "Location                   0\n",
      "Country                    0\n",
      "Injury.Severity            0\n",
      "Aircraft.damage           64\n",
      "Aircraft.Category          0\n",
      "Make                       0\n",
      "Model                      0\n",
      "Amateur.Built              4\n",
      "Number.of.Engines         18\n",
      "Engine.Type                5\n",
      "Purpose.of.flight         73\n",
      "Total.Fatal.Injuries       0\n",
      "Total.Serious.Injuries     0\n",
      "Total.Minor.Injuries       0\n",
      "Total.Uninjured            0\n",
      "Weather.Condition          9\n",
      "Broad.phase.of.flight      0\n",
      "Report.Status              1\n",
      "States                     0\n",
      "Year                       0\n",
      "Month.Abbr                 0\n",
      "Day.Name.Abbr              0\n",
      "Weekend                    0\n",
      "Model.Capacity             0\n",
      "Capacity                   0\n",
      "dtype: int64\n"
     ]
    }
   ],
   "source": [
    "piper_df = df[df['Make'] == 'piper']\n",
    "missing_values_count = piper_df.isna().sum()\n",
    "\n",
    "print(missing_values_count)"
   ]
  },
  {
   "cell_type": "code",
   "execution_count": 153,
   "id": "0ce6fe61",
   "metadata": {},
   "outputs": [],
   "source": [
    "df = df[~((df['Make'] == 'piper') & df['Broad.phase.of.flight'].isna())]"
   ]
  },
  {
   "cell_type": "code",
   "execution_count": 154,
   "id": "aa5c1433",
   "metadata": {},
   "outputs": [],
   "source": [
    "df = df[~((df['Make'] == 'cessna') & df['Broad.phase.of.flight'].isna())]"
   ]
  },
  {
   "cell_type": "code",
   "execution_count": 155,
   "id": "ed30fa65",
   "metadata": {},
   "outputs": [
    {
     "data": {
      "image/png": "[encoded data removed]",
      "text/plain": [
       "<Figure size 640x480 with 1 Axes>"
      ]
     },
     "metadata": {},
     "output_type": "display_data"
    }
   ],
   "source": [
    "def percent_missing(df):\n",
    "    percent_nan = 100* df.isnull().sum() / len(df)\n",
    "    percent_nan = percent_nan[percent_nan>0].sort_values()\n",
    "    return percent_nan\n",
    "percent_nan = percent_missing(df)\n",
    "\n",
    "sns.barplot(x=percent_nan.index,y=percent_nan)\n",
    "plt.xticks(rotation=90);\n"
   ]
  },
  {
   "cell_type": "code",
   "execution_count": 156,
   "id": "25458ccb",
   "metadata": {
    "scrolled": true
   },
   "outputs": [
    {
     "name": "stdout",
     "output_type": "stream",
     "text": [
      "Make\n",
      "cessna      18075\n",
      "piper        9804\n",
      "beech        3530\n",
      "bell         2392\n",
      "grumman      1201\n",
      "            ...  \n",
      "halstead        1\n",
      "halsted         1\n",
      "haltom          1\n",
      "hamer           1\n",
      "zwart           1\n",
      "Length: 3981, dtype: int64\n"
     ]
    }
   ],
   "source": [
    "# data frame with those groups and percentage of missing rows in those groups\n",
    "missing_values_count = df[df['Aircraft.Category'].isna()].groupby('Make').size().sort_values(ascending=False)\n",
    "\n",
    "print(missing_values_count)"
   ]
  },
  {
   "cell_type": "code",
   "execution_count": 157,
   "id": "76b855ca",
   "metadata": {},
   "outputs": [],
   "source": [
    "df['Total.Fatal.Injuries'] = df['Total.Fatal.Injuries'].fillna(0.0)\n",
    "df['Total.Serious.Injuries'] = df['Total.Serious.Injuries'].fillna(0.0)\n",
    "df['Total.Minor.Injuries'] = df['Total.Minor.Injuries'].fillna(0.0)\n",
    "df['Total.Uninjured'] = df['Total.Uninjured'].fillna(0.0)"
   ]
  },
  {
   "cell_type": "code",
   "execution_count": null,
   "id": "de1b95d8",
   "metadata": {},
   "outputs": [],
   "source": []
  },
  {
   "cell_type": "code",
   "execution_count": 15,
   "id": "c3685449",
   "metadata": {
    "scrolled": true
   },
   "outputs": [
    {
     "name": "stdout",
     "output_type": "stream",
     "text": [
      "rotec                            15\n",
      "christen industries inc          15\n",
      "nanchang                         15\n",
      "czech aircraft works spol sro    15\n",
      "columbia aircraft mfg            15\n",
      "burkhart grob flugzeugbau        15\n",
      "aerostar international inc       14\n",
      "dassault aviation                14\n",
      "eagle                            14\n",
      "cameron balloons us              14\n",
      "howard aircraft corp.            14\n",
      "pterodactyl                      14\n",
      "atr                              14\n",
      "titan                            14\n",
      "ultramagic                       14\n",
      "airborne windsports pty ltd      14\n",
      "kolb                             14\n",
      "commander                        13\n",
      "remos aircraft gmbh              13\n",
      "air & space                      13\n",
      "naval aircraft factory           13\n",
      "aerofab inc.                     13\n",
      "cassutt                          13\n",
      "mitchell                         13\n",
      "pietenpol                        13\n",
      "pzl-bielsko                      12\n",
      "young                            12\n",
      "bede aircraft                    12\n",
      "textron aviation inc             12\n",
      "hawker beechcraft corp           12\n",
      "czech sport aircraft as          12\n",
      "vans aircraft inc                12\n",
      "morrisey                         12\n",
      "maxair                           12\n",
      "thrush aircraft inc              12\n",
      "tecnam                           12\n",
      "weedhopper                       12\n",
      "curtiss wright                   12\n",
      "aeropro cz                       12\n",
      "brown                            12\n",
      "centrair                         12\n",
      "bushby                           11\n",
      "extra                            11\n",
      "airbus helicopters               11\n",
      "mcculloch                        11\n",
      "taylor                           11\n",
      "anderson aircraft corp.          11\n",
      "extra flugzeugbau gmbh           11\n",
      "hall                             11\n",
      "fisher                           11\n",
      "Name: Make, dtype: int64\n"
     ]
    }
   ],
   "source": [
    "make_counts = df['Make'].value_counts().iloc[201:251]\n",
    "print(make_counts)"
   ]
  },
  {
   "cell_type": "code",
   "execution_count": 18,
   "id": "42ae0c9d",
   "metadata": {
    "scrolled": true
   },
   "outputs": [
    {
     "name": "stdout",
     "output_type": "stream",
     "text": [
      "Number of groups: 7268\n"
     ]
    }
   ],
   "source": [
    "value_counts = df['Make'].value_counts()\n",
    "\n",
    "num_groups = len(value_counts)\n",
    "print(\"Number of groups:\", num_groups)"
   ]
  },
  {
   "cell_type": "code",
   "execution_count": 42,
   "id": "6f4c3fe5",
   "metadata": {},
   "outputs": [
    {
     "name": "stdout",
     "output_type": "stream",
     "text": [
      "Number of groups: 7269\n"
     ]
    }
   ],
   "source": [
    "value_counts = df['Make'].value_counts()\n",
    "missing_rows = df['Make'].isna().sum()\n",
    "\n",
    "num_groups = len(value_counts) + int(missing_rows > 0)\n",
    "print(\"Number of groups:\", num_groups)"
   ]
  },
  {
   "cell_type": "code",
   "execution_count": 102,
   "id": "f1bf13d6",
   "metadata": {},
   "outputs": [
    {
     "name": "stdout",
     "output_type": "stream",
     "text": [
      "              Group  Count  Percentage of Missing Rows\n",
      "0            cessna  20591                   26.747811\n",
      "1             piper  14209                   18.457562\n",
      "2             beech   5059                    6.571666\n",
      "3              bell   3408                    4.427009\n",
      "4           grumman   1613                    2.095295\n",
      "...             ...    ...                         ...\n",
      "7264      van grouw      1                    0.001299\n",
      "7265     schwarzler      1                    0.001299\n",
      "7266      rotordyne      1                    0.001299\n",
      "7267  royse ralph l      1                    0.001299\n",
      "7268        Missing     21                    0.027279\n",
      "\n",
      "[7269 rows x 3 columns]\n"
     ]
    },
    {
     "name": "stderr",
     "output_type": "stream",
     "text": [
      "/var/folders/rr/3tz5xt4j16s1wvxsg7zr8hg80000gn/T/ipykernel_879/1673402977.py:9: FutureWarning: The frame.append method is deprecated and will be removed from pandas in a future version. Use pandas.concat instead.\n",
      "  group_data = group_data.append({'Group': 'Missing', 'Count': missing_rows,\n"
     ]
    }
   ],
   "source": [
    "# how many missing rows have grups that are created after value_counts function\n",
    "value_counts = df['Make'].value_counts()\n",
    "missing_rows = df['Make'].isna().sum()\n",
    "\n",
    "group_data = pd.DataFrame({'Group': value_counts.index, 'Count': value_counts})\n",
    "group_data['Percentage of Missing Rows'] = (group_data['Count'] / len(df)) * 100\n",
    "\n",
    "if missing_rows > 0:\n",
    "    group_data = group_data.append({'Group': 'Missing', 'Count': missing_rows,\n",
    "                                    'Percentage of Missing Rows': (missing_rows / len(df)) * 100},\n",
    "                                   ignore_index=True)\n",
    "\n",
    "print(group_data)\n"
   ]
  },
  {
   "cell_type": "code",
   "execution_count": 158,
   "id": "2114f1ce",
   "metadata": {},
   "outputs": [],
   "source": [
    "\n",
    "update_info = {\n",
    "    ('cessna', ('120', '140', '150', '152', '162', '188', '305')): 'cessna_small',\n",
    "    ('cessna', ('l19', '170', '172', '177', '175', '180', '182', '205', '206', '210', '185', '152', '404', '421', '207', '208', '310', '340', '337', '402', '195', '414', '441', '401', '550', '425', \n",
    "               '303', '320', '335', '336', '500', '510', '551', '560', '411', '190', '525', '560', '501', '650', '680')): 'cessna_medium',\n",
    "    ('piper', ('11', '15', '17', '36', '18', '19', '21', '38', '108', 'j', '25')): 'piper_small',\n",
    "    ('piper', ('14', '16', '60', '20', '22', '28', '30', '39', '42', '44', '23', '34', '24', '32', '46', '12', '31')): 'piper_medium',\n",
    "    ('mooney', ('20', '2o', '22')): 'mooney_medium',\n",
    "    ('mooney', ('10', '18', '2a')): 'mooney_small',\n",
    "    ('boeing', ('707','717', '727', '737', '747', '757', '767', '777', '787')): 'boeing_large',\n",
    "    ('boeing', ('a75', 'b75', 'e75', 'd75', 'pt13', 'pt17')): 'boeing_small',\n",
    "    ('grumman', ('164', 'aa1', 'aa 1')): 'grumman_small',\n",
    "    ('grumman', ('aa5', 'aa 5', '7', '15', '44', 'tb', '21', '73')): 'grumman_medium',\n",
    "    ('bellanca', ('c',)): 'bellanca_small',\n",
    "    ('bellanca', ('17', '14', 'bl')): 'bellanca_medium',\n",
    "    ('robinson', ('r44', 'r22', '22', 's12')): 'robinson_small',\n",
    "    ('robinson', ('r66',)): 'robinson_medium',\n",
    "    ('schweizer', ('269', '164', '12', '13', '23', '26', '22', '32', '34')): 'schweizer_small',\n",
    "    ('schweizer', ('300',)): 'schweizer_medium',\n",
    "    ('aeronca', ('7', '11', '58', '65', 'c3')): 'aeronca_small',\n",
    "    ('aeronca', ('15',)): 'aeronca_medium',\n",
    "    ('mcdonnell douglas', ('dc', '88', '82', '10', '11', '54', '80', '83', '90', '81')): 'douglas_large',\n",
    "    ('mcdonnell douglas', ('600', '369', '500')): 'douglas_medium',\n",
    "    ('stinson', ('108', '77', '10', '19', 'sr', '180', '181')): 'stinson_medium',\n",
    "    ('stinson', ('l5', 'l 5')): 'stinson_small',\n",
    "    ('aero commander', ('a9', 's2')): 'aero_small',\n",
    "    ('aero commander', ('100', '112', '114', '200', '400', '500', '520', '560', '68', '69')): 'aero_medium',\n",
    "    ('taylorcraft', ('bc', 'dc', 'l2', 'bl', 'bf', '21', '19')): 'taylorcraft_small',\n",
    "    ('taylorcraft', ('20', '18')): 'taylorcraft_medium',\n",
    "    ('de havilland', ('dhc8', 'dhc7')): 'de havilland_large',\n",
    "    ('de havilland', ('dhc2', 'dhc3', 'dhc6')): 'de havilland_medium',\n",
    "    ('north american', ('t6', 't 6', 'snj', '51', '28')): 'namerican_small',\n",
    "    ('north american', ('navion', 'na', 'b25')): 'namerican_medium',\n",
    "    ('aerospatiale', ('atr',)): 'aerospatiale_large',\n",
    "    ('aerospatiale', ('sa', 'as', 'tb', '350', '316', '355', '300')): 'aerospatiale_medium',\n",
    "    ('rockwell', ('s2', 'a9')): 'rockwell_small',\n",
    "    ('rockwell', ('100', '112', '114', '680', '690', '500', '265')): 'rockwell_medium',\n",
    "    ('luscombe', ('11',)): 'luscombe_medium',\n",
    "    ('luscombe', ('8',)): 'luscombe_small',\n",
    "}\n",
    "\n",
    "def update_model(row):\n",
    "    make = row['Make']\n",
    "    model = str(row['Model'])\n",
    "    \n",
    "    for condition, info in update_info.items():\n",
    "        if make == condition[0] and any(x in model for x in condition[1]):\n",
    "            return info\n",
    "    \n",
    "    return model\n",
    "\n",
    "df['Model.Capacity'] = df.apply(update_model, axis=1)"
   ]
  },
  {
   "cell_type": "code",
   "execution_count": 159,
   "id": "ddadf5b2",
   "metadata": {},
   "outputs": [],
   "source": [
    "#\n",
    "df.loc[df['Make'] == 'beech', 'Model.Capacity'] = 'beech_medium'\n",
    "df.loc[df['Make'] == 'bell', 'Model.Capacity'] = 'bell_medium'\n",
    "df.loc[df['Make'] == 'hughes', 'Model.Capacity'] = 'hughes_medium'\n",
    "df.loc[df['Make'] == 'air tractor', 'Model.Capacity'] = 'air_tractor_small'\n",
    "df.loc[df['Make'] == 'maule', 'Model.Capacity'] = 'maule_medium'\n",
    "df.loc[df['Make'] == 'champion', 'Model.Capacity'] = 'champion_small'\n",
    "df.loc[df['Make'] == 'hiller', 'Model.Capacity'] = 'hiller_medium'\n",
    "df.loc[df['Make'] == 'enstrom', 'Model.Capacity'] = 'enstrom_medium'\n",
    "df.loc[df['Make'] == 'ayres', 'Model.Capacity'] = 'ayres_small'\n",
    "df.loc[df['Make'] == 'corp', 'Model.Capacity'] = 'corp_medium'\n",
    "df.loc[df['Make'] == 'eurocopter', 'Model.Capacity'] = 'eurocopter_medium'\n",
    "df.loc[df['Make'] == 'cirrus design corp', 'Model.Capacity'] = 'cirrus_medium'\n",
    "df.loc[df['Make'] == 'cirrus', 'Model.Capacity'] = 'cirrus_medium'\n",
    "df.loc[df['Make'] == 'sikorsky', 'Model.Capacity'] = 'sikorsky_medium'\n"
   ]
  },
  {
   "cell_type": "code",
   "execution_count": 139,
   "id": "a33f018d",
   "metadata": {},
   "outputs": [
    {
     "data": {
      "text/plain": [
       "cessna_medium          14287\n",
       "cessna_small            6266\n",
       "piper_medium            5706\n",
       "piper_small             5365\n",
       "beech_medium            5059\n",
       "bell_medium             3408\n",
       "robinson_small          1318\n",
       "mooney_medium           1272\n",
       "grumman_small           1177\n",
       "boeing_large            1086\n",
       "hughes_medium            874\n",
       "air_tractor_small        870\n",
       "schweizer_small          747\n",
       "aeronca_small            584\n",
       "maule_medium             577\n",
       "douglas_large            563\n",
       "champion_small           514\n",
       "stinson_medium           413\n",
       "luscombe_small           405\n",
       "boeing_small             400\n",
       "grumman_medium           395\n",
       "cirrus_medium            387\n",
       "taylorcraft_small        371\n",
       "hiller_medium            344\n",
       "aerospatiale_medium      305\n",
       "namerican_small          290\n",
       "enstrom_medium           285\n",
       "aero_medium              274\n",
       "eurocopter_medium        261\n",
       "de havilland_medium      258\n",
       "Name: Model.Capacity, dtype: int64"
      ]
     },
     "execution_count": 139,
     "metadata": {},
     "output_type": "execute_result"
    }
   ],
   "source": [
    "df['Model.Capacity'].value_counts().head(30)"
   ]
  },
  {
   "cell_type": "code",
   "execution_count": 131,
   "id": "242954f0",
   "metadata": {},
   "outputs": [
    {
     "name": "stdout",
     "output_type": "stream",
     "text": [
      "Top 20 models from the 'north american' brand:\n",
      "namerican_small         290\n",
      "namerican_medium         68\n",
      "f86                       1\n",
      "tb 25n                    1\n",
      "harvard mk                1\n",
      "ov10a                     1\n",
      "t39a                      1\n",
      "harvard 2                 1\n",
      "harvard mk iv             1\n",
      "harvard mk ii             1\n",
      "harvard mkii              1\n",
      "p82b                      1\n",
      "f86f                      1\n",
      "t2c                       1\n",
      "british harvard mkii      1\n",
      "047b                      1\n",
      "at                        1\n",
      "Name: Model.Capacity, dtype: int64\n"
     ]
    }
   ],
   "source": [
    "north_american_df = df[df['Make'] == 'north american']\n",
    "\n",
    "# Use the value_counts() function to get the count of each unique model\n",
    "model_counts = north_american_df['Model.Capacity'].value_counts()\n",
    "\n",
    "top_20_models = model_counts.head(50)\n",
    "\n",
    "print(\"Top 20 models from the 'north american' brand:\")\n",
    "print(top_20_models)"
   ]
  },
  {
   "cell_type": "code",
   "execution_count": 34,
   "id": "fd680af4",
   "metadata": {
    "scrolled": true
   },
   "outputs": [
    {
     "name": "stdout",
     "output_type": "stream",
     "text": [
      "Top 20 models from the 'cessna' brand:\n",
      "cessna_medium    18645\n",
      "cessna_small      7153\n",
      "t21ol                3\n",
      "t240                 3\n",
      "t50                  3\n",
      "750                  3\n",
      "tri82                2\n",
      "400                  2\n",
      "t37b                 2\n",
      "t41b                 1\n",
      "o2a                  1\n",
      "21ok                 1\n",
      "15of                 1\n",
      "u3a                  1\n",
      "nan                  1\n",
      "c37                  1\n",
      "01a                  1\n",
      "cl60                 1\n",
      "350                  1\n",
      "lc126c               1\n",
      "o1  a                1\n",
      "o 1e                 1\n",
      "t21or                1\n",
      "t50a17               1\n",
      "citation sii         1\n",
      "21on                 1\n",
      "t21om                1\n",
      "183p                 1\n",
      "31                   1\n",
      "17oa                 1\n",
      "p21o                 1\n",
      "c114a                1\n",
      "304a                 1\n",
      "50m                  1\n",
      "552                  1\n",
      "31oq                 1\n",
      "c377a                1\n",
      "a37a                 1\n",
      "165                  1\n",
      "33tc                 1\n",
      "201a                 1\n",
      "145                  1\n",
      "lc41                 1\n",
      "Name: Model.Capacity, dtype: int64\n"
     ]
    }
   ],
   "source": [
    "cessna_df = df[df['Make'] == 'cessna']\n",
    "\n",
    "# Use the value_counts() function to get the count of each unique model\n",
    "model_counts = cessna_df['Model.Capacity'].value_counts()\n",
    "\n",
    "top_20_models = model_counts.head(50)\n",
    "\n",
    "print(\"Top 20 models from the 'cessna' brand:\")\n",
    "print(top_20_models)"
   ]
  },
  {
   "cell_type": "code",
   "execution_count": 41,
   "id": "ae1b1d6d",
   "metadata": {
    "scrolled": true
   },
   "outputs": [
    {
     "name": "stdout",
     "output_type": "stream",
     "text": [
      "Top 20 models from the 'piper' brand:\n",
      "piper_medium          7529\n",
      "piper_small           6623\n",
      "e2                       2\n",
      "seneca                   2\n",
      "pa                       2\n",
      "pa61p                    1\n",
      "aztec                    1\n",
      "l4h                      1\n",
      "pa3o                     1\n",
      "l3                       1\n",
      "pa3                      1\n",
      "l4                       1\n",
      "aerostar 6               1\n",
      "titan tornado ii d       1\n",
      "Name: Model.Capacity, dtype: int64\n"
     ]
    }
   ],
   "source": [
    "piper_df = df[df['Make'] == 'piper']\n",
    "\n",
    "# Use the value_counts() function to get the count of each unique model\n",
    "model_counts = piper_df['Model.Capacity'].value_counts()\n",
    "\n",
    "top_20_models = model_counts.head(50)\n",
    "\n",
    "print(\"Top 20 models from the 'piper' brand:\")\n",
    "print(top_20_models)"
   ]
  },
  {
   "cell_type": "code",
   "execution_count": 83,
   "id": "75894e49",
   "metadata": {},
   "outputs": [
    {
     "name": "stdout",
     "output_type": "stream",
     "text": [
      "Top 20 models from the 'beech' brand:\n",
      "beech_medium    5059\n",
      "Name: Model.Capacity, dtype: int64\n"
     ]
    }
   ],
   "source": [
    "beech_df = df[df['Make'] == 'beech']\n",
    "\n",
    "# Use the value_counts() function to get the count of each unique model\n",
    "model_counts = beech_df['Model.Capacity'].value_counts()\n",
    "\n",
    "top_20_models = model_counts.head(50)\n",
    "\n",
    "print(\"Top 20 models from the 'beech' brand:\")\n",
    "print(top_20_models)"
   ]
  },
  {
   "cell_type": "code",
   "execution_count": 101,
   "id": "ca6ad1e4",
   "metadata": {
    "scrolled": true
   },
   "outputs": [
    {
     "name": "stdout",
     "output_type": "stream",
     "text": [
      "Top 20 models from the 'boeing' brand:\n",
      "boeing_large    1085\n",
      "boeing_small     349\n",
      "b17g               3\n",
      "dhc8102            3\n",
      "md11f              2\n",
      "dc982              2\n",
      "md11               2\n",
      "369e               2\n",
      "a 75n1             2\n",
      "n2s3               2\n",
      "b17                2\n",
      "kc135a             2\n",
      "pt 17              2\n",
      "75                 2\n",
      "vc137bbn           2\n",
      "75a                2\n",
      "hpb377             1\n",
      "cv2                1\n",
      "pt 13              1\n",
      "md88               1\n",
      "md                 1\n",
      "dc10               1\n",
      "b744               1\n",
      "bv234              1\n",
      "1942               1\n",
      "md1010f            1\n",
      "s307               1\n",
      "md82               1\n",
      "ec135              1\n",
      "369d               1\n",
      "hu369oh6a          1\n",
      "720025             1\n",
      "md600n             1\n",
      "75n1               1\n",
      "n253               1\n",
      "dhc6300            1\n",
      "ch47d              1\n",
      "Name: Model.Capacity, dtype: int64\n"
     ]
    }
   ],
   "source": [
    "boeing_df = df[df['Make'] == 'boeing']\n",
    "\n",
    "# Use the value_counts() function to get the count of each unique model\n",
    "model_counts = boeing_df['Model.Capacity'].value_counts()\n",
    "\n",
    "top_20_models = model_counts.head(50)\n",
    "\n",
    "print(\"Top 20 models from the 'boeing' brand:\")\n",
    "print(top_20_models)"
   ]
  },
  {
   "cell_type": "code",
   "execution_count": 44,
   "id": "4ca8a8c2",
   "metadata": {},
   "outputs": [
    {
     "name": "stdout",
     "output_type": "stream",
     "text": [
      "Top 20 models from the 'mooney' brand:\n",
      "mooney_medium      1272\n",
      "mooney_small         15\n",
      "231                   3\n",
      "21                    1\n",
      "mk21                  1\n",
      "rans s7 courier       1\n",
      "Name: Model.Capacity, dtype: int64\n"
     ]
    }
   ],
   "source": [
    "mooney_df = df[df['Make'] == 'mooney']\n",
    "\n",
    "# Use the value_counts() function to get the count of each unique model\n",
    "model_counts = mooney_df['Model.Capacity'].value_counts()\n",
    "\n",
    "top_20_models = model_counts.head(50)\n",
    "\n",
    "print(\"Top 20 models from the 'mooney' brand:\")\n",
    "print(top_20_models)"
   ]
  },
  {
   "cell_type": "code",
   "execution_count": 49,
   "id": "d37b0fa0",
   "metadata": {},
   "outputs": [
    {
     "name": "stdout",
     "output_type": "stream",
     "text": [
      "Top 20 models from the 'grumman' brand:\n",
      "grumman_small     1177\n",
      "grumman_medium     395\n",
      "ag5b                 3\n",
      "ts2a                 3\n",
      "f14a                 2\n",
      "f8f1                 2\n",
      "c1a                  2\n",
      "tr2                  2\n",
      "g111                 2\n",
      "f6f5                 2\n",
      "fm2                  2\n",
      "hu16c                2\n",
      "f6f                  1\n",
      "s2f1                 1\n",
      "gulfstream iii       1\n",
      "us2c                 1\n",
      "s2b                  1\n",
      "tmb3e                1\n",
      "aa                   1\n",
      "g58a                 1\n",
      "f9f2                 1\n",
      "hu16                 1\n",
      "gs2f                 1\n",
      "a6e                  1\n",
      "ts2f                 1\n",
      "aalc                 1\n",
      "agcatg114            1\n",
      "agcat                1\n",
      "american aab         1\n",
      "scan type 30         1\n",
      "ov1                  1\n",
      "Name: Model.Capacity, dtype: int64\n"
     ]
    }
   ],
   "source": [
    "grumman_df = df[df['Make'] == 'grumman']\n",
    "\n",
    "# Use the value_counts() function to get the count of each unique model\n",
    "model_counts = grumman_df['Model.Capacity'].value_counts()\n",
    "\n",
    "top_20_models = model_counts.head(50)\n",
    "\n",
    "print(\"Top 20 models from the 'grumman' brand:\")\n",
    "print(top_20_models)"
   ]
  },
  {
   "cell_type": "code",
   "execution_count": null,
   "id": "190328a7",
   "metadata": {},
   "outputs": [],
   "source": [
    "bellanca_df = df[df['Make'] == 'bellanca']\n",
    "\n",
    "# Use the value_counts() function to get the count of each unique model\n",
    "model_counts = bellanca_df['Model.Capacity'].value_counts()\n",
    "\n",
    "top_20_models = model_counts.head(50)\n",
    "\n",
    "print(\"Top 20 models from the 'bellanca' brand:\")\n",
    "print(top_20_models)"
   ]
  },
  {
   "cell_type": "code",
   "execution_count": 59,
   "id": "0dce745e",
   "metadata": {},
   "outputs": [
    {
     "name": "stdout",
     "output_type": "stream",
     "text": [
      "Top 20 models from the 'robinson' brand:\n",
      "robinson_small     1318\n",
      "robinson_medium      25\n",
      "cozy mark iv          2\n",
      "avid flyer            1\n",
      "wenoso                1\n",
      "tierra ii             1\n",
      "beta ii               1\n",
      "bearhawk              1\n",
      "Name: Model.Capacity, dtype: int64\n"
     ]
    }
   ],
   "source": [
    "robinson_df = df[df['Make'] == 'robinson']\n",
    "\n",
    "# Use the value_counts() function to get the count of each unique model\n",
    "model_counts = robinson_df['Model.Capacity'].value_counts()\n",
    "\n",
    "top_20_models = model_counts.head(50)\n",
    "\n",
    "print(\"Top 20 models from the 'robinson' brand:\")\n",
    "print(top_20_models)"
   ]
  },
  {
   "cell_type": "code",
   "execution_count": 64,
   "id": "0badf775",
   "metadata": {},
   "outputs": [
    {
     "name": "stdout",
     "output_type": "stream",
     "text": [
      "Top 20 models from the 'schweizer' brand:\n",
      "schweizer_small     720\n",
      "schweizer_medium     14\n",
      "sgs 2 33a             3\n",
      "84                    1\n",
      "ag cat                1\n",
      "asw20                 1\n",
      "tg3a                  1\n",
      "g167b                 1\n",
      "sgs 28                1\n",
      "sgs 1 35              1\n",
      "Name: Model.Capacity, dtype: int64\n"
     ]
    }
   ],
   "source": [
    "schweizer_df = df[df['Make'] == 'schweizer']\n",
    "\n",
    "# Use the value_counts() function to get the count of each unique model\n",
    "model_counts = schweizer_df['Model.Capacity'].value_counts()\n",
    "\n",
    "top_20_models = model_counts.head(50)\n",
    "\n",
    "print(\"Top 20 models from the 'schweizer' brand:\")\n",
    "print(top_20_models)"
   ]
  },
  {
   "cell_type": "code",
   "execution_count": 65,
   "id": "58a57a69",
   "metadata": {},
   "outputs": [
    {
     "name": "stdout",
     "output_type": "stream",
     "text": [
      "Top 20 models from the 'aeronca' brand:\n",
      "aeronca_small     584\n",
      "aeronca_medium     41\n",
      "l3b                 3\n",
      "60tf                1\n",
      "50f                 1\n",
      "l3c                 1\n",
      "kca                 1\n",
      "champion            1\n",
      "l 3b                1\n",
      "l16a                1\n",
      "Name: Model.Capacity, dtype: int64\n"
     ]
    }
   ],
   "source": [
    "aeronca_df = df[df['Make'] == 'aeronca']\n",
    "\n",
    "# Use the value_counts() function to get the count of each unique model\n",
    "model_counts = aeronca_df['Model.Capacity'].value_counts()\n",
    "\n",
    "top_20_models = model_counts.head(50)\n",
    "\n",
    "print(\"Top 20 models from the 'aeronca' brand:\")\n",
    "print(top_20_models)"
   ]
  },
  {
   "cell_type": "code",
   "execution_count": 68,
   "id": "187df79c",
   "metadata": {
    "scrolled": true
   },
   "outputs": [
    {
     "name": "stdout",
     "output_type": "stream",
     "text": [
      "Top 20 models from the 'mcdonnell_douglas' brand:\n",
      "douglas_large           563\n",
      "douglas_medium           91\n",
      "a4n                       2\n",
      "a26c                      2\n",
      "520n                      2\n",
      "a26b                      2\n",
      "c47                       2\n",
      "oh6a                      1\n",
      "ah64d                     1\n",
      "md520n                    1\n",
      "f/a18c                    1\n",
      "adventure air ampib       1\n",
      "ad4dw                     1\n",
      "r4d8                      1\n",
      "vans rv8                  1\n",
      "lancair ivp               1\n",
      "a4l                       1\n",
      "ad4n                      1\n",
      "ta4k                      1\n",
      "b26b                      1\n",
      "a20g                      1\n",
      "269a                      1\n",
      "269c                      1\n",
      "rb26c                     1\n",
      "f18a                      1\n",
      "269b                      1\n",
      "a4a                       1\n",
      "f4                        1\n",
      "varieze                   1\n",
      "xtc                       1\n",
      "tb26b                     1\n",
      "rf4c                      1\n",
      "quickie                   1\n",
      "ad4na                     1\n",
      "b26c                      1\n",
      "f4c                       1\n",
      "justaircraft superst      1\n",
      "Name: Model.Capacity, dtype: int64\n"
     ]
    }
   ],
   "source": [
    "mcdonnell_douglas_df = df[df['Make'] == 'mcdonnell douglas']\n",
    "\n",
    "# Use the value_counts() function to get the count of each unique model\n",
    "model_counts = mcdonnell_douglas_df['Model.Capacity'].value_counts()\n",
    "\n",
    "top_20_models = model_counts.head(50)\n",
    "\n",
    "print(\"Top 20 models from the 'mcdonnell_douglas' brand:\")\n",
    "print(top_20_models)"
   ]
  },
  {
   "cell_type": "code",
   "execution_count": 71,
   "id": "b3c14bd6",
   "metadata": {},
   "outputs": [
    {
     "name": "stdout",
     "output_type": "stream",
     "text": [
      "Top 20 models from the 'stinson' brand:\n",
      "stinson_medium    413\n",
      "stinson_small      19\n",
      "st75                2\n",
      "hww75               1\n",
      "voyager 150         1\n",
      "jr. s               1\n",
      "hw75                1\n",
      "Name: Model.Capacity, dtype: int64\n"
     ]
    }
   ],
   "source": [
    "filtered_df = df[df['Make'] == 'stinson']\n",
    "\n",
    "# Use the value_counts() function to get the count of each unique model\n",
    "model_counts = filtered_df['Model.Capacity'].value_counts()\n",
    "\n",
    "top_20_models = model_counts.head(50)\n",
    "\n",
    "print(\"Top 20 models from the 'stinson' brand:\")\n",
    "print(top_20_models)"
   ]
  },
  {
   "cell_type": "code",
   "execution_count": 21,
   "id": "3362bd91",
   "metadata": {},
   "outputs": [
    {
     "name": "stdout",
     "output_type": "stream",
     "text": [
      "Top 20 models from the 'taylorcraft' brand:\n",
      "taylorcraft_small     371\n",
      "15a                     4\n",
      "unknown                 1\n",
      "df65                    1\n",
      "h2                      1\n",
      "j2                      1\n",
      "taylorcraft_medium      1\n",
      "12m                     1\n",
      "l 2m                    1\n",
      "Name: Model.Capacity, dtype: int64\n"
     ]
    }
   ],
   "source": [
    "taylorcraft_df = df[df['Make'] == 'taylorcraft']\n",
    "\n",
    "# Use the value_counts() function to get the count of each unique model\n",
    "model_counts = taylorcraft_df['Model.Capacity'].value_counts()\n",
    "\n",
    "top_20_models = model_counts.head(50)\n",
    "\n",
    "print(\"Top 20 models from the 'taylorcraft' brand:\")\n",
    "print(top_20_models)"
   ]
  },
  {
   "cell_type": "code",
   "execution_count": 74,
   "id": "80e38292",
   "metadata": {},
   "outputs": [
    {
     "name": "stdout",
     "output_type": "stream",
     "text": [
      "Top 20 models from the 'aero commander' brand:\n",
      "aero_medium     274\n",
      "aero_small      113\n",
      "callair a 9       2\n",
      "callair b1a       1\n",
      "720               1\n",
      "str               1\n",
      "600               1\n",
      "700               1\n",
      "ac50              1\n",
      "callair           1\n",
      "callair a 9b      1\n",
      "Name: Model.Capacity, dtype: int64\n"
     ]
    }
   ],
   "source": [
    "aero_commander_df = df[df['Make'] == 'aero commander']\n",
    "\n",
    "# Use the value_counts() function to get the count of each unique model\n",
    "model_counts = aero_commander_df['Model.Capacity'].value_counts()\n",
    "\n",
    "top_20_models = model_counts.head(50)\n",
    "\n",
    "print(\"Top 20 models from the 'aero commander' brand:\")\n",
    "print(top_20_models)"
   ]
  },
  {
   "cell_type": "code",
   "execution_count": 77,
   "id": "128a37a4",
   "metadata": {},
   "outputs": [
    {
     "name": "stdout",
     "output_type": "stream",
     "text": [
      "Top 20 models from the 'aerospatiale' brand:\n",
      "aerospatiale_medium    305\n",
      "aerospatiale_large      35\n",
      "315b                     1\n",
      "341g                     1\n",
      "se 3180                  1\n",
      "sf3130                   1\n",
      "se 318c                  1\n",
      "nd26                     1\n",
      "sn601                    1\n",
      "concorde                 1\n",
      "Name: Model.Capacity, dtype: int64\n"
     ]
    }
   ],
   "source": [
    "aerospatiale_df = df[df['Make'] == 'aerospatiale']\n",
    "\n",
    "# Use the value_counts() function to get the count of each unique model\n",
    "model_counts = aerospatiale_df['Model.Capacity'].value_counts()\n",
    "\n",
    "top_20_models = model_counts.head(50)\n",
    "\n",
    "print(\"Top 20 models from the 'aerospatiale' brand:\")\n",
    "print(top_20_models)"
   ]
  },
  {
   "cell_type": "code",
   "execution_count": 88,
   "id": "9ca11b8d",
   "metadata": {
    "scrolled": true
   },
   "outputs": [
    {
     "name": "stdout",
     "output_type": "stream",
     "text": [
      "Top 20 models from the 'de havilland' brand:\n",
      "de havilland_medium    258\n",
      "de havilland_large      38\n",
      "dh82a                   11\n",
      "dhc1                     4\n",
      "u6a                      3\n",
      "beaver dhc 2             3\n",
      "dhc 2                    3\n",
      "tiger moth dh 82a        3\n",
      "dh 82a                   3\n",
      "tiger moth dh82a         2\n",
      "beaver u6a               2\n",
      "dh8202                   2\n",
      "dhc4a                    2\n",
      "dhc1b2s5                 2\n",
      "shd6                     2\n",
      "dh82c                    2\n",
      "vampire mk3              1\n",
      "dh60                     1\n",
      "dhc 2 mk. i(l20a)        1\n",
      "dhc4                     1\n",
      "dh112 venom              1\n",
      "dh8201                   1\n",
      "dhc 3                    1\n",
      "c7a                      1\n",
      "dhc1b2                   1\n",
      "dhc94 moth minor         1\n",
      "dh82c tigermoth          1\n",
      "dh100 mk.6               1\n",
      "dh82 tiger moth          1\n",
      "dash 8100                1\n",
      "dhc 2 mk iii             1\n",
      "dh7                      1\n",
      "dh6                      1\n",
      "dhc 6300                 1\n",
      "2                        1\n",
      "dh114                    1\n",
      "beaver u64               1\n",
      "dhcii                    1\n",
      "dhg6300                  1\n",
      "b206                     1\n",
      "dhc 7102                 1\n",
      "dh 114                   1\n",
      "dhc1b                    1\n",
      "venom 112 mk4            1\n",
      "dh 82 tiger moth         1\n",
      "dhc122                   1\n",
      "dh125                    1\n",
      "dh 82a tiger moth        1\n",
      "dhc                      1\n",
      "gipsy moth dh.60g        1\n",
      "Name: Model.Capacity, dtype: int64\n"
     ]
    }
   ],
   "source": [
    "de_havilland_df = df[df['Make'] == 'de havilland']\n",
    "\n",
    "# Use the value_counts() function to get the count of each unique model\n",
    "model_counts = de_havilland_df['Model.Capacity'].value_counts()\n",
    "\n",
    "top_20_models = model_counts.head(50)\n",
    "\n",
    "print(\"Top 20 models from the 'de havilland' brand:\")\n",
    "print(top_20_models)"
   ]
  },
  {
   "cell_type": "code",
   "execution_count": null,
   "id": "e56d102d",
   "metadata": {},
   "outputs": [],
   "source": [
    "hiller_df = df[df['Make'] == 'hiller']\n",
    "\n",
    "# Use the value_counts() function to get the count of each unique model\n",
    "model_counts = hiller_df['Model'].value_counts()\n",
    "\n",
    "top_20_models = model_counts.head(50)\n",
    "\n",
    "print(\"Top 20 models from the 'hiller' brand:\")\n",
    "print(top_20_models)"
   ]
  },
  {
   "cell_type": "code",
   "execution_count": 80,
   "id": "105a2e25",
   "metadata": {},
   "outputs": [
    {
     "name": "stdout",
     "output_type": "stream",
     "text": [
      "Top 20 models from the 'rockwell' brand:\n",
      "rockwell_medium    161\n",
      "rockwell_small     159\n",
      "680e                 2\n",
      "680fl                2\n",
      "s 2r                 2\n",
      "sabreliner 65        1\n",
      "560e                 1\n",
      "thrush sr2           1\n",
      "695a                 1\n",
      "200d                 1\n",
      "700                  1\n",
      "685                  1\n",
      "681                  1\n",
      "x31                  1\n",
      "ov10a                1\n",
      "Name: Model.Capacity, dtype: int64\n"
     ]
    }
   ],
   "source": [
    "rockwell_df = df[df['Make'] == 'rockwell']\n",
    "\n",
    "# Use the value_counts() function to get the count of each unique model\n",
    "model_counts = rockwell_df['Model.Capacity'].value_counts()\n",
    "\n",
    "top_20_models = model_counts.head(50)\n",
    "\n",
    "print(\"Top 20 models from the 'rockwell' brand:\")\n",
    "print(top_20_models)"
   ]
  },
  {
   "cell_type": "code",
   "execution_count": 18,
   "id": "c57edcb7",
   "metadata": {},
   "outputs": [
    {
     "name": "stdout",
     "output_type": "stream",
     "text": [
      "0         cessna_small\n",
      "1                 401b\n",
      "2          navion l17b\n",
      "3         piper_medium\n",
      "4                 v35b\n",
      "             ...      \n",
      "82236     piper_medium\n",
      "82237             7eca\n",
      "82238            8gcbc\n",
      "82239    cessna_medium\n",
      "82240     piper_medium\n",
      "Name: Model.Capacity, Length: 82241, dtype: object\n"
     ]
    }
   ],
   "source": [
    "print(df['Model.Capacity'])"
   ]
  },
  {
   "cell_type": "code",
   "execution_count": null,
   "id": "d307e5a9",
   "metadata": {},
   "outputs": [],
   "source": [
    "# stworzenie aircraft.category"
   ]
  },
  {
   "cell_type": "code",
   "execution_count": 160,
   "id": "11e68c23",
   "metadata": {},
   "outputs": [],
   "source": [
    "df.loc[df['Make'] == 'cessna', 'Aircraft.Category'] = 'Airplane'\n",
    "df.loc[df['Make'] == 'piper', 'Aircraft.Category'] = 'Airplane'\n",
    "df.loc[df['Make'] == 'beech', 'Aircraft.Category'] = 'Airplane'\n",
    "df.loc[df['Make'] == 'bell', 'Aircraft.Category'] = 'Helicopter'\n",
    "df.loc[df['Make'] == 'robinson', 'Aircraft.Category'] = 'Helicopter'\n",
    "df.loc[df['Make'] == 'hughes', 'Aircraft.Category'] = 'Helicopter'\n",
    "df.loc[df['Make'] == 'boeing', 'Aircraft.Category'] = 'Airplane'\n",
    "df.loc[df['Make'] == 'mooney', 'Aircraft.Category'] = 'Airplane'\n",
    "df.loc[df['Make'] == 'grumman', 'Aircraft.Category'] = 'Airplane'\n",
    "df.loc[df['Make'] == 'air tractor', 'Aircraft.Category'] = 'Airplane'\n",
    "df.loc[df['Make'] == 'maule', 'Aircraft.Category'] = 'Airplane'\n",
    "df.loc[df['Make'] == 'champion', 'Aircraft.Category'] = 'Airplane'\n",
    "df.loc[df['Make'] == 'stinson', 'Aircraft.Category'] = 'Airplane'\n",
    "df.loc[df['Make'] == 'luscombe', 'Aircraft.Category'] = 'Airplane'\n",
    "df.loc[df['Make'] == 'aero commander', 'Aircraft.Category'] = 'Airplane'\n",
    "df.loc[df['Make'] == 'taylorcraft', 'Aircraft.Category'] = 'Airplane'\n",
    "df.loc[df['Make'] == 'rockwell', 'Aircraft.Category'] = 'Airplane'\n",
    "df.loc[df['Make'] == 'hiller', 'Aircraft.Category'] = 'Helicopter'\n",
    "df.loc[df['Make'] == 'eurocopter', 'Aircraft.Category'] = 'Helicopter'\n",
    "df.loc[df['Make'] == 'cirrus design corp', 'Aircraft.Category'] = 'Airplane'\n",
    "df.loc[df['Make'] == 'aeronca', 'Aircraft.Category'] = 'Airplane'\n",
    "df.loc[df['Make'] == 'de havilland', 'Aircraft.Category'] = 'Airplane'\n",
    "df.loc[df['Make'] == 'north american', 'Aircraft.Category'] = 'Airplane'\n",
    "df.loc[df['Make'] == 'enstrom', 'Aircraft.Category'] = 'Helicopter'\n",
    "df.loc[df['Make'] == 'ayres', 'Aircraft.Category'] = 'Airplane'\n",
    "df.loc[df['Make'] == 'sikorsky', 'Aircraft.Category'] = 'Helicopter'"
   ]
  },
  {
   "cell_type": "code",
   "execution_count": 161,
   "id": "d64441c5",
   "metadata": {},
   "outputs": [
    {
     "name": "stderr",
     "output_type": "stream",
     "text": [
      "/var/folders/rr/3tz5xt4j16s1wvxsg7zr8hg80000gn/T/ipykernel_879/2214231163.py:3: UserWarning: This pattern is interpreted as a regular expression, and has match groups. To actually get the groups, use str.extract.\n",
      "  conditions_airplane = (df['Make'] == 'mcdonnell douglas') & (df['Model'].str.contains(r'(dc|88|82|10|11|54|80|83|90|81)'))\n",
      "/var/folders/rr/3tz5xt4j16s1wvxsg7zr8hg80000gn/T/ipykernel_879/2214231163.py:4: UserWarning: This pattern is interpreted as a regular expression, and has match groups. To actually get the groups, use str.extract.\n",
      "  conditions_helicopter = (df['Make'] == 'mcdonnell douglas') & (df['Model'].str.contains(r'(600|369|500)'))\n"
     ]
    }
   ],
   "source": [
    "#remove all rows from column 'Broad.phase.of.flight' that have 'cessna' name in column 'Make'\n",
    "\n",
    "conditions_airplane = (df['Make'] == 'mcdonnell douglas') & (df['Model'].str.contains(r'(dc|88|82|10|11|54|80|83|90|81)'))\n",
    "conditions_helicopter = (df['Make'] == 'mcdonnell douglas') & (df['Model'].str.contains(r'(600|369|500)'))\n",
    "\n",
    "df.loc[conditions_airplane, 'Aircraft.Category'] = df.loc[conditions_airplane, 'Aircraft.Category'].fillna('Airplane')\n",
    "df.loc[conditions_helicopter, 'Aircraft.Category'] = df.loc[conditions_helicopter, 'Aircraft.Category'].fillna('Helicopter')\n"
   ]
  },
  {
   "cell_type": "code",
   "execution_count": 162,
   "id": "773acc55",
   "metadata": {},
   "outputs": [
    {
     "name": "stderr",
     "output_type": "stream",
     "text": [
      "/var/folders/rr/3tz5xt4j16s1wvxsg7zr8hg80000gn/T/ipykernel_879/3584133600.py:3: UserWarning: This pattern is interpreted as a regular expression, and has match groups. To actually get the groups, use str.extract.\n",
      "  conditions_helicopter = (df['Make'] == 'schweizer') & (df['Model'].str.contains(r'(269|300)'))\n"
     ]
    }
   ],
   "source": [
    "conditions_airplane = (df['Make'] == 'schweizer') & (df['Model'].str.contains(r'164'))\n",
    "conditions_glider = (df['Make'] == 'schweizer') & (df['Model'].str.contains(r'sg'))\n",
    "conditions_helicopter = (df['Make'] == 'schweizer') & (df['Model'].str.contains(r'(269|300)'))\n",
    "\n",
    "df.loc[conditions_airplane, 'Aircraft.Category'] = df.loc[conditions_airplane, 'Aircraft.Category'].fillna('Airplane')\n",
    "df.loc[conditions_helicopter, 'Aircraft.Category'] = df.loc[conditions_helicopter, 'Aircraft.Category'].fillna('Helicopter')\n",
    "df.loc[conditions_glider, 'Aircraft.Category'] = df.loc[conditions_helicopter, 'Aircraft.Category'].fillna('Glider')"
   ]
  },
  {
   "cell_type": "code",
   "execution_count": null,
   "id": "2f54e414",
   "metadata": {},
   "outputs": [],
   "source": []
  },
  {
   "cell_type": "code",
   "execution_count": 168,
   "id": "4c568d40",
   "metadata": {},
   "outputs": [
    {
     "data": {
      "text/plain": [
       "Airplane      54566\n",
       "Helicopter     7548\n",
       "Name: Aircraft.Category, dtype: int64"
      ]
     },
     "execution_count": 168,
     "metadata": {},
     "output_type": "execute_result"
    }
   ],
   "source": [
    "df['Aircraft.Category'].value_counts()"
   ]
  },
  {
   "cell_type": "code",
   "execution_count": null,
   "id": "59ccec6d",
   "metadata": {},
   "outputs": [],
   "source": []
  },
  {
   "cell_type": "code",
   "execution_count": 164,
   "id": "458f22ba",
   "metadata": {},
   "outputs": [],
   "source": [
    "# stworzenie kolumny capacity\n",
    "\n",
    "df['Capacity'] = np.where(df['Model.Capacity'].str.contains('small', case=False), 'small',\n",
    "                          np.where(df['Model.Capacity'].str.contains('medium', case=False), 'medium',\n",
    "                                   np.where(df['Model.Capacity'].str.contains('large', case=False), 'large', np.nan)))\n"
   ]
  },
  {
   "cell_type": "code",
   "execution_count": 167,
   "id": "58b4c27b",
   "metadata": {},
   "outputs": [
    {
     "data": {
      "text/plain": [
       "medium    34432\n",
       "small     18494\n",
       "nan        7501\n",
       "large      1687\n",
       "Name: Capacity, dtype: int64"
      ]
     },
     "execution_count": 167,
     "metadata": {},
     "output_type": "execute_result"
    }
   ],
   "source": [
    "df['Capacity'].value_counts()"
   ]
  },
  {
   "cell_type": "code",
   "execution_count": 128,
   "id": "ead81638",
   "metadata": {},
   "outputs": [
    {
     "data": {
      "text/plain": [
       "Index(['Event.Date', 'Location', 'Country', 'Injury.Severity',\n",
       "       'Aircraft.damage', 'Aircraft.Category', 'Make', 'Model',\n",
       "       'Amateur.Built', 'Number.of.Engines', 'Engine.Type',\n",
       "       'Purpose.of.flight', 'Total.Fatal.Injuries', 'Total.Serious.Injuries',\n",
       "       'Total.Minor.Injuries', 'Total.Uninjured', 'Weather.Condition',\n",
       "       'Broad.phase.of.flight', 'Report.Status', 'States', 'Year',\n",
       "       'Month.Abbr', 'Day.Name.Abbr', 'Weekend', 'Model.Capacity', 'Capacity'],\n",
       "      dtype='object')"
      ]
     },
     "execution_count": 128,
     "metadata": {},
     "output_type": "execute_result"
    }
   ],
   "source": [
    "df.columns"
   ]
  },
  {
   "cell_type": "code",
   "execution_count": 166,
   "id": "47655e7a",
   "metadata": {},
   "outputs": [],
   "source": [
    "df = df[df['Aircraft.Category'].isin(['Airplane', 'Helicopter'])]"
   ]
  },
  {
   "cell_type": "code",
   "execution_count": 169,
   "id": "6f558fbd",
   "metadata": {},
   "outputs": [],
   "source": [
    "df.to_csv('data_for_aviation_model.csv', index=False)"
   ]
  },
  {
   "cell_type": "code",
   "execution_count": null,
   "id": "ccb51e65",
   "metadata": {},
   "outputs": [],
   "source": []
  }
 ],
 "metadata": {
  "kernelspec": {
   "display_name": "Python 3 (ipykernel)",
   "language": "python",
   "name": "python3"
  },
  "language_info": {
   "codemirror_mode": {
    "name": "ipython",
    "version": 3
   },
   "file_extension": ".py",
   "mimetype": "text/x-python",
   "name": "python",
   "nbconvert_exporter": "python",
   "pygments_lexer": "ipython3",
   "version": "3.9.13"
  }
 },
 "nbformat": 4,
 "nbformat_minor": 5
}
