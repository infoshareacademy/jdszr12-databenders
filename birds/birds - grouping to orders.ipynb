{
 "cells": [
  {
   "cell_type": "code",
   "execution_count": 1,
   "id": "6f6c44b2",
   "metadata": {},
   "outputs": [],
   "source": [
    "import numpy as np\n",
    "import pandas as pd\n",
    "from time import time\n",
    "import matplotlib.pyplot as plt\n",
    "import seaborn as sns\n"
   ]
  },
  {
   "cell_type": "code",
   "execution_count": 118,
   "id": "7dc18760",
   "metadata": {},
   "outputs": [],
   "source": [
    "df = pd.read_csv('birds.csv')\n",
    "df_orders = pd.read_csv('orders.csv', sep=';')"
   ]
  },
  {
   "cell_type": "code",
   "execution_count": 119,
   "id": "84e91be2",
   "metadata": {},
   "outputs": [
    {
     "data": {
      "text/html": [
       "<div>\n",
       "<style scoped>\n",
       "    .dataframe tbody tr th:only-of-type {\n",
       "        vertical-align: middle;\n",
       "    }\n",
       "\n",
       "    .dataframe tbody tr th {\n",
       "        vertical-align: top;\n",
       "    }\n",
       "\n",
       "    .dataframe thead th {\n",
       "        text-align: right;\n",
       "    }\n",
       "</style>\n",
       "<table border=\"1\" class=\"dataframe\">\n",
       "  <thead>\n",
       "    <tr style=\"text-align: right;\">\n",
       "      <th></th>\n",
       "      <th>class id</th>\n",
       "      <th>filepaths</th>\n",
       "      <th>labels</th>\n",
       "      <th>data set</th>\n",
       "      <th>scientific name</th>\n",
       "    </tr>\n",
       "  </thead>\n",
       "  <tbody>\n",
       "    <tr>\n",
       "      <th>0</th>\n",
       "      <td>0.0</td>\n",
       "      <td>train/ABBOTTS BABBLER/001.jpg</td>\n",
       "      <td>ABBOTTS BABBLER</td>\n",
       "      <td>train</td>\n",
       "      <td>MALACOCINCLA ABBOTTI</td>\n",
       "    </tr>\n",
       "    <tr>\n",
       "      <th>1</th>\n",
       "      <td>0.0</td>\n",
       "      <td>train/ABBOTTS BABBLER/007.jpg</td>\n",
       "      <td>ABBOTTS BABBLER</td>\n",
       "      <td>train</td>\n",
       "      <td>MALACOCINCLA ABBOTTI</td>\n",
       "    </tr>\n",
       "    <tr>\n",
       "      <th>2</th>\n",
       "      <td>0.0</td>\n",
       "      <td>train/ABBOTTS BABBLER/008.jpg</td>\n",
       "      <td>ABBOTTS BABBLER</td>\n",
       "      <td>train</td>\n",
       "      <td>MALACOCINCLA ABBOTTI</td>\n",
       "    </tr>\n",
       "    <tr>\n",
       "      <th>3</th>\n",
       "      <td>0.0</td>\n",
       "      <td>train/ABBOTTS BABBLER/009.jpg</td>\n",
       "      <td>ABBOTTS BABBLER</td>\n",
       "      <td>train</td>\n",
       "      <td>MALACOCINCLA ABBOTTI</td>\n",
       "    </tr>\n",
       "    <tr>\n",
       "      <th>4</th>\n",
       "      <td>0.0</td>\n",
       "      <td>train/ABBOTTS BABBLER/002.jpg</td>\n",
       "      <td>ABBOTTS BABBLER</td>\n",
       "      <td>train</td>\n",
       "      <td>MALACOCINCLA ABBOTTI</td>\n",
       "    </tr>\n",
       "    <tr>\n",
       "      <th>5</th>\n",
       "      <td>0.0</td>\n",
       "      <td>train/ABBOTTS BABBLER/003.jpg</td>\n",
       "      <td>ABBOTTS BABBLER</td>\n",
       "      <td>train</td>\n",
       "      <td>MALACOCINCLA ABBOTTI</td>\n",
       "    </tr>\n",
       "    <tr>\n",
       "      <th>6</th>\n",
       "      <td>0.0</td>\n",
       "      <td>train/ABBOTTS BABBLER/004.jpg</td>\n",
       "      <td>ABBOTTS BABBLER</td>\n",
       "      <td>train</td>\n",
       "      <td>MALACOCINCLA ABBOTTI</td>\n",
       "    </tr>\n",
       "    <tr>\n",
       "      <th>7</th>\n",
       "      <td>0.0</td>\n",
       "      <td>train/ABBOTTS BABBLER/005.jpg</td>\n",
       "      <td>ABBOTTS BABBLER</td>\n",
       "      <td>train</td>\n",
       "      <td>MALACOCINCLA ABBOTTI</td>\n",
       "    </tr>\n",
       "    <tr>\n",
       "      <th>8</th>\n",
       "      <td>0.0</td>\n",
       "      <td>train/ABBOTTS BABBLER/006.jpg</td>\n",
       "      <td>ABBOTTS BABBLER</td>\n",
       "      <td>train</td>\n",
       "      <td>MALACOCINCLA ABBOTTI</td>\n",
       "    </tr>\n",
       "    <tr>\n",
       "      <th>9</th>\n",
       "      <td>0.0</td>\n",
       "      <td>train/ABBOTTS BABBLER/010.jpg</td>\n",
       "      <td>ABBOTTS BABBLER</td>\n",
       "      <td>train</td>\n",
       "      <td>MALACOCINCLA ABBOTTI</td>\n",
       "    </tr>\n",
       "  </tbody>\n",
       "</table>\n",
       "</div>"
      ],
      "text/plain": [
       "   class id                      filepaths           labels data set  \\\n",
       "0       0.0  train/ABBOTTS BABBLER/001.jpg  ABBOTTS BABBLER    train   \n",
       "1       0.0  train/ABBOTTS BABBLER/007.jpg  ABBOTTS BABBLER    train   \n",
       "2       0.0  train/ABBOTTS BABBLER/008.jpg  ABBOTTS BABBLER    train   \n",
       "3       0.0  train/ABBOTTS BABBLER/009.jpg  ABBOTTS BABBLER    train   \n",
       "4       0.0  train/ABBOTTS BABBLER/002.jpg  ABBOTTS BABBLER    train   \n",
       "5       0.0  train/ABBOTTS BABBLER/003.jpg  ABBOTTS BABBLER    train   \n",
       "6       0.0  train/ABBOTTS BABBLER/004.jpg  ABBOTTS BABBLER    train   \n",
       "7       0.0  train/ABBOTTS BABBLER/005.jpg  ABBOTTS BABBLER    train   \n",
       "8       0.0  train/ABBOTTS BABBLER/006.jpg  ABBOTTS BABBLER    train   \n",
       "9       0.0  train/ABBOTTS BABBLER/010.jpg  ABBOTTS BABBLER    train   \n",
       "\n",
       "        scientific name  \n",
       "0  MALACOCINCLA ABBOTTI  \n",
       "1  MALACOCINCLA ABBOTTI  \n",
       "2  MALACOCINCLA ABBOTTI  \n",
       "3  MALACOCINCLA ABBOTTI  \n",
       "4  MALACOCINCLA ABBOTTI  \n",
       "5  MALACOCINCLA ABBOTTI  \n",
       "6  MALACOCINCLA ABBOTTI  \n",
       "7  MALACOCINCLA ABBOTTI  \n",
       "8  MALACOCINCLA ABBOTTI  \n",
       "9  MALACOCINCLA ABBOTTI  "
      ]
     },
     "execution_count": 119,
     "metadata": {},
     "output_type": "execute_result"
    }
   ],
   "source": [
    "df.head(10)"
   ]
  },
  {
   "cell_type": "code",
   "execution_count": 120,
   "id": "6ec612fa",
   "metadata": {
    "scrolled": true
   },
   "outputs": [
    {
     "data": {
      "text/plain": [
       "RUFOUS TREPE               273\n",
       "HOUSE FINCH                258\n",
       "D-ARNAUDS BARBET           243\n",
       "OVENBIRD                   243\n",
       "ASIAN GREEN BEE EATER      230\n",
       "                          ... \n",
       "NORTHERN RED BISHOP        140\n",
       "SNOWY PLOVER               140\n",
       "PATAGONIAN SIERRA FINCH    140\n",
       "EURASIAN GOLDEN ORIOLE     140\n",
       "RED TAILED THRUSH          140\n",
       "Name: labels, Length: 525, dtype: int64"
      ]
     },
     "execution_count": 120,
     "metadata": {},
     "output_type": "execute_result"
    }
   ],
   "source": [
    "df.labels.value_counts()"
   ]
  },
  {
   "cell_type": "code",
   "execution_count": null,
   "id": "35a6968a",
   "metadata": {
    "scrolled": true
   },
   "outputs": [],
   "source": []
  },
  {
   "cell_type": "code",
   "execution_count": 121,
   "id": "b51a275d",
   "metadata": {},
   "outputs": [
    {
     "data": {
      "text/plain": [
       "0         MALACOCINCLA ABBOTTI\n",
       "1         MALACOCINCLA ABBOTTI\n",
       "2         MALACOCINCLA ABBOTTI\n",
       "3         MALACOCINCLA ABBOTTI\n",
       "4         MALACOCINCLA ABBOTTI\n",
       "                 ...          \n",
       "89880    NOTHARCHUS PECTORALIS\n",
       "89881    NOTHARCHUS PECTORALIS\n",
       "89882    NOTHARCHUS PECTORALIS\n",
       "89883    NOTHARCHUS PECTORALIS\n",
       "89884    NOTHARCHUS PECTORALIS\n",
       "Name: scientific name, Length: 89885, dtype: object"
      ]
     },
     "execution_count": 121,
     "metadata": {},
     "output_type": "execute_result"
    }
   ],
   "source": [
    "df['scientific name']"
   ]
  },
  {
   "cell_type": "code",
   "execution_count": 122,
   "id": "bc5912c0",
   "metadata": {},
   "outputs": [],
   "source": [
    "df[\"genus\"] = df['scientific name'].str.split(\" \").str.get(0)"
   ]
  },
  {
   "cell_type": "code",
   "execution_count": 123,
   "id": "ab52b846",
   "metadata": {},
   "outputs": [
    {
     "data": {
      "text/plain": [
       "SETOPHAGA         1490\n",
       "ANAS               836\n",
       "PASSERINA          825\n",
       "FALCO              722\n",
       "                   709\n",
       "                  ... \n",
       "CORYTHAIXOIDES     141\n",
       "CALLIPHLOX         140\n",
       "NEOCOSSYPHUS       140\n",
       "ORIOLUS            140\n",
       "PHRYGILUS          140\n",
       "Name: genus, Length: 425, dtype: int64"
      ]
     },
     "execution_count": 123,
     "metadata": {},
     "output_type": "execute_result"
    }
   ],
   "source": [
    "df[\"genus\"].value_counts()"
   ]
  },
  {
   "cell_type": "code",
   "execution_count": 124,
   "id": "d0f1289f",
   "metadata": {},
   "outputs": [],
   "source": [
    "df[\"name_short\"] = df['labels'].str.split(\" \").str.get(-1)"
   ]
  },
  {
   "cell_type": "code",
   "execution_count": 125,
   "id": "8d8af3d6",
   "metadata": {
    "scrolled": true
   },
   "outputs": [
    {
     "data": {
      "text/plain": [
       "DUCK          1600\n",
       "WARBLER       1481\n",
       "PHEASANT      1383\n",
       "KINGFISHER    1378\n",
       "EAGLE         1249\n",
       "              ... \n",
       "BUSTARD        141\n",
       "FRANCOLIN      141\n",
       "HEN            141\n",
       "WOODSTAR       140\n",
       "BISHOP         140\n",
       "Name: name_short, Length: 312, dtype: int64"
      ]
     },
     "execution_count": 125,
     "metadata": {},
     "output_type": "execute_result"
    }
   ],
   "source": [
    "df[\"name_short\"].value_counts()"
   ]
  },
  {
   "cell_type": "code",
   "execution_count": 126,
   "id": "827bd4c9",
   "metadata": {},
   "outputs": [
    {
     "data": {
      "text/plain": [
       "False    89031\n",
       "True       854\n",
       "Name: labels, dtype: int64"
      ]
     },
     "execution_count": 126,
     "metadata": {},
     "output_type": "execute_result"
    }
   ],
   "source": [
    "df.labels.str.contains('ROBIN').value_counts()"
   ]
  },
  {
   "cell_type": "code",
   "execution_count": 127,
   "id": "7356e0f9",
   "metadata": {},
   "outputs": [],
   "source": [
    "df.labels.str.contains('ROBIN').value_counts()\n",
    "\n",
    "df.loc[df['labels'].str.contains('TIT'), 'order'] = 'Passeriformes'\n",
    "df.loc[df['labels'].str.contains('FINCH'), 'order'] = 'Passeriformes'\n",
    "df.loc[df['labels'].str.contains('SPARROW'), 'order'] = 'Passeriformes'\n"
   ]
  },
  {
   "cell_type": "code",
   "execution_count": 128,
   "id": "8c81392a",
   "metadata": {
    "scrolled": true
   },
   "outputs": [
    {
     "data": {
      "text/plain": [
       "False    89196\n",
       "True       689\n",
       "Name: labels, dtype: int64"
      ]
     },
     "execution_count": 128,
     "metadata": {},
     "output_type": "execute_result"
    }
   ],
   "source": [
    "df.labels.str.contains('SPARROW').value_counts()"
   ]
  },
  {
   "cell_type": "code",
   "execution_count": 105,
   "id": "24542af0",
   "metadata": {
    "scrolled": false
   },
   "outputs": [
    {
     "data": {
      "text/plain": [
       "False    88067\n",
       "True      1818\n",
       "Name: labels, dtype: int64"
      ]
     },
     "execution_count": 105,
     "metadata": {},
     "output_type": "execute_result"
    }
   ],
   "source": [
    "df.labels.str.contains('FINCH').value_counts()"
   ]
  },
  {
   "cell_type": "code",
   "execution_count": 106,
   "id": "1b3fb611",
   "metadata": {},
   "outputs": [
    {
     "data": {
      "text/plain": [
       "False    89004\n",
       "True       881\n",
       "Name: labels, dtype: int64"
      ]
     },
     "execution_count": 106,
     "metadata": {},
     "output_type": "execute_result"
    }
   ],
   "source": [
    "df.labels.str.contains('TIT').value_counts()"
   ]
  },
  {
   "cell_type": "code",
   "execution_count": 107,
   "id": "64cac824",
   "metadata": {},
   "outputs": [
    {
     "data": {
      "text/plain": [
       "False    88404\n",
       "True      1481\n",
       "Name: labels, dtype: int64"
      ]
     },
     "execution_count": 107,
     "metadata": {},
     "output_type": "execute_result"
    }
   ],
   "source": [
    "df.loc[df.labels.str.contains('WARBLER'), \n",
    "       "
   ]
  },
  {
   "cell_type": "code",
   "execution_count": 129,
   "id": "2464faf1",
   "metadata": {
    "scrolled": true
   },
   "outputs": [],
   "source": [
    "df_orders['Accipitriformes'] = df_orders['Accipitriformes'].str.lower()\n",
    "df_orders['Anseriformes'] = df_orders['Anseriformes'].str.lower()\n",
    "df_orders['Columbiformes'] = df_orders['Columbiformes'].str.lower()\n",
    "df_orders['Gruiformes'] = df_orders['Gruiformes'].str.lower()\n",
    "df_orders['Apodiformes'] = df_orders['Apodiformes'].str.lower()\n",
    "df_orders['Piciformes'] = df_orders['Piciformes'].str.lower()\n",
    "\n",
    "\n",
    "\n",
    "Accipitriformes = df_orders['Accipitriformes'].tolist()\n",
    "Anseriformes = df_orders['Anseriformes'].tolist()\n",
    "Columbiformes = df_orders['Columbiformes'].tolist()\n",
    "Gruiformes = df_orders['Gruiformes'].tolist()\n",
    "Apodiformes = df_orders['Apodiformes'].tolist()\n",
    "Piciformes = df_orders['Piciformes'].tolist()"
   ]
  },
  {
   "cell_type": "code",
   "execution_count": 130,
   "id": "c662e44c",
   "metadata": {},
   "outputs": [],
   "source": [
    "df['scientific name'] = df['scientific name'].str.lower()"
   ]
  },
  {
   "cell_type": "code",
   "execution_count": 131,
   "id": "b3420ad9",
   "metadata": {},
   "outputs": [],
   "source": [
    "df['order'] = ''\n",
    "for index, row in df.iterrows():\n",
    "    if df.loc[index, 'scientific name'] in Accipitriformes:\n",
    "        df.loc[index, 'order'] = 'Accipitriformes'\n",
    "    elif df.loc[index, 'scientific name'] in Anseriformes:\n",
    "        df.loc[index, 'order'] = 'Anseriformes'\n",
    "    elif df.loc[index, 'scientific name'] in Columbiformes:\n",
    "        df.loc[index, 'order'] = 'Columbiformes'\n",
    "    elif df.loc[index, 'scientific name'] in Gruiformes:\n",
    "        df.loc[index, 'order'] = 'Gruiformes'\n",
    "    elif df.loc[index, 'scientific name'] in Apodiformes:\n",
    "        df.loc[index, 'order'] = 'Apodiformes'\n",
    "    elif df.loc[index, 'scientific name'] in Piciformes:\n",
    "        df.loc[index, 'order'] = 'Piciformes'\n",
    "  "
   ]
  },
  {
   "cell_type": "code",
   "execution_count": 133,
   "id": "b8ea3145",
   "metadata": {},
   "outputs": [],
   "source": [
    "df.loc[df['labels'].str.contains('TIT'), 'order'] = 'Passeriformes'\n",
    "df.loc[df['labels'].str.contains('FINCH'), 'order'] = 'Passeriformes'\n",
    "df.loc[df['labels'].str.contains('SPARROW'), 'order'] = 'Passeriformes'"
   ]
  },
  {
   "cell_type": "code",
   "execution_count": 151,
   "id": "0e1d0cdb",
   "metadata": {},
   "outputs": [],
   "source": [
    "df2 = df[(df['order']==\"Passeriformes\") | (df['order']==\"Accipitriformes\") | (df['order']==\"Anseriformes\")].reindex()"
   ]
  },
  {
   "cell_type": "code",
   "execution_count": 157,
   "id": "eaa74adb",
   "metadata": {},
   "outputs": [],
   "source": [
    "df2.drop(columns = ['genus', 'name_short', 'class id'], inplace=True)"
   ]
  },
  {
   "cell_type": "code",
   "execution_count": 159,
   "id": "abc72390",
   "metadata": {},
   "outputs": [],
   "source": [
    "df2['order'].replace(['Passeriformes', 'Accipitriformes', 'Anseriformes'], ['sparrows', 'eagles', 'ducks'], inplace = True)              "
   ]
  },
  {
   "cell_type": "code",
   "execution_count": 165,
   "id": "9af8a2f3",
   "metadata": {},
   "outputs": [],
   "source": [
    "df2 = df2.reset_index()"
   ]
  },
  {
   "cell_type": "code",
   "execution_count": 166,
   "id": "bcb41f03",
   "metadata": {},
   "outputs": [
    {
     "data": {
      "text/html": [
       "<div>\n",
       "<style scoped>\n",
       "    .dataframe tbody tr th:only-of-type {\n",
       "        vertical-align: middle;\n",
       "    }\n",
       "\n",
       "    .dataframe tbody tr th {\n",
       "        vertical-align: top;\n",
       "    }\n",
       "\n",
       "    .dataframe thead th {\n",
       "        text-align: right;\n",
       "    }\n",
       "</style>\n",
       "<table border=\"1\" class=\"dataframe\">\n",
       "  <thead>\n",
       "    <tr style=\"text-align: right;\">\n",
       "      <th></th>\n",
       "      <th>index</th>\n",
       "      <th>filepaths</th>\n",
       "      <th>labels</th>\n",
       "      <th>data set</th>\n",
       "      <th>scientific name</th>\n",
       "      <th>order</th>\n",
       "    </tr>\n",
       "  </thead>\n",
       "  <tbody>\n",
       "    <tr>\n",
       "      <th>0</th>\n",
       "      <td>811</td>\n",
       "      <td>train/AFRICAN FIREFINCH/027.jpg</td>\n",
       "      <td>AFRICAN FIREFINCH</td>\n",
       "      <td>train</td>\n",
       "      <td>lagonosticta rubricata</td>\n",
       "      <td>sparrows</td>\n",
       "    </tr>\n",
       "    <tr>\n",
       "      <th>1</th>\n",
       "      <td>812</td>\n",
       "      <td>train/AFRICAN FIREFINCH/002.jpg</td>\n",
       "      <td>AFRICAN FIREFINCH</td>\n",
       "      <td>train</td>\n",
       "      <td>lagonosticta rubricata</td>\n",
       "      <td>sparrows</td>\n",
       "    </tr>\n",
       "    <tr>\n",
       "      <th>2</th>\n",
       "      <td>813</td>\n",
       "      <td>train/AFRICAN FIREFINCH/003.jpg</td>\n",
       "      <td>AFRICAN FIREFINCH</td>\n",
       "      <td>train</td>\n",
       "      <td>lagonosticta rubricata</td>\n",
       "      <td>sparrows</td>\n",
       "    </tr>\n",
       "    <tr>\n",
       "      <th>3</th>\n",
       "      <td>814</td>\n",
       "      <td>train/AFRICAN FIREFINCH/004.jpg</td>\n",
       "      <td>AFRICAN FIREFINCH</td>\n",
       "      <td>train</td>\n",
       "      <td>lagonosticta rubricata</td>\n",
       "      <td>sparrows</td>\n",
       "    </tr>\n",
       "    <tr>\n",
       "      <th>4</th>\n",
       "      <td>815</td>\n",
       "      <td>train/AFRICAN FIREFINCH/005.jpg</td>\n",
       "      <td>AFRICAN FIREFINCH</td>\n",
       "      <td>train</td>\n",
       "      <td>lagonosticta rubricata</td>\n",
       "      <td>sparrows</td>\n",
       "    </tr>\n",
       "    <tr>\n",
       "      <th>...</th>\n",
       "      <td>...</td>\n",
       "      <td>...</td>\n",
       "      <td>...</td>\n",
       "      <td>...</td>\n",
       "      <td>...</td>\n",
       "      <td>...</td>\n",
       "    </tr>\n",
       "    <tr>\n",
       "      <th>9974</th>\n",
       "      <td>89810</td>\n",
       "      <td>valid/WRENTIT/3.jpg</td>\n",
       "      <td>WRENTIT</td>\n",
       "      <td>valid</td>\n",
       "      <td>chamaea fasciata</td>\n",
       "      <td>sparrows</td>\n",
       "    </tr>\n",
       "    <tr>\n",
       "      <th>9975</th>\n",
       "      <td>89811</td>\n",
       "      <td>valid/WRENTIT/2.jpg</td>\n",
       "      <td>WRENTIT</td>\n",
       "      <td>valid</td>\n",
       "      <td>chamaea fasciata</td>\n",
       "      <td>sparrows</td>\n",
       "    </tr>\n",
       "    <tr>\n",
       "      <th>9976</th>\n",
       "      <td>89812</td>\n",
       "      <td>valid/WRENTIT/4.jpg</td>\n",
       "      <td>WRENTIT</td>\n",
       "      <td>valid</td>\n",
       "      <td>chamaea fasciata</td>\n",
       "      <td>sparrows</td>\n",
       "    </tr>\n",
       "    <tr>\n",
       "      <th>9977</th>\n",
       "      <td>89813</td>\n",
       "      <td>valid/WRENTIT/5.jpg</td>\n",
       "      <td>WRENTIT</td>\n",
       "      <td>valid</td>\n",
       "      <td>chamaea fasciata</td>\n",
       "      <td>sparrows</td>\n",
       "    </tr>\n",
       "    <tr>\n",
       "      <th>9978</th>\n",
       "      <td>89814</td>\n",
       "      <td>valid/WRENTIT/1.jpg</td>\n",
       "      <td>WRENTIT</td>\n",
       "      <td>valid</td>\n",
       "      <td>chamaea fasciata</td>\n",
       "      <td>sparrows</td>\n",
       "    </tr>\n",
       "  </tbody>\n",
       "</table>\n",
       "<p>9979 rows × 6 columns</p>\n",
       "</div>"
      ],
      "text/plain": [
       "      index                        filepaths             labels data set  \\\n",
       "0       811  train/AFRICAN FIREFINCH/027.jpg  AFRICAN FIREFINCH    train   \n",
       "1       812  train/AFRICAN FIREFINCH/002.jpg  AFRICAN FIREFINCH    train   \n",
       "2       813  train/AFRICAN FIREFINCH/003.jpg  AFRICAN FIREFINCH    train   \n",
       "3       814  train/AFRICAN FIREFINCH/004.jpg  AFRICAN FIREFINCH    train   \n",
       "4       815  train/AFRICAN FIREFINCH/005.jpg  AFRICAN FIREFINCH    train   \n",
       "...     ...                              ...                ...      ...   \n",
       "9974  89810              valid/WRENTIT/3.jpg            WRENTIT    valid   \n",
       "9975  89811              valid/WRENTIT/2.jpg            WRENTIT    valid   \n",
       "9976  89812              valid/WRENTIT/4.jpg            WRENTIT    valid   \n",
       "9977  89813              valid/WRENTIT/5.jpg            WRENTIT    valid   \n",
       "9978  89814              valid/WRENTIT/1.jpg            WRENTIT    valid   \n",
       "\n",
       "             scientific name     order  \n",
       "0     lagonosticta rubricata  sparrows  \n",
       "1     lagonosticta rubricata  sparrows  \n",
       "2     lagonosticta rubricata  sparrows  \n",
       "3     lagonosticta rubricata  sparrows  \n",
       "4     lagonosticta rubricata  sparrows  \n",
       "...                      ...       ...  \n",
       "9974        chamaea fasciata  sparrows  \n",
       "9975        chamaea fasciata  sparrows  \n",
       "9976        chamaea fasciata  sparrows  \n",
       "9977        chamaea fasciata  sparrows  \n",
       "9978        chamaea fasciata  sparrows  \n",
       "\n",
       "[9979 rows x 6 columns]"
      ]
     },
     "execution_count": 166,
     "metadata": {},
     "output_type": "execute_result"
    }
   ],
   "source": [
    "df2"
   ]
  },
  {
   "cell_type": "code",
   "execution_count": 168,
   "id": "29af8ca9",
   "metadata": {},
   "outputs": [],
   "source": [
    "df2.to_csv('bird_orders.csv', index = False)"
   ]
  },
  {
   "cell_type": "code",
   "execution_count": null,
   "id": "d3710207",
   "metadata": {},
   "outputs": [],
   "source": []
  },
  {
   "cell_type": "code",
   "execution_count": null,
   "id": "bed610c3",
   "metadata": {},
   "outputs": [],
   "source": []
  },
  {
   "cell_type": "code",
   "execution_count": null,
   "id": "76dc1096",
   "metadata": {},
   "outputs": [],
   "source": []
  }
 ],
 "metadata": {
  "kernelspec": {
   "display_name": "Python 3 (ipykernel)",
   "language": "python",
   "name": "python3"
  },
  "language_info": {
   "codemirror_mode": {
    "name": "ipython",
    "version": 3
   },
   "file_extension": ".py",
   "mimetype": "text/x-python",
   "name": "python",
   "nbconvert_exporter": "python",
   "pygments_lexer": "ipython3",
   "version": "3.8.16"
  }
 },
 "nbformat": 4,
 "nbformat_minor": 5
}
