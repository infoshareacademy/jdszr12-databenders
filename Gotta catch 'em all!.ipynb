{
 "cells": [
  {
   "cell_type": "markdown",
   "id": "55527797",
   "metadata": {},
   "source": [
    "POKEMOOOOON! "
   ]
  },
  {
   "cell_type": "code",
   "execution_count": null,
   "id": "5ad2e009",
   "metadata": {},
   "outputs": [],
   "source": []
  },
  {
   "cell_type": "code",
   "execution_count": null,
   "id": "a35441aa",
   "metadata": {},
   "outputs": [],
   "source": [
    "\n",
    "\n",
    "\n"
   ]
  },
  {
   "cell_type": "code",
   "execution_count": 8,
   "id": "06333956",
   "metadata": {},
   "outputs": [],
   "source": [
    "import pandas as pd"
   ]
  },
  {
   "cell_type": "code",
   "execution_count": 6,
   "id": "9ea1a544",
   "metadata": {},
   "outputs": [],
   "source": [
    "df = pd.read_csv('pokemon.csv')"
   ]
  },
  {
   "cell_type": "code",
   "execution_count": 11,
   "id": "03f1a14d",
   "metadata": {},
   "outputs": [
    {
     "data": {
      "text/html": [
       "<div>\n",
       "<style scoped>\n",
       "    .dataframe tbody tr th:only-of-type {\n",
       "        vertical-align: middle;\n",
       "    }\n",
       "\n",
       "    .dataframe tbody tr th {\n",
       "        vertical-align: top;\n",
       "    }\n",
       "\n",
       "    .dataframe thead th {\n",
       "        text-align: right;\n",
       "    }\n",
       "</style>\n",
       "<table border=\"1\" class=\"dataframe\">\n",
       "  <thead>\n",
       "    <tr style=\"text-align: right;\">\n",
       "      <th></th>\n",
       "      <th>abilities</th>\n",
       "      <th>against_bug</th>\n",
       "      <th>against_dark</th>\n",
       "      <th>against_dragon</th>\n",
       "      <th>against_electric</th>\n",
       "      <th>against_fairy</th>\n",
       "      <th>against_fight</th>\n",
       "      <th>against_fire</th>\n",
       "      <th>against_flying</th>\n",
       "      <th>against_ghost</th>\n",
       "      <th>...</th>\n",
       "      <th>percentage_male</th>\n",
       "      <th>pokedex_number</th>\n",
       "      <th>sp_attack</th>\n",
       "      <th>sp_defense</th>\n",
       "      <th>speed</th>\n",
       "      <th>type1</th>\n",
       "      <th>type2</th>\n",
       "      <th>weight_kg</th>\n",
       "      <th>generation</th>\n",
       "      <th>is_legendary</th>\n",
       "    </tr>\n",
       "  </thead>\n",
       "  <tbody>\n",
       "    <tr>\n",
       "      <th>0</th>\n",
       "      <td>['Overgrow', 'Chlorophyll']</td>\n",
       "      <td>1.0</td>\n",
       "      <td>1.0</td>\n",
       "      <td>1.0</td>\n",
       "      <td>0.5</td>\n",
       "      <td>0.5</td>\n",
       "      <td>0.5</td>\n",
       "      <td>2.0</td>\n",
       "      <td>2.0</td>\n",
       "      <td>1.0</td>\n",
       "      <td>...</td>\n",
       "      <td>88.1</td>\n",
       "      <td>1</td>\n",
       "      <td>65</td>\n",
       "      <td>65</td>\n",
       "      <td>45</td>\n",
       "      <td>grass</td>\n",
       "      <td>poison</td>\n",
       "      <td>6.9</td>\n",
       "      <td>1</td>\n",
       "      <td>0</td>\n",
       "    </tr>\n",
       "    <tr>\n",
       "      <th>1</th>\n",
       "      <td>['Overgrow', 'Chlorophyll']</td>\n",
       "      <td>1.0</td>\n",
       "      <td>1.0</td>\n",
       "      <td>1.0</td>\n",
       "      <td>0.5</td>\n",
       "      <td>0.5</td>\n",
       "      <td>0.5</td>\n",
       "      <td>2.0</td>\n",
       "      <td>2.0</td>\n",
       "      <td>1.0</td>\n",
       "      <td>...</td>\n",
       "      <td>88.1</td>\n",
       "      <td>2</td>\n",
       "      <td>80</td>\n",
       "      <td>80</td>\n",
       "      <td>60</td>\n",
       "      <td>grass</td>\n",
       "      <td>poison</td>\n",
       "      <td>13.0</td>\n",
       "      <td>1</td>\n",
       "      <td>0</td>\n",
       "    </tr>\n",
       "    <tr>\n",
       "      <th>2</th>\n",
       "      <td>['Overgrow', 'Chlorophyll']</td>\n",
       "      <td>1.0</td>\n",
       "      <td>1.0</td>\n",
       "      <td>1.0</td>\n",
       "      <td>0.5</td>\n",
       "      <td>0.5</td>\n",
       "      <td>0.5</td>\n",
       "      <td>2.0</td>\n",
       "      <td>2.0</td>\n",
       "      <td>1.0</td>\n",
       "      <td>...</td>\n",
       "      <td>88.1</td>\n",
       "      <td>3</td>\n",
       "      <td>122</td>\n",
       "      <td>120</td>\n",
       "      <td>80</td>\n",
       "      <td>grass</td>\n",
       "      <td>poison</td>\n",
       "      <td>100.0</td>\n",
       "      <td>1</td>\n",
       "      <td>0</td>\n",
       "    </tr>\n",
       "    <tr>\n",
       "      <th>3</th>\n",
       "      <td>['Blaze', 'Solar Power']</td>\n",
       "      <td>0.5</td>\n",
       "      <td>1.0</td>\n",
       "      <td>1.0</td>\n",
       "      <td>1.0</td>\n",
       "      <td>0.5</td>\n",
       "      <td>1.0</td>\n",
       "      <td>0.5</td>\n",
       "      <td>1.0</td>\n",
       "      <td>1.0</td>\n",
       "      <td>...</td>\n",
       "      <td>88.1</td>\n",
       "      <td>4</td>\n",
       "      <td>60</td>\n",
       "      <td>50</td>\n",
       "      <td>65</td>\n",
       "      <td>fire</td>\n",
       "      <td>NaN</td>\n",
       "      <td>8.5</td>\n",
       "      <td>1</td>\n",
       "      <td>0</td>\n",
       "    </tr>\n",
       "    <tr>\n",
       "      <th>4</th>\n",
       "      <td>['Blaze', 'Solar Power']</td>\n",
       "      <td>0.5</td>\n",
       "      <td>1.0</td>\n",
       "      <td>1.0</td>\n",
       "      <td>1.0</td>\n",
       "      <td>0.5</td>\n",
       "      <td>1.0</td>\n",
       "      <td>0.5</td>\n",
       "      <td>1.0</td>\n",
       "      <td>1.0</td>\n",
       "      <td>...</td>\n",
       "      <td>88.1</td>\n",
       "      <td>5</td>\n",
       "      <td>80</td>\n",
       "      <td>65</td>\n",
       "      <td>80</td>\n",
       "      <td>fire</td>\n",
       "      <td>NaN</td>\n",
       "      <td>19.0</td>\n",
       "      <td>1</td>\n",
       "      <td>0</td>\n",
       "    </tr>\n",
       "  </tbody>\n",
       "</table>\n",
       "<p>5 rows × 41 columns</p>\n",
       "</div>"
      ],
      "text/plain": [
       "                     abilities  against_bug  against_dark  against_dragon  \\\n",
       "0  ['Overgrow', 'Chlorophyll']          1.0           1.0             1.0   \n",
       "1  ['Overgrow', 'Chlorophyll']          1.0           1.0             1.0   \n",
       "2  ['Overgrow', 'Chlorophyll']          1.0           1.0             1.0   \n",
       "3     ['Blaze', 'Solar Power']          0.5           1.0             1.0   \n",
       "4     ['Blaze', 'Solar Power']          0.5           1.0             1.0   \n",
       "\n",
       "   against_electric  against_fairy  against_fight  against_fire  \\\n",
       "0               0.5            0.5            0.5           2.0   \n",
       "1               0.5            0.5            0.5           2.0   \n",
       "2               0.5            0.5            0.5           2.0   \n",
       "3               1.0            0.5            1.0           0.5   \n",
       "4               1.0            0.5            1.0           0.5   \n",
       "\n",
       "   against_flying  against_ghost  ...  percentage_male  pokedex_number  \\\n",
       "0             2.0            1.0  ...             88.1               1   \n",
       "1             2.0            1.0  ...             88.1               2   \n",
       "2             2.0            1.0  ...             88.1               3   \n",
       "3             1.0            1.0  ...             88.1               4   \n",
       "4             1.0            1.0  ...             88.1               5   \n",
       "\n",
       "   sp_attack  sp_defense  speed  type1   type2  weight_kg  generation  \\\n",
       "0         65          65     45  grass  poison        6.9           1   \n",
       "1         80          80     60  grass  poison       13.0           1   \n",
       "2        122         120     80  grass  poison      100.0           1   \n",
       "3         60          50     65   fire     NaN        8.5           1   \n",
       "4         80          65     80   fire     NaN       19.0           1   \n",
       "\n",
       "   is_legendary  \n",
       "0             0  \n",
       "1             0  \n",
       "2             0  \n",
       "3             0  \n",
       "4             0  \n",
       "\n",
       "[5 rows x 41 columns]"
      ]
     },
     "execution_count": 11,
     "metadata": {},
     "output_type": "execute_result"
    }
   ],
   "source": [
    "df.head()"
   ]
  },
  {
   "cell_type": "code",
   "execution_count": null,
   "id": "bd5a41b7",
   "metadata": {},
   "outputs": [],
   "source": [
    "  "
   ]
  },
  {
   "cell_type": "code",
   "execution_count": 3,
   "id": "4939cd33",
   "metadata": {},
   "outputs": [],
   "source": [
    "import pandas as pd"
   ]
  },
  {
   "cell_type": "code",
   "execution_count": 4,
   "id": "d2963278",
   "metadata": {},
   "outputs": [],
   "source": [
    "df = pd.read_csv('pokemon.csv')"
   ]
  },
  {
   "cell_type": "code",
   "execution_count": 5,
   "id": "a2e452a6",
   "metadata": {},
   "outputs": [
    {
     "name": "stdout",
     "output_type": "stream",
     "text": [
      "Typy Pokemonów z najlepszym atakiem:\n",
      "type1\n",
      "dragon      106.407407\n",
      "fighting     99.178571\n",
      "ground       94.812500\n",
      "steel        93.083333\n",
      "rock         90.666667\n",
      "dark         87.793103\n",
      "fire         81.500000\n",
      "normal       75.161905\n",
      "grass        73.769231\n",
      "water        73.307018\n",
      "ice          73.304348\n",
      "ghost        72.740741\n",
      "poison       72.656250\n",
      "electric     70.820513\n",
      "bug          70.125000\n",
      "flying       66.666667\n",
      "psychic      65.566038\n",
      "fairy        62.111111\n",
      "Name: attack, dtype: float64\n"
     ]
    }
   ],
   "source": [
    "attack_by_type = df.groupby('type1')['attack'].mean().sort_values(ascending=False)\n",
    "print('Typy Pokemonów z najlepszym atakiem:')\n",
    "print(attack_by_type)"
   ]
  },
  {
   "cell_type": "code",
   "execution_count": 6,
   "id": "d463e4e1",
   "metadata": {},
   "outputs": [
    {
     "name": "stdout",
     "output_type": "stream",
     "text": [
      "Typy Pokemonów z najlepszym atakiem:\n",
      "type2\n",
      "fighting    107.960000\n",
      "steel        97.454545\n",
      "dark         95.904762\n",
      "ghost        95.571429\n",
      "ice          88.666667\n",
      "dragon       88.470588\n",
      "rock         86.857143\n",
      "ground       86.058824\n",
      "flying       78.389474\n",
      "grass        78.250000\n",
      "psychic      76.586207\n",
      "bug          76.000000\n",
      "electric     74.777778\n",
      "water        70.176471\n",
      "poison       67.617647\n",
      "fire         66.000000\n",
      "fairy        63.482759\n",
      "normal       52.750000\n",
      "Name: attack, dtype: float64\n"
     ]
    }
   ],
   "source": [
    "attack_by_type = df.groupby('type2')['attack'].mean().sort_values(ascending=False)\n",
    "print('Typy Pokemonów z najlepszym atakiem:')\n",
    "print(attack_by_type)"
   ]
  },
  {
   "cell_type": "code",
   "execution_count": 45,
   "id": "518cf8b3",
   "metadata": {},
   "outputs": [
    {
     "name": "stdout",
     "output_type": "stream",
     "text": [
      "Najszybsze typy pokemonów:\n",
      "type1\n",
      "flying      99.666667\n",
      "electric    85.410256\n",
      "dragon      76.111111\n",
      "dark        75.310345\n",
      "psychic     75.150943\n",
      "fire        73.346154\n",
      "normal      69.533333\n",
      "fighting    64.285714\n",
      "poison      64.187500\n",
      "water       63.921053\n",
      "bug         63.569444\n",
      "ice         62.739130\n",
      "ground      59.968750\n",
      "grass       59.025641\n",
      "ghost       58.333333\n",
      "rock        57.422222\n",
      "steel       56.583333\n",
      "fairy       53.666667\n",
      "Name: speed, dtype: float64\n"
     ]
    }
   ],
   "source": [
    "speed_by_type = df.groupby('type1')['speed'].mean().sort_values(ascending=False)\n",
    "print('Najszybsze typy pokemonów:')\n",
    "print(speed_by_type)"
   ]
  },
  {
   "cell_type": "code",
   "execution_count": 44,
   "id": "db8f9da1",
   "metadata": {},
   "outputs": [
    {
     "name": "stdout",
     "output_type": "stream",
     "text": [
      "Najszybsze typy pokemonów:\n",
      "type2\n",
      "normal      89.250000\n",
      "flying      82.705263\n",
      "fighting    80.640000\n",
      "dark        76.857143\n",
      "fire        75.307692\n",
      "dragon      69.705882\n",
      "psychic     69.586207\n",
      "ice         68.733333\n",
      "electric    68.666667\n",
      "fairy       67.482759\n",
      "steel       64.409091\n",
      "poison      64.088235\n",
      "ghost       58.285714\n",
      "grass       55.450000\n",
      "ground      55.441176\n",
      "water       53.764706\n",
      "bug         50.800000\n",
      "rock        36.000000\n",
      "Name: speed, dtype: float64\n"
     ]
    }
   ],
   "source": [
    "speed_by_type = df.groupby('type2')['speed'].mean().sort_values(ascending=False)\n",
    "print('Najszybsze typy pokemonów:')\n",
    "print(speed_by_type)"
   ]
  },
  {
   "cell_type": "code",
   "execution_count": 7,
   "id": "487c067d",
   "metadata": {
    "scrolled": true
   },
   "outputs": [
    {
     "name": "stdout",
     "output_type": "stream",
     "text": [
      "Średnia wartość obrony dla poszczególnych typów:\n",
      "type1\n",
      "steel       120.208333\n",
      "rock         96.266667\n",
      "dragon       86.259259\n",
      "ground       83.906250\n",
      "ghost        79.518519\n",
      "water        73.482456\n",
      "ice          71.913043\n",
      "grass        70.871795\n",
      "bug          70.847222\n",
      "dark         70.517241\n",
      "poison       70.031250\n",
      "psychic      69.264151\n",
      "fairy        68.166667\n",
      "fire         67.788462\n",
      "fighting     66.392857\n",
      "flying       65.000000\n",
      "electric     61.820513\n",
      "normal       59.695238\n",
      "Name: defense, dtype: float64\n"
     ]
    }
   ],
   "source": [
    "defense_by_type = df.groupby('type1')['defense'].mean().sort_values(ascending=False)\n",
    "print('Średnia wartość obrony dla poszczególnych typów:')\n",
    "print(defense_by_type)"
   ]
  },
  {
   "cell_type": "code",
   "execution_count": 42,
   "id": "ebe103e4",
   "metadata": {
    "scrolled": true
   },
   "outputs": [
    {
     "name": "stdout",
     "output_type": "stream",
     "text": [
      "Średnia wartość obrony dla poszczególnych typów:\n",
      "type2\n",
      "rock        131.142857\n",
      "steel       106.272727\n",
      "water        86.941176\n",
      "ground       84.735294\n",
      "psychic      84.310345\n",
      "dragon       84.058824\n",
      "fighting     83.280000\n",
      "ice          81.933333\n",
      "ghost        80.071429\n",
      "bug          76.800000\n",
      "grass        75.250000\n",
      "fire         73.846154\n",
      "electric     71.666667\n",
      "fairy        70.931034\n",
      "dark         67.238095\n",
      "flying       66.778947\n",
      "poison       59.529412\n",
      "normal       53.750000\n",
      "Name: defense, dtype: float64\n"
     ]
    }
   ],
   "source": [
    "defense_by_type = df.groupby('type2')['defense'].mean().sort_values(ascending=False)\n",
    "print('Średnia wartość obrony dla poszczególnych typów:')\n",
    "print(defense_by_type)"
   ]
  },
  {
   "cell_type": "code",
   "execution_count": 8,
   "id": "62a843fe",
   "metadata": {},
   "outputs": [],
   "source": [
    "max_abilities = df.explode(\"abilities\").groupby(\"name\")[\"abilities\"].nunique().max()"
   ]
  },
  {
   "cell_type": "code",
   "execution_count": 9,
   "id": "fd911b2c",
   "metadata": {},
   "outputs": [
    {
     "name": "stdout",
     "output_type": "stream",
     "text": [
      "Największa ilość umiejętności danego Pokemona w bazie danych to:  1\n"
     ]
    }
   ],
   "source": [
    "print(\"Największa ilość umiejętności danego Pokemona w bazie danych to: \", max_abilities)"
   ]
  },
  {
   "cell_type": "code",
   "execution_count": 10,
   "id": "6750de94",
   "metadata": {},
   "outputs": [],
   "source": [
    "abilities = df[\"abilities\"].str.split(\",\")"
   ]
  },
  {
   "cell_type": "code",
   "execution_count": 11,
   "id": "2cf3f685",
   "metadata": {},
   "outputs": [],
   "source": [
    "max_abilities = abilities.apply(lambda x: len(x)).max()"
   ]
  },
  {
   "cell_type": "code",
   "execution_count": null,
   "id": "3fb8d961",
   "metadata": {},
   "outputs": [],
   "source": []
  },
  {
   "cell_type": "code",
   "execution_count": 12,
   "id": "dbd2d67f",
   "metadata": {},
   "outputs": [
    {
     "name": "stdout",
     "output_type": "stream",
     "text": [
      "Największa ilość umiejętności ze wszystkich Pokemonów w bazie danych to: 6\n"
     ]
    }
   ],
   "source": [
    "print(\"Największa ilość umiejętności ze wszystkich Pokemonów w bazie danych to:\", max_abilities)"
   ]
  },
  {
   "cell_type": "code",
   "execution_count": 13,
   "id": "4b21b630",
   "metadata": {},
   "outputs": [],
   "source": [
    "import sqlite3\n",
    "import pandas as pd\n",
    "\n",
    "#łączę z bazą danych\n",
    "conn = sqlite3.connect('pokemon.db')\n",
    "\n",
    "# pobieram dane za pomocą query\n",
    "query = \"SELECT base_total, abilities FROM pokemon\"\n",
    "data = pd.read_sql_query(query, conn)"
   ]
  },
  {
   "cell_type": "code",
   "execution_count": 24,
   "id": "73381ac2",
   "metadata": {},
   "outputs": [],
   "source": [
    "data['num_abilities'] = data['abilities'].str.count(',') + 1"
   ]
  },
  {
   "cell_type": "code",
   "execution_count": 25,
   "id": "d7ba0f61",
   "metadata": {
    "scrolled": false
   },
   "outputs": [
    {
     "name": "stdout",
     "output_type": "stream",
     "text": [
      "     base_total                    abilities  num_abilities\n",
      "0           318  ['Overgrow', 'Chlorophyll']              2\n",
      "1           405  ['Overgrow', 'Chlorophyll']              2\n",
      "2           625  ['Overgrow', 'Chlorophyll']              2\n",
      "3           309     ['Blaze', 'Solar Power']              2\n",
      "4           405     ['Blaze', 'Solar Power']              2\n",
      "..          ...                          ...            ...\n",
      "796         570              ['Beast Boost']              1\n",
      "797         570              ['Beast Boost']              1\n",
      "798         570              ['Beast Boost']              1\n",
      "799         600              ['Prism Armor']              1\n",
      "800         600               ['Soul-Heart']              1\n",
      "\n",
      "[801 rows x 3 columns]\n"
     ]
    }
   ],
   "source": [
    "print(data)"
   ]
  },
  {
   "cell_type": "code",
   "execution_count": 18,
   "id": "525db795",
   "metadata": {},
   "outputs": [
    {
     "name": "stdout",
     "output_type": "stream",
     "text": [
      "Korelacja między ilością umiejętności a base total wynosi: -0.2262592605167402\n"
     ]
    }
   ],
   "source": [
    "# Obliczam korelację między kolumnami 'num_abilities' i 'base_total'\n",
    "correlation = data['num_abilities'].corr(data['base_total'])\n",
    "\n",
    "print(\"Korelacja między ilością umiejętności a base total wynosi:\", correlation)"
   ]
  },
  {
   "cell_type": "code",
   "execution_count": null,
   "id": "c9cf1419",
   "metadata": {},
   "outputs": [],
   "source": []
  },
  {
   "cell_type": "code",
   "execution_count": 26,
   "id": "1d277032",
   "metadata": {},
   "outputs": [],
   "source": [
    "data['num_abilities'] = len(data['abilities'].str.split(','))"
   ]
  },
  {
   "cell_type": "code",
   "execution_count": 27,
   "id": "f7c80927",
   "metadata": {},
   "outputs": [
    {
     "name": "stdout",
     "output_type": "stream",
     "text": [
      "     base_total                    abilities  num_abilities\n",
      "0           318  ['Overgrow', 'Chlorophyll']            801\n",
      "1           405  ['Overgrow', 'Chlorophyll']            801\n",
      "2           625  ['Overgrow', 'Chlorophyll']            801\n",
      "3           309     ['Blaze', 'Solar Power']            801\n",
      "4           405     ['Blaze', 'Solar Power']            801\n",
      "..          ...                          ...            ...\n",
      "796         570              ['Beast Boost']            801\n",
      "797         570              ['Beast Boost']            801\n",
      "798         570              ['Beast Boost']            801\n",
      "799         600              ['Prism Armor']            801\n",
      "800         600               ['Soul-Heart']            801\n",
      "\n",
      "[801 rows x 3 columns]\n"
     ]
    }
   ],
   "source": [
    "print(data)"
   ]
  },
  {
   "cell_type": "code",
   "execution_count": null,
   "id": "89664c21",
   "metadata": {},
   "outputs": [],
   "source": []
  },
  {
   "cell_type": "code",
   "execution_count": null,
   "id": "db7ed437",
   "metadata": {},
   "outputs": [],
   "source": []
  },
  {
   "cell_type": "code",
   "execution_count": null,
   "id": "12edc5bc",
   "metadata": {},
   "outputs": [],
   "source": []
  }
 ],
 "metadata": {
  "kernelspec": {
   "display_name": "Python 3 (ipykernel)",
   "language": "python",
   "name": "python3"
  },
  "language_info": {
   "codemirror_mode": {
    "name": "ipython",
    "version": 3
   },
   "file_extension": ".py",
   "mimetype": "text/x-python",
   "name": "python",
   "nbconvert_exporter": "python",
   "pygments_lexer": "ipython3",
   "version": "3.9.13"
  }
 },
 "nbformat": 4,
 "nbformat_minor": 5
}
