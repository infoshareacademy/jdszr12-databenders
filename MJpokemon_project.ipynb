{
 "cells": [
  {
   "cell_type": "code",
   "execution_count": 1,
   "id": "b695df78",
   "metadata": {},
   "outputs": [],
   "source": [
    "import pandas as pd\n",
    "import numpy as np\n",
    "import matplotlib.pyplot as plt\n",
    "import seaborn as sns"
   ]
  },
  {
   "cell_type": "code",
   "execution_count": 2,
   "id": "de8577d0",
   "metadata": {},
   "outputs": [],
   "source": [
    "dataset = pd.read_csv('pokemon.csv')"
   ]
  },
  {
   "cell_type": "code",
   "execution_count": 3,
   "id": "5e3bc440",
   "metadata": {
    "scrolled": true
   },
   "outputs": [
    {
     "data": {
      "text/html": [
       "<div>\n",
       "<style scoped>\n",
       "    .dataframe tbody tr th:only-of-type {\n",
       "        vertical-align: middle;\n",
       "    }\n",
       "\n",
       "    .dataframe tbody tr th {\n",
       "        vertical-align: top;\n",
       "    }\n",
       "\n",
       "    .dataframe thead th {\n",
       "        text-align: right;\n",
       "    }\n",
       "</style>\n",
       "<table border=\"1\" class=\"dataframe\">\n",
       "  <thead>\n",
       "    <tr style=\"text-align: right;\">\n",
       "      <th></th>\n",
       "      <th>abilities</th>\n",
       "      <th>against_bug</th>\n",
       "      <th>against_dark</th>\n",
       "      <th>against_dragon</th>\n",
       "      <th>against_electric</th>\n",
       "      <th>against_fairy</th>\n",
       "      <th>against_fight</th>\n",
       "      <th>against_fire</th>\n",
       "      <th>against_flying</th>\n",
       "      <th>against_ghost</th>\n",
       "      <th>...</th>\n",
       "      <th>percentage_male</th>\n",
       "      <th>pokedex_number</th>\n",
       "      <th>sp_attack</th>\n",
       "      <th>sp_defense</th>\n",
       "      <th>speed</th>\n",
       "      <th>type1</th>\n",
       "      <th>type2</th>\n",
       "      <th>weight_kg</th>\n",
       "      <th>generation</th>\n",
       "      <th>is_legendary</th>\n",
       "    </tr>\n",
       "  </thead>\n",
       "  <tbody>\n",
       "    <tr>\n",
       "      <th>0</th>\n",
       "      <td>['Overgrow', 'Chlorophyll']</td>\n",
       "      <td>1.00</td>\n",
       "      <td>1.0</td>\n",
       "      <td>1.0</td>\n",
       "      <td>0.5</td>\n",
       "      <td>0.5</td>\n",
       "      <td>0.5</td>\n",
       "      <td>2.0</td>\n",
       "      <td>2.0</td>\n",
       "      <td>1.0</td>\n",
       "      <td>...</td>\n",
       "      <td>88.1</td>\n",
       "      <td>1</td>\n",
       "      <td>65</td>\n",
       "      <td>65</td>\n",
       "      <td>45</td>\n",
       "      <td>grass</td>\n",
       "      <td>poison</td>\n",
       "      <td>6.9</td>\n",
       "      <td>1</td>\n",
       "      <td>0</td>\n",
       "    </tr>\n",
       "    <tr>\n",
       "      <th>1</th>\n",
       "      <td>['Overgrow', 'Chlorophyll']</td>\n",
       "      <td>1.00</td>\n",
       "      <td>1.0</td>\n",
       "      <td>1.0</td>\n",
       "      <td>0.5</td>\n",
       "      <td>0.5</td>\n",
       "      <td>0.5</td>\n",
       "      <td>2.0</td>\n",
       "      <td>2.0</td>\n",
       "      <td>1.0</td>\n",
       "      <td>...</td>\n",
       "      <td>88.1</td>\n",
       "      <td>2</td>\n",
       "      <td>80</td>\n",
       "      <td>80</td>\n",
       "      <td>60</td>\n",
       "      <td>grass</td>\n",
       "      <td>poison</td>\n",
       "      <td>13.0</td>\n",
       "      <td>1</td>\n",
       "      <td>0</td>\n",
       "    </tr>\n",
       "    <tr>\n",
       "      <th>2</th>\n",
       "      <td>['Overgrow', 'Chlorophyll']</td>\n",
       "      <td>1.00</td>\n",
       "      <td>1.0</td>\n",
       "      <td>1.0</td>\n",
       "      <td>0.5</td>\n",
       "      <td>0.5</td>\n",
       "      <td>0.5</td>\n",
       "      <td>2.0</td>\n",
       "      <td>2.0</td>\n",
       "      <td>1.0</td>\n",
       "      <td>...</td>\n",
       "      <td>88.1</td>\n",
       "      <td>3</td>\n",
       "      <td>122</td>\n",
       "      <td>120</td>\n",
       "      <td>80</td>\n",
       "      <td>grass</td>\n",
       "      <td>poison</td>\n",
       "      <td>100.0</td>\n",
       "      <td>1</td>\n",
       "      <td>0</td>\n",
       "    </tr>\n",
       "    <tr>\n",
       "      <th>3</th>\n",
       "      <td>['Blaze', 'Solar Power']</td>\n",
       "      <td>0.50</td>\n",
       "      <td>1.0</td>\n",
       "      <td>1.0</td>\n",
       "      <td>1.0</td>\n",
       "      <td>0.5</td>\n",
       "      <td>1.0</td>\n",
       "      <td>0.5</td>\n",
       "      <td>1.0</td>\n",
       "      <td>1.0</td>\n",
       "      <td>...</td>\n",
       "      <td>88.1</td>\n",
       "      <td>4</td>\n",
       "      <td>60</td>\n",
       "      <td>50</td>\n",
       "      <td>65</td>\n",
       "      <td>fire</td>\n",
       "      <td>NaN</td>\n",
       "      <td>8.5</td>\n",
       "      <td>1</td>\n",
       "      <td>0</td>\n",
       "    </tr>\n",
       "    <tr>\n",
       "      <th>4</th>\n",
       "      <td>['Blaze', 'Solar Power']</td>\n",
       "      <td>0.50</td>\n",
       "      <td>1.0</td>\n",
       "      <td>1.0</td>\n",
       "      <td>1.0</td>\n",
       "      <td>0.5</td>\n",
       "      <td>1.0</td>\n",
       "      <td>0.5</td>\n",
       "      <td>1.0</td>\n",
       "      <td>1.0</td>\n",
       "      <td>...</td>\n",
       "      <td>88.1</td>\n",
       "      <td>5</td>\n",
       "      <td>80</td>\n",
       "      <td>65</td>\n",
       "      <td>80</td>\n",
       "      <td>fire</td>\n",
       "      <td>NaN</td>\n",
       "      <td>19.0</td>\n",
       "      <td>1</td>\n",
       "      <td>0</td>\n",
       "    </tr>\n",
       "    <tr>\n",
       "      <th>...</th>\n",
       "      <td>...</td>\n",
       "      <td>...</td>\n",
       "      <td>...</td>\n",
       "      <td>...</td>\n",
       "      <td>...</td>\n",
       "      <td>...</td>\n",
       "      <td>...</td>\n",
       "      <td>...</td>\n",
       "      <td>...</td>\n",
       "      <td>...</td>\n",
       "      <td>...</td>\n",
       "      <td>...</td>\n",
       "      <td>...</td>\n",
       "      <td>...</td>\n",
       "      <td>...</td>\n",
       "      <td>...</td>\n",
       "      <td>...</td>\n",
       "      <td>...</td>\n",
       "      <td>...</td>\n",
       "      <td>...</td>\n",
       "      <td>...</td>\n",
       "    </tr>\n",
       "    <tr>\n",
       "      <th>796</th>\n",
       "      <td>['Beast Boost']</td>\n",
       "      <td>0.25</td>\n",
       "      <td>1.0</td>\n",
       "      <td>0.5</td>\n",
       "      <td>2.0</td>\n",
       "      <td>0.5</td>\n",
       "      <td>1.0</td>\n",
       "      <td>2.0</td>\n",
       "      <td>0.5</td>\n",
       "      <td>1.0</td>\n",
       "      <td>...</td>\n",
       "      <td>NaN</td>\n",
       "      <td>797</td>\n",
       "      <td>107</td>\n",
       "      <td>101</td>\n",
       "      <td>61</td>\n",
       "      <td>steel</td>\n",
       "      <td>flying</td>\n",
       "      <td>999.9</td>\n",
       "      <td>7</td>\n",
       "      <td>1</td>\n",
       "    </tr>\n",
       "    <tr>\n",
       "      <th>797</th>\n",
       "      <td>['Beast Boost']</td>\n",
       "      <td>1.00</td>\n",
       "      <td>1.0</td>\n",
       "      <td>0.5</td>\n",
       "      <td>0.5</td>\n",
       "      <td>0.5</td>\n",
       "      <td>2.0</td>\n",
       "      <td>4.0</td>\n",
       "      <td>1.0</td>\n",
       "      <td>1.0</td>\n",
       "      <td>...</td>\n",
       "      <td>NaN</td>\n",
       "      <td>798</td>\n",
       "      <td>59</td>\n",
       "      <td>31</td>\n",
       "      <td>109</td>\n",
       "      <td>grass</td>\n",
       "      <td>steel</td>\n",
       "      <td>0.1</td>\n",
       "      <td>7</td>\n",
       "      <td>1</td>\n",
       "    </tr>\n",
       "    <tr>\n",
       "      <th>798</th>\n",
       "      <td>['Beast Boost']</td>\n",
       "      <td>2.00</td>\n",
       "      <td>0.5</td>\n",
       "      <td>2.0</td>\n",
       "      <td>0.5</td>\n",
       "      <td>4.0</td>\n",
       "      <td>2.0</td>\n",
       "      <td>0.5</td>\n",
       "      <td>1.0</td>\n",
       "      <td>0.5</td>\n",
       "      <td>...</td>\n",
       "      <td>NaN</td>\n",
       "      <td>799</td>\n",
       "      <td>97</td>\n",
       "      <td>53</td>\n",
       "      <td>43</td>\n",
       "      <td>dark</td>\n",
       "      <td>dragon</td>\n",
       "      <td>888.0</td>\n",
       "      <td>7</td>\n",
       "      <td>1</td>\n",
       "    </tr>\n",
       "    <tr>\n",
       "      <th>799</th>\n",
       "      <td>['Prism Armor']</td>\n",
       "      <td>2.00</td>\n",
       "      <td>2.0</td>\n",
       "      <td>1.0</td>\n",
       "      <td>1.0</td>\n",
       "      <td>1.0</td>\n",
       "      <td>0.5</td>\n",
       "      <td>1.0</td>\n",
       "      <td>1.0</td>\n",
       "      <td>2.0</td>\n",
       "      <td>...</td>\n",
       "      <td>NaN</td>\n",
       "      <td>800</td>\n",
       "      <td>127</td>\n",
       "      <td>89</td>\n",
       "      <td>79</td>\n",
       "      <td>psychic</td>\n",
       "      <td>NaN</td>\n",
       "      <td>230.0</td>\n",
       "      <td>7</td>\n",
       "      <td>1</td>\n",
       "    </tr>\n",
       "    <tr>\n",
       "      <th>800</th>\n",
       "      <td>['Soul-Heart']</td>\n",
       "      <td>0.25</td>\n",
       "      <td>0.5</td>\n",
       "      <td>0.0</td>\n",
       "      <td>1.0</td>\n",
       "      <td>0.5</td>\n",
       "      <td>1.0</td>\n",
       "      <td>2.0</td>\n",
       "      <td>0.5</td>\n",
       "      <td>1.0</td>\n",
       "      <td>...</td>\n",
       "      <td>NaN</td>\n",
       "      <td>801</td>\n",
       "      <td>130</td>\n",
       "      <td>115</td>\n",
       "      <td>65</td>\n",
       "      <td>steel</td>\n",
       "      <td>fairy</td>\n",
       "      <td>80.5</td>\n",
       "      <td>7</td>\n",
       "      <td>1</td>\n",
       "    </tr>\n",
       "  </tbody>\n",
       "</table>\n",
       "<p>801 rows × 41 columns</p>\n",
       "</div>"
      ],
      "text/plain": [
       "                       abilities  against_bug  against_dark  against_dragon  \\\n",
       "0    ['Overgrow', 'Chlorophyll']         1.00           1.0             1.0   \n",
       "1    ['Overgrow', 'Chlorophyll']         1.00           1.0             1.0   \n",
       "2    ['Overgrow', 'Chlorophyll']         1.00           1.0             1.0   \n",
       "3       ['Blaze', 'Solar Power']         0.50           1.0             1.0   \n",
       "4       ['Blaze', 'Solar Power']         0.50           1.0             1.0   \n",
       "..                           ...          ...           ...             ...   \n",
       "796              ['Beast Boost']         0.25           1.0             0.5   \n",
       "797              ['Beast Boost']         1.00           1.0             0.5   \n",
       "798              ['Beast Boost']         2.00           0.5             2.0   \n",
       "799              ['Prism Armor']         2.00           2.0             1.0   \n",
       "800               ['Soul-Heart']         0.25           0.5             0.0   \n",
       "\n",
       "     against_electric  against_fairy  against_fight  against_fire  \\\n",
       "0                 0.5            0.5            0.5           2.0   \n",
       "1                 0.5            0.5            0.5           2.0   \n",
       "2                 0.5            0.5            0.5           2.0   \n",
       "3                 1.0            0.5            1.0           0.5   \n",
       "4                 1.0            0.5            1.0           0.5   \n",
       "..                ...            ...            ...           ...   \n",
       "796               2.0            0.5            1.0           2.0   \n",
       "797               0.5            0.5            2.0           4.0   \n",
       "798               0.5            4.0            2.0           0.5   \n",
       "799               1.0            1.0            0.5           1.0   \n",
       "800               1.0            0.5            1.0           2.0   \n",
       "\n",
       "     against_flying  against_ghost  ...  percentage_male  pokedex_number  \\\n",
       "0               2.0            1.0  ...             88.1               1   \n",
       "1               2.0            1.0  ...             88.1               2   \n",
       "2               2.0            1.0  ...             88.1               3   \n",
       "3               1.0            1.0  ...             88.1               4   \n",
       "4               1.0            1.0  ...             88.1               5   \n",
       "..              ...            ...  ...              ...             ...   \n",
       "796             0.5            1.0  ...              NaN             797   \n",
       "797             1.0            1.0  ...              NaN             798   \n",
       "798             1.0            0.5  ...              NaN             799   \n",
       "799             1.0            2.0  ...              NaN             800   \n",
       "800             0.5            1.0  ...              NaN             801   \n",
       "\n",
       "     sp_attack  sp_defense  speed    type1   type2  weight_kg  generation  \\\n",
       "0           65          65     45    grass  poison        6.9           1   \n",
       "1           80          80     60    grass  poison       13.0           1   \n",
       "2          122         120     80    grass  poison      100.0           1   \n",
       "3           60          50     65     fire     NaN        8.5           1   \n",
       "4           80          65     80     fire     NaN       19.0           1   \n",
       "..         ...         ...    ...      ...     ...        ...         ...   \n",
       "796        107         101     61    steel  flying      999.9           7   \n",
       "797         59          31    109    grass   steel        0.1           7   \n",
       "798         97          53     43     dark  dragon      888.0           7   \n",
       "799        127          89     79  psychic     NaN      230.0           7   \n",
       "800        130         115     65    steel   fairy       80.5           7   \n",
       "\n",
       "     is_legendary  \n",
       "0               0  \n",
       "1               0  \n",
       "2               0  \n",
       "3               0  \n",
       "4               0  \n",
       "..            ...  \n",
       "796             1  \n",
       "797             1  \n",
       "798             1  \n",
       "799             1  \n",
       "800             1  \n",
       "\n",
       "[801 rows x 41 columns]"
      ]
     },
     "execution_count": 3,
     "metadata": {},
     "output_type": "execute_result"
    }
   ],
   "source": [
    "dataset"
   ]
  },
  {
   "cell_type": "code",
   "execution_count": 6,
   "id": "7e80f3c3",
   "metadata": {},
   "outputs": [],
   "source": [
    "import pandas_profiling as pp"
   ]
  },
  {
   "cell_type": "code",
   "execution_count": 5,
   "id": "172dbffa",
   "metadata": {
    "scrolled": true
   },
   "outputs": [
    {
     "data": {
      "text/plain": [
       "Index(['abilities', 'against_bug', 'against_dark', 'against_dragon',\n",
       "       'against_electric', 'against_fairy', 'against_fight', 'against_fire',\n",
       "       'against_flying', 'against_ghost', 'against_grass', 'against_ground',\n",
       "       'against_ice', 'against_normal', 'against_poison', 'against_psychic',\n",
       "       'against_rock', 'against_steel', 'against_water', 'attack',\n",
       "       'base_egg_steps', 'base_happiness', 'base_total', 'capture_rate',\n",
       "       'classfication', 'defense', 'experience_growth', 'height_m', 'hp',\n",
       "       'japanese_name', 'name', 'percentage_male', 'pokedex_number',\n",
       "       'sp_attack', 'sp_defense', 'speed', 'type1', 'type2', 'weight_kg',\n",
       "       'generation', 'is_legendary'],\n",
       "      dtype='object')"
      ]
     },
     "execution_count": 5,
     "metadata": {},
     "output_type": "execute_result"
    }
   ],
   "source": [
    "dataset.columns"
   ]
  },
  {
   "cell_type": "code",
   "execution_count": 15,
   "id": "4e304ede",
   "metadata": {},
   "outputs": [],
   "source": [
    "legendary_pokemons = dataset[dataset[\"is_legendary\"] == 1]"
   ]
  },
  {
   "cell_type": "code",
   "execution_count": null,
   "id": "eac68d7e",
   "metadata": {},
   "outputs": [],
   "source": [
    "# LEGENDARNE POKEMONY"
   ]
  },
  {
   "cell_type": "code",
   "execution_count": 20,
   "id": "82a2976d",
   "metadata": {},
   "outputs": [],
   "source": [
    "legendary_data = legendary_pokemons[[\"name\", \"type1\", \"type2\", \"base_total\"]]"
   ]
  },
  {
   "cell_type": "code",
   "execution_count": 26,
   "id": "b617c663",
   "metadata": {
    "scrolled": true
   },
   "outputs": [
    {
     "data": {
      "text/plain": [
       "(70, 4)"
      ]
     },
     "execution_count": 26,
     "metadata": {},
     "output_type": "execute_result"
    }
   ],
   "source": [
    "legendary_data.shape"
   ]
  },
  {
   "cell_type": "code",
   "execution_count": 24,
   "id": "c096423c",
   "metadata": {},
   "outputs": [],
   "source": [
    "legendary_data = legendary_data.sort_values(\"base_total\", ascending=False)"
   ]
  },
  {
   "cell_type": "code",
   "execution_count": 25,
   "id": "9d00c533",
   "metadata": {},
   "outputs": [
    {
     "name": "stdout",
     "output_type": "stream",
     "text": [
      "         name    type1    type2  base_total\n",
      "149    Mewtwo  psychic      NaN         780\n",
      "383  Rayquaza   dragon   flying         780\n",
      "382   Groudon   ground      NaN         770\n",
      "381    Kyogre    water      NaN         770\n",
      "492    Arceus   normal      NaN         720\n",
      "717   Zygarde   dragon   ground         708\n",
      "379    Latias   dragon  psychic         700\n",
      "380    Latios   dragon  psychic         700\n",
      "645    Kyurem   dragon      ice         700\n",
      "718   Diancie     rock    fairy         700\n"
     ]
    }
   ],
   "source": [
    "print(legendary_data.head(10))"
   ]
  },
  {
   "cell_type": "code",
   "execution_count": null,
   "id": "b9aa8741",
   "metadata": {},
   "outputs": [],
   "source": [
    "#WZROST"
   ]
  },
  {
   "cell_type": "code",
   "execution_count": 29,
   "id": "d0f96238",
   "metadata": {},
   "outputs": [
    {
     "data": {
      "text/plain": [
       "count    781.000000\n",
       "mean       1.163892\n",
       "std        1.080326\n",
       "min        0.100000\n",
       "25%        0.600000\n",
       "50%        1.000000\n",
       "75%        1.500000\n",
       "max       14.500000\n",
       "Name: height_m, dtype: float64"
      ]
     },
     "execution_count": 29,
     "metadata": {},
     "output_type": "execute_result"
    }
   ],
   "source": [
    "dataset['height_m'].describe()"
   ]
  },
  {
   "cell_type": "code",
   "execution_count": 35,
   "id": "fdc31e2c",
   "metadata": {},
   "outputs": [],
   "source": [
    "najwyżsi = dataset.nlargest(10, 'height_m')"
   ]
  },
  {
   "cell_type": "code",
   "execution_count": 38,
   "id": "4a1b116c",
   "metadata": {},
   "outputs": [
    {
     "name": "stdout",
     "output_type": "stream",
     "text": [
      "           name   type1   type2  height_m\n",
      "320     Wailord   water     NaN      14.5\n",
      "207     Steelix   steel  ground       9.2\n",
      "796  Celesteela   steel  flying       9.2\n",
      "94         Onix    rock  ground       8.8\n",
      "383    Rayquaza  dragon  flying       7.0\n",
      "129    Gyarados   water  flying       6.5\n",
      "349     Milotic   water     NaN       6.2\n",
      "716     Yveltal    dark  flying       5.8\n",
      "798    Guzzlord    dark  dragon       5.5\n",
      "482      Dialga   steel  dragon       5.4\n"
     ]
    }
   ],
   "source": [
    "print(najwyżsi[[\"name\", \"type1\", \"type2\", \"height_m\"]])"
   ]
  },
  {
   "cell_type": "code",
   "execution_count": null,
   "id": "f0afd1b2",
   "metadata": {},
   "outputs": [],
   "source": [
    "#HIT POINTS"
   ]
  },
  {
   "cell_type": "code",
   "execution_count": 39,
   "id": "e8f58604",
   "metadata": {},
   "outputs": [
    {
     "data": {
      "text/plain": [
       "count    801.000000\n",
       "mean      68.958801\n",
       "std       26.576015\n",
       "min        1.000000\n",
       "25%       50.000000\n",
       "50%       65.000000\n",
       "75%       80.000000\n",
       "max      255.000000\n",
       "Name: hp, dtype: float64"
      ]
     },
     "execution_count": 39,
     "metadata": {},
     "output_type": "execute_result"
    }
   ],
   "source": [
    "dataset['hp'].describe()"
   ]
  },
  {
   "cell_type": "code",
   "execution_count": 40,
   "id": "f71faad5",
   "metadata": {},
   "outputs": [],
   "source": [
    "top_hp = dataset.nlargest(10, 'hp')"
   ]
  },
  {
   "cell_type": "code",
   "execution_count": 41,
   "id": "911d900e",
   "metadata": {},
   "outputs": [
    {
     "name": "stdout",
     "output_type": "stream",
     "text": [
      "          name    type1   type2   hp\n",
      "241    Blissey   normal     NaN  255\n",
      "112    Chansey   normal     NaN  250\n",
      "798   Guzzlord     dark  dragon  223\n",
      "717    Zygarde   dragon  ground  216\n",
      "201  Wobbuffet  psychic     NaN  190\n",
      "320    Wailord    water     NaN  170\n",
      "593  Alomomola    water     NaN  165\n",
      "142    Snorlax   normal     NaN  160\n",
      "288    Slaking   normal     NaN  150\n",
      "425   Drifblim    ghost  flying  150\n"
     ]
    }
   ],
   "source": [
    "print(top_hp[[\"name\", \"type1\", \"type2\", \"hp\"]])"
   ]
  },
  {
   "cell_type": "code",
   "execution_count": null,
   "id": "be652ff5",
   "metadata": {},
   "outputs": [],
   "source": [
    "#TYPY POKEMONÓW"
   ]
  },
  {
   "cell_type": "code",
   "execution_count": 42,
   "id": "a026bf62",
   "metadata": {},
   "outputs": [],
   "source": [
    "typy_pokemonów = dataset[\"type1\"].unique()"
   ]
  },
  {
   "cell_type": "code",
   "execution_count": 43,
   "id": "b7d10e6c",
   "metadata": {
    "scrolled": true
   },
   "outputs": [
    {
     "name": "stdout",
     "output_type": "stream",
     "text": [
      "['grass' 'fire' 'water' 'bug' 'normal' 'poison' 'electric' 'ground'\n",
      " 'fairy' 'fighting' 'psychic' 'rock' 'ghost' 'ice' 'dragon' 'dark' 'steel'\n",
      " 'flying']\n"
     ]
    }
   ],
   "source": [
    "print(typy_pokemonów)"
   ]
  },
  {
   "cell_type": "code",
   "execution_count": 46,
   "id": "fdfe0e82",
   "metadata": {},
   "outputs": [],
   "source": [
    "typ_ilość = dataset.groupby([\"type1\", \"type2\"]).size()"
   ]
  },
  {
   "cell_type": "code",
   "execution_count": 47,
   "id": "9d8be41e",
   "metadata": {},
   "outputs": [
    {
     "name": "stdout",
     "output_type": "stream",
     "text": [
      "type1  type2   \n",
      "bug    electric     4\n",
      "       fairy        2\n",
      "       fighting     3\n",
      "       fire         2\n",
      "       flying      13\n",
      "                   ..\n",
      "water  ice          3\n",
      "       poison       3\n",
      "       psychic      5\n",
      "       rock         4\n",
      "       steel        1\n",
      "Length: 148, dtype: int64\n"
     ]
    }
   ],
   "source": [
    "print(typ_ilość)"
   ]
  },
  {
   "cell_type": "code",
   "execution_count": null,
   "id": "deafd537",
   "metadata": {},
   "outputs": [],
   "source": []
  },
  {
   "cell_type": "code",
   "execution_count": 54,
   "id": "70af909f",
   "metadata": {},
   "outputs": [
    {
     "name": "stdout",
     "output_type": "stream",
     "text": [
      "Ilość wierszy zawierających 'grass': 98\n",
      "Ilość wierszy zawierających 'fire': 65\n",
      "Ilość wierszy zawierających 'water': 131\n",
      "Ilość wierszy zawierających 'bug': 77\n",
      "Ilość wierszy zawierających 'normal': 109\n",
      "Ilość wierszy zawierających 'poison': 66\n",
      "Ilość wierszy zawierających 'electric': 48\n",
      "Ilość wierszy zawierających 'ground': 66\n",
      "Ilość wierszy zawierających 'fairy': 47\n",
      "Ilość wierszy zawierających 'fighting': 53\n",
      "Ilość wierszy zawierających 'psychic': 82\n",
      "Ilość wierszy zawierających 'rock': 59\n",
      "Ilość wierszy zawierających 'ghost': 41\n",
      "Ilość wierszy zawierających 'ice': 38\n",
      "Ilość wierszy zawierających 'dragon': 44\n",
      "Ilość wierszy zawierających 'dark': 50\n",
      "Ilość wierszy zawierających 'steel': 46\n",
      "Ilość wierszy zawierających 'flying': 98\n"
     ]
    }
   ],
   "source": [
    "# Czego szukamy, czyli nasze typy\n",
    "typy = ['grass', 'fire', 'water', 'bug', 'normal', 'poison', 'electric', 'ground',\n",
    " 'fairy', 'fighting', 'psychic', 'rock', 'ghost', 'ice', 'dragon', 'dark', 'steel',\n",
    " 'flying']\n",
    "\n",
    "# Tworzymy słownik żeby zliczał typy\n",
    "counts = {typ: 0 for typ in typy}\n",
    "\n",
    "# Pętla, która będzie zliczać wiersze zawierające szukane słowo w kolumnach typ1 i typ2\n",
    "for col in ['type1', 'type2']:\n",
    "    for typ in typy:\n",
    "        counts[typ] += dataset[col].str.contains(typ).sum()\n",
    "\n",
    "# Wyniki\n",
    "for typ, count in counts.items():\n",
    "    print(\"Ilość wierszy zawierających '{}': {}\".format(typ, count))\n"
   ]
  },
  {
   "cell_type": "code",
   "execution_count": null,
   "id": "5656add6",
   "metadata": {},
   "outputs": [],
   "source": []
  },
  {
   "cell_type": "code",
   "execution_count": 61,
   "id": "e629b159",
   "metadata": {},
   "outputs": [],
   "source": [
    "# Filtruje wiersze, które zawierają słowo \"grass\" w kolumnie \"type1\" lub \"type2\" \n",
    "bug_pokemons = dataset[dataset['type1'].str.contains('bug', case=False) | dataset['type2'].str.contains('bug', case=False)]\n"
   ]
  },
  {
   "cell_type": "code",
   "execution_count": 62,
   "id": "74f0d409",
   "metadata": {},
   "outputs": [
    {
     "data": {
      "text/plain": [
       "(77, 41)"
      ]
     },
     "execution_count": 62,
     "metadata": {},
     "output_type": "execute_result"
    }
   ],
   "source": [
    "bug_pokemons.shape"
   ]
  },
  {
   "cell_type": "code",
   "execution_count": null,
   "id": "2bd89d65",
   "metadata": {},
   "outputs": [],
   "source": [
    "print(grass_pokemons)"
   ]
  },
  {
   "cell_type": "code",
   "execution_count": 12,
   "id": "6f07df69",
   "metadata": {},
   "outputs": [
    {
     "name": "stdout",
     "output_type": "stream",
     "text": [
      "Liczba pokemonów tylko typ 'grass': 37\n"
     ]
    }
   ],
   "source": [
    "# POKEMONY TYLKO TYP GRASS\n",
    "# Filtruj wiersze zawierające słowo „grass” w kolumnie „typ1” i pustą wartość w kolumnie „typ2”\n",
    "tylko_grass = dataset[(dataset['type1'].str.contains('grass', case=False)) & (dataset['type2'].isna())]\n",
    "\n",
    "# Zlicza wiersze\n",
    "count = len(tylko_grass)\n",
    "\n",
    "# Wyświetla wyniki \n",
    "print(\"Liczba pokemonów tylko typ 'grass':\", count)\n"
   ]
  },
  {
   "cell_type": "code",
   "execution_count": 10,
   "id": "ffd1ffaf",
   "metadata": {
    "scrolled": true
   },
   "outputs": [
    {
     "name": "stdout",
     "output_type": "stream",
     "text": [
      "type1    type2   \n",
      "normal   flying      26\n",
      "grass    poison      14\n",
      "bug      flying      13\n",
      "         poison      11\n",
      "water    ground       9\n",
      "         flying       7\n",
      "rock     water        6\n",
      "grass    flying       6\n",
      "rock     ground       6\n",
      "fire     fighting     6\n",
      "steel    psychic      6\n",
      "fire     flying       6\n",
      "bug      grass        6\n",
      "psychic  fairy        6\n",
      "         flying       6\n",
      "water    psychic      5\n",
      "grass    fairy        5\n",
      "dark     flying       5\n",
      "ghost    grass        5\n",
      "bug      steel        5\n",
      "dtype: int64\n"
     ]
    }
   ],
   "source": [
    "# Grupuje wiersze według kolumn „type1” i „type2” i policz liczbę wystąpień\n",
    "kombinacje = dataset.groupby(['type1', 'type2']).size()\n",
    "\n",
    "# Sortuje wyniki w kolejności malejącej\n",
    "kombinacje = kombinacje.sort_values(ascending=False)\n",
    "\n",
    "# Wyświetli top 20 najczęstrzych kombinacji\n",
    "print(kombinacje.head(20))\n"
   ]
  },
  {
   "cell_type": "code",
   "execution_count": 69,
   "id": "5056c7aa",
   "metadata": {},
   "outputs": [],
   "source": [
    "#Filtrujemy dataset gdzie wiersze w typ1 zawierają 'normal' i w type2 zawieraja 'flying'\n",
    "normal_flying = dataset[(dataset['type1'].str.contains('normal', case=False)) & (dataset['type2'].str.contains('flying', case=False))]"
   ]
  },
  {
   "cell_type": "code",
   "execution_count": 70,
   "id": "52a6fa5f",
   "metadata": {},
   "outputs": [],
   "source": [
    "#Obliczamy średnią dla normal_flying\n",
    "base_total_normal_flying = normal_flying['base_total'].mean()"
   ]
  },
  {
   "cell_type": "code",
   "execution_count": 72,
   "id": "986dc42b",
   "metadata": {},
   "outputs": [
    {
     "name": "stdout",
     "output_type": "stream",
     "text": [
      "Średni base_total dla normal_flying 370.12.\n"
     ]
    }
   ],
   "source": [
    "print(f\"Średni base_total dla normal_flying {base_total_normal_flying:.2f}.\")"
   ]
  },
  {
   "cell_type": "code",
   "execution_count": 73,
   "id": "17372e49",
   "metadata": {},
   "outputs": [
    {
     "name": "stdout",
     "output_type": "stream",
     "text": [
      "Średni base_total dla grass_poison 406.14.\n"
     ]
    }
   ],
   "source": [
    "grass_poison = dataset[(dataset['type1'].str.contains('grass', case=False)) & (dataset['type2'].str.contains('poison', case=False))]\n",
    "base_total_grass_poison = grass_poison['base_total'].mean()\n",
    "print(f\"Średni base_total dla grass_poison {base_total_grass_poison:.2f}.\")"
   ]
  },
  {
   "cell_type": "code",
   "execution_count": 80,
   "id": "544f5f7d",
   "metadata": {},
   "outputs": [
    {
     "name": "stdout",
     "output_type": "stream",
     "text": [
      "Średni base_total dla bug_flying 408.69.\n"
     ]
    }
   ],
   "source": [
    "bug_flying = dataset[(dataset['type1'].str.contains('bug', case=False)) & (dataset['type2'].str.contains('flying', case=False))]\n",
    "base_total_bug_flying = bug_flying['base_total'].mean()\n",
    "print(f\"Średni base_total dla bug_flying {base_total_bug_flying:.2f}.\")"
   ]
  },
  {
   "cell_type": "code",
   "execution_count": 81,
   "id": "17835ea4",
   "metadata": {},
   "outputs": [
    {
     "name": "stdout",
     "output_type": "stream",
     "text": [
      "Średni base_total dla bug_poison 344.55.\n"
     ]
    }
   ],
   "source": [
    "bug_poison = dataset[(dataset['type1'].str.contains('bug', case=False)) & (dataset['type2'].str.contains('poison', case=False))]\n",
    "base_total_bug_poison = bug_poison['base_total'].mean()\n",
    "print(f\"Średni base_total dla bug_poison {base_total_bug_poison:.2f}.\")"
   ]
  },
  {
   "cell_type": "code",
   "execution_count": 82,
   "id": "02558fb0",
   "metadata": {},
   "outputs": [
    {
     "name": "stdout",
     "output_type": "stream",
     "text": [
      "Średni base_total dla water_ground 422.67.\n"
     ]
    }
   ],
   "source": [
    "water_ground = dataset[(dataset['type1'].str.contains('water', case=False)) & (dataset['type2'].str.contains('ground', case=False))]\n",
    "base_total_water_ground = water_ground['base_total'].mean()\n",
    "print(f\"Średni base_total dla water_ground {base_total_water_ground:.2f}.\")"
   ]
  },
  {
   "cell_type": "code",
   "execution_count": 83,
   "id": "5f974893",
   "metadata": {},
   "outputs": [
    {
     "name": "stdout",
     "output_type": "stream",
     "text": [
      "Średni base_total dla water_flying 422.57.\n"
     ]
    }
   ],
   "source": [
    "water_flying = dataset[(dataset['type1'].str.contains('water', case=False)) & (dataset['type2'].str.contains('flying', case=False))]\n",
    "base_total_water_flying = water_flying['base_total'].mean()\n",
    "print(f\"Średni base_total dla water_flying {base_total_water_flying:.2f}.\")"
   ]
  },
  {
   "cell_type": "code",
   "execution_count": 84,
   "id": "3ac42fef",
   "metadata": {},
   "outputs": [
    {
     "name": "stdout",
     "output_type": "stream",
     "text": [
      "Średni base_total dla rock_water 417.67.\n"
     ]
    }
   ],
   "source": [
    "rock_water = dataset[(dataset['type1'].str.contains('rock', case=False)) & (dataset['type2'].str.contains('water', case=False))]\n",
    "base_total_rock_water = rock_water['base_total'].mean()\n",
    "print(f\"Średni base_total dla rock_water {base_total_rock_water:.2f}.\")"
   ]
  },
  {
   "cell_type": "code",
   "execution_count": 85,
   "id": "6888da46",
   "metadata": {},
   "outputs": [
    {
     "name": "stdout",
     "output_type": "stream",
     "text": [
      "Średni base_total dla grass_flying 375.00.\n"
     ]
    }
   ],
   "source": [
    "grass_flying = dataset[(dataset['type1'].str.contains('grass', case=False)) & (dataset['type2'].str.contains('flying', case=False))]\n",
    "base_total_grass_flying = grass_flying['base_total'].mean()\n",
    "print(f\"Średni base_total dla grass_flying {base_total_grass_flying:.2f}.\")"
   ]
  },
  {
   "cell_type": "code",
   "execution_count": null,
   "id": "bb6f2a6d",
   "metadata": {},
   "outputs": [],
   "source": []
  },
  {
   "cell_type": "code",
   "execution_count": 3,
   "id": "0a6b576d",
   "metadata": {},
   "outputs": [
    {
     "name": "stdout",
     "output_type": "stream",
     "text": [
      "Średni base_total dla rock_ground 380.00.\n"
     ]
    }
   ],
   "source": [
    "rock_ground = dataset[(dataset['type1'].str.contains('rock', case=False)) & (dataset['type2'].str.contains('ground', case=False))]\n",
    "base_total_rock_ground = rock_ground['base_total'].mean()\n",
    "print(f\"Średni base_total dla rock_ground {base_total_rock_ground:.2f}.\")"
   ]
  },
  {
   "cell_type": "code",
   "execution_count": 4,
   "id": "b73733f5",
   "metadata": {},
   "outputs": [
    {
     "name": "stdout",
     "output_type": "stream",
     "text": [
      "Średni base_total dla fire_fighting 486.67.\n"
     ]
    }
   ],
   "source": [
    "fire_fighting = dataset[(dataset['type1'].str.contains('fire', case=False)) & (dataset['type2'].str.contains('fighting', case=False))]\n",
    "base_total_fire_fighting = fire_fighting['base_total'].mean()\n",
    "print(f\"Średni base_total dla fire_fighting {base_total_fire_fighting:.2f}.\")"
   ]
  },
  {
   "cell_type": "code",
   "execution_count": 5,
   "id": "3d704d8b",
   "metadata": {},
   "outputs": [
    {
     "name": "stdout",
     "output_type": "stream",
     "text": [
      "Średni base_total dla steel_psychic 470.00.\n"
     ]
    }
   ],
   "source": [
    "steel_psychic = dataset[(dataset['type1'].str.contains('steel', case=False)) & (dataset['type2'].str.contains('psychic', case=False))]\n",
    "base_total_steel_psychic = steel_psychic['base_total'].mean()\n",
    "print(f\"Średni base_total dla steel_psychic {base_total_steel_psychic:.2f}.\")"
   ]
  },
  {
   "cell_type": "code",
   "execution_count": null,
   "id": "65b8aa89",
   "metadata": {},
   "outputs": [],
   "source": [
    "fire_fighting = dataset[(dataset['type1'].str.contains('fire', case=False)) & (dataset['type2'].str.contains('fighting', case=False))]\n",
    "base_total_fire_fighting = fire_fighting['base_total'].mean()\n",
    "print(f\"Średni base_total dla fire_fighting {base_total_fire_fighting:.2f}.\")"
   ]
  },
  {
   "cell_type": "code",
   "execution_count": 6,
   "id": "77136074",
   "metadata": {},
   "outputs": [
    {
     "name": "stdout",
     "output_type": "stream",
     "text": [
      "Średni base_total dla fire_flying 541.83.\n"
     ]
    }
   ],
   "source": [
    "fire_flying = dataset[(dataset['type1'].str.contains('fire', case=False)) & (dataset['type2'].str.contains('flying', case=False))]\n",
    "base_total_fire_flying = fire_flying['base_total'].mean()\n",
    "print(f\"Średni base_total dla fire_flying {base_total_fire_flying:.2f}.\")"
   ]
  },
  {
   "cell_type": "code",
   "execution_count": 7,
   "id": "ff15fa05",
   "metadata": {},
   "outputs": [
    {
     "name": "stdout",
     "output_type": "stream",
     "text": [
      "Średni base_total dla bug_grass 384.00.\n"
     ]
    }
   ],
   "source": [
    "bug_grass = dataset[(dataset['type1'].str.contains('bug', case=False)) & (dataset['type2'].str.contains('grass', case=False))]\n",
    "base_total_bug_grass = bug_grass['base_total'].mean()\n",
    "print(f\"Średni base_total dla bug_grass {base_total_bug_grass:.2f}.\")"
   ]
  },
  {
   "cell_type": "code",
   "execution_count": 8,
   "id": "ed60da58",
   "metadata": {},
   "outputs": [
    {
     "name": "stdout",
     "output_type": "stream",
     "text": [
      "Średni base_total dla psychic_fairy 405.67.\n"
     ]
    }
   ],
   "source": [
    "psychic_fairy = dataset[(dataset['type1'].str.contains('psychic', case=False)) & (dataset['type2'].str.contains('fairy', case=False))]\n",
    "base_total_psychic_fairy = psychic_fairy['base_total'].mean()\n",
    "print(f\"Średni base_total dla psychic_fairy {base_total_psychic_fairy:.2f}.\")"
   ]
  },
  {
   "cell_type": "code",
   "execution_count": 9,
   "id": "12e2f468",
   "metadata": {},
   "outputs": [
    {
     "name": "stdout",
     "output_type": "stream",
     "text": [
      "Średni base_total dla psychic_flying 451.33.\n"
     ]
    }
   ],
   "source": [
    "psychic_flying = dataset[(dataset['type1'].str.contains('psychic', case=False)) & (dataset['type2'].str.contains('flying', case=False))]\n",
    "base_total_psychic_flying = psychic_flying['base_total'].mean()\n",
    "print(f\"Średni base_total dla psychic_flying {base_total_psychic_flying:.2f}.\")"
   ]
  },
  {
   "cell_type": "code",
   "execution_count": null,
   "id": "f16bc5ad",
   "metadata": {},
   "outputs": [],
   "source": []
  },
  {
   "cell_type": "code",
   "execution_count": 4,
   "id": "ff5216ef",
   "metadata": {},
   "outputs": [],
   "source": [
    "najsilniejsi = dataset['base_total'].nlargest(20)"
   ]
  },
  {
   "cell_type": "code",
   "execution_count": 76,
   "id": "dcc3ebb5",
   "metadata": {
    "scrolled": false
   },
   "outputs": [
    {
     "name": "stdout",
     "output_type": "stream",
     "text": [
      "          name    type1     type2  base_total  is_legendary\n",
      "149     Mewtwo  psychic       NaN         780             1\n",
      "383   Rayquaza   dragon    flying         780             1\n",
      "382    Groudon   ground       NaN         770             1\n",
      "381     Kyogre    water       NaN         770             1\n",
      "492     Arceus   normal       NaN         720             1\n",
      "717    Zygarde   dragon    ground         708             1\n",
      "380     Latios   dragon   psychic         700             1\n",
      "372  Salamence   dragon    flying         700             0\n",
      "247  Tyranitar     rock      dark         700             0\n",
      "444   Garchomp   dragon    ground         700             0\n",
      "718    Diancie     rock     fairy         700             1\n",
      "379     Latias   dragon   psychic         700             1\n",
      "375  Metagross    steel   psychic         700             0\n",
      "645     Kyurem   dragon       ice         700             1\n",
      "719      Hoopa  psychic     ghost         680             1\n",
      "716    Yveltal     dark    flying         680             1\n",
      "715    Xerneas    fairy       NaN         680             1\n",
      "248      Lugia  psychic    flying         680             1\n",
      "643     Zekrom   dragon  electric         680             1\n",
      "791     Lunala  psychic     ghost         680             1\n"
     ]
    }
   ],
   "source": [
    "# Sortowanie na podstawie base_total malejąco i wybranie top 20\n",
    "top_20_najsilniejsi = dataset.sort_values(by='base_total', ascending=False).head(20)\n",
    "\n",
    "# wyniki\n",
    "print(top_20_najsilniejsi[['name', 'type1','type2', 'base_total', 'is_legendary']])\n"
   ]
  },
  {
   "cell_type": "code",
   "execution_count": 79,
   "id": "23cea909",
   "metadata": {},
   "outputs": [
    {
     "name": "stdout",
     "output_type": "stream",
     "text": [
      "           name     type1     type2  base_total  is_legendary\n",
      "372   Salamence    dragon    flying         700             0\n",
      "375   Metagross     steel   psychic         700             0\n",
      "444    Garchomp    dragon    ground         700             0\n",
      "247   Tyranitar      rock      dark         700             0\n",
      "288     Slaking    normal       NaN         670             0\n",
      "129    Gyarados     water    flying         640             0\n",
      "657    Greninja     water      dark         640             0\n",
      "259    Swampert     water    ground         635             0\n",
      "5     Charizard      fire    flying         634             0\n",
      "305      Aggron     steel      rock         630             0\n",
      "253    Sceptile     grass       NaN         630             0\n",
      "256    Blaziken      fire  fighting         630             0\n",
      "8     Blastoise     water       NaN         630             0\n",
      "2      Venusaur     grass    poison         625             0\n",
      "447     Lucario  fighting     steel         625             0\n",
      "745  Wishiwashi     water       NaN         620             0\n",
      "281   Gardevoir   psychic     fairy         618             0\n",
      "474     Gallade   psychic  fighting         618             0\n",
      "141  Aerodactyl      rock    flying         615             0\n",
      "180    Ampharos  electric       NaN         610             0\n"
     ]
    }
   ],
   "source": [
    "# Wybieramy wiersze, które maja 0 w kolumnie is_legandary\n",
    "filtered_dataset = dataset[dataset['is_legendary'] == 0]\n",
    "\n",
    "# # Sortowanie filtered_dataset na podstawie base_total malejąco i wybranie top 20\n",
    "top_20_base_total = filtered_dataset.sort_values('base_total', ascending=False).head(20)\n",
    "\n",
    "print(top_20_base_total[['name', 'type1', 'type2', 'base_total', 'is_legendary']])\n"
   ]
  },
  {
   "cell_type": "code",
   "execution_count": 66,
   "id": "90c77532",
   "metadata": {},
   "outputs": [
    {
     "name": "stdout",
     "output_type": "stream",
     "text": [
      "Average base_total for grass: 411.4845360824742\n",
      "Average base_total for fire: 452.234375\n",
      "Average base_total for water: 424.0381679389313\n",
      "Average base_total for bug: 380.4415584415584\n",
      "Average base_total for normal: 401.6697247706422\n",
      "Average base_total for poison: 397.453125\n",
      "Average base_total for electric: 439.1914893617021\n",
      "Average base_total for ground: 430.71875\n",
      "Average base_total for fairy: 425.8085106382979\n",
      "Average base_total for fighting: 456.58490566037733\n",
      "Average base_total for psychic: 463.7926829268293\n",
      "Average base_total for rock: 446.9830508474576\n",
      "Average base_total for ghost: 444.8048780487805\n",
      "Average base_total for ice: 447.13157894736844\n",
      "Average base_total for dragon: 513.0\n",
      "Average base_total for dark: 447.74\n",
      "Average base_total for steel: 493.67391304347825\n",
      "Average base_total for flying: 441.734693877551\n"
     ]
    }
   ],
   "source": [
    "\n",
    "# Oblicz średnią wartość base_total dla wierszy, w których słowa 'grass' lub 'bug' pojawiają się w kolumnie type1 lub type2.\n",
    "types = ['grass', 'fire', 'water', 'bug', 'normal', 'poison', 'electric', 'ground',\n",
    " 'fairy', 'fighting', 'psychic', 'rock', 'ghost', 'ice', 'dragon', 'dark', 'steel',\n",
    " 'flying']\n",
    "averages = {}\n",
    "for t in types:\n",
    "    avg = dataset.loc[(dataset['type1'].str.contains(t, case=False)) | (dataset['type2'].str.contains(t, case=False)), 'base_total'].mean()\n",
    "    averages[t] = avg\n",
    "    print(f\"Average base_total for {t}: {avg}\")\n"
   ]
  },
  {
   "cell_type": "code",
   "execution_count": null,
   "id": "92d36799",
   "metadata": {},
   "outputs": [],
   "source": []
  },
  {
   "cell_type": "code",
   "execution_count": 68,
   "id": "7d14f0ee",
   "metadata": {},
   "outputs": [
    {
     "data": {
      "text/plain": [
       "Text(0.5, 1.0, 'Top 20 Strongest Pokémon')"
      ]
     },
     "execution_count": 68,
     "metadata": {},
     "output_type": "execute_result"
    }
   ],
   "source": [
    "sns.set_style(\"whitegrid\")\n",
    "sns.barplot(x='name', y='base_total', data=top_20_najsilniejsi)\n",
    "plt.xticks(rotation=90)\n",
    "plt.xlabel('Pokémon')\n",
    "plt.ylabel('Base Total')\n",
    "plt.title('Top 20 Strongest Pokémon')"
   ]
  },
  {
   "cell_type": "code",
   "execution_count": null,
   "id": "5ff6151e",
   "metadata": {},
   "outputs": [],
   "source": []
  },
  {
   "cell_type": "code",
   "execution_count": 8,
   "id": "5d20c18b",
   "metadata": {},
   "outputs": [],
   "source": [
    "corr = dataset['attack'].corr(dataset['base_total'])"
   ]
  },
  {
   "cell_type": "code",
   "execution_count": 9,
   "id": "1b59a3fc",
   "metadata": {},
   "outputs": [
    {
     "name": "stdout",
     "output_type": "stream",
     "text": [
      "Correlation coefficient: 0.7301341119500756\n"
     ]
    }
   ],
   "source": [
    "print(\"Correlation coefficient:\", corr)"
   ]
  },
  {
   "cell_type": "code",
   "execution_count": null,
   "id": "8146d479",
   "metadata": {},
   "outputs": [],
   "source": []
  },
  {
   "cell_type": "code",
   "execution_count": 9,
   "id": "be6b4053",
   "metadata": {},
   "outputs": [],
   "source": [
    "typy_pokemonow = dataset.groupby('type1')"
   ]
  },
  {
   "cell_type": "code",
   "execution_count": 10,
   "id": "0d30d161",
   "metadata": {},
   "outputs": [
    {
     "data": {
      "text/plain": [
       "type1\n",
       "bug          72\n",
       "dark         29\n",
       "dragon       27\n",
       "electric     39\n",
       "fairy        18\n",
       "fighting     28\n",
       "fire         52\n",
       "flying        3\n",
       "ghost        27\n",
       "grass        78\n",
       "ground       32\n",
       "ice          23\n",
       "normal      105\n",
       "poison       32\n",
       "psychic      53\n",
       "rock         45\n",
       "steel        24\n",
       "water       114\n",
       "Name: type1, dtype: int64"
      ]
     },
     "execution_count": 10,
     "metadata": {},
     "output_type": "execute_result"
    }
   ],
   "source": [
    "typy_pokemonow['type1'].count()"
   ]
  },
  {
   "cell_type": "code",
   "execution_count": 17,
   "id": "b385ffc2",
   "metadata": {},
   "outputs": [
    {
     "data": {
      "text/plain": [
       "type1\n",
       "water       114\n",
       "normal      105\n",
       "grass        78\n",
       "bug          72\n",
       "psychic      53\n",
       "fire         52\n",
       "rock         45\n",
       "electric     39\n",
       "ground       32\n",
       "poison       32\n",
       "dark         29\n",
       "fighting     28\n",
       "ghost        27\n",
       "dragon       27\n",
       "steel        24\n",
       "ice          23\n",
       "fairy        18\n",
       "flying        3\n",
       "Name: type1, dtype: int64"
      ]
     },
     "execution_count": 17,
     "metadata": {},
     "output_type": "execute_result"
    }
   ],
   "source": [
    "typy_pokemonow.type1.count().sort_values(ascending=False)"
   ]
  },
  {
   "cell_type": "code",
   "execution_count": null,
   "id": "2dd8806c",
   "metadata": {},
   "outputs": [],
   "source": []
  },
  {
   "cell_type": "markdown",
   "id": "0b862031",
   "metadata": {},
   "source": []
  }
 ],
 "metadata": {
  "kernelspec": {
   "display_name": "Python 3 (ipykernel)",
   "language": "python",
   "name": "python3"
  },
  "language_info": {
   "codemirror_mode": {
    "name": "ipython",
    "version": 3
   },
   "file_extension": ".py",
   "mimetype": "text/x-python",
   "name": "python",
   "nbconvert_exporter": "python",
   "pygments_lexer": "ipython3",
   "version": "3.9.13"
  }
 },
 "nbformat": 4,
 "nbformat_minor": 5
}
