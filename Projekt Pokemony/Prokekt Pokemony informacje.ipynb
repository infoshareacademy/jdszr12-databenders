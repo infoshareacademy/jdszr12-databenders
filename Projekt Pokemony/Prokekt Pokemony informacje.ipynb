{
 "cells": [
  {
   "cell_type": "markdown",
   "id": "b9aabfe8-4e9a-4a28-aa8b-f48a14b91e25",
   "metadata": {},
   "source": [
    "## Projekt Pokemony \n",
    "#### grupy DataBenders w ramach Data Science bootcamp 02.2023 Infoshare Academy\n",
    "\n",
    "#### Projekt Kaggle\n",
    "##### \"This dataset contains information on all 802 Pokemon from all Seven Generations of Pokemon. The information contained in this dataset include Base Stats, Performance against Other Types, Height, Weight, Classification, Egg Steps, Experience Points, Abilities, etc. The information was scraped from http://serebii.net/\"\n",
    "##### https://www.kaggle.com/datasets/rounakbanik/pokemon?datasetId=2756&sortBy=relevance\n"
   ]
  },
  {
   "cell_type": "code",
   "execution_count": null,
   "id": "1350fb4f-c97a-41da-ad84-ead9969dfeaa",
   "metadata": {},
   "outputs": [],
   "source": []
  }
 ],
 "metadata": {
  "kernelspec": {
   "display_name": "Python 3 (ipykernel)",
   "language": "python",
   "name": "python3"
  },
  "language_info": {
   "codemirror_mode": {
    "name": "ipython",
    "version": 3
   },
   "file_extension": ".py",
   "mimetype": "text/x-python",
   "name": "python",
   "nbconvert_exporter": "python",
   "pygments_lexer": "ipython3",
   "version": "3.10.8"
  }
 },
 "nbformat": 4,
 "nbformat_minor": 5
}
