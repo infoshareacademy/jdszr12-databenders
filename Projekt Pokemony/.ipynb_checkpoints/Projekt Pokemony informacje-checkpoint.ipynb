{
 "cells": [
  {
   "cell_type": "markdown",
   "id": "b9aabfe8-4e9a-4a28-aa8b-f48a14b91e25",
   "metadata": {},
   "source": [
    "## Projekt Pokemony \n",
    "#### grupy DataBenders w ramach Data Science bootcamp 02.2023 Infoshare Academy\n",
    "\n",
    "\n",
    "------------------------------------------------------------------------------------------"
   ]
  },
  {
   "cell_type": "markdown",
   "id": "ab3d8271-3292-42dc-909d-0830f831ccdf",
   "metadata": {},
   "source": [
    "\n",
    "\n",
    "#### Projekt Kaggle\n",
    "##### \"This dataset contains information on all 802 Pokemon from all Seven Generations of Pokemon. The information contained in this dataset include Base Stats, Performance against Other Types, Height, Weight, Classification, Egg Steps, Experience Points, Abilities, etc. The information was scraped from http://serebii.net/\"\n",
    "##### https://www.kaggle.com/datasets/rounakbanik/pokemon?datasetId=2756&sortBy=relevance"
   ]
  },
  {
   "cell_type": "markdown",
   "id": "627c784b-da3e-4c1b-8e35-ff42c8b1d0a6",
   "metadata": {},
   "source": [
    "#### Podział zadań w Trello:\n",
    "###### https://trello.com/b/MhDZ0Bz6/databenderspython"
   ]
  },
  {
   "cell_type": "markdown",
   "id": "07e8b85f-1db1-4983-a522-44d5a8502f29",
   "metadata": {},
   "source": [
    "#### Prezentacja w Google Docs:\n",
    "###### https://docs.google.com/presentation/d/11FE3ed8PumNM6JPwZZLKN2KbVsQHSoGk_Cf07w7XFDs/edit#slide=id.p1"
   ]
  },
  {
   "cell_type": "code",
   "execution_count": null,
   "id": "c9f4a733-2b78-4891-b548-70e48e1230c5",
   "metadata": {},
   "outputs": [],
   "source": []
  }
 ],
 "metadata": {
  "kernelspec": {
   "display_name": "Python 3 (ipykernel)",
   "language": "python",
   "name": "python3"
  },
  "language_info": {
   "codemirror_mode": {
    "name": "ipython",
    "version": 3
   },
   "file_extension": ".py",
   "mimetype": "text/x-python",
   "name": "python",
   "nbconvert_exporter": "python",
   "pygments_lexer": "ipython3",
   "version": "3.10.8"
  }
 },
 "nbformat": 4,
 "nbformat_minor": 5
}
