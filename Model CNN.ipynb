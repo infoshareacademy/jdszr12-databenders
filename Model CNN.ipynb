{
 "cells": [
  {
   "cell_type": "code",
   "execution_count": 1,
   "id": "56e7b176",
   "metadata": {},
   "outputs": [
    {
     "name": "stderr",
     "output_type": "stream",
     "text": [
      "2023-07-07 13:46:14.915015: I tensorflow/core/platform/cpu_feature_guard.cc:182] This TensorFlow binary is optimized to use available CPU instructions in performance-critical operations.\n",
      "To enable the following instructions: AVX2 FMA, in other operations, rebuild TensorFlow with the appropriate compiler flags.\n"
     ]
    }
   ],
   "source": [
    "import tensorflow as tf\n",
    "from tensorflow.keras.preprocessing.image import ImageDataGenerator\n",
    "\n",
    "# Ścieżki do folderów z danymi\n",
    "train_dir = 'train set'\n",
    "valid_dir = 'valid set'\n",
    "test_dir = 'test set'\n"
   ]
  },
  {
   "cell_type": "code",
   "execution_count": 2,
   "id": "342b3358",
   "metadata": {},
   "outputs": [
    {
     "name": "stdout",
     "output_type": "stream",
     "text": [
      "Found 9396 images belonging to 3 classes.\n"
     ]
    }
   ],
   "source": [
    "# Przygotowanie danych treningowych\n",
    "train_datagen = ImageDataGenerator(rescale=1./255)  # Przeskalowanie wartości pikseli do zakresu [0, 1]\n",
    "train_generator = train_datagen.flow_from_directory(\n",
    "    train_dir,\n",
    "    target_size=(150, 150),  # Rozmiar obrazów po przeskalowaniu\n",
    "    batch_size=32,\n",
    "    class_mode='categorical'  # Kategoryczne kodowanie etykiet\n",
    ")\n"
   ]
  },
  {
   "cell_type": "code",
   "execution_count": 3,
   "id": "8240249e",
   "metadata": {},
   "outputs": [
    {
     "name": "stdout",
     "output_type": "stream",
     "text": [
      "Found 290 images belonging to 3 classes.\n"
     ]
    }
   ],
   "source": [
    "# Przygotowanie danych walidacyjnych\n",
    "valid_datagen = ImageDataGenerator(rescale=1./255)\n",
    "valid_generator = valid_datagen.flow_from_directory(\n",
    "    valid_dir,\n",
    "    target_size=(150, 150),\n",
    "    batch_size=32,\n",
    "    class_mode='categorical'\n",
    ")"
   ]
  },
  {
   "cell_type": "code",
   "execution_count": 4,
   "id": "d363e0b6",
   "metadata": {},
   "outputs": [
    {
     "name": "stdout",
     "output_type": "stream",
     "text": [
      "Found 290 images belonging to 3 classes.\n",
      "{'DUCK TRAIN': 0, 'EAGLE TRAIN': 1, 'SPARROW TRAIN': 2}\n"
     ]
    }
   ],
   "source": [
    "# Przygotowanie danych testowych\n",
    "test_datagen = ImageDataGenerator(rescale=1./255)\n",
    "test_generator = test_datagen.flow_from_directory(\n",
    "    test_dir,\n",
    "    target_size=(150, 150),\n",
    "    batch_size=32,\n",
    "    class_mode='categorical'\n",
    ")\n",
    "\n",
    "# Przykładowe wyświetlenie etykiet (labels) dla danych treningowych\n",
    "print(train_generator.class_indices)\n"
   ]
  },
  {
   "cell_type": "code",
   "execution_count": null,
   "id": "c0596fab",
   "metadata": {},
   "outputs": [],
   "source": []
  },
  {
   "cell_type": "code",
   "execution_count": 5,
   "id": "fb4354ff",
   "metadata": {},
   "outputs": [
    {
     "name": "stdout",
     "output_type": "stream",
     "text": [
      "Model: \"sequential\"\n",
      "_________________________________________________________________\n",
      " Layer (type)                Output Shape              Param #   \n",
      "=================================================================\n",
      " conv2d (Conv2D)             (None, 148, 148, 32)      896       \n",
      "                                                                 \n",
      " max_pooling2d (MaxPooling2D  (None, 74, 74, 32)       0         \n",
      " )                                                               \n",
      "                                                                 \n",
      " conv2d_1 (Conv2D)           (None, 72, 72, 64)        18496     \n",
      "                                                                 \n",
      " max_pooling2d_1 (MaxPooling  (None, 36, 36, 64)       0         \n",
      " 2D)                                                             \n",
      "                                                                 \n",
      " conv2d_2 (Conv2D)           (None, 34, 34, 128)       73856     \n",
      "                                                                 \n",
      " max_pooling2d_2 (MaxPooling  (None, 17, 17, 128)      0         \n",
      " 2D)                                                             \n",
      "                                                                 \n",
      " conv2d_3 (Conv2D)           (None, 15, 15, 128)       147584    \n",
      "                                                                 \n",
      " max_pooling2d_3 (MaxPooling  (None, 7, 7, 128)        0         \n",
      " 2D)                                                             \n",
      "                                                                 \n",
      " flatten (Flatten)           (None, 6272)              0         \n",
      "                                                                 \n",
      " dense (Dense)               (None, 512)               3211776   \n",
      "                                                                 \n",
      " dense_1 (Dense)             (None, 3)                 1539      \n",
      "                                                                 \n",
      "=================================================================\n",
      "Total params: 3,454,147\n",
      "Trainable params: 3,454,147\n",
      "Non-trainable params: 0\n",
      "_________________________________________________________________\n"
     ]
    }
   ],
   "source": [
    "import tensorflow as tf\n",
    "from tensorflow.keras.models import Sequential\n",
    "from tensorflow.keras.layers import Conv2D, MaxPooling2D, Flatten, Dense\n",
    "\n",
    "# Definicja modelu\n",
    "model = Sequential()\n",
    "\n",
    "# Dodanie warstw konwolucyjnych\n",
    "model.add(Conv2D(32, (3, 3), activation='relu', input_shape=(150, 150, 3)))\n",
    "model.add(MaxPooling2D((2, 2)))\n",
    "\n",
    "model.add(Conv2D(64, (3, 3), activation='relu'))\n",
    "model.add(MaxPooling2D((2, 2)))\n",
    "\n",
    "model.add(Conv2D(128, (3, 3), activation='relu'))\n",
    "model.add(MaxPooling2D((2, 2)))\n",
    "\n",
    "model.add(Conv2D(128, (3, 3), activation='relu'))\n",
    "model.add(MaxPooling2D((2, 2)))\n",
    "\n",
    "model.add(Flatten())\n",
    "\n",
    "# Dodanie warstw gęsto połączonych\n",
    "model.add(Dense(512, activation='relu'))\n",
    "model.add(Dense(3, activation='softmax'))  # 3 wyjścia dla trzech rzędów ptaków\n",
    "\n",
    "# Kompilacja modelu\n",
    "model.compile(loss='categorical_crossentropy',\n",
    "              optimizer='adam',\n",
    "              metrics=['accuracy'])\n",
    "\n",
    "# Wyświetlenie podsumowania modelu\n",
    "model.summary()\n"
   ]
  },
  {
   "cell_type": "markdown",
   "id": "54d98112",
   "metadata": {},
   "source": [
    "Trenowanie modelu: Do trenowania modelu, używam metody fit_generator i przekazuję dane treningowe za pomocą generatora train_generator. Możemy ustawić liczbę epok trenowania, rozmiar partii (batch_size), a także przekazać generator danych walidacyjnych (valid_generator) do monitorowania postępów podczas trenowania."
   ]
  },
  {
   "cell_type": "code",
   "execution_count": 6,
   "id": "c27168a8",
   "metadata": {},
   "outputs": [
    {
     "name": "stderr",
     "output_type": "stream",
     "text": [
      "/var/folders/rr/3tz5xt4j16s1wvxsg7zr8hg80000gn/T/ipykernel_28205/3683063078.py:1: UserWarning: `Model.fit_generator` is deprecated and will be removed in a future version. Please use `Model.fit`, which supports generators.\n",
      "  history = model.fit_generator(\n",
      "2023-07-07 13:51:27.944578: I tensorflow/core/common_runtime/executor.cc:1197] [/device:CPU:0] (DEBUG INFO) Executor start aborting (this does not indicate an error and you can ignore this message): INVALID_ARGUMENT: You must feed a value for placeholder tensor 'Placeholder/_0' with dtype int32\n",
      "\t [[{{node Placeholder/_0}}]]\n"
     ]
    },
    {
     "name": "stdout",
     "output_type": "stream",
     "text": [
      "Epoch 1/10\n",
      "100/100 [==============================] - ETA: 0s - loss: 1.0092 - accuracy: 0.4709"
     ]
    },
    {
     "name": "stderr",
     "output_type": "stream",
     "text": [
      "2023-07-07 13:52:15.432504: I tensorflow/core/common_runtime/executor.cc:1197] [/device:CPU:0] (DEBUG INFO) Executor start aborting (this does not indicate an error and you can ignore this message): INVALID_ARGUMENT: You must feed a value for placeholder tensor 'Placeholder/_0' with dtype int32\n",
      "\t [[{{node Placeholder/_0}}]]\n"
     ]
    },
    {
     "name": "stdout",
     "output_type": "stream",
     "text": [
      "WARNING:tensorflow:Your input ran out of data; interrupting training. Make sure that your dataset or generator can generate at least `steps_per_epoch * epochs` batches (in this case, 50 batches). You may need to use the repeat() function when building your dataset.\n",
      "100/100 [==============================] - 50s 482ms/step - loss: 1.0092 - accuracy: 0.4709 - val_loss: 0.8189 - val_accuracy: 0.6103\n",
      "Epoch 2/10\n",
      "100/100 [==============================] - 47s 469ms/step - loss: 0.8429 - accuracy: 0.6206\n",
      "Epoch 3/10\n",
      "100/100 [==============================] - 46s 455ms/step - loss: 0.7051 - accuracy: 0.6976\n",
      "Epoch 4/10\n",
      "100/100 [==============================] - 45s 449ms/step - loss: 0.6245 - accuracy: 0.7416\n",
      "Epoch 5/10\n",
      "100/100 [==============================] - 45s 452ms/step - loss: 0.5441 - accuracy: 0.7812\n",
      "Epoch 6/10\n",
      "100/100 [==============================] - 51s 505ms/step - loss: 0.5041 - accuracy: 0.8008\n",
      "Epoch 7/10\n",
      "100/100 [==============================] - 46s 462ms/step - loss: 0.4397 - accuracy: 0.8175\n",
      "Epoch 8/10\n",
      "100/100 [==============================] - 47s 469ms/step - loss: 0.3859 - accuracy: 0.8500\n",
      "Epoch 9/10\n",
      "100/100 [==============================] - 46s 454ms/step - loss: 0.3470 - accuracy: 0.8641\n",
      "Epoch 10/10\n",
      "100/100 [==============================] - 46s 455ms/step - loss: 0.3025 - accuracy: 0.8831\n"
     ]
    }
   ],
   "source": [
    "history = model.fit_generator(\n",
    "    train_generator,\n",
    "    steps_per_epoch=100,  # Liczba kroków na jedną epokę \n",
    "    epochs=10,  # Liczba epok trenowania \n",
    "    validation_data=valid_generator,\n",
    "    validation_steps=50  # Liczba kroków walidacji \n",
    ")\n"
   ]
  },
  {
   "cell_type": "markdown",
   "id": "073311e7",
   "metadata": {},
   "source": [
    "**Ewaluacja modelu:** \n",
    "Po zakończeniu trenowania możemy ocenić wydajność modelu na danych walidacyjnych. Możemy użyć metody evaluate_generator i przekazać generator danych walidacyjnych (valid_generator)."
   ]
  },
  {
   "cell_type": "code",
   "execution_count": 7,
   "id": "3a77af14",
   "metadata": {},
   "outputs": [
    {
     "name": "stderr",
     "output_type": "stream",
     "text": [
      "/var/folders/rr/3tz5xt4j16s1wvxsg7zr8hg80000gn/T/ipykernel_28205/588715195.py:1: UserWarning: `Model.evaluate_generator` is deprecated and will be removed in a future version. Please use `Model.evaluate`, which supports generators.\n",
      "  loss, accuracy = model.evaluate_generator(valid_generator)\n",
      "2023-07-07 14:01:02.574754: I tensorflow/core/common_runtime/executor.cc:1197] [/device:CPU:0] (DEBUG INFO) Executor start aborting (this does not indicate an error and you can ignore this message): INVALID_ARGUMENT: You must feed a value for placeholder tensor 'Placeholder/_0' with dtype int32\n",
      "\t [[{{node Placeholder/_0}}]]\n"
     ]
    },
    {
     "name": "stdout",
     "output_type": "stream",
     "text": [
      "Loss: 0.45\n",
      "Accuracy: 84.83%\n"
     ]
    }
   ],
   "source": [
    "loss, accuracy = model.evaluate_generator(valid_generator)\n",
    "print(\"Loss: {:.2f}\".format(loss))\n",
    "print(\"Accuracy: {:.2f}%\".format(accuracy * 100))\n"
   ]
  },
  {
   "cell_type": "markdown",
   "id": "5be8393c",
   "metadata": {},
   "source": [
    "**Testowanie modelu:** \n",
    "Możemy również przetestować nasz wytrenowany model na danych testowych, które były wcześniej odłożone. Użyjemy metody evaluate_generator i przekazujemy generator danych testowych (test_generator)"
   ]
  },
  {
   "cell_type": "code",
   "execution_count": 8,
   "id": "c198a7a2",
   "metadata": {
    "scrolled": true
   },
   "outputs": [
    {
     "name": "stderr",
     "output_type": "stream",
     "text": [
      "/var/folders/rr/3tz5xt4j16s1wvxsg7zr8hg80000gn/T/ipykernel_28205/3691433002.py:1: UserWarning: `Model.evaluate_generator` is deprecated and will be removed in a future version. Please use `Model.evaluate`, which supports generators.\n",
      "  loss, accuracy = model.evaluate_generator(test_generator)\n",
      "2023-07-07 14:01:19.874411: I tensorflow/core/common_runtime/executor.cc:1197] [/device:CPU:0] (DEBUG INFO) Executor start aborting (this does not indicate an error and you can ignore this message): INVALID_ARGUMENT: You must feed a value for placeholder tensor 'Placeholder/_0' with dtype int32\n",
      "\t [[{{node Placeholder/_0}}]]\n"
     ]
    },
    {
     "name": "stdout",
     "output_type": "stream",
     "text": [
      "Loss: 0.40\n",
      "Accuracy: 85.52%\n"
     ]
    }
   ],
   "source": [
    "loss, accuracy = model.evaluate_generator(test_generator)\n",
    "print(\"Loss: {:.2f}\".format(loss))\n",
    "print(\"Accuracy: {:.2f}%\".format(accuracy * 100))\n"
   ]
  },
  {
   "cell_type": "code",
   "execution_count": null,
   "id": "2220aa22",
   "metadata": {},
   "outputs": [],
   "source": []
  },
  {
   "cell_type": "code",
   "execution_count": 10,
   "id": "a18f12e2",
   "metadata": {},
   "outputs": [
    {
     "name": "stderr",
     "output_type": "stream",
     "text": [
      "/var/folders/rr/3tz5xt4j16s1wvxsg7zr8hg80000gn/T/ipykernel_28205/1529198355.py:4: UserWarning: `Model.predict_generator` is deprecated and will be removed in a future version. Please use `Model.predict`, which supports generators.\n",
      "  predictions = model.predict_generator(test_generator)\n",
      "2023-07-07 14:06:23.015004: I tensorflow/core/common_runtime/executor.cc:1197] [/device:CPU:0] (DEBUG INFO) Executor start aborting (this does not indicate an error and you can ignore this message): INVALID_ARGUMENT: You must feed a value for placeholder tensor 'Placeholder/_0' with dtype int32\n",
      "\t [[{{node Placeholder/_0}}]]\n"
     ]
    },
    {
     "name": "stdout",
     "output_type": "stream",
     "text": [
      "Accuracy: 33.45%\n",
      "Confusion Matrix:\n",
      "[[27 23 45]\n",
      " [25 33 37]\n",
      " [24 39 37]]\n",
      "Classification Report:\n",
      "              precision    recall  f1-score   support\n",
      "\n",
      "        DUCK       0.36      0.28      0.32        95\n",
      "       EAGLE       0.35      0.35      0.35        95\n",
      "     SPARROW       0.31      0.37      0.34       100\n",
      "\n",
      "    accuracy                           0.33       290\n",
      "   macro avg       0.34      0.33      0.33       290\n",
      "weighted avg       0.34      0.33      0.33       290\n",
      "\n"
     ]
    }
   ],
   "source": [
    "import numpy as np\n",
    "\n",
    "# Pobranie predykcji i prawdziwych etykiet z generatora danych testowych\n",
    "predictions = model.predict_generator(test_generator)\n",
    "predicted_labels = np.argmax(predictions, axis=1)\n",
    "true_labels = test_generator.classes\n",
    "\n",
    "# Obliczenie dokładności (accuracy)\n",
    "accuracy = np.mean(predicted_labels == true_labels)\n",
    "print(\"Accuracy: {:.2f}%\".format(accuracy * 100))\n",
    "\n",
    "# Obliczenie macierzy pomyłek\n",
    "from sklearn.metrics import confusion_matrix\n",
    "cm = confusion_matrix(true_labels, predicted_labels)\n",
    "print(\"Confusion Matrix:\")\n",
    "print(cm)\n",
    "\n",
    "# Obliczenie precyzji, czułości i miary F1\n",
    "from sklearn.metrics import classification_report\n",
    "target_names = list(test_generator.class_indices.keys())\n",
    "print(\"Classification Report:\")\n",
    "print(classification_report(true_labels, predicted_labels, target_names=target_names))\n"
   ]
  },
  {
   "cell_type": "markdown",
   "id": "bc66e6b0",
   "metadata": {},
   "source": [
    "**Predykcja na nowych danych:** \n",
    "Przewidywanie gatunków ptaków na nowych, nieznanych wcześniej danych, używam metody predict_generator i przekazuję generator danych testowych (test_generator). Predykcje będą w formie prawdopodobieństw dla każdej klasy."
   ]
  },
  {
   "cell_type": "code",
   "execution_count": 9,
   "id": "33d8ac0c",
   "metadata": {},
   "outputs": [
    {
     "name": "stderr",
     "output_type": "stream",
     "text": [
      "/var/folders/rr/3tz5xt4j16s1wvxsg7zr8hg80000gn/T/ipykernel_28205/1414481863.py:1: UserWarning: `Model.predict_generator` is deprecated and will be removed in a future version. Please use `Model.predict`, which supports generators.\n",
      "  predictions = model.predict_generator(test_generator)\n",
      "2023-07-07 14:01:53.634826: I tensorflow/core/common_runtime/executor.cc:1197] [/device:CPU:0] (DEBUG INFO) Executor start aborting (this does not indicate an error and you can ignore this message): INVALID_ARGUMENT: You must feed a value for placeholder tensor 'Placeholder/_0' with dtype int32\n",
      "\t [[{{node Placeholder/_0}}]]\n"
     ]
    }
   ],
   "source": [
    "predictions = model.predict_generator(test_generator)\n"
   ]
  },
  {
   "cell_type": "code",
   "execution_count": null,
   "id": "8ad13580",
   "metadata": {},
   "outputs": [],
   "source": []
  },
  {
   "cell_type": "code",
   "execution_count": null,
   "id": "55e5990f",
   "metadata": {},
   "outputs": [],
   "source": []
  },
  {
   "cell_type": "code",
   "execution_count": null,
   "id": "31a4364e",
   "metadata": {},
   "outputs": [],
   "source": []
  }
 ],
 "metadata": {
  "kernelspec": {
   "display_name": "Python 3 (ipykernel)",
   "language": "python",
   "name": "python3"
  },
  "language_info": {
   "codemirror_mode": {
    "name": "ipython",
    "version": 3
   },
   "file_extension": ".py",
   "mimetype": "text/x-python",
   "name": "python",
   "nbconvert_exporter": "python",
   "pygments_lexer": "ipython3",
   "version": "3.9.13"
  }
 },
 "nbformat": 4,
 "nbformat_minor": 5
}
